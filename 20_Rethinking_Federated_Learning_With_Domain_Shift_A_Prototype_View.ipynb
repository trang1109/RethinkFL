{
  "cells": [
    {
      "cell_type": "markdown",
      "metadata": {
        "id": "HY9V_icvF3ZF"
      },
      "source": [
        " https://cvpr.thecvf.com/virtual/2023/poster/21769"
      ]
    },
    {
      "cell_type": "code",
      "execution_count": null,
      "metadata": {
        "colab": {
          "base_uri": "https://localhost:8080/"
        },
        "id": "wwhptX3aJzVU",
        "outputId": "cf6826de-bdc5-4d6d-d4a6-518313bb8bee"
      },
      "outputs": [
        {
          "name": "stdout",
          "output_type": "stream",
          "text": [
            "Requirement already satisfied: numpy==1.23.1 in /usr/local/lib/python3.10/dist-packages (1.23.1)\n"
          ]
        }
      ],
      "source": [
        "pip install numpy==1.23.1"
      ]
    },
    {
      "cell_type": "code",
      "execution_count": null,
      "metadata": {
        "colab": {
          "base_uri": "https://localhost:8080/"
        },
        "id": "69-82Nkxs6wi",
        "outputId": "2d39344c-16c4-4869-cc7e-bbd3b27644a2"
      },
      "outputs": [
        {
          "name": "stdout",
          "output_type": "stream",
          "text": [
            "Mounted at /content/drive\n"
          ]
        }
      ],
      "source": [
        "from google.colab import drive\n",
        "drive.mount('/content/drive')"
      ]
    },
    {
      "cell_type": "markdown",
      "metadata": {
        "id": "0kwUgMF4P3Z6"
      },
      "source": [
        "@@@@@@@@@"
      ]
    },
    {
      "cell_type": "code",
      "execution_count": null,
      "metadata": {
        "id": "w0dJsjxVZrD5"
      },
      "outputs": [],
      "source": [
        "import os\n",
        "os.chdir(\"/content/drive/My Drive/\")\n"
      ]
    },
    {
      "cell_type": "code",
      "execution_count": null,
      "metadata": {
        "colab": {
          "base_uri": "https://localhost:8080/"
        },
        "id": "PuyVAX7ZMRpB",
        "outputId": "1b93d541-3c84-4114-ac84-b7d349a014c9"
      },
      "outputs": [
        {
          "name": "stdout",
          "output_type": "stream",
          "text": [
            "Cloning into 'RethinkFL'...\n",
            "remote: Enumerating objects: 125, done.\u001b[K\n",
            "remote: Counting objects: 100% (125/125), done.\u001b[K\n",
            "remote: Compressing objects: 100% (122/122), done.\u001b[K\n",
            "remote: Total 125 (delta 38), reused 0 (delta 0), pack-reused 0\u001b[K\n",
            "Receiving objects: 100% (125/125), 93.42 KiB | 724.00 KiB/s, done.\n",
            "Resolving deltas: 100% (38/38), done.\n"
          ]
        }
      ],
      "source": [
        "!git clone https://github.com/trang1109/RethinkFL"
      ]
    },
    {
      "cell_type": "code",
      "execution_count": null,
      "metadata": {
        "colab": {
          "base_uri": "https://localhost:8080/"
        },
        "id": "JXrrIgxu9IO0",
        "outputId": "9c175c7b-439a-4778-cddb-f5ecd545f9fc"
      },
      "outputs": [
        {
          "name": "stdout",
          "output_type": "stream",
          "text": [
            "Dataset URL: https://www.kaggle.com/datasets/wuwenxuan123/officecaltech\n",
            "License(s): unknown\n",
            "Downloading officecaltech.zip to /content/drive/MyDrive\n",
            " 96% 49.0M/51.3M [00:01<00:00, 31.0MB/s]\n",
            "100% 51.3M/51.3M [00:01<00:00, 37.5MB/s]\n"
          ]
        }
      ],
      "source": [
        "\n",
        "!kaggle datasets download -d wuwenxuan123/officecaltech\n",
        "!unzip -q officecaltech.zip -d /content/drive/MyDrive/RethinkFL/pls\n",
        "!mv /content/drive/MyDrive/RethinkFL/pls/office_caltech_10 /content/drive/MyDrive/RethinkFL/pls/Office_Caltech_10"
      ]
    },
    {
      "cell_type": "code",
      "execution_count": null,
      "metadata": {
        "colab": {
          "base_uri": "https://localhost:8080/"
        },
        "id": "PTy2IjKg_M0W",
        "outputId": "25cf0828-bdd3-4846-ef9e-9370e34efeef"
      },
      "outputs": [
        {
          "name": "stdout",
          "output_type": "stream",
          "text": [
            "Dataset URL: https://www.kaggle.com/datasets/trang1109/mnist-dataset\n",
            "License(s): unknown\n",
            "Downloading mnist-dataset.zip to /content/drive/MyDrive\n",
            "  0% 0.00/4.88M [00:00<?, ?B/s]\n",
            "100% 4.88M/4.88M [00:00<00:00, 74.3MB/s]\n"
          ]
        }
      ],
      "source": [
        "\n",
        "!kaggle datasets download -d trang1109/mnist-dataset\n",
        "!unzip -q mnist-dataset.zip -d /content/drive/MyDrive/RethinkFL/pls\n"
      ]
    },
    {
      "cell_type": "code",
      "execution_count": null,
      "metadata": {
        "colab": {
          "base_uri": "https://localhost:8080/"
        },
        "id": "hpOFqByU_1hF",
        "outputId": "afc01340-b7ee-470f-d189-eb633d8f289d"
      },
      "outputs": [
        {
          "name": "stdout",
          "output_type": "stream",
          "text": [
            "Dataset URL: https://www.kaggle.com/datasets/trang1109/svhn-dataset\n",
            "License(s): unknown\n",
            "Downloading svhn-dataset.zip to /content/drive/MyDrive\n",
            "  0% 0.00/4.53M [00:00<?, ?B/s]\n",
            "100% 4.53M/4.53M [00:00<00:00, 51.3MB/s]\n"
          ]
        }
      ],
      "source": [
        "\n",
        "!kaggle datasets download -d trang1109/svhn-dataset\n",
        "!unzip -q svhn-dataset.zip -d /content/drive/MyDrive/RethinkFL/pls\n"
      ]
    },
    {
      "cell_type": "code",
      "execution_count": null,
      "metadata": {
        "colab": {
          "base_uri": "https://localhost:8080/"
        },
        "id": "4eS92lQE_1q8",
        "outputId": "5e2d2558-1d90-48d8-8ea8-018351bb8b08"
      },
      "outputs": [
        {
          "name": "stdout",
          "output_type": "stream",
          "text": [
            "Dataset URL: https://www.kaggle.com/datasets/trang1109/syn-dataset\n",
            "License(s): unknown\n",
            "Downloading syn-dataset.zip to /content/drive/MyDrive\n",
            "  0% 0.00/4.77M [00:00<?, ?B/s]\n",
            "100% 4.77M/4.77M [00:00<00:00, 57.0MB/s]\n"
          ]
        }
      ],
      "source": [
        "\n",
        "!kaggle datasets download -d trang1109/syn-dataset\n",
        "!unzip -q syn-dataset.zip -d /content/drive/MyDrive/RethinkFL/pls\n"
      ]
    },
    {
      "cell_type": "code",
      "execution_count": null,
      "metadata": {
        "colab": {
          "base_uri": "https://localhost:8080/"
        },
        "id": "Vb9aNid02ZS6",
        "outputId": "777b0393-091b-40f7-ab94-6bdd8aa1afd7"
      },
      "outputs": [
        {
          "name": "stdout",
          "output_type": "stream",
          "text": [
            "Dataset URL: https://www.kaggle.com/datasets/trang1109/usps-dataset\n",
            "License(s): unknown\n",
            "Downloading usps-dataset.zip to /content/drive/MyDrive\n",
            " 41% 5.00M/12.3M [00:00<00:00, 17.3MB/s]\n",
            "100% 12.3M/12.3M [00:00<00:00, 37.6MB/s]\n"
          ]
        }
      ],
      "source": [
        "\n",
        "!kaggle datasets download -d trang1109/usps-dataset\n",
        "!unzip -q usps-dataset.zip -d /content/drive/MyDrive/RethinkFL/pls"
      ]
    },
    {
      "cell_type": "code",
      "execution_count": null,
      "metadata": {
        "colab": {
          "base_uri": "https://localhost:8080/"
        },
        "id": "yWrrqY3DsWEr",
        "outputId": "b3707b9f-e82d-43fa-a981-ecb01093e05d"
      },
      "outputs": [
        {
          "name": "stdout",
          "output_type": "stream",
          "text": [
            "Collecting pynndescent\n",
            "  Downloading pynndescent-0.5.12-py3-none-any.whl (56 kB)\n",
            "\u001b[?25l     \u001b[90m━━━━━━━━━━━━━━━━━━━━━━━━━━━━━━━━━━━━━━━━\u001b[0m \u001b[32m0.0/56.8 kB\u001b[0m \u001b[31m?\u001b[0m eta \u001b[36m-:--:--\u001b[0m\r\u001b[2K     \u001b[90m━━━━━━━━━━━━━━━━━━━━━━━━━━━━━━━━━━━━━━━━\u001b[0m \u001b[32m56.8/56.8 kB\u001b[0m \u001b[31m2.7 MB/s\u001b[0m eta \u001b[36m0:00:00\u001b[0m\n",
            "\u001b[?25hRequirement already satisfied: scikit-learn>=0.18 in /usr/local/lib/python3.10/dist-packages (from pynndescent) (1.2.2)\n",
            "Requirement already satisfied: scipy>=1.0 in /usr/local/lib/python3.10/dist-packages (from pynndescent) (1.11.4)\n",
            "Requirement already satisfied: numba>=0.51.2 in /usr/local/lib/python3.10/dist-packages (from pynndescent) (0.58.1)\n",
            "Requirement already satisfied: llvmlite>=0.30 in /usr/local/lib/python3.10/dist-packages (from pynndescent) (0.41.1)\n",
            "Requirement already satisfied: joblib>=0.11 in /usr/local/lib/python3.10/dist-packages (from pynndescent) (1.4.2)\n",
            "Requirement already satisfied: numpy<1.27,>=1.22 in /usr/local/lib/python3.10/dist-packages (from numba>=0.51.2->pynndescent) (1.23.1)\n",
            "Requirement already satisfied: threadpoolctl>=2.0.0 in /usr/local/lib/python3.10/dist-packages (from scikit-learn>=0.18->pynndescent) (3.5.0)\n",
            "Installing collected packages: pynndescent\n",
            "Successfully installed pynndescent-0.5.12\n",
            "Collecting setproctitle\n",
            "  Downloading setproctitle-1.3.3-cp310-cp310-manylinux_2_5_x86_64.manylinux1_x86_64.manylinux_2_17_x86_64.manylinux2014_x86_64.whl (30 kB)\n",
            "Installing collected packages: setproctitle\n",
            "Successfully installed setproctitle-1.3.3\n"
          ]
        }
      ],
      "source": [
        "!pip install pynndescent\n",
        "!pip install setproctitle"
      ]
    },
    {
      "cell_type": "code",
      "execution_count": null,
      "metadata": {
        "id": "SvazL6pVsIvx",
        "outputId": "71bd2efa-0bb7-4e52-9775-7ae8f594f875"
      },
      "outputs": [
        {
          "name": "stdout",
          "output_type": "stream",
          "text": [
            "d:\\doan\\RethinkFL\n"
          ]
        }
      ],
      "source": [
        "%cd RethinkFL"
      ]
    },
    {
      "cell_type": "code",
      "execution_count": null,
      "metadata": {
        "colab": {
          "base_uri": "https://localhost:8080/"
        },
        "id": "ylqTNo_MqVd8",
        "outputId": "48206715-c2b4-4b75-f656-c87504ad1d72"
      },
      "outputs": [
        {
          "name": "stdout",
          "output_type": "stream",
          "text": [
            "fedavg_10_fl_officecaltech_50_10\n",
            "./data/fl_officecaltech/fedavg\\para1\n",
            "{'caltech': 3, 'dslr': 4, 'amazon': 2, 'webcam': 1}\n",
            "['caltech', 'dslr', 'amazon', 'caltech', 'dslr', 'dslr', 'caltech', 'amazon', 'webcam', 'dslr']\n"
          ]
        },
        {
          "name": "stderr",
          "output_type": "stream",
          "text": [
            "Local Pariticipant 9 loss = 0.982: 100%|██████████| 10/10 [00:03<00:00,  2.74it/s]\n",
            "Local Pariticipant 0 loss = 1.421: 100%|██████████| 10/10 [00:04<00:00,  2.33it/s]\n",
            "Local Pariticipant 1 loss = 1.065: 100%|██████████| 10/10 [00:03<00:00,  2.97it/s]\n",
            "Local Pariticipant 2 loss = 1.187: 100%|██████████| 10/10 [00:03<00:00,  3.17it/s]\n",
            "Local Pariticipant 6 loss = 1.183: 100%|██████████| 10/10 [00:04<00:00,  2.22it/s]\n",
            "Local Pariticipant 3 loss = 1.367: 100%|██████████| 10/10 [00:04<00:00,  2.24it/s]\n",
            "Local Pariticipant 8 loss = 1.228: 100%|██████████| 10/10 [00:01<00:00,  5.95it/s]\n",
            "Local Pariticipant 5 loss = 0.970: 100%|██████████| 10/10 [00:03<00:00,  2.87it/s]\n",
            "Local Pariticipant 7 loss = 0.973: 100%|██████████| 10/10 [00:03<00:00,  3.07it/s]\n",
            "Local Pariticipant 4 loss = 0.923: 100%|██████████| 10/10 [00:03<00:00,  2.89it/s]\n"
          ]
        },
        {
          "name": "stdout",
          "output_type": "stream",
          "text": [
            "The 0 Communcation Accuracy: 19.605 Method: fedavg\n",
            "[15.62, 22.11, 20.69, 20.0]\n"
          ]
        },
        {
          "name": "stderr",
          "output_type": "stream",
          "text": [
            "Local Pariticipant 2 loss = 0.968: 100%|██████████| 10/10 [00:03<00:00,  3.04it/s]\n",
            "Local Pariticipant 5 loss = 0.415: 100%|██████████| 10/10 [00:03<00:00,  2.91it/s]\n",
            "Local Pariticipant 1 loss = 0.418: 100%|██████████| 10/10 [00:03<00:00,  2.96it/s]\n",
            "Local Pariticipant 8 loss = 0.533: 100%|██████████| 10/10 [00:01<00:00,  5.94it/s]\n",
            "Local Pariticipant 4 loss = 0.268: 100%|██████████| 10/10 [00:03<00:00,  2.92it/s]\n",
            "Local Pariticipant 6 loss = 0.860: 100%|██████████| 10/10 [00:04<00:00,  2.29it/s]\n",
            "Local Pariticipant 7 loss = 0.969: 100%|██████████| 10/10 [00:03<00:00,  3.20it/s]\n",
            "Local Pariticipant 0 loss = 1.134: 100%|██████████| 10/10 [00:04<00:00,  2.34it/s]\n",
            "Local Pariticipant 9 loss = 0.317: 100%|██████████| 10/10 [00:03<00:00,  3.01it/s]\n",
            "Local Pariticipant 3 loss = 1.040: 100%|██████████| 10/10 [00:04<00:00,  2.33it/s]\n"
          ]
        },
        {
          "name": "stdout",
          "output_type": "stream",
          "text": [
            "The 1 Communcation Accuracy: 30.465 Method: fedavg\n",
            "[36.61, 37.89, 20.69, 26.67]\n"
          ]
        },
        {
          "name": "stderr",
          "output_type": "stream",
          "text": [
            "Local Pariticipant 6 loss = 0.728: 100%|██████████| 10/10 [00:04<00:00,  2.33it/s]\n",
            "Local Pariticipant 4 loss = 0.113: 100%|██████████| 10/10 [00:03<00:00,  2.98it/s]\n",
            "Local Pariticipant 2 loss = 0.490: 100%|██████████| 10/10 [00:03<00:00,  3.21it/s]\n",
            "Local Pariticipant 9 loss = 0.164: 100%|██████████| 10/10 [00:03<00:00,  2.98it/s]\n",
            "Local Pariticipant 1 loss = 0.189: 100%|██████████| 10/10 [00:03<00:00,  3.00it/s]\n",
            "Local Pariticipant 7 loss = 0.701: 100%|██████████| 10/10 [00:03<00:00,  3.21it/s]\n",
            "Local Pariticipant 5 loss = 0.172: 100%|██████████| 10/10 [00:03<00:00,  2.99it/s]\n",
            "Local Pariticipant 0 loss = 0.810: 100%|██████████| 10/10 [00:04<00:00,  2.36it/s]\n",
            "Local Pariticipant 3 loss = 0.818: 100%|██████████| 10/10 [00:04<00:00,  2.34it/s]\n",
            "Local Pariticipant 8 loss = 0.230: 100%|██████████| 10/10 [00:01<00:00,  6.02it/s]\n"
          ]
        },
        {
          "name": "stdout",
          "output_type": "stream",
          "text": [
            "The 2 Communcation Accuracy: 35.472 Method: fedavg\n",
            "[35.71, 45.26, 27.59, 33.33]\n"
          ]
        },
        {
          "name": "stderr",
          "output_type": "stream",
          "text": [
            "Local Pariticipant 1 loss = 0.156: 100%|██████████| 10/10 [00:03<00:00,  2.99it/s]\n",
            "Local Pariticipant 8 loss = 0.117: 100%|██████████| 10/10 [00:01<00:00,  6.05it/s]\n",
            "Local Pariticipant 4 loss = 0.065: 100%|██████████| 10/10 [00:03<00:00,  2.99it/s]\n",
            "Local Pariticipant 0 loss = 0.548: 100%|██████████| 10/10 [00:04<00:00,  2.37it/s]\n",
            "Local Pariticipant 7 loss = 0.417: 100%|██████████| 10/10 [00:03<00:00,  3.20it/s]\n",
            "Local Pariticipant 5 loss = 0.117: 100%|██████████| 10/10 [00:03<00:00,  2.95it/s]\n",
            "Local Pariticipant 6 loss = 0.624: 100%|██████████| 10/10 [00:04<00:00,  2.23it/s]\n",
            "Local Pariticipant 2 loss = 0.716: 100%|██████████| 10/10 [00:03<00:00,  3.10it/s]\n",
            "Local Pariticipant 3 loss = 0.834: 100%|██████████| 10/10 [00:04<00:00,  2.26it/s]\n",
            "Local Pariticipant 9 loss = 0.071: 100%|██████████| 10/10 [00:03<00:00,  2.92it/s]\n"
          ]
        },
        {
          "name": "stdout",
          "output_type": "stream",
          "text": [
            "The 3 Communcation Accuracy: 38.007 Method: fedavg\n",
            "[42.41, 55.26, 31.03, 23.33]\n"
          ]
        },
        {
          "name": "stderr",
          "output_type": "stream",
          "text": [
            "Local Pariticipant 6 loss = 0.470: 100%|██████████| 10/10 [00:04<00:00,  2.27it/s]\n",
            "Local Pariticipant 3 loss = 0.472: 100%|██████████| 10/10 [00:04<00:00,  2.21it/s]\n",
            "Local Pariticipant 7 loss = 0.628: 100%|██████████| 10/10 [00:03<00:00,  3.13it/s]\n",
            "Local Pariticipant 0 loss = 0.613: 100%|██████████| 10/10 [00:04<00:00,  2.35it/s]\n",
            "Local Pariticipant 2 loss = 0.537: 100%|██████████| 10/10 [00:03<00:00,  3.20it/s]\n",
            "Local Pariticipant 9 loss = 0.044: 100%|██████████| 10/10 [00:03<00:00,  3.00it/s]\n",
            "Local Pariticipant 8 loss = 0.124: 100%|██████████| 10/10 [00:01<00:00,  6.08it/s]\n",
            "Local Pariticipant 1 loss = 0.102: 100%|██████████| 10/10 [00:03<00:00,  3.01it/s]\n",
            "Local Pariticipant 4 loss = 0.067: 100%|██████████| 10/10 [00:03<00:00,  2.77it/s]\n",
            "Local Pariticipant 5 loss = 0.076: 100%|██████████| 10/10 [00:03<00:00,  2.94it/s]\n"
          ]
        },
        {
          "name": "stdout",
          "output_type": "stream",
          "text": [
            "The 4 Communcation Accuracy: 44.03 Method: fedavg\n",
            "[42.86, 62.11, 34.48, 36.67]\n"
          ]
        },
        {
          "name": "stderr",
          "output_type": "stream",
          "text": [
            "Local Pariticipant 9 loss = 0.050: 100%|██████████| 10/10 [00:03<00:00,  2.77it/s]\n",
            "Local Pariticipant 6 loss = 0.379: 100%|██████████| 10/10 [00:04<00:00,  2.33it/s]\n",
            "Local Pariticipant 1 loss = 0.085: 100%|██████████| 10/10 [00:03<00:00,  2.78it/s]\n",
            "Local Pariticipant 7 loss = 0.556: 100%|██████████| 10/10 [00:03<00:00,  2.96it/s]\n",
            "Local Pariticipant 2 loss = 0.510: 100%|██████████| 10/10 [00:03<00:00,  2.76it/s]\n",
            "Local Pariticipant 0 loss = 0.389: 100%|██████████| 10/10 [00:05<00:00,  1.91it/s]\n",
            "Local Pariticipant 5 loss = 0.058: 100%|██████████| 10/10 [00:03<00:00,  2.52it/s]\n",
            "Local Pariticipant 4 loss = 0.049: 100%|██████████| 10/10 [00:03<00:00,  2.77it/s]\n",
            "Local Pariticipant 3 loss = 0.443: 100%|██████████| 10/10 [00:04<00:00,  2.02it/s]\n",
            "Local Pariticipant 8 loss = 0.094: 100%|██████████| 10/10 [00:01<00:00,  5.74it/s]\n"
          ]
        },
        {
          "name": "stdout",
          "output_type": "stream",
          "text": [
            "The 5 Communcation Accuracy: 42.188 Method: fedavg\n",
            "[45.54, 68.95, 27.59, 26.67]\n"
          ]
        },
        {
          "name": "stderr",
          "output_type": "stream",
          "text": [
            "Local Pariticipant 7 loss = 0.286: 100%|██████████| 10/10 [00:03<00:00,  2.97it/s]\n",
            "Local Pariticipant 3 loss = 0.506: 100%|██████████| 10/10 [00:04<00:00,  2.25it/s]\n",
            "Local Pariticipant 0 loss = 0.450: 100%|██████████| 10/10 [00:04<00:00,  2.30it/s]\n",
            "Local Pariticipant 4 loss = 0.043: 100%|██████████| 10/10 [00:03<00:00,  2.93it/s]\n",
            "Local Pariticipant 6 loss = 0.296: 100%|██████████| 10/10 [00:04<00:00,  2.29it/s]\n",
            "Local Pariticipant 5 loss = 0.056: 100%|██████████| 10/10 [00:03<00:00,  2.95it/s]\n",
            "Local Pariticipant 1 loss = 0.088: 100%|██████████| 10/10 [00:03<00:00,  2.95it/s]\n",
            "Local Pariticipant 9 loss = 0.031: 100%|██████████| 10/10 [00:03<00:00,  3.01it/s]\n",
            "Local Pariticipant 8 loss = 0.081: 100%|██████████| 10/10 [00:01<00:00,  6.02it/s]\n",
            "Local Pariticipant 2 loss = 0.363: 100%|██████████| 10/10 [00:03<00:00,  3.01it/s]\n"
          ]
        },
        {
          "name": "stdout",
          "output_type": "stream",
          "text": [
            "The 6 Communcation Accuracy: 45.62 Method: fedavg\n",
            "[49.55, 63.16, 43.1, 26.67]\n"
          ]
        },
        {
          "name": "stderr",
          "output_type": "stream",
          "text": [
            "Local Pariticipant 2 loss = 0.458: 100%|██████████| 10/10 [00:03<00:00,  3.19it/s]\n",
            "Local Pariticipant 7 loss = 0.349: 100%|██████████| 10/10 [00:03<00:00,  3.01it/s]\n",
            "Local Pariticipant 6 loss = 0.253: 100%|██████████| 10/10 [00:04<00:00,  2.19it/s]\n",
            "Local Pariticipant 9 loss = 0.035: 100%|██████████| 10/10 [00:03<00:00,  2.79it/s]\n",
            "Local Pariticipant 1 loss = 0.077: 100%|██████████| 10/10 [00:03<00:00,  2.88it/s]\n",
            "Local Pariticipant 8 loss = 0.097: 100%|██████████| 10/10 [00:01<00:00,  5.89it/s]\n",
            "Local Pariticipant 4 loss = 0.041: 100%|██████████| 10/10 [00:03<00:00,  2.72it/s]\n",
            "Local Pariticipant 3 loss = 0.273: 100%|██████████| 10/10 [00:04<00:00,  2.30it/s]\n",
            "Local Pariticipant 5 loss = 0.056: 100%|██████████| 10/10 [00:03<00:00,  2.82it/s]\n",
            "Local Pariticipant 0 loss = 0.373: 100%|██████████| 10/10 [00:04<00:00,  2.12it/s]\n"
          ]
        },
        {
          "name": "stdout",
          "output_type": "stream",
          "text": [
            "The 7 Communcation Accuracy: 47.545 Method: fedavg\n",
            "[53.12, 62.11, 48.28, 26.67]\n"
          ]
        },
        {
          "name": "stderr",
          "output_type": "stream",
          "text": [
            "Local Pariticipant 8 loss = 0.049: 100%|██████████| 10/10 [00:01<00:00,  5.91it/s]\n",
            "Local Pariticipant 5 loss = 0.041: 100%|██████████| 10/10 [00:03<00:00,  2.95it/s]\n",
            "Local Pariticipant 4 loss = 0.041: 100%|██████████| 10/10 [00:03<00:00,  2.97it/s]\n",
            "Local Pariticipant 3 loss = 0.262: 100%|██████████| 10/10 [00:04<00:00,  2.28it/s]\n",
            "Local Pariticipant 9 loss = 0.068: 100%|██████████| 10/10 [00:03<00:00,  2.92it/s]\n",
            "Local Pariticipant 2 loss = 0.294: 100%|██████████| 10/10 [00:03<00:00,  3.06it/s]\n",
            "Local Pariticipant 7 loss = 0.396: 100%|██████████| 10/10 [00:03<00:00,  3.02it/s]\n",
            "Local Pariticipant 1 loss = 0.041: 100%|██████████| 10/10 [00:03<00:00,  2.85it/s]\n",
            "Local Pariticipant 6 loss = 0.229: 100%|██████████| 10/10 [00:04<00:00,  2.11it/s]\n",
            "Local Pariticipant 0 loss = 0.298: 100%|██████████| 10/10 [00:05<00:00,  2.00it/s]\n"
          ]
        },
        {
          "name": "stdout",
          "output_type": "stream",
          "text": [
            "The 8 Communcation Accuracy: 45.488 Method: fedavg\n",
            "[49.55, 62.63, 43.1, 26.67]\n"
          ]
        },
        {
          "name": "stderr",
          "output_type": "stream",
          "text": [
            "Local Pariticipant 3 loss = 0.284: 100%|██████████| 10/10 [00:04<00:00,  2.11it/s]\n",
            "Local Pariticipant 0 loss = 0.199: 100%|██████████| 10/10 [00:04<00:00,  2.08it/s]\n",
            "Local Pariticipant 9 loss = 0.061: 100%|██████████| 10/10 [00:03<00:00,  2.64it/s]\n",
            "Local Pariticipant 5 loss = 0.042: 100%|██████████| 10/10 [00:03<00:00,  2.71it/s]\n",
            "Local Pariticipant 8 loss = 0.085: 100%|██████████| 10/10 [00:01<00:00,  5.49it/s]\n",
            "Local Pariticipant 7 loss = 0.182: 100%|██████████| 10/10 [00:03<00:00,  2.92it/s]\n",
            "Local Pariticipant 1 loss = 0.045: 100%|██████████| 10/10 [00:03<00:00,  2.65it/s]\n",
            "Local Pariticipant 2 loss = 0.413: 100%|██████████| 10/10 [00:03<00:00,  3.13it/s]\n",
            "Local Pariticipant 6 loss = 0.217: 100%|██████████| 10/10 [00:04<00:00,  2.28it/s]\n",
            "Local Pariticipant 4 loss = 0.029: 100%|██████████| 10/10 [00:03<00:00,  2.96it/s]\n"
          ]
        },
        {
          "name": "stdout",
          "output_type": "stream",
          "text": [
            "The 9 Communcation Accuracy: 47.545 Method: fedavg\n",
            "[51.79, 63.68, 41.38, 33.33]\n"
          ]
        },
        {
          "name": "stderr",
          "output_type": "stream",
          "text": [
            "Local Pariticipant 7 loss = 0.205: 100%|██████████| 10/10 [00:03<00:00,  3.10it/s]\n",
            "Local Pariticipant 0 loss = 0.123: 100%|██████████| 10/10 [00:04<00:00,  2.15it/s]\n",
            "Local Pariticipant 1 loss = 0.051: 100%|██████████| 10/10 [00:03<00:00,  2.62it/s]\n",
            "Local Pariticipant 6 loss = 0.148: 100%|██████████| 10/10 [00:04<00:00,  2.05it/s]\n",
            "Local Pariticipant 9 loss = 0.063: 100%|██████████| 10/10 [00:03<00:00,  2.68it/s]\n",
            "Local Pariticipant 8 loss = 0.037: 100%|██████████| 10/10 [00:01<00:00,  5.46it/s]\n",
            "Local Pariticipant 4 loss = 0.042: 100%|██████████| 10/10 [00:03<00:00,  2.70it/s]\n",
            "Local Pariticipant 5 loss = 0.039: 100%|██████████| 10/10 [00:03<00:00,  2.64it/s]\n",
            "Local Pariticipant 3 loss = 0.249: 100%|██████████| 10/10 [00:04<00:00,  2.08it/s]\n",
            "Local Pariticipant 2 loss = 0.450: 100%|██████████| 10/10 [00:03<00:00,  2.85it/s]\n"
          ]
        },
        {
          "name": "stdout",
          "output_type": "stream",
          "text": [
            "The 10 Communcation Accuracy: 44.642 Method: fedavg\n",
            "[52.68, 64.74, 34.48, 26.67]\n"
          ]
        },
        {
          "name": "stderr",
          "output_type": "stream",
          "text": [
            "Local Pariticipant 5 loss = 0.087: 100%|██████████| 10/10 [00:03<00:00,  2.72it/s]\n",
            "Local Pariticipant 7 loss = 0.360: 100%|██████████| 10/10 [00:03<00:00,  3.01it/s]\n",
            "Local Pariticipant 4 loss = 0.035: 100%|██████████| 10/10 [00:03<00:00,  2.77it/s]\n",
            "Local Pariticipant 6 loss = 0.101: 100%|██████████| 10/10 [00:04<00:00,  2.09it/s]\n",
            "Local Pariticipant 0 loss = 0.330: 100%|██████████| 10/10 [00:04<00:00,  2.14it/s]\n",
            "Local Pariticipant 3 loss = 0.308: 100%|██████████| 10/10 [00:05<00:00,  1.96it/s]\n",
            "Local Pariticipant 1 loss = 0.052: 100%|██████████| 10/10 [00:03<00:00,  2.55it/s]\n",
            "Local Pariticipant 9 loss = 0.025: 100%|██████████| 10/10 [00:03<00:00,  2.79it/s]\n",
            "Local Pariticipant 2 loss = 0.317: 100%|██████████| 10/10 [00:03<00:00,  3.11it/s]\n",
            "Local Pariticipant 8 loss = 0.051: 100%|██████████| 10/10 [00:01<00:00,  5.69it/s]\n"
          ]
        },
        {
          "name": "stdout",
          "output_type": "stream",
          "text": [
            "The 11 Communcation Accuracy: 42.817 Method: fedavg\n",
            "[51.79, 66.84, 29.31, 23.33]\n"
          ]
        },
        {
          "name": "stderr",
          "output_type": "stream",
          "text": [
            "Local Pariticipant 2 loss = 0.218: 100%|██████████| 10/10 [00:03<00:00,  3.09it/s]\n",
            "Local Pariticipant 6 loss = 0.153: 100%|██████████| 10/10 [00:04<00:00,  2.31it/s]\n",
            "Local Pariticipant 0 loss = 0.207: 100%|██████████| 10/10 [00:04<00:00,  2.30it/s]\n",
            "Local Pariticipant 8 loss = 0.037: 100%|██████████| 10/10 [00:01<00:00,  5.59it/s]\n",
            "Local Pariticipant 3 loss = 0.127: 100%|██████████| 10/10 [00:04<00:00,  2.21it/s]\n",
            "Local Pariticipant 4 loss = 0.011: 100%|██████████| 10/10 [00:03<00:00,  2.80it/s]\n",
            "Local Pariticipant 5 loss = 0.029: 100%|██████████| 10/10 [00:03<00:00,  2.62it/s]\n",
            "Local Pariticipant 7 loss = 0.140: 100%|██████████| 10/10 [00:03<00:00,  2.93it/s]\n",
            "Local Pariticipant 9 loss = 0.038: 100%|██████████| 10/10 [00:03<00:00,  2.52it/s]\n",
            "Local Pariticipant 1 loss = 0.033: 100%|██████████| 10/10 [00:03<00:00,  2.53it/s]\n"
          ]
        },
        {
          "name": "stdout",
          "output_type": "stream",
          "text": [
            "The 12 Communcation Accuracy: 47.45 Method: fedavg\n",
            "[54.91, 66.84, 41.38, 26.67]\n"
          ]
        },
        {
          "name": "stderr",
          "output_type": "stream",
          "text": [
            "Local Pariticipant 6 loss = 0.105: 100%|██████████| 10/10 [00:04<00:00,  2.03it/s]\n",
            "Local Pariticipant 8 loss = 0.058: 100%|██████████| 10/10 [00:02<00:00,  4.95it/s]\n",
            "Local Pariticipant 7 loss = 0.208: 100%|██████████| 10/10 [00:03<00:00,  2.67it/s]\n",
            "Local Pariticipant 5 loss = 0.142: 100%|██████████| 10/10 [00:03<00:00,  2.56it/s]\n",
            "Local Pariticipant 0 loss = 0.152: 100%|██████████| 10/10 [00:04<00:00,  2.00it/s]\n",
            "Local Pariticipant 3 loss = 0.275: 100%|██████████| 10/10 [00:05<00:00,  1.77it/s]\n",
            "Local Pariticipant 1 loss = 0.025: 100%|██████████| 10/10 [00:03<00:00,  2.50it/s]\n",
            "Local Pariticipant 9 loss = 0.040: 100%|██████████| 10/10 [00:03<00:00,  2.72it/s]\n",
            "Local Pariticipant 4 loss = 0.032: 100%|██████████| 10/10 [00:03<00:00,  2.63it/s]\n",
            "Local Pariticipant 2 loss = 0.098: 100%|██████████| 10/10 [00:04<00:00,  2.20it/s]\n"
          ]
        },
        {
          "name": "stdout",
          "output_type": "stream",
          "text": [
            "The 13 Communcation Accuracy: 47.865 Method: fedavg\n",
            "[54.46, 68.95, 41.38, 26.67]\n"
          ]
        },
        {
          "name": "stderr",
          "output_type": "stream",
          "text": [
            "Local Pariticipant 2 loss = 0.410: 100%|██████████| 10/10 [00:04<00:00,  2.13it/s]\n",
            "Local Pariticipant 6 loss = 0.077: 100%|██████████| 10/10 [00:05<00:00,  1.89it/s]\n",
            "Local Pariticipant 1 loss = 0.057: 100%|██████████| 10/10 [00:04<00:00,  2.40it/s]\n",
            "Local Pariticipant 7 loss = 0.087: 100%|██████████| 10/10 [00:03<00:00,  2.76it/s]\n",
            "Local Pariticipant 8 loss = 0.023: 100%|██████████| 10/10 [00:02<00:00,  4.98it/s]\n",
            "Local Pariticipant 5 loss = 0.015: 100%|██████████| 10/10 [00:03<00:00,  2.73it/s]\n",
            "Local Pariticipant 9 loss = 0.027: 100%|██████████| 10/10 [00:03<00:00,  2.76it/s]\n",
            "Local Pariticipant 3 loss = 0.275: 100%|██████████| 10/10 [00:04<00:00,  2.17it/s]\n",
            "Local Pariticipant 4 loss = 0.027: 100%|██████████| 10/10 [00:03<00:00,  2.72it/s]\n",
            "Local Pariticipant 0 loss = 0.097: 100%|██████████| 10/10 [00:04<00:00,  2.08it/s]\n"
          ]
        },
        {
          "name": "stdout",
          "output_type": "stream",
          "text": [
            "The 14 Communcation Accuracy: 46.65 Method: fedavg\n",
            "[55.36, 71.58, 39.66, 20.0]\n"
          ]
        },
        {
          "name": "stderr",
          "output_type": "stream",
          "text": [
            "Local Pariticipant 7 loss = 0.391: 100%|██████████| 10/10 [00:03<00:00,  2.90it/s]\n",
            "Local Pariticipant 4 loss = 0.024: 100%|██████████| 10/10 [00:03<00:00,  2.69it/s]\n",
            "Local Pariticipant 6 loss = 0.238: 100%|██████████| 10/10 [00:04<00:00,  2.14it/s]\n",
            "Local Pariticipant 8 loss = 0.028: 100%|██████████| 10/10 [00:01<00:00,  5.33it/s]\n",
            "Local Pariticipant 9 loss = 0.018: 100%|██████████| 10/10 [00:03<00:00,  2.65it/s]\n",
            "Local Pariticipant 2 loss = 0.433: 100%|██████████| 10/10 [00:03<00:00,  2.92it/s]\n",
            "Local Pariticipant 1 loss = 0.016: 100%|██████████| 10/10 [00:03<00:00,  2.72it/s]\n",
            "Local Pariticipant 3 loss = 0.315: 100%|██████████| 10/10 [00:04<00:00,  2.06it/s]\n",
            "Local Pariticipant 5 loss = 0.021: 100%|██████████| 10/10 [00:03<00:00,  2.75it/s]\n",
            "Local Pariticipant 0 loss = 0.205: 100%|██████████| 10/10 [00:04<00:00,  2.15it/s]\n"
          ]
        },
        {
          "name": "stdout",
          "output_type": "stream",
          "text": [
            "The 15 Communcation Accuracy: 46.372 Method: fedavg\n",
            "[55.36, 67.37, 32.76, 30.0]\n"
          ]
        },
        {
          "name": "stderr",
          "output_type": "stream",
          "text": [
            "Local Pariticipant 8 loss = 0.017: 100%|██████████| 10/10 [00:01<00:00,  5.68it/s]\n",
            "Local Pariticipant 5 loss = 0.014: 100%|██████████| 10/10 [00:04<00:00,  2.42it/s]\n",
            "Local Pariticipant 9 loss = 0.015: 100%|██████████| 10/10 [00:04<00:00,  2.35it/s]\n",
            "Local Pariticipant 1 loss = 0.016: 100%|██████████| 10/10 [00:03<00:00,  2.50it/s]\n",
            "Local Pariticipant 7 loss = 0.061: 100%|██████████| 10/10 [00:03<00:00,  2.78it/s]\n",
            "Local Pariticipant 6 loss = 0.153: 100%|██████████| 10/10 [00:05<00:00,  1.85it/s]\n",
            "Local Pariticipant 2 loss = 0.302: 100%|██████████| 10/10 [00:04<00:00,  2.42it/s]\n",
            "Local Pariticipant 3 loss = 0.238: 100%|██████████| 10/10 [00:07<00:00,  1.31it/s]\n",
            "Local Pariticipant 4 loss = 0.037: 100%|██████████| 10/10 [00:05<00:00,  1.84it/s]\n",
            "Local Pariticipant 0 loss = 0.265: 100%|██████████| 10/10 [00:05<00:00,  1.68it/s]\n"
          ]
        },
        {
          "name": "stdout",
          "output_type": "stream",
          "text": [
            "The 16 Communcation Accuracy: 46.578 Method: fedavg\n",
            "[57.59, 68.95, 43.1, 16.67]\n"
          ]
        },
        {
          "name": "stderr",
          "output_type": "stream",
          "text": [
            "Local Pariticipant 4 loss = 0.008: 100%|██████████| 10/10 [00:07<00:00,  1.42it/s]\n",
            "Local Pariticipant 1 loss = 0.037: 100%|██████████| 10/10 [00:04<00:00,  2.30it/s]\n",
            "Local Pariticipant 2 loss = 0.127: 100%|██████████| 10/10 [00:04<00:00,  2.36it/s]\n",
            "Local Pariticipant 8 loss = 0.021: 100%|██████████| 10/10 [00:02<00:00,  3.46it/s]\n",
            "Local Pariticipant 5 loss = 0.012: 100%|██████████| 10/10 [00:04<00:00,  2.15it/s]\n",
            "Local Pariticipant 9 loss = 0.014: 100%|██████████| 10/10 [00:04<00:00,  2.18it/s]\n",
            "Local Pariticipant 7 loss = 0.300: 100%|██████████| 10/10 [00:04<00:00,  2.07it/s]\n",
            "Local Pariticipant 0 loss = 0.108: 100%|██████████| 10/10 [00:06<00:00,  1.65it/s]\n",
            "Local Pariticipant 3 loss = 0.107: 100%|██████████| 10/10 [00:05<00:00,  1.85it/s]\n",
            "Local Pariticipant 6 loss = 0.020: 100%|██████████| 10/10 [00:05<00:00,  1.82it/s]\n"
          ]
        },
        {
          "name": "stdout",
          "output_type": "stream",
          "text": [
            "The 17 Communcation Accuracy: 47.505 Method: fedavg\n",
            "[55.8, 67.89, 39.66, 26.67]\n"
          ]
        },
        {
          "name": "stderr",
          "output_type": "stream",
          "text": [
            "Local Pariticipant 5 loss = 0.020: 100%|██████████| 10/10 [00:04<00:00,  2.31it/s]\n",
            "Local Pariticipant 9 loss = 0.045: 100%|██████████| 10/10 [00:04<00:00,  2.11it/s]\n",
            "Local Pariticipant 3 loss = 0.082: 100%|██████████| 10/10 [00:06<00:00,  1.64it/s]\n",
            "Local Pariticipant 7 loss = 0.351: 100%|██████████| 10/10 [00:04<00:00,  2.39it/s]\n",
            "Local Pariticipant 1 loss = 0.044: 100%|██████████| 10/10 [00:04<00:00,  2.29it/s]\n",
            "Local Pariticipant 2 loss = 0.330: 100%|██████████| 10/10 [00:04<00:00,  2.41it/s]\n",
            "Local Pariticipant 6 loss = 0.166: 100%|██████████| 10/10 [00:05<00:00,  1.98it/s]\n",
            "Local Pariticipant 0 loss = 0.097: 100%|██████████| 10/10 [00:05<00:00,  1.83it/s]\n",
            "Local Pariticipant 4 loss = 0.008: 100%|██████████| 10/10 [00:04<00:00,  2.50it/s]\n",
            "Local Pariticipant 8 loss = 0.023: 100%|██████████| 10/10 [00:02<00:00,  4.63it/s]\n"
          ]
        },
        {
          "name": "stdout",
          "output_type": "stream",
          "text": [
            "The 18 Communcation Accuracy: 46.325 Method: fedavg\n",
            "[58.48, 65.79, 31.03, 30.0]\n"
          ]
        },
        {
          "name": "stderr",
          "output_type": "stream",
          "text": [
            "Local Pariticipant 3 loss = 0.155: 100%|██████████| 10/10 [00:05<00:00,  1.78it/s]\n",
            "Local Pariticipant 9 loss = 0.011: 100%|██████████| 10/10 [00:04<00:00,  2.24it/s]\n",
            "Local Pariticipant 0 loss = 0.030: 100%|██████████| 10/10 [00:05<00:00,  1.79it/s]\n",
            "Local Pariticipant 4 loss = 0.005: 100%|██████████| 10/10 [00:04<00:00,  2.37it/s]\n",
            "Local Pariticipant 8 loss = 0.026: 100%|██████████| 10/10 [00:02<00:00,  4.59it/s]\n",
            "Local Pariticipant 6 loss = 0.193: 100%|██████████| 10/10 [00:05<00:00,  1.87it/s]\n",
            "Local Pariticipant 5 loss = 0.054: 100%|██████████| 10/10 [00:04<00:00,  2.36it/s]\n",
            "Local Pariticipant 7 loss = 0.894: 100%|██████████| 10/10 [00:04<00:00,  2.44it/s]\n",
            "Local Pariticipant 1 loss = 0.023: 100%|██████████| 10/10 [00:04<00:00,  2.21it/s]\n",
            "Local Pariticipant 2 loss = 0.183: 100%|██████████| 10/10 [00:04<00:00,  2.24it/s]\n"
          ]
        },
        {
          "name": "stdout",
          "output_type": "stream",
          "text": [
            "The 19 Communcation Accuracy: 43.345 Method: fedavg\n",
            "[55.8, 66.32, 37.93, 13.33]\n"
          ]
        },
        {
          "name": "stderr",
          "output_type": "stream",
          "text": [
            "Local Pariticipant 4 loss = 0.057: 100%|██████████| 10/10 [00:04<00:00,  2.47it/s]\n",
            "Local Pariticipant 5 loss = 0.015: 100%|██████████| 10/10 [00:04<00:00,  2.41it/s]\n",
            "Local Pariticipant 2 loss = 0.398: 100%|██████████| 10/10 [00:03<00:00,  2.71it/s]\n",
            "Local Pariticipant 3 loss = 0.056: 100%|██████████| 10/10 [00:05<00:00,  1.99it/s]\n",
            "Local Pariticipant 7 loss = 0.117: 100%|██████████| 10/10 [00:03<00:00,  2.76it/s]\n",
            "Local Pariticipant 8 loss = 0.027: 100%|██████████| 10/10 [00:01<00:00,  5.21it/s]\n",
            "Local Pariticipant 6 loss = 0.425: 100%|██████████| 10/10 [00:05<00:00,  1.94it/s]\n",
            "Local Pariticipant 9 loss = 0.043: 100%|██████████| 10/10 [00:04<00:00,  2.39it/s]\n",
            "Local Pariticipant 0 loss = 0.061: 100%|██████████| 10/10 [00:05<00:00,  1.90it/s]\n",
            "Local Pariticipant 1 loss = 0.036: 100%|██████████| 10/10 [00:03<00:00,  2.58it/s]\n"
          ]
        },
        {
          "name": "stdout",
          "output_type": "stream",
          "text": [
            "The 20 Communcation Accuracy: 48.285 Method: fedavg\n",
            "[55.8, 72.63, 41.38, 23.33]\n"
          ]
        },
        {
          "name": "stderr",
          "output_type": "stream",
          "text": [
            "Local Pariticipant 6 loss = 0.145: 100%|██████████| 10/10 [00:05<00:00,  1.93it/s]\n",
            "Local Pariticipant 7 loss = 0.187: 100%|██████████| 10/10 [00:03<00:00,  2.69it/s]\n",
            "Local Pariticipant 8 loss = 0.017: 100%|██████████| 10/10 [00:02<00:00,  4.87it/s]\n",
            "Local Pariticipant 9 loss = 0.015: 100%|██████████| 10/10 [00:03<00:00,  2.54it/s]\n",
            "Local Pariticipant 0 loss = 0.029: 100%|██████████| 10/10 [00:05<00:00,  1.95it/s]\n",
            "Local Pariticipant 2 loss = 0.013: 100%|██████████| 10/10 [00:03<00:00,  2.79it/s]\n",
            "Local Pariticipant 4 loss = 0.010: 100%|██████████| 10/10 [00:03<00:00,  2.52it/s]\n",
            "Local Pariticipant 1 loss = 0.015: 100%|██████████| 10/10 [00:04<00:00,  2.31it/s]\n",
            "Local Pariticipant 5 loss = 0.022: 100%|██████████| 10/10 [00:04<00:00,  2.23it/s]\n",
            "Local Pariticipant 3 loss = 0.147: 100%|██████████| 10/10 [00:05<00:00,  1.90it/s]\n"
          ]
        },
        {
          "name": "stdout",
          "output_type": "stream",
          "text": [
            "The 21 Communcation Accuracy: 48.602 Method: fedavg\n",
            "[55.8, 68.95, 39.66, 30.0]\n"
          ]
        },
        {
          "name": "stderr",
          "output_type": "stream",
          "text": [
            "Local Pariticipant 5 loss = 0.012: 100%|██████████| 10/10 [00:04<00:00,  2.46it/s]\n",
            "Local Pariticipant 8 loss = 0.014: 100%|██████████| 10/10 [00:01<00:00,  5.46it/s]\n",
            "Local Pariticipant 7 loss = 0.132: 100%|██████████| 10/10 [00:03<00:00,  2.91it/s]\n",
            "Local Pariticipant 0 loss = 0.157: 100%|██████████| 10/10 [00:04<00:00,  2.09it/s]\n",
            "Local Pariticipant 1 loss = 0.033: 100%|██████████| 10/10 [00:03<00:00,  2.51it/s]\n",
            "Local Pariticipant 4 loss = 0.003: 100%|██████████| 10/10 [00:03<00:00,  2.67it/s]\n",
            "Local Pariticipant 9 loss = 0.016: 100%|██████████| 10/10 [00:04<00:00,  2.43it/s]\n",
            "Local Pariticipant 6 loss = 0.126: 100%|██████████| 10/10 [00:05<00:00,  1.80it/s]\n",
            "Local Pariticipant 3 loss = 0.112: 100%|██████████| 10/10 [00:05<00:00,  1.93it/s]\n",
            "Local Pariticipant 2 loss = 0.106: 100%|██████████| 10/10 [00:03<00:00,  2.92it/s]\n"
          ]
        },
        {
          "name": "stdout",
          "output_type": "stream",
          "text": [
            "The 22 Communcation Accuracy: 47.83 Method: fedavg\n",
            "[57.14, 69.47, 41.38, 23.33]\n"
          ]
        },
        {
          "name": "stderr",
          "output_type": "stream",
          "text": [
            "Local Pariticipant 4 loss = 0.010: 100%|██████████| 10/10 [00:04<00:00,  2.47it/s]\n",
            "Local Pariticipant 7 loss = 0.086: 100%|██████████| 10/10 [00:03<00:00,  2.77it/s]\n",
            "Local Pariticipant 1 loss = 0.020: 100%|██████████| 10/10 [00:03<00:00,  2.60it/s]\n",
            "Local Pariticipant 8 loss = 0.020: 100%|██████████| 10/10 [00:01<00:00,  5.42it/s]\n",
            "Local Pariticipant 9 loss = 0.013: 100%|██████████| 10/10 [00:03<00:00,  2.60it/s]\n",
            "Local Pariticipant 0 loss = 0.034: 100%|██████████| 10/10 [00:04<00:00,  2.06it/s]\n",
            "Local Pariticipant 2 loss = 0.290: 100%|██████████| 10/10 [00:03<00:00,  2.71it/s]\n",
            "Local Pariticipant 3 loss = 0.031: 100%|██████████| 10/10 [00:04<00:00,  2.13it/s]\n",
            "Local Pariticipant 5 loss = 0.018: 100%|██████████| 10/10 [00:04<00:00,  2.37it/s]\n",
            "Local Pariticipant 6 loss = 0.014: 100%|██████████| 10/10 [00:04<00:00,  2.04it/s]\n"
          ]
        },
        {
          "name": "stdout",
          "output_type": "stream",
          "text": [
            "The 23 Communcation Accuracy: 51.415 Method: fedavg\n",
            "[55.36, 70.53, 43.1, 36.67]\n"
          ]
        },
        {
          "name": "stderr",
          "output_type": "stream",
          "text": [
            "Local Pariticipant 2 loss = 0.150: 100%|██████████| 10/10 [00:03<00:00,  2.58it/s]\n",
            "Local Pariticipant 6 loss = 0.446: 100%|██████████| 10/10 [00:05<00:00,  1.93it/s]\n",
            "Local Pariticipant 5 loss = 0.016: 100%|██████████| 10/10 [00:03<00:00,  2.52it/s]\n",
            "Local Pariticipant 7 loss = 0.311: 100%|██████████| 10/10 [00:03<00:00,  2.76it/s]\n",
            "Local Pariticipant 1 loss = 0.069: 100%|██████████| 10/10 [00:04<00:00,  2.47it/s]\n",
            "Local Pariticipant 9 loss = 0.006: 100%|██████████| 10/10 [00:04<00:00,  2.45it/s]\n",
            "Local Pariticipant 8 loss = 0.007: 100%|██████████| 10/10 [00:02<00:00,  4.50it/s]\n",
            "Local Pariticipant 3 loss = 0.051: 100%|██████████| 10/10 [00:07<00:00,  1.41it/s]\n",
            "Local Pariticipant 4 loss = 0.009: 100%|██████████| 10/10 [00:04<00:00,  2.26it/s]\n",
            "Local Pariticipant 0 loss = 0.025: 100%|██████████| 10/10 [00:05<00:00,  1.82it/s]\n"
          ]
        },
        {
          "name": "stdout",
          "output_type": "stream",
          "text": [
            "The 24 Communcation Accuracy: 45.04 Method: fedavg\n",
            "[52.23, 70.0, 37.93, 20.0]\n"
          ]
        },
        {
          "name": "stderr",
          "output_type": "stream",
          "text": [
            "Local Pariticipant 2 loss = 0.174: 100%|██████████| 10/10 [00:04<00:00,  2.47it/s]\n",
            "Local Pariticipant 5 loss = 0.015: 100%|██████████| 10/10 [00:04<00:00,  2.42it/s]\n",
            "Local Pariticipant 9 loss = 0.032: 100%|██████████| 10/10 [00:04<00:00,  2.23it/s]\n",
            "Local Pariticipant 1 loss = 0.027: 100%|██████████| 10/10 [00:04<00:00,  2.24it/s]\n",
            "Local Pariticipant 4 loss = 0.005: 100%|██████████| 10/10 [00:03<00:00,  2.55it/s]\n",
            "Local Pariticipant 7 loss = 0.105: 100%|██████████| 10/10 [00:03<00:00,  2.77it/s]\n",
            "Local Pariticipant 8 loss = 0.029: 100%|██████████| 10/10 [00:02<00:00,  4.49it/s]\n",
            "Local Pariticipant 0 loss = 0.057: 100%|██████████| 10/10 [00:06<00:00,  1.63it/s]\n",
            "Local Pariticipant 3 loss = 0.044: 100%|██████████| 10/10 [00:07<00:00,  1.37it/s]\n",
            "Local Pariticipant 6 loss = 0.023: 100%|██████████| 10/10 [00:06<00:00,  1.60it/s]\n"
          ]
        },
        {
          "name": "stdout",
          "output_type": "stream",
          "text": [
            "The 25 Communcation Accuracy: 50.785 Method: fedavg\n",
            "[58.04, 72.11, 39.66, 33.33]\n"
          ]
        },
        {
          "name": "stderr",
          "output_type": "stream",
          "text": [
            "Local Pariticipant 7 loss = 0.429: 100%|██████████| 10/10 [00:04<00:00,  2.30it/s]\n",
            "Local Pariticipant 3 loss = 0.024: 100%|██████████| 10/10 [00:05<00:00,  1.70it/s]\n",
            "Local Pariticipant 6 loss = 0.044: 100%|██████████| 10/10 [00:06<00:00,  1.60it/s]\n",
            "Local Pariticipant 5 loss = 0.013: 100%|██████████| 10/10 [00:04<00:00,  2.03it/s]\n",
            "Local Pariticipant 0 loss = 0.040: 100%|██████████| 10/10 [00:06<00:00,  1.62it/s]\n",
            "Local Pariticipant 9 loss = 0.117: 100%|██████████| 10/10 [00:04<00:00,  2.05it/s]\n",
            "Local Pariticipant 2 loss = 0.038: 100%|██████████| 10/10 [00:04<00:00,  2.24it/s]\n",
            "Local Pariticipant 8 loss = 0.034: 100%|██████████| 10/10 [00:02<00:00,  4.24it/s]\n",
            "Local Pariticipant 4 loss = 0.015: 100%|██████████| 10/10 [00:04<00:00,  2.08it/s]\n",
            "Local Pariticipant 1 loss = 0.010: 100%|██████████| 10/10 [00:04<00:00,  2.06it/s]\n"
          ]
        },
        {
          "name": "stdout",
          "output_type": "stream",
          "text": [
            "The 26 Communcation Accuracy: 49.532 Method: fedavg\n",
            "[56.25, 72.11, 43.1, 26.67]\n"
          ]
        },
        {
          "name": "stderr",
          "output_type": "stream",
          "text": [
            "Local Pariticipant 6 loss = 0.034: 100%|██████████| 10/10 [00:06<00:00,  1.62it/s]\n",
            "Local Pariticipant 3 loss = 0.035: 100%|██████████| 10/10 [00:06<00:00,  1.65it/s]\n",
            "Local Pariticipant 5 loss = 0.007: 100%|██████████| 10/10 [00:04<00:00,  2.07it/s]\n",
            "Local Pariticipant 8 loss = 0.008: 100%|██████████| 10/10 [00:02<00:00,  3.97it/s]\n",
            "Local Pariticipant 4 loss = 0.068: 100%|██████████| 10/10 [00:04<00:00,  2.12it/s]\n",
            "Local Pariticipant 1 loss = 0.020: 100%|██████████| 10/10 [00:04<00:00,  2.07it/s]\n",
            "Local Pariticipant 2 loss = 0.287: 100%|██████████| 10/10 [00:04<00:00,  2.35it/s]\n",
            "Local Pariticipant 0 loss = 0.145: 100%|██████████| 10/10 [00:05<00:00,  1.75it/s]\n",
            "Local Pariticipant 9 loss = 0.005: 100%|██████████| 10/10 [00:04<00:00,  2.17it/s]\n",
            "Local Pariticipant 7 loss = 0.163: 100%|██████████| 10/10 [00:04<00:00,  2.12it/s]\n"
          ]
        },
        {
          "name": "stdout",
          "output_type": "stream",
          "text": [
            "The 27 Communcation Accuracy: 50.858 Method: fedavg\n",
            "[57.14, 71.58, 41.38, 33.33]\n"
          ]
        },
        {
          "name": "stderr",
          "output_type": "stream",
          "text": [
            "Local Pariticipant 7 loss = 0.362: 100%|██████████| 10/10 [00:04<00:00,  2.25it/s]\n",
            "Local Pariticipant 9 loss = 0.010: 100%|██████████| 10/10 [00:04<00:00,  2.09it/s]\n",
            "Local Pariticipant 6 loss = 0.043: 100%|██████████| 10/10 [00:05<00:00,  1.67it/s]\n",
            "Local Pariticipant 8 loss = 0.006: 100%|██████████| 10/10 [00:02<00:00,  4.26it/s]\n",
            "Local Pariticipant 0 loss = 0.045: 100%|██████████| 10/10 [00:06<00:00,  1.62it/s]\n",
            "Local Pariticipant 4 loss = 0.009: 100%|██████████| 10/10 [00:04<00:00,  2.17it/s]\n",
            "Local Pariticipant 1 loss = 0.072: 100%|██████████| 10/10 [00:05<00:00,  2.00it/s]\n",
            "Local Pariticipant 3 loss = 0.023: 100%|██████████| 10/10 [00:06<00:00,  1.54it/s]\n",
            "Local Pariticipant 2 loss = 0.013: 100%|██████████| 10/10 [00:04<00:00,  2.28it/s]\n",
            "Local Pariticipant 5 loss = 0.027: 100%|██████████| 10/10 [00:04<00:00,  2.10it/s]\n"
          ]
        },
        {
          "name": "stdout",
          "output_type": "stream",
          "text": [
            "The 28 Communcation Accuracy: 50.702 Method: fedavg\n",
            "[56.25, 73.68, 36.21, 36.67]\n"
          ]
        },
        {
          "name": "stderr",
          "output_type": "stream",
          "text": [
            "Local Pariticipant 7 loss = 0.188: 100%|██████████| 10/10 [00:04<00:00,  2.31it/s]\n",
            "Local Pariticipant 3 loss = 0.072: 100%|██████████| 10/10 [00:06<00:00,  1.62it/s]\n",
            "Local Pariticipant 4 loss = 0.002: 100%|██████████| 10/10 [00:04<00:00,  2.01it/s]\n",
            "Local Pariticipant 5 loss = 0.004: 100%|██████████| 10/10 [00:04<00:00,  2.07it/s]\n",
            "Local Pariticipant 0 loss = 0.067: 100%|██████████| 10/10 [00:06<00:00,  1.65it/s]\n",
            "Local Pariticipant 8 loss = 0.008: 100%|██████████| 10/10 [00:02<00:00,  4.22it/s]\n",
            "Local Pariticipant 9 loss = 0.005: 100%|██████████| 10/10 [00:05<00:00,  1.98it/s]\n",
            "Local Pariticipant 2 loss = 0.072: 100%|██████████| 10/10 [00:04<00:00,  2.07it/s]\n",
            "Local Pariticipant 6 loss = 0.203: 100%|██████████| 10/10 [00:06<00:00,  1.58it/s]\n",
            "Local Pariticipant 1 loss = 0.016: 100%|██████████| 10/10 [00:04<00:00,  2.11it/s]\n"
          ]
        },
        {
          "name": "stdout",
          "output_type": "stream",
          "text": [
            "The 29 Communcation Accuracy: 49.915 Method: fedavg\n",
            "[56.7, 71.58, 41.38, 30.0]\n"
          ]
        },
        {
          "name": "stderr",
          "output_type": "stream",
          "text": [
            "Local Pariticipant 3 loss = 0.121: 100%|██████████| 10/10 [00:06<00:00,  1.45it/s]\n",
            "Local Pariticipant 8 loss = 0.013: 100%|██████████| 10/10 [00:02<00:00,  4.18it/s]\n",
            "Local Pariticipant 1 loss = 0.006: 100%|██████████| 10/10 [00:05<00:00,  1.98it/s]\n",
            "Local Pariticipant 7 loss = 0.129: 100%|██████████| 10/10 [00:04<00:00,  2.21it/s]\n",
            "Local Pariticipant 6 loss = 0.028: 100%|██████████| 10/10 [00:05<00:00,  1.68it/s]\n",
            "Local Pariticipant 0 loss = 0.015: 100%|██████████| 10/10 [00:05<00:00,  1.74it/s]\n",
            "Local Pariticipant 9 loss = 0.047: 100%|██████████| 10/10 [00:04<00:00,  2.46it/s]\n",
            "Local Pariticipant 4 loss = 0.005: 100%|██████████| 10/10 [00:04<00:00,  2.43it/s]\n",
            "Local Pariticipant 5 loss = 0.012: 100%|██████████| 10/10 [00:04<00:00,  2.44it/s]\n",
            "Local Pariticipant 2 loss = 0.170: 100%|██████████| 10/10 [00:03<00:00,  2.63it/s]\n"
          ]
        },
        {
          "name": "stdout",
          "output_type": "stream",
          "text": [
            "The 30 Communcation Accuracy: 50.568 Method: fedavg\n",
            "[57.59, 71.58, 43.1, 30.0]\n"
          ]
        },
        {
          "name": "stderr",
          "output_type": "stream",
          "text": [
            "Local Pariticipant 8 loss = 0.015: 100%|██████████| 10/10 [00:02<00:00,  4.87it/s]\n",
            "Local Pariticipant 0 loss = 0.024: 100%|██████████| 10/10 [00:05<00:00,  1.95it/s]\n",
            "Local Pariticipant 4 loss = 0.002: 100%|██████████| 10/10 [00:04<00:00,  2.44it/s]\n",
            "Local Pariticipant 6 loss = 0.034: 100%|██████████| 10/10 [00:05<00:00,  1.92it/s]\n",
            "Local Pariticipant 7 loss = 0.165: 100%|██████████| 10/10 [00:03<00:00,  2.63it/s]\n",
            "Local Pariticipant 3 loss = 0.088: 100%|██████████| 10/10 [00:05<00:00,  1.94it/s]\n",
            "Local Pariticipant 2 loss = 0.050: 100%|██████████| 10/10 [00:03<00:00,  2.64it/s]\n",
            "Local Pariticipant 1 loss = 0.005: 100%|██████████| 10/10 [00:04<00:00,  2.45it/s]\n",
            "Local Pariticipant 5 loss = 0.011: 100%|██████████| 10/10 [00:03<00:00,  2.52it/s]\n",
            "Local Pariticipant 9 loss = 0.003: 100%|██████████| 10/10 [00:04<00:00,  2.45it/s]\n"
          ]
        },
        {
          "name": "stdout",
          "output_type": "stream",
          "text": [
            "The 31 Communcation Accuracy: 49.772 Method: fedavg\n",
            "[59.82, 67.89, 41.38, 30.0]\n"
          ]
        },
        {
          "name": "stderr",
          "output_type": "stream",
          "text": [
            "Local Pariticipant 2 loss = 0.303: 100%|██████████| 10/10 [00:03<00:00,  2.68it/s]\n",
            "Local Pariticipant 7 loss = 0.058: 100%|██████████| 10/10 [00:03<00:00,  2.68it/s]\n",
            "Local Pariticipant 9 loss = 0.006: 100%|██████████| 10/10 [00:04<00:00,  2.47it/s]\n",
            "Local Pariticipant 5 loss = 0.007: 100%|██████████| 10/10 [00:04<00:00,  2.46it/s]\n",
            "Local Pariticipant 1 loss = 0.020: 100%|██████████| 10/10 [00:04<00:00,  2.46it/s]\n",
            "Local Pariticipant 4 loss = 0.006: 100%|██████████| 10/10 [00:04<00:00,  2.50it/s]\n",
            "Local Pariticipant 8 loss = 0.010: 100%|██████████| 10/10 [00:01<00:00,  5.02it/s]\n",
            "Local Pariticipant 6 loss = 0.066: 100%|██████████| 10/10 [00:05<00:00,  1.97it/s]\n",
            "Local Pariticipant 3 loss = 0.024: 100%|██████████| 10/10 [00:05<00:00,  1.96it/s]\n",
            "Local Pariticipant 0 loss = 0.020: 100%|██████████| 10/10 [00:05<00:00,  1.96it/s]\n"
          ]
        },
        {
          "name": "stdout",
          "output_type": "stream",
          "text": [
            "The 32 Communcation Accuracy: 47.058 Method: fedavg\n",
            "[55.8, 71.05, 41.38, 20.0]\n"
          ]
        },
        {
          "name": "stderr",
          "output_type": "stream",
          "text": [
            "Local Pariticipant 9 loss = 0.014: 100%|██████████| 10/10 [00:04<00:00,  2.47it/s]\n",
            "Local Pariticipant 7 loss = 0.006: 100%|██████████| 10/10 [00:03<00:00,  2.70it/s]\n",
            "Local Pariticipant 6 loss = 0.018: 100%|██████████| 10/10 [00:05<00:00,  1.96it/s]\n",
            "Local Pariticipant 2 loss = 0.166: 100%|██████████| 10/10 [00:03<00:00,  2.56it/s]\n",
            "Local Pariticipant 8 loss = 0.012: 100%|██████████| 10/10 [00:02<00:00,  4.53it/s]\n",
            "Local Pariticipant 3 loss = 0.056: 100%|██████████| 10/10 [00:05<00:00,  1.72it/s]\n",
            "Local Pariticipant 1 loss = 0.018: 100%|██████████| 10/10 [00:04<00:00,  2.44it/s]\n",
            "Local Pariticipant 5 loss = 0.011: 100%|██████████| 10/10 [00:04<00:00,  2.44it/s]\n",
            "Local Pariticipant 0 loss = 0.021: 100%|██████████| 10/10 [00:04<00:00,  2.00it/s]\n",
            "Local Pariticipant 4 loss = 0.003: 100%|██████████| 10/10 [00:04<00:00,  2.49it/s]\n"
          ]
        },
        {
          "name": "stdout",
          "output_type": "stream",
          "text": [
            "The 33 Communcation Accuracy: 53.095 Method: fedavg\n",
            "[60.27, 72.11, 50.0, 30.0]\n"
          ]
        },
        {
          "name": "stderr",
          "output_type": "stream",
          "text": [
            "Local Pariticipant 1 loss = 0.009: 100%|██████████| 10/10 [00:04<00:00,  2.48it/s]\n",
            "Local Pariticipant 6 loss = 0.102: 100%|██████████| 10/10 [00:05<00:00,  1.87it/s]\n",
            "Local Pariticipant 0 loss = 0.017: 100%|██████████| 10/10 [00:05<00:00,  1.82it/s]\n",
            "Local Pariticipant 7 loss = 0.264: 100%|██████████| 10/10 [00:04<00:00,  2.25it/s]\n",
            "Local Pariticipant 8 loss = 0.010: 100%|██████████| 10/10 [00:02<00:00,  4.54it/s]\n",
            "Local Pariticipant 4 loss = 0.019: 100%|██████████| 10/10 [00:04<00:00,  2.18it/s]\n",
            "Local Pariticipant 5 loss = 0.004: 100%|██████████| 10/10 [00:04<00:00,  2.27it/s]\n",
            "Local Pariticipant 2 loss = 0.047: 100%|██████████| 10/10 [00:04<00:00,  2.30it/s]\n",
            "Local Pariticipant 3 loss = 0.107: 100%|██████████| 10/10 [00:05<00:00,  1.77it/s]\n",
            "Local Pariticipant 9 loss = 0.005: 100%|██████████| 10/10 [00:04<00:00,  2.41it/s]\n"
          ]
        },
        {
          "name": "stdout",
          "output_type": "stream",
          "text": [
            "The 34 Communcation Accuracy: 49.342 Method: fedavg\n",
            "[58.93, 72.11, 39.66, 26.67]\n"
          ]
        },
        {
          "name": "stderr",
          "output_type": "stream",
          "text": [
            "Local Pariticipant 5 loss = 0.143: 100%|██████████| 10/10 [00:04<00:00,  2.41it/s]\n",
            "Local Pariticipant 4 loss = 0.003: 100%|██████████| 10/10 [00:04<00:00,  2.40it/s]\n",
            "Local Pariticipant 7 loss = 0.056: 100%|██████████| 10/10 [00:03<00:00,  2.68it/s]\n",
            "Local Pariticipant 0 loss = 0.016: 100%|██████████| 10/10 [00:05<00:00,  2.00it/s]\n",
            "Local Pariticipant 2 loss = 0.178: 100%|██████████| 10/10 [00:03<00:00,  2.67it/s]\n",
            "Local Pariticipant 8 loss = 0.008: 100%|██████████| 10/10 [00:01<00:00,  5.06it/s]\n",
            "Local Pariticipant 9 loss = 0.014: 100%|██████████| 10/10 [00:04<00:00,  2.48it/s]\n",
            "Local Pariticipant 3 loss = 0.009: 100%|██████████| 10/10 [00:05<00:00,  1.96it/s]\n",
            "Local Pariticipant 1 loss = 0.006: 100%|██████████| 10/10 [00:03<00:00,  2.50it/s]\n",
            "Local Pariticipant 6 loss = 0.027: 100%|██████████| 10/10 [00:05<00:00,  1.95it/s]\n"
          ]
        },
        {
          "name": "stdout",
          "output_type": "stream",
          "text": [
            "The 35 Communcation Accuracy: 49.963 Method: fedavg\n",
            "[58.93, 76.32, 37.93, 26.67]\n"
          ]
        },
        {
          "name": "stderr",
          "output_type": "stream",
          "text": [
            "Local Pariticipant 2 loss = 0.030: 100%|██████████| 10/10 [00:03<00:00,  2.74it/s]\n",
            "Local Pariticipant 8 loss = 0.010: 100%|██████████| 10/10 [00:02<00:00,  4.99it/s]\n",
            "Local Pariticipant 0 loss = 0.008: 100%|██████████| 10/10 [00:04<00:00,  2.01it/s]\n",
            "Local Pariticipant 3 loss = 0.025: 100%|██████████| 10/10 [00:05<00:00,  1.96it/s]\n",
            "Local Pariticipant 5 loss = 0.015: 100%|██████████| 10/10 [00:04<00:00,  2.43it/s]\n",
            "Local Pariticipant 6 loss = 0.006: 100%|██████████| 10/10 [00:05<00:00,  1.95it/s]\n",
            "Local Pariticipant 7 loss = 0.050: 100%|██████████| 10/10 [00:03<00:00,  2.69it/s]\n",
            "Local Pariticipant 9 loss = 0.013: 100%|██████████| 10/10 [00:04<00:00,  2.47it/s]\n",
            "Local Pariticipant 4 loss = 0.008: 100%|██████████| 10/10 [00:03<00:00,  2.52it/s]\n",
            "Local Pariticipant 1 loss = 0.017: 100%|██████████| 10/10 [00:04<00:00,  2.46it/s]\n"
          ]
        },
        {
          "name": "stdout",
          "output_type": "stream",
          "text": [
            "The 36 Communcation Accuracy: 49.638 Method: fedavg\n",
            "[60.27, 73.68, 37.93, 26.67]\n"
          ]
        },
        {
          "name": "stderr",
          "output_type": "stream",
          "text": [
            "Local Pariticipant 9 loss = 0.003: 100%|██████████| 10/10 [00:04<00:00,  2.06it/s]\n",
            "Local Pariticipant 6 loss = 0.005: 100%|██████████| 10/10 [00:05<00:00,  1.74it/s]\n",
            "Local Pariticipant 3 loss = 0.009: 100%|██████████| 10/10 [00:05<00:00,  1.77it/s]\n",
            "Local Pariticipant 1 loss = 0.003: 100%|██████████| 10/10 [00:04<00:00,  2.24it/s]\n",
            "Local Pariticipant 0 loss = 0.003: 100%|██████████| 10/10 [00:05<00:00,  1.80it/s]\n",
            "Local Pariticipant 8 loss = 0.011: 100%|██████████| 10/10 [00:02<00:00,  4.49it/s]\n",
            "Local Pariticipant 7 loss = 0.442: 100%|██████████| 10/10 [00:04<00:00,  2.45it/s]\n",
            "Local Pariticipant 5 loss = 0.005: 100%|██████████| 10/10 [00:04<00:00,  2.24it/s]\n",
            "Local Pariticipant 2 loss = 0.002: 100%|██████████| 10/10 [00:04<00:00,  2.45it/s]\n",
            "Local Pariticipant 4 loss = 0.008: 100%|██████████| 10/10 [00:04<00:00,  2.24it/s]\n"
          ]
        },
        {
          "name": "stdout",
          "output_type": "stream",
          "text": [
            "The 37 Communcation Accuracy: 52.853 Method: fedavg\n",
            "[58.04, 72.11, 37.93, 43.33]\n"
          ]
        },
        {
          "name": "stderr",
          "output_type": "stream",
          "text": [
            "Local Pariticipant 0 loss = 0.010: 100%|██████████| 10/10 [00:05<00:00,  1.78it/s]\n",
            "Local Pariticipant 6 loss = 0.007: 100%|██████████| 10/10 [00:05<00:00,  1.76it/s]\n",
            "Local Pariticipant 4 loss = 0.006: 100%|██████████| 10/10 [00:04<00:00,  2.25it/s]\n",
            "Local Pariticipant 9 loss = 0.002: 100%|██████████| 10/10 [00:04<00:00,  2.24it/s]\n",
            "Local Pariticipant 7 loss = 0.011: 100%|██████████| 10/10 [00:04<00:00,  2.43it/s]\n",
            "Local Pariticipant 1 loss = 0.015: 100%|██████████| 10/10 [00:04<00:00,  2.20it/s]\n",
            "Local Pariticipant 5 loss = 0.003: 100%|██████████| 10/10 [00:04<00:00,  2.28it/s]\n",
            "Local Pariticipant 3 loss = 0.139: 100%|██████████| 10/10 [00:05<00:00,  1.75it/s]\n",
            "Local Pariticipant 2 loss = 0.055: 100%|██████████| 10/10 [00:04<00:00,  2.45it/s]\n",
            "Local Pariticipant 8 loss = 0.010: 100%|██████████| 10/10 [00:02<00:00,  4.56it/s]\n"
          ]
        },
        {
          "name": "stdout",
          "output_type": "stream",
          "text": [
            "The 38 Communcation Accuracy: 51.428 Method: fedavg\n",
            "[58.93, 73.68, 43.1, 30.0]\n"
          ]
        },
        {
          "name": "stderr",
          "output_type": "stream",
          "text": [
            "Local Pariticipant 0 loss = 0.006: 100%|██████████| 10/10 [00:05<00:00,  1.80it/s]\n",
            "Local Pariticipant 7 loss = 0.014: 100%|██████████| 10/10 [00:04<00:00,  2.41it/s]\n",
            "Local Pariticipant 9 loss = 0.008: 100%|██████████| 10/10 [00:04<00:00,  2.17it/s]\n",
            "Local Pariticipant 4 loss = 0.011: 100%|██████████| 10/10 [00:04<00:00,  2.25it/s]\n",
            "Local Pariticipant 5 loss = 0.002: 100%|██████████| 10/10 [00:04<00:00,  2.22it/s]\n",
            "Local Pariticipant 3 loss = 0.261: 100%|██████████| 10/10 [00:05<00:00,  1.78it/s]\n",
            "Local Pariticipant 2 loss = 0.704: 100%|██████████| 10/10 [00:04<00:00,  2.42it/s]\n",
            "Local Pariticipant 1 loss = 0.001: 100%|██████████| 10/10 [00:04<00:00,  2.23it/s]\n",
            "Local Pariticipant 8 loss = 0.005: 100%|██████████| 10/10 [00:02<00:00,  4.42it/s]\n",
            "Local Pariticipant 6 loss = 0.011: 100%|██████████| 10/10 [00:05<00:00,  1.71it/s]\n"
          ]
        },
        {
          "name": "stdout",
          "output_type": "stream",
          "text": [
            "The 39 Communcation Accuracy: 48.855 Method: fedavg\n",
            "[56.25, 81.58, 27.59, 30.0]\n"
          ]
        },
        {
          "name": "stderr",
          "output_type": "stream",
          "text": [
            "Local Pariticipant 9 loss = 0.003: 100%|██████████| 10/10 [00:04<00:00,  2.20it/s]\n",
            "Local Pariticipant 4 loss = 0.009: 100%|██████████| 10/10 [00:04<00:00,  2.18it/s]\n",
            "Local Pariticipant 2 loss = 0.194: 100%|██████████| 10/10 [00:04<00:00,  2.39it/s]\n",
            "Local Pariticipant 8 loss = 0.046: 100%|██████████| 10/10 [00:02<00:00,  4.60it/s]\n",
            "Local Pariticipant 3 loss = 0.003: 100%|██████████| 10/10 [00:05<00:00,  1.75it/s]\n",
            "Local Pariticipant 0 loss = 0.004: 100%|██████████| 10/10 [00:05<00:00,  1.77it/s]\n",
            "Local Pariticipant 5 loss = 0.005: 100%|██████████| 10/10 [00:04<00:00,  2.26it/s]\n",
            "Local Pariticipant 6 loss = 0.008: 100%|██████████| 10/10 [00:05<00:00,  1.70it/s]\n",
            "Local Pariticipant 1 loss = 0.005: 100%|██████████| 10/10 [00:04<00:00,  2.29it/s]\n",
            "Local Pariticipant 7 loss = 0.094: 100%|██████████| 10/10 [00:04<00:00,  2.23it/s]\n"
          ]
        },
        {
          "name": "stdout",
          "output_type": "stream",
          "text": [
            "The 40 Communcation Accuracy: 50.085 Method: fedavg\n",
            "[55.8, 73.16, 41.38, 30.0]\n"
          ]
        },
        {
          "name": "stderr",
          "output_type": "stream",
          "text": [
            "Local Pariticipant 4 loss = 0.006: 100%|██████████| 10/10 [00:03<00:00,  2.54it/s]\n",
            "Local Pariticipant 3 loss = 0.002: 100%|██████████| 10/10 [00:05<00:00,  1.92it/s]\n",
            "Local Pariticipant 9 loss = 0.030: 100%|██████████| 10/10 [00:03<00:00,  2.62it/s]\n",
            "Local Pariticipant 1 loss = 0.002: 100%|██████████| 10/10 [00:03<00:00,  2.59it/s]\n",
            "Local Pariticipant 0 loss = 0.160: 100%|██████████| 10/10 [00:05<00:00,  2.00it/s]\n",
            "Local Pariticipant 7 loss = 0.050: 100%|██████████| 10/10 [00:03<00:00,  2.73it/s]\n",
            "Local Pariticipant 5 loss = 0.008: 100%|██████████| 10/10 [00:04<00:00,  2.39it/s]\n",
            "Local Pariticipant 6 loss = 0.026: 100%|██████████| 10/10 [00:06<00:00,  1.50it/s]\n",
            "Local Pariticipant 8 loss = 0.002: 100%|██████████| 10/10 [00:02<00:00,  3.92it/s]\n",
            "Local Pariticipant 2 loss = 0.003: 100%|██████████| 10/10 [00:03<00:00,  2.51it/s]\n"
          ]
        },
        {
          "name": "stdout",
          "output_type": "stream",
          "text": [
            "The 41 Communcation Accuracy: 52.647 Method: fedavg\n",
            "[57.14, 73.68, 43.1, 36.67]\n"
          ]
        },
        {
          "name": "stderr",
          "output_type": "stream",
          "text": [
            "Local Pariticipant 6 loss = 0.011: 100%|██████████| 10/10 [00:05<00:00,  1.80it/s]\n",
            "Local Pariticipant 0 loss = 0.040: 100%|██████████| 10/10 [00:05<00:00,  1.83it/s]\n",
            "Local Pariticipant 1 loss = 0.006: 100%|██████████| 10/10 [00:04<00:00,  2.33it/s]\n",
            "Local Pariticipant 8 loss = 0.009: 100%|██████████| 10/10 [00:02<00:00,  4.89it/s]\n",
            "Local Pariticipant 4 loss = 0.003: 100%|██████████| 10/10 [00:04<00:00,  2.44it/s]\n",
            "Local Pariticipant 2 loss = 0.276: 100%|██████████| 10/10 [00:03<00:00,  2.67it/s]\n",
            "Local Pariticipant 9 loss = 0.030: 100%|██████████| 10/10 [00:04<00:00,  2.48it/s]\n",
            "Local Pariticipant 3 loss = 0.008: 100%|██████████| 10/10 [00:05<00:00,  1.93it/s]\n",
            "Local Pariticipant 7 loss = 0.046: 100%|██████████| 10/10 [00:03<00:00,  2.63it/s]\n",
            "Local Pariticipant 5 loss = 0.010: 100%|██████████| 10/10 [00:04<00:00,  2.45it/s]\n"
          ]
        },
        {
          "name": "stdout",
          "output_type": "stream",
          "text": [
            "The 42 Communcation Accuracy: 54.23 Method: fedavg\n",
            "[59.38, 74.21, 50.0, 33.33]\n"
          ]
        },
        {
          "name": "stderr",
          "output_type": "stream",
          "text": [
            "Local Pariticipant 6 loss = 0.028: 100%|██████████| 10/10 [00:05<00:00,  1.94it/s]\n",
            "Local Pariticipant 8 loss = 0.002: 100%|██████████| 10/10 [00:02<00:00,  4.97it/s]\n",
            "Local Pariticipant 3 loss = 0.007: 100%|██████████| 10/10 [00:05<00:00,  1.92it/s]\n",
            "Local Pariticipant 2 loss = 0.073: 100%|██████████| 10/10 [00:03<00:00,  2.69it/s]\n",
            "Local Pariticipant 5 loss = 0.015: 100%|██████████| 10/10 [00:03<00:00,  2.51it/s]\n",
            "Local Pariticipant 9 loss = 0.003: 100%|██████████| 10/10 [00:04<00:00,  2.36it/s]\n",
            "Local Pariticipant 0 loss = 0.015: 100%|██████████| 10/10 [00:05<00:00,  1.97it/s]\n",
            "Local Pariticipant 1 loss = 0.023: 100%|██████████| 10/10 [00:04<00:00,  2.46it/s]\n",
            "Local Pariticipant 4 loss = 0.001: 100%|██████████| 10/10 [00:04<00:00,  2.50it/s]\n",
            "Local Pariticipant 7 loss = 0.024: 100%|██████████| 10/10 [00:03<00:00,  2.68it/s]\n"
          ]
        },
        {
          "name": "stdout",
          "output_type": "stream",
          "text": [
            "The 43 Communcation Accuracy: 54.078 Method: fedavg\n",
            "[59.82, 73.16, 50.0, 33.33]\n"
          ]
        },
        {
          "name": "stderr",
          "output_type": "stream",
          "text": [
            "Local Pariticipant 5 loss = 0.001: 100%|██████████| 10/10 [00:04<00:00,  2.45it/s]\n",
            "Local Pariticipant 0 loss = 0.003: 100%|██████████| 10/10 [00:05<00:00,  1.98it/s]\n",
            "Local Pariticipant 9 loss = 0.008: 100%|██████████| 10/10 [00:04<00:00,  2.49it/s]\n",
            "Local Pariticipant 8 loss = 0.006: 100%|██████████| 10/10 [00:02<00:00,  4.86it/s]\n",
            "Local Pariticipant 6 loss = 0.004: 100%|██████████| 10/10 [00:05<00:00,  1.95it/s]\n",
            "Local Pariticipant 4 loss = 0.002: 100%|██████████| 10/10 [00:04<00:00,  2.49it/s]\n",
            "Local Pariticipant 1 loss = 0.004: 100%|██████████| 10/10 [00:04<00:00,  2.45it/s]\n",
            "Local Pariticipant 2 loss = 0.032: 100%|██████████| 10/10 [00:03<00:00,  2.65it/s]\n",
            "Local Pariticipant 3 loss = 0.003: 100%|██████████| 10/10 [00:05<00:00,  1.94it/s]\n",
            "Local Pariticipant 7 loss = 0.008: 100%|██████████| 10/10 [00:03<00:00,  2.70it/s]\n"
          ]
        },
        {
          "name": "stdout",
          "output_type": "stream",
          "text": [
            "The 44 Communcation Accuracy: 52.93 Method: fedavg\n",
            "[61.61, 73.68, 43.1, 33.33]\n"
          ]
        },
        {
          "name": "stderr",
          "output_type": "stream",
          "text": [
            "Local Pariticipant 4 loss = 0.004: 100%|██████████| 10/10 [00:04<00:00,  2.46it/s]\n",
            "Local Pariticipant 2 loss = 0.757: 100%|██████████| 10/10 [00:03<00:00,  2.68it/s]\n",
            "Local Pariticipant 8 loss = 0.004: 100%|██████████| 10/10 [00:02<00:00,  4.98it/s]\n",
            "Local Pariticipant 1 loss = 0.007: 100%|██████████| 10/10 [00:04<00:00,  2.47it/s]\n",
            "Local Pariticipant 6 loss = 0.020: 100%|██████████| 10/10 [00:05<00:00,  1.93it/s]\n",
            "Local Pariticipant 3 loss = 0.007: 100%|██████████| 10/10 [00:05<00:00,  1.95it/s]\n",
            "Local Pariticipant 7 loss = 0.185: 100%|██████████| 10/10 [00:03<00:00,  2.69it/s]\n",
            "Local Pariticipant 0 loss = 0.002: 100%|██████████| 10/10 [00:05<00:00,  1.97it/s]\n",
            "Local Pariticipant 5 loss = 0.003: 100%|██████████| 10/10 [00:04<00:00,  2.47it/s]\n",
            "Local Pariticipant 9 loss = 0.006: 100%|██████████| 10/10 [00:04<00:00,  2.46it/s]\n"
          ]
        },
        {
          "name": "stdout",
          "output_type": "stream",
          "text": [
            "The 45 Communcation Accuracy: 50.09 Method: fedavg\n",
            "[58.48, 72.11, 43.1, 26.67]\n"
          ]
        },
        {
          "name": "stderr",
          "output_type": "stream",
          "text": [
            "Local Pariticipant 8 loss = 0.008: 100%|██████████| 10/10 [00:02<00:00,  4.78it/s]\n",
            "Local Pariticipant 5 loss = 0.019: 100%|██████████| 10/10 [00:04<00:00,  2.47it/s]\n",
            "Local Pariticipant 3 loss = 0.004: 100%|██████████| 10/10 [00:05<00:00,  1.92it/s]\n",
            "Local Pariticipant 9 loss = 0.005: 100%|██████████| 10/10 [00:04<00:00,  2.46it/s]\n",
            "Local Pariticipant 2 loss = 0.056: 100%|██████████| 10/10 [00:03<00:00,  2.68it/s]\n",
            "Local Pariticipant 0 loss = 0.102: 100%|██████████| 10/10 [00:05<00:00,  1.97it/s]\n",
            "Local Pariticipant 4 loss = 0.012: 100%|██████████| 10/10 [00:04<00:00,  2.39it/s]\n",
            "Local Pariticipant 1 loss = 0.002: 100%|██████████| 10/10 [00:04<00:00,  2.46it/s]\n",
            "Local Pariticipant 6 loss = 0.027: 100%|██████████| 10/10 [00:05<00:00,  1.95it/s]\n",
            "Local Pariticipant 7 loss = 0.182: 100%|██████████| 10/10 [00:03<00:00,  2.69it/s]\n"
          ]
        },
        {
          "name": "stdout",
          "output_type": "stream",
          "text": [
            "The 46 Communcation Accuracy: 52.585 Method: fedavg\n",
            "[61.16, 72.63, 46.55, 30.0]\n"
          ]
        },
        {
          "name": "stderr",
          "output_type": "stream",
          "text": [
            "Local Pariticipant 2 loss = 0.066: 100%|██████████| 10/10 [00:03<00:00,  2.69it/s]\n",
            "Local Pariticipant 8 loss = 0.010: 100%|██████████| 10/10 [00:02<00:00,  5.00it/s]\n",
            "Local Pariticipant 6 loss = 0.001: 100%|██████████| 10/10 [00:05<00:00,  1.95it/s]\n",
            "Local Pariticipant 4 loss = 0.001: 100%|██████████| 10/10 [00:04<00:00,  2.45it/s]\n",
            "Local Pariticipant 3 loss = 0.005: 100%|██████████| 10/10 [00:05<00:00,  1.93it/s]\n",
            "Local Pariticipant 5 loss = 0.004: 100%|██████████| 10/10 [00:04<00:00,  2.47it/s]\n",
            "Local Pariticipant 7 loss = 0.168: 100%|██████████| 10/10 [00:03<00:00,  2.68it/s]\n",
            "Local Pariticipant 0 loss = 0.004: 100%|██████████| 10/10 [00:05<00:00,  1.99it/s]\n",
            "Local Pariticipant 1 loss = 0.008: 100%|██████████| 10/10 [00:04<00:00,  2.39it/s]\n",
            "Local Pariticipant 9 loss = 0.012: 100%|██████████| 10/10 [00:04<00:00,  2.47it/s]\n"
          ]
        },
        {
          "name": "stdout",
          "output_type": "stream",
          "text": [
            "The 47 Communcation Accuracy: 51.258 Method: fedavg\n",
            "[57.14, 77.89, 50.0, 20.0]\n"
          ]
        },
        {
          "name": "stderr",
          "output_type": "stream",
          "text": [
            "Local Pariticipant 8 loss = 0.003: 100%|██████████| 10/10 [00:02<00:00,  4.93it/s]\n",
            "Local Pariticipant 2 loss = 0.009: 100%|██████████| 10/10 [00:03<00:00,  2.65it/s]\n",
            "Local Pariticipant 1 loss = 0.015: 100%|██████████| 10/10 [00:04<00:00,  2.43it/s]\n",
            "Local Pariticipant 6 loss = 0.004: 100%|██████████| 10/10 [00:05<00:00,  1.85it/s]\n",
            "Local Pariticipant 5 loss = 0.005: 100%|██████████| 10/10 [00:04<00:00,  2.46it/s]\n",
            "Local Pariticipant 7 loss = 0.007: 100%|██████████| 10/10 [00:03<00:00,  2.67it/s]\n",
            "Local Pariticipant 0 loss = 0.191: 100%|██████████| 10/10 [00:05<00:00,  1.98it/s]\n",
            "Local Pariticipant 4 loss = 0.002: 100%|██████████| 10/10 [00:04<00:00,  2.49it/s]\n",
            "Local Pariticipant 3 loss = 0.151: 100%|██████████| 10/10 [00:05<00:00,  1.95it/s]\n",
            "Local Pariticipant 9 loss = 0.004: 100%|██████████| 10/10 [00:04<00:00,  2.46it/s]\n"
          ]
        },
        {
          "name": "stdout",
          "output_type": "stream",
          "text": [
            "The 48 Communcation Accuracy: 51.438 Method: fedavg\n",
            "[58.93, 72.11, 41.38, 33.33]\n"
          ]
        },
        {
          "name": "stderr",
          "output_type": "stream",
          "text": [
            "Local Pariticipant 5 loss = 0.003: 100%|██████████| 10/10 [00:04<00:00,  2.46it/s]\n",
            "Local Pariticipant 3 loss = 0.019: 100%|██████████| 10/10 [00:05<00:00,  1.96it/s]\n",
            "Local Pariticipant 6 loss = 0.026: 100%|██████████| 10/10 [00:05<00:00,  1.97it/s]\n",
            "Local Pariticipant 7 loss = 0.031: 100%|██████████| 10/10 [00:03<00:00,  2.67it/s]\n",
            "Local Pariticipant 2 loss = 0.181: 100%|██████████| 10/10 [00:03<00:00,  2.67it/s]\n",
            "Local Pariticipant 8 loss = 0.004: 100%|██████████| 10/10 [00:01<00:00,  5.01it/s]\n",
            "Local Pariticipant 9 loss = 0.013: 100%|██████████| 10/10 [00:04<00:00,  2.45it/s]\n",
            "Local Pariticipant 4 loss = 0.004: 100%|██████████| 10/10 [00:04<00:00,  2.50it/s]\n",
            "Local Pariticipant 0 loss = 0.021: 100%|██████████| 10/10 [00:05<00:00,  1.97it/s]\n",
            "Local Pariticipant 1 loss = 0.003: 100%|██████████| 10/10 [00:04<00:00,  2.47it/s]\n"
          ]
        },
        {
          "name": "stdout",
          "output_type": "stream",
          "text": [
            "The 49 Communcation Accuracy: 51.812 Method: fedavg\n",
            "[58.04, 71.05, 44.83, 33.33]\n"
          ]
        }
      ],
      "source": [
        "%run \"main.py\" --model fedavg --dataset fl_officecaltech"
      ]
    },
    {
      "cell_type": "code",
      "execution_count": null,
      "metadata": {
        "id": "rmR2kF6kAedG",
        "outputId": "9cb11d65-97f5-4f83-bd01-0feb2c231302"
      },
      "outputs": [
        {
          "name": "stdout",
          "output_type": "stream",
          "text": [
            "fpl_10_fl_officecaltech_50_10\n",
            "./data/fl_officecaltech/fpl\\para1\n",
            "{'caltech': 3, 'dslr': 4, 'amazon': 2, 'webcam': 1}\n",
            "['caltech', 'dslr', 'amazon', 'caltech', 'dslr', 'dslr', 'caltech', 'amazon', 'webcam', 'dslr']\n"
          ]
        },
        {
          "name": "stderr",
          "output_type": "stream",
          "text": [
            "Local Pariticipant 3 CE = 1.370,InfoNCE = 0.000: 100%|██████████| 10/10 [00:05<00:00,  1.94it/s]\n",
            "Local Pariticipant 0 CE = 1.280,InfoNCE = 0.000: 100%|██████████| 10/10 [00:05<00:00,  1.96it/s]\n",
            "Local Pariticipant 7 CE = 1.125,InfoNCE = 0.000: 100%|██████████| 10/10 [00:03<00:00,  2.67it/s]\n",
            "Local Pariticipant 6 CE = 1.300,InfoNCE = 0.000: 100%|██████████| 10/10 [00:05<00:00,  1.97it/s]\n",
            "Local Pariticipant 8 CE = 1.212,InfoNCE = 0.000: 100%|██████████| 10/10 [00:01<00:00,  5.09it/s]\n",
            "Local Pariticipant 4 CE = 0.818,InfoNCE = 0.000: 100%|██████████| 10/10 [00:04<00:00,  2.44it/s]\n",
            "Local Pariticipant 2 CE = 1.057,InfoNCE = 0.000: 100%|██████████| 10/10 [00:03<00:00,  2.68it/s]\n",
            "Local Pariticipant 1 CE = 1.084,InfoNCE = 0.000: 100%|██████████| 10/10 [00:04<00:00,  2.50it/s]\n",
            "Local Pariticipant 5 CE = 1.098,InfoNCE = 0.000: 100%|██████████| 10/10 [00:04<00:00,  2.32it/s]\n",
            "Local Pariticipant 9 CE = 0.979,InfoNCE = 0.000: 100%|██████████| 10/10 [00:04<00:00,  2.36it/s]\n"
          ]
        },
        {
          "name": "stdout",
          "output_type": "stream",
          "text": [
            "Partition 0: 3 clusters\n",
            "Partition 0: 2 clusters\n",
            "Partition 0: 3 clusters\n",
            "Partition 0: 3 clusters\n",
            "Partition 0: 3 clusters\n",
            "Partition 0: 3 clusters\n",
            "Partition 0: 3 clusters\n",
            "Partition 0: 2 clusters\n",
            "Partition 0: 1 clusters\n",
            "Partition 0: 2 clusters\n",
            "The 0 Communcation Accuracy: 18.32 Method: fpl\n",
            "[13.84, 17.37, 12.07, 30.0]\n"
          ]
        },
        {
          "name": "stderr",
          "output_type": "stream",
          "text": [
            "Local Pariticipant 7 CE = 0.834,InfoNCE = 0.926: 100%|██████████| 10/10 [00:07<00:00,  1.26it/s]\n",
            "Local Pariticipant 5 CE = 0.261,InfoNCE = 0.327: 100%|██████████| 10/10 [00:04<00:00,  2.16it/s]\n",
            "Local Pariticipant 3 CE = 1.075,InfoNCE = 1.226: 100%|██████████| 10/10 [00:09<00:00,  1.04it/s]\n",
            "Local Pariticipant 4 CE = 0.272,InfoNCE = 0.348: 100%|██████████| 10/10 [00:04<00:00,  2.16it/s]\n",
            "Local Pariticipant 8 CE = 0.401,InfoNCE = 0.385: 100%|██████████| 10/10 [00:03<00:00,  3.20it/s]\n",
            "Local Pariticipant 2 CE = 0.855,InfoNCE = 1.078: 100%|██████████| 10/10 [00:07<00:00,  1.34it/s]\n",
            "Local Pariticipant 1 CE = 0.281,InfoNCE = 0.323: 100%|██████████| 10/10 [00:04<00:00,  2.14it/s]\n",
            "Local Pariticipant 0 CE = 1.354,InfoNCE = 1.446: 100%|██████████| 10/10 [00:09<00:00,  1.06it/s]\n",
            "Local Pariticipant 6 CE = 0.864,InfoNCE = 0.932: 100%|██████████| 10/10 [00:09<00:00,  1.06it/s]\n",
            "Local Pariticipant 9 CE = 0.281,InfoNCE = 0.348: 100%|██████████| 10/10 [00:04<00:00,  2.16it/s]\n"
          ]
        },
        {
          "name": "stdout",
          "output_type": "stream",
          "text": [
            "Partition 0: 1 clusters\n",
            "Partition 0: 2 clusters\n",
            "Partition 0: 2 clusters\n",
            "Partition 0: 4 clusters\n",
            "Partition 0: 2 clusters\n",
            "Partition 0: 3 clusters\n",
            "Partition 0: 3 clusters\n",
            "Partition 0: 2 clusters\n",
            "Partition 0: 2 clusters\n",
            "Partition 0: 2 clusters\n",
            "The 1 Communcation Accuracy: 18.882 Method: fpl\n",
            "[21.88, 31.58, 12.07, 10.0]\n"
          ]
        },
        {
          "name": "stderr",
          "output_type": "stream",
          "text": [
            "Local Pariticipant 3 CE = 1.027,InfoNCE = 1.172: 100%|██████████| 10/10 [00:09<00:00,  1.07it/s]\n",
            "Local Pariticipant 1 CE = 0.202,InfoNCE = 0.161: 100%|██████████| 10/10 [00:04<00:00,  2.15it/s]\n",
            "Local Pariticipant 9 CE = 0.167,InfoNCE = 0.174: 100%|██████████| 10/10 [00:04<00:00,  2.13it/s]\n",
            "Local Pariticipant 8 CE = 0.334,InfoNCE = 0.277: 100%|██████████| 10/10 [00:03<00:00,  3.07it/s]\n",
            "Local Pariticipant 5 CE = 0.200,InfoNCE = 0.183: 100%|██████████| 10/10 [00:04<00:00,  2.05it/s]\n",
            "Local Pariticipant 2 CE = 0.809,InfoNCE = 0.927: 100%|██████████| 10/10 [00:07<00:00,  1.34it/s]\n",
            "Local Pariticipant 0 CE = 0.791,InfoNCE = 0.770: 100%|██████████| 10/10 [00:09<00:00,  1.08it/s]\n",
            "Local Pariticipant 6 CE = 0.905,InfoNCE = 0.912: 100%|██████████| 10/10 [00:09<00:00,  1.05it/s]\n",
            "Local Pariticipant 4 CE = 0.128,InfoNCE = 0.139: 100%|██████████| 10/10 [00:04<00:00,  2.15it/s]\n",
            "Local Pariticipant 7 CE = 0.861,InfoNCE = 1.035: 100%|██████████| 10/10 [00:07<00:00,  1.35it/s]\n"
          ]
        },
        {
          "name": "stdout",
          "output_type": "stream",
          "text": [
            "Partition 0: 2 clusters\n",
            "Partition 0: 2 clusters\n",
            "Partition 0: 2 clusters\n",
            "Partition 0: 3 clusters\n",
            "Partition 0: 2 clusters\n",
            "Partition 0: 3 clusters\n",
            "Partition 0: 3 clusters\n",
            "Partition 0: 2 clusters\n",
            "Partition 0: 3 clusters\n",
            "Partition 0: 3 clusters\n",
            "The 2 Communcation Accuracy: 38.315 Method: fpl\n",
            "[41.96, 52.11, 25.86, 33.33]\n"
          ]
        },
        {
          "name": "stderr",
          "output_type": "stream",
          "text": [
            "Local Pariticipant 0 CE = 0.783,InfoNCE = 0.820: 100%|██████████| 10/10 [00:09<00:00,  1.07it/s]\n",
            "Local Pariticipant 5 CE = 0.172,InfoNCE = 0.154: 100%|██████████| 10/10 [00:04<00:00,  2.15it/s]\n",
            "Local Pariticipant 2 CE = 0.490,InfoNCE = 0.694: 100%|██████████| 10/10 [00:07<00:00,  1.34it/s]\n",
            "Local Pariticipant 9 CE = 0.164,InfoNCE = 0.155: 100%|██████████| 10/10 [00:04<00:00,  2.13it/s]\n",
            "Local Pariticipant 8 CE = 0.229,InfoNCE = 0.202: 100%|██████████| 10/10 [00:03<00:00,  3.09it/s]\n",
            "Local Pariticipant 1 CE = 0.215,InfoNCE = 0.162: 100%|██████████| 10/10 [00:04<00:00,  2.13it/s]\n",
            "Local Pariticipant 6 CE = 0.579,InfoNCE = 0.641: 100%|██████████| 10/10 [00:09<00:00,  1.03it/s]\n",
            "Local Pariticipant 4 CE = 0.133,InfoNCE = 0.185: 100%|██████████| 10/10 [00:04<00:00,  2.14it/s]\n",
            "Local Pariticipant 3 CE = 0.738,InfoNCE = 0.842: 100%|██████████| 10/10 [00:09<00:00,  1.08it/s]\n",
            "Local Pariticipant 7 CE = 0.581,InfoNCE = 0.637: 100%|██████████| 10/10 [00:07<00:00,  1.34it/s]\n"
          ]
        },
        {
          "name": "stdout",
          "output_type": "stream",
          "text": [
            "Partition 0: 2 clusters\n",
            "Partition 0: 2 clusters\n",
            "Partition 0: 3 clusters\n",
            "Partition 0: 3 clusters\n",
            "Partition 0: 2 clusters\n",
            "Partition 0: 2 clusters\n",
            "Partition 0: 2 clusters\n",
            "Partition 0: 2 clusters\n",
            "Partition 0: 1 clusters\n",
            "Partition 0: 2 clusters\n",
            "The 3 Communcation Accuracy: 43.345 Method: fpl\n",
            "[43.75, 61.58, 41.38, 26.67]\n"
          ]
        },
        {
          "name": "stderr",
          "output_type": "stream",
          "text": [
            "Local Pariticipant 3 CE = 0.436,InfoNCE = 0.464: 100%|██████████| 10/10 [00:10<00:00,  1.00s/it]\n",
            "Local Pariticipant 9 CE = 0.087,InfoNCE = 0.113: 100%|██████████| 10/10 [00:04<00:00,  2.08it/s]\n",
            "Local Pariticipant 6 CE = 0.664,InfoNCE = 0.802: 100%|██████████| 10/10 [00:09<00:00,  1.04it/s]\n",
            "Local Pariticipant 0 CE = 0.606,InfoNCE = 0.709: 100%|██████████| 10/10 [00:09<00:00,  1.05it/s]\n",
            "Local Pariticipant 4 CE = 0.091,InfoNCE = 0.165: 100%|██████████| 10/10 [00:04<00:00,  2.11it/s]\n",
            "Local Pariticipant 7 CE = 0.499,InfoNCE = 0.500: 100%|██████████| 10/10 [00:07<00:00,  1.31it/s]\n",
            "Local Pariticipant 8 CE = 0.137,InfoNCE = 0.145: 100%|██████████| 10/10 [00:03<00:00,  3.16it/s]\n",
            "Local Pariticipant 1 CE = 0.137,InfoNCE = 0.120: 100%|██████████| 10/10 [00:04<00:00,  2.12it/s]\n",
            "Local Pariticipant 5 CE = 0.121,InfoNCE = 0.141: 100%|██████████| 10/10 [00:04<00:00,  2.12it/s]\n",
            "Local Pariticipant 2 CE = 0.361,InfoNCE = 0.462: 100%|██████████| 10/10 [00:07<00:00,  1.34it/s]\n"
          ]
        },
        {
          "name": "stdout",
          "output_type": "stream",
          "text": [
            "Partition 0: 2 clusters\n",
            "Partition 0: 3 clusters\n",
            "Partition 0: 2 clusters\n",
            "Partition 0: 2 clusters\n",
            "Partition 0: 1 clusters\n",
            "Partition 0: 2 clusters\n",
            "Partition 0: 2 clusters\n",
            "Partition 0: 3 clusters\n",
            "Partition 0: 2 clusters\n",
            "Partition 0: 3 clusters\n",
            "The 4 Communcation Accuracy: 36.585 Method: fpl\n",
            "[45.98, 51.05, 29.31, 20.0]\n"
          ]
        },
        {
          "name": "stderr",
          "output_type": "stream",
          "text": [
            "Local Pariticipant 8 CE = 0.114,InfoNCE = 0.142: 100%|██████████| 10/10 [00:03<00:00,  3.23it/s]\n",
            "Local Pariticipant 9 CE = 0.090,InfoNCE = 0.126: 100%|██████████| 10/10 [00:04<00:00,  2.16it/s]\n",
            "Local Pariticipant 3 CE = 0.694,InfoNCE = 0.812: 100%|██████████| 10/10 [00:09<00:00,  1.06it/s]\n",
            "Local Pariticipant 7 CE = 0.191,InfoNCE = 0.250: 100%|██████████| 10/10 [00:07<00:00,  1.35it/s]\n",
            "Local Pariticipant 4 CE = 0.079,InfoNCE = 0.209: 100%|██████████| 10/10 [00:04<00:00,  2.15it/s]\n",
            "Local Pariticipant 5 CE = 0.056,InfoNCE = 0.134: 100%|██████████| 10/10 [00:04<00:00,  2.15it/s]\n",
            "Local Pariticipant 1 CE = 0.089,InfoNCE = 0.127: 100%|██████████| 10/10 [00:04<00:00,  2.14it/s]\n",
            "Local Pariticipant 0 CE = 0.463,InfoNCE = 0.582: 100%|██████████| 10/10 [00:09<00:00,  1.07it/s]\n",
            "Local Pariticipant 2 CE = 0.565,InfoNCE = 0.607: 100%|██████████| 10/10 [00:07<00:00,  1.35it/s]\n",
            "Local Pariticipant 6 CE = 0.528,InfoNCE = 0.559: 100%|██████████| 10/10 [00:09<00:00,  1.05it/s]\n"
          ]
        },
        {
          "name": "stdout",
          "output_type": "stream",
          "text": [
            "Partition 0: 2 clusters\n",
            "Partition 0: 2 clusters\n",
            "Partition 0: 3 clusters\n",
            "Partition 0: 1 clusters\n",
            "Partition 0: 3 clusters\n",
            "Partition 0: 3 clusters\n",
            "Partition 0: 2 clusters\n",
            "Partition 0: 1 clusters\n",
            "Partition 0: 2 clusters\n",
            "Partition 0: 2 clusters\n",
            "The 5 Communcation Accuracy: 43.802 Method: fpl\n",
            "[46.43, 55.79, 39.66, 33.33]\n"
          ]
        },
        {
          "name": "stderr",
          "output_type": "stream",
          "text": [
            "Local Pariticipant 4 CE = 0.071,InfoNCE = 0.156: 100%|██████████| 10/10 [00:04<00:00,  2.18it/s]\n",
            "Local Pariticipant 1 CE = 0.090,InfoNCE = 0.115: 100%|██████████| 10/10 [00:04<00:00,  2.14it/s]\n",
            "Local Pariticipant 8 CE = 0.094,InfoNCE = 0.131: 100%|██████████| 10/10 [00:03<00:00,  3.23it/s]\n",
            "Local Pariticipant 3 CE = 0.528,InfoNCE = 0.527: 100%|██████████| 10/10 [00:09<00:00,  1.06it/s]\n",
            "Local Pariticipant 2 CE = 0.173,InfoNCE = 0.237: 100%|██████████| 10/10 [00:07<00:00,  1.35it/s]\n",
            "Local Pariticipant 0 CE = 0.390,InfoNCE = 0.471: 100%|██████████| 10/10 [00:09<00:00,  1.02it/s]\n",
            "Local Pariticipant 5 CE = 0.037,InfoNCE = 0.118: 100%|██████████| 10/10 [00:04<00:00,  2.04it/s]\n",
            "Local Pariticipant 6 CE = 0.328,InfoNCE = 0.380: 100%|██████████| 10/10 [00:09<00:00,  1.03it/s]\n",
            "Local Pariticipant 9 CE = 0.070,InfoNCE = 0.115: 100%|██████████| 10/10 [00:04<00:00,  2.03it/s]\n",
            "Local Pariticipant 7 CE = 0.370,InfoNCE = 0.444: 100%|██████████| 10/10 [00:07<00:00,  1.32it/s]\n"
          ]
        },
        {
          "name": "stdout",
          "output_type": "stream",
          "text": [
            "Partition 0: 2 clusters\n",
            "Partition 0: 2 clusters\n",
            "Partition 0: 1 clusters\n",
            "Partition 0: 2 clusters\n",
            "Partition 0: 2 clusters\n",
            "Partition 0: 1 clusters\n",
            "Partition 0: 2 clusters\n",
            "Partition 0: 2 clusters\n",
            "Partition 0: 3 clusters\n",
            "Partition 0: 3 clusters\n",
            "The 6 Communcation Accuracy: 47.922 Method: fpl\n",
            "[54.02, 71.58, 32.76, 33.33]\n"
          ]
        },
        {
          "name": "stderr",
          "output_type": "stream",
          "text": [
            "Local Pariticipant 3 CE = 0.664,InfoNCE = 0.653: 100%|██████████| 10/10 [00:09<00:00,  1.05it/s]\n",
            "Local Pariticipant 2 CE = 0.138,InfoNCE = 0.192: 100%|██████████| 10/10 [00:07<00:00,  1.33it/s]\n",
            "Local Pariticipant 0 CE = 0.347,InfoNCE = 0.482: 100%|██████████| 10/10 [00:10<00:00,  1.07s/it]\n",
            "Local Pariticipant 5 CE = 0.032,InfoNCE = 0.098: 100%|██████████| 10/10 [00:05<00:00,  1.94it/s]\n",
            "Local Pariticipant 7 CE = 0.148,InfoNCE = 0.213: 100%|██████████| 10/10 [00:07<00:00,  1.30it/s]\n",
            "Local Pariticipant 1 CE = 0.058,InfoNCE = 0.104: 100%|██████████| 10/10 [00:04<00:00,  2.10it/s]\n",
            "Local Pariticipant 6 CE = 0.314,InfoNCE = 0.360: 100%|██████████| 10/10 [00:09<00:00,  1.06it/s]\n",
            "Local Pariticipant 8 CE = 0.082,InfoNCE = 0.126: 100%|██████████| 10/10 [00:03<00:00,  3.18it/s]\n",
            "Local Pariticipant 4 CE = 0.080,InfoNCE = 0.154: 100%|██████████| 10/10 [00:04<00:00,  2.14it/s]\n",
            "Local Pariticipant 9 CE = 0.055,InfoNCE = 0.110: 100%|██████████| 10/10 [00:04<00:00,  2.17it/s]\n"
          ]
        },
        {
          "name": "stdout",
          "output_type": "stream",
          "text": [
            "Partition 0: 1 clusters\n",
            "Partition 0: 3 clusters\n",
            "Partition 0: 3 clusters\n",
            "Partition 0: 4 clusters\n",
            "Partition 0: 3 clusters\n",
            "Partition 0: 2 clusters\n",
            "Partition 0: 2 clusters\n",
            "Partition 0: 2 clusters\n",
            "Partition 0: 2 clusters\n",
            "Partition 0: 1 clusters\n",
            "The 7 Communcation Accuracy: 46.775 Method: fpl\n",
            "[49.55, 67.89, 39.66, 30.0]\n"
          ]
        },
        {
          "name": "stderr",
          "output_type": "stream",
          "text": [
            "Local Pariticipant 9 CE = 0.077,InfoNCE = 0.127: 100%|██████████| 10/10 [00:04<00:00,  2.13it/s]\n",
            "Local Pariticipant 0 CE = 0.118,InfoNCE = 0.175: 100%|██████████| 10/10 [00:09<00:00,  1.06it/s]\n",
            "Local Pariticipant 3 CE = 0.423,InfoNCE = 0.476: 100%|██████████| 10/10 [00:09<00:00,  1.04it/s]\n",
            "Local Pariticipant 6 CE = 0.235,InfoNCE = 0.277: 100%|██████████| 10/10 [00:09<00:00,  1.05it/s]\n",
            "Local Pariticipant 1 CE = 0.085,InfoNCE = 0.124: 100%|██████████| 10/10 [00:04<00:00,  2.12it/s]\n",
            "Local Pariticipant 7 CE = 0.439,InfoNCE = 0.517: 100%|██████████| 10/10 [00:07<00:00,  1.36it/s]\n",
            "Local Pariticipant 2 CE = 0.468,InfoNCE = 0.573: 100%|██████████| 10/10 [00:07<00:00,  1.35it/s]\n",
            "Local Pariticipant 8 CE = 0.108,InfoNCE = 0.150: 100%|██████████| 10/10 [00:03<00:00,  3.13it/s]\n",
            "Local Pariticipant 5 CE = 0.025,InfoNCE = 0.098: 100%|██████████| 10/10 [00:04<00:00,  2.13it/s]\n",
            "Local Pariticipant 4 CE = 0.036,InfoNCE = 0.098: 100%|██████████| 10/10 [00:04<00:00,  2.07it/s]\n"
          ]
        },
        {
          "name": "stdout",
          "output_type": "stream",
          "text": [
            "Partition 0: 1 clusters\n",
            "Partition 0: 2 clusters\n",
            "Partition 0: 1 clusters\n",
            "Partition 0: 3 clusters\n",
            "Partition 0: 2 clusters\n",
            "Partition 0: 2 clusters\n",
            "Partition 0: 2 clusters\n",
            "Partition 0: 3 clusters\n",
            "Partition 0: 1 clusters\n",
            "Partition 0: 2 clusters\n",
            "The 8 Communcation Accuracy: 47.082 Method: fpl\n",
            "[56.25, 71.05, 31.03, 30.0]\n"
          ]
        },
        {
          "name": "stderr",
          "output_type": "stream",
          "text": [
            "Local Pariticipant 0 CE = 0.330,InfoNCE = 0.411: 100%|██████████| 10/10 [00:09<00:00,  1.06it/s]\n",
            "Local Pariticipant 4 CE = 0.080,InfoNCE = 0.112: 100%|██████████| 10/10 [00:04<00:00,  2.16it/s]\n",
            "Local Pariticipant 7 CE = 0.102,InfoNCE = 0.169: 100%|██████████| 10/10 [00:07<00:00,  1.34it/s]\n",
            "Local Pariticipant 8 CE = 0.056,InfoNCE = 0.100: 100%|██████████| 10/10 [00:03<00:00,  3.19it/s]\n",
            "Local Pariticipant 1 CE = 0.064,InfoNCE = 0.187: 100%|██████████| 10/10 [00:04<00:00,  2.15it/s]\n",
            "Local Pariticipant 5 CE = 0.028,InfoNCE = 0.100: 100%|██████████| 10/10 [00:04<00:00,  2.01it/s]\n",
            "Local Pariticipant 2 CE = 0.238,InfoNCE = 0.283: 100%|██████████| 10/10 [00:07<00:00,  1.28it/s]\n",
            "Local Pariticipant 6 CE = 0.178,InfoNCE = 0.236: 100%|██████████| 10/10 [00:09<00:00,  1.05it/s]\n",
            "Local Pariticipant 9 CE = 0.035,InfoNCE = 0.106: 100%|██████████| 10/10 [00:04<00:00,  2.16it/s]\n",
            "Local Pariticipant 3 CE = 0.264,InfoNCE = 0.380: 100%|██████████| 10/10 [00:09<00:00,  1.06it/s]\n"
          ]
        },
        {
          "name": "stdout",
          "output_type": "stream",
          "text": [
            "Partition 0: 1 clusters\n",
            "Partition 0: 1 clusters\n",
            "Partition 0: 2 clusters\n",
            "Partition 0: 1 clusters\n",
            "Partition 0: 1 clusters\n",
            "Partition 0: 3 clusters\n",
            "Partition 0: 3 clusters\n",
            "Partition 0: 3 clusters\n",
            "Partition 0: 1 clusters\n",
            "Partition 0: 3 clusters\n",
            "The 9 Communcation Accuracy: 52.888 Method: fpl\n",
            "[56.7, 68.42, 43.1, 43.33]\n"
          ]
        },
        {
          "name": "stderr",
          "output_type": "stream",
          "text": [
            "Local Pariticipant 9 CE = 0.091,InfoNCE = 0.116: 100%|██████████| 10/10 [00:04<00:00,  2.15it/s]\n",
            "Local Pariticipant 2 CE = 0.188,InfoNCE = 0.253: 100%|██████████| 10/10 [00:07<00:00,  1.35it/s]\n",
            "Local Pariticipant 5 CE = 0.029,InfoNCE = 0.110: 100%|██████████| 10/10 [00:04<00:00,  2.10it/s]\n",
            "Local Pariticipant 6 CE = 0.211,InfoNCE = 0.239: 100%|██████████| 10/10 [00:09<00:00,  1.05it/s]\n",
            "Local Pariticipant 8 CE = 0.058,InfoNCE = 0.093: 100%|██████████| 10/10 [00:03<00:00,  3.15it/s]\n",
            "Local Pariticipant 4 CE = 0.032,InfoNCE = 0.102: 100%|██████████| 10/10 [00:04<00:00,  2.16it/s]\n",
            "Local Pariticipant 7 CE = 0.158,InfoNCE = 0.168: 100%|██████████| 10/10 [00:07<00:00,  1.35it/s]\n",
            "Local Pariticipant 3 CE = 0.307,InfoNCE = 0.401: 100%|██████████| 10/10 [00:09<00:00,  1.06it/s]\n",
            "Local Pariticipant 1 CE = 0.062,InfoNCE = 0.133: 100%|██████████| 10/10 [00:04<00:00,  2.09it/s]\n",
            "Local Pariticipant 0 CE = 0.137,InfoNCE = 0.228: 100%|██████████| 10/10 [00:09<00:00,  1.05it/s]\n"
          ]
        },
        {
          "name": "stdout",
          "output_type": "stream",
          "text": [
            "Partition 0: 2 clusters\n",
            "Partition 0: 2 clusters\n",
            "Partition 0: 1 clusters\n",
            "Partition 0: 2 clusters\n",
            "Partition 0: 1 clusters\n",
            "Partition 0: 2 clusters\n",
            "Partition 0: 3 clusters\n",
            "Partition 0: 2 clusters\n",
            "Partition 0: 1 clusters\n",
            "Partition 0: 2 clusters\n",
            "The 10 Communcation Accuracy: 52.835 Method: fpl\n",
            "[57.59, 74.21, 36.21, 43.33]\n"
          ]
        },
        {
          "name": "stderr",
          "output_type": "stream",
          "text": [
            "Local Pariticipant 3 CE = 0.229,InfoNCE = 0.290: 100%|██████████| 10/10 [00:10<00:00,  1.00s/it]\n",
            "Local Pariticipant 9 CE = 0.041,InfoNCE = 0.091: 100%|██████████| 10/10 [00:04<00:00,  2.14it/s]\n",
            "Local Pariticipant 7 CE = 0.254,InfoNCE = 0.281: 100%|██████████| 10/10 [00:07<00:00,  1.34it/s]\n",
            "Local Pariticipant 4 CE = 0.062,InfoNCE = 0.112: 100%|██████████| 10/10 [00:04<00:00,  2.14it/s]\n",
            "Local Pariticipant 0 CE = 0.159,InfoNCE = 0.247: 100%|██████████| 10/10 [00:09<00:00,  1.06it/s]\n",
            "Local Pariticipant 8 CE = 0.083,InfoNCE = 0.108: 100%|██████████| 10/10 [00:03<00:00,  3.18it/s]\n",
            "Local Pariticipant 5 CE = 0.027,InfoNCE = 0.129: 100%|██████████| 10/10 [00:04<00:00,  2.14it/s]\n",
            "Local Pariticipant 1 CE = 0.037,InfoNCE = 0.118: 100%|██████████| 10/10 [00:04<00:00,  2.14it/s]\n",
            "Local Pariticipant 2 CE = 0.227,InfoNCE = 0.251: 100%|██████████| 10/10 [00:07<00:00,  1.36it/s]\n",
            "Local Pariticipant 6 CE = 0.441,InfoNCE = 0.560: 100%|██████████| 10/10 [00:09<00:00,  1.05it/s]\n"
          ]
        },
        {
          "name": "stdout",
          "output_type": "stream",
          "text": [
            "Partition 0: 3 clusters\n",
            "Partition 0: 2 clusters\n",
            "Partition 0: 2 clusters\n",
            "Partition 0: 2 clusters\n",
            "Partition 0: 2 clusters\n",
            "Partition 0: 1 clusters\n",
            "Partition 0: 2 clusters\n",
            "Partition 0: 2 clusters\n",
            "Partition 0: 2 clusters\n",
            "Partition 0: 2 clusters\n",
            "The 11 Communcation Accuracy: 47.857 Method: fpl\n",
            "[54.46, 74.21, 32.76, 30.0]\n"
          ]
        },
        {
          "name": "stderr",
          "output_type": "stream",
          "text": [
            "Local Pariticipant 0 CE = 0.248,InfoNCE = 0.347: 100%|██████████| 10/10 [00:09<00:00,  1.06it/s]\n",
            "Local Pariticipant 9 CE = 0.055,InfoNCE = 0.114: 100%|██████████| 10/10 [00:04<00:00,  2.16it/s]\n",
            "Local Pariticipant 3 CE = 0.088,InfoNCE = 0.153: 100%|██████████| 10/10 [00:09<00:00,  1.07it/s]\n",
            "Local Pariticipant 6 CE = 0.197,InfoNCE = 0.257: 100%|██████████| 10/10 [00:09<00:00,  1.05it/s]\n",
            "Local Pariticipant 5 CE = 0.028,InfoNCE = 0.122: 100%|██████████| 10/10 [00:04<00:00,  2.14it/s]\n",
            "Local Pariticipant 4 CE = 0.015,InfoNCE = 0.093: 100%|██████████| 10/10 [00:04<00:00,  2.14it/s]\n",
            "Local Pariticipant 2 CE = 0.087,InfoNCE = 0.149: 100%|██████████| 10/10 [00:07<00:00,  1.36it/s]\n",
            "Local Pariticipant 1 CE = 0.039,InfoNCE = 0.106: 100%|██████████| 10/10 [00:04<00:00,  2.16it/s]\n",
            "Local Pariticipant 7 CE = 0.222,InfoNCE = 0.336: 100%|██████████| 10/10 [00:07<00:00,  1.34it/s]\n",
            "Local Pariticipant 8 CE = 0.083,InfoNCE = 0.120: 100%|██████████| 10/10 [00:03<00:00,  3.19it/s]\n"
          ]
        },
        {
          "name": "stdout",
          "output_type": "stream",
          "text": [
            "Partition 0: 3 clusters\n",
            "Partition 0: 1 clusters\n",
            "Partition 0: 2 clusters\n",
            "Partition 0: 2 clusters\n",
            "Partition 0: 2 clusters\n",
            "Partition 0: 2 clusters\n",
            "Partition 0: 2 clusters\n",
            "Partition 0: 1 clusters\n",
            "Partition 0: 1 clusters\n",
            "Partition 0: 3 clusters\n",
            "The 12 Communcation Accuracy: 49.395 Method: fpl\n",
            "[58.04, 70.0, 36.21, 33.33]\n"
          ]
        },
        {
          "name": "stderr",
          "output_type": "stream",
          "text": [
            "Local Pariticipant 8 CE = 0.043,InfoNCE = 0.089: 100%|██████████| 10/10 [00:03<00:00,  2.83it/s]\n",
            "Local Pariticipant 6 CE = 0.150,InfoNCE = 0.241: 100%|██████████| 10/10 [00:10<00:00,  1.01s/it]\n",
            "Local Pariticipant 0 CE = 0.198,InfoNCE = 0.242: 100%|██████████| 10/10 [00:09<00:00,  1.04it/s]\n",
            "Local Pariticipant 4 CE = 0.014,InfoNCE = 0.102: 100%|██████████| 10/10 [00:04<00:00,  2.13it/s]\n",
            "Local Pariticipant 7 CE = 0.067,InfoNCE = 0.113: 100%|██████████| 10/10 [00:07<00:00,  1.32it/s]\n",
            "Local Pariticipant 1 CE = 0.037,InfoNCE = 0.102: 100%|██████████| 10/10 [00:04<00:00,  2.14it/s]\n",
            "Local Pariticipant 2 CE = 0.337,InfoNCE = 0.362: 100%|██████████| 10/10 [00:07<00:00,  1.34it/s]\n",
            "Local Pariticipant 9 CE = 0.046,InfoNCE = 0.116: 100%|██████████| 10/10 [00:04<00:00,  2.14it/s]\n",
            "Local Pariticipant 3 CE = 0.104,InfoNCE = 0.190: 100%|██████████| 10/10 [00:09<00:00,  1.06it/s]\n",
            "Local Pariticipant 5 CE = 0.016,InfoNCE = 0.097: 100%|██████████| 10/10 [00:04<00:00,  2.16it/s]\n"
          ]
        },
        {
          "name": "stdout",
          "output_type": "stream",
          "text": [
            "Partition 0: 1 clusters\n",
            "Partition 0: 2 clusters\n",
            "Partition 0: 1 clusters\n",
            "Partition 0: 2 clusters\n",
            "Partition 0: 2 clusters\n",
            "Partition 0: 2 clusters\n",
            "Partition 0: 2 clusters\n",
            "Partition 0: 2 clusters\n",
            "Partition 0: 3 clusters\n",
            "Partition 0: 1 clusters\n",
            "The 13 Communcation Accuracy: 50.743 Method: fpl\n",
            "[60.27, 73.16, 36.21, 33.33]\n"
          ]
        },
        {
          "name": "stderr",
          "output_type": "stream",
          "text": [
            "Local Pariticipant 4 CE = 0.018,InfoNCE = 0.097: 100%|██████████| 10/10 [00:05<00:00,  1.94it/s]\n",
            "Local Pariticipant 3 CE = 0.224,InfoNCE = 0.300: 100%|██████████| 10/10 [00:09<00:00,  1.01it/s]\n",
            "Local Pariticipant 2 CE = 0.136,InfoNCE = 0.187: 100%|██████████| 10/10 [00:07<00:00,  1.28it/s]\n",
            "Local Pariticipant 8 CE = 0.054,InfoNCE = 0.096: 100%|██████████| 10/10 [00:03<00:00,  2.89it/s]\n",
            "Local Pariticipant 1 CE = 0.090,InfoNCE = 0.141: 100%|██████████| 10/10 [00:04<00:00,  2.01it/s]\n",
            "Local Pariticipant 7 CE = 0.527,InfoNCE = 0.547: 100%|██████████| 10/10 [00:07<00:00,  1.34it/s]\n",
            "Local Pariticipant 0 CE = 0.120,InfoNCE = 0.204: 100%|██████████| 10/10 [00:09<00:00,  1.04it/s]\n",
            "Local Pariticipant 9 CE = 0.021,InfoNCE = 0.091: 100%|██████████| 10/10 [00:04<00:00,  2.15it/s]\n",
            "Local Pariticipant 6 CE = 0.107,InfoNCE = 0.183: 100%|██████████| 10/10 [00:09<00:00,  1.05it/s]\n",
            "Local Pariticipant 5 CE = 0.019,InfoNCE = 0.110: 100%|██████████| 10/10 [00:04<00:00,  2.12it/s]\n"
          ]
        },
        {
          "name": "stdout",
          "output_type": "stream",
          "text": [
            "Partition 0: 2 clusters\n",
            "Partition 0: 1 clusters\n",
            "Partition 0: 2 clusters\n",
            "Partition 0: 2 clusters\n",
            "Partition 0: 2 clusters\n",
            "Partition 0: 2 clusters\n",
            "Partition 0: 1 clusters\n",
            "Partition 0: 2 clusters\n",
            "Partition 0: 2 clusters\n",
            "Partition 0: 1 clusters\n",
            "The 14 Communcation Accuracy: 52.335 Method: fpl\n",
            "[57.14, 71.05, 34.48, 46.67]\n"
          ]
        },
        {
          "name": "stderr",
          "output_type": "stream",
          "text": [
            "Local Pariticipant 9 CE = 0.035,InfoNCE = 0.090: 100%|██████████| 10/10 [00:05<00:00,  1.79it/s]\n",
            "Local Pariticipant 5 CE = 0.009,InfoNCE = 0.090: 100%|██████████| 10/10 [00:04<00:00,  2.10it/s]\n",
            "Local Pariticipant 2 CE = 0.136,InfoNCE = 0.230: 100%|██████████| 10/10 [00:06<00:00,  1.50it/s]\n",
            "Local Pariticipant 8 CE = 0.051,InfoNCE = 0.099: 100%|██████████| 10/10 [00:02<00:00,  3.53it/s]\n",
            "Local Pariticipant 4 CE = 0.057,InfoNCE = 0.113: 100%|██████████| 10/10 [00:04<00:00,  2.34it/s]\n",
            "Local Pariticipant 0 CE = 0.229,InfoNCE = 0.289: 100%|██████████| 10/10 [00:08<00:00,  1.20it/s]\n",
            "Local Pariticipant 3 CE = 0.103,InfoNCE = 0.204: 100%|██████████| 10/10 [00:08<00:00,  1.17it/s]\n",
            "Local Pariticipant 7 CE = 0.229,InfoNCE = 0.422: 100%|██████████| 10/10 [00:06<00:00,  1.55it/s]\n",
            "Local Pariticipant 6 CE = 0.102,InfoNCE = 0.204: 100%|██████████| 10/10 [00:08<00:00,  1.22it/s]\n",
            "Local Pariticipant 1 CE = 0.102,InfoNCE = 0.158: 100%|██████████| 10/10 [00:04<00:00,  2.43it/s]\n"
          ]
        },
        {
          "name": "stdout",
          "output_type": "stream",
          "text": [
            "Partition 0: 2 clusters\n",
            "Partition 0: 1 clusters\n",
            "Partition 0: 1 clusters\n",
            "Partition 0: 2 clusters\n",
            "Partition 0: 2 clusters\n",
            "Partition 0: 1 clusters\n",
            "Partition 0: 3 clusters\n",
            "Partition 0: 3 clusters\n",
            "Partition 0: 2 clusters\n",
            "Partition 0: 1 clusters\n",
            "The 15 Communcation Accuracy: 50.268 Method: fpl\n",
            "[60.71, 71.05, 29.31, 40.0]\n"
          ]
        },
        {
          "name": "stderr",
          "output_type": "stream",
          "text": [
            "Local Pariticipant 3 CE = 0.166,InfoNCE = 0.259: 100%|██████████| 10/10 [00:08<00:00,  1.23it/s]\n",
            "Local Pariticipant 2 CE = 0.235,InfoNCE = 0.320: 100%|██████████| 10/10 [00:06<00:00,  1.56it/s]\n",
            "Local Pariticipant 0 CE = 0.062,InfoNCE = 0.171: 100%|██████████| 10/10 [00:08<00:00,  1.23it/s]\n",
            "Local Pariticipant 6 CE = 0.026,InfoNCE = 0.107: 100%|██████████| 10/10 [00:08<00:00,  1.23it/s]\n",
            "Local Pariticipant 8 CE = 0.031,InfoNCE = 0.089: 100%|██████████| 10/10 [00:02<00:00,  3.73it/s]\n",
            "Local Pariticipant 5 CE = 0.008,InfoNCE = 0.087: 100%|██████████| 10/10 [00:04<00:00,  2.44it/s]\n",
            "Local Pariticipant 7 CE = 0.189,InfoNCE = 0.226: 100%|██████████| 10/10 [00:06<00:00,  1.60it/s]\n",
            "Local Pariticipant 1 CE = 0.033,InfoNCE = 0.097: 100%|██████████| 10/10 [00:04<00:00,  2.45it/s]\n",
            "Local Pariticipant 4 CE = 0.005,InfoNCE = 0.079: 100%|██████████| 10/10 [00:04<00:00,  2.47it/s]\n",
            "Local Pariticipant 9 CE = 0.030,InfoNCE = 0.096: 100%|██████████| 10/10 [00:04<00:00,  2.40it/s]\n"
          ]
        },
        {
          "name": "stdout",
          "output_type": "stream",
          "text": [
            "Partition 0: 1 clusters\n",
            "Partition 0: 3 clusters\n",
            "Partition 0: 1 clusters\n",
            "Partition 0: 1 clusters\n",
            "Partition 0: 2 clusters\n",
            "Partition 0: 1 clusters\n",
            "Partition 0: 2 clusters\n",
            "Partition 0: 2 clusters\n",
            "Partition 0: 1 clusters\n",
            "Partition 0: 1 clusters\n",
            "The 16 Communcation Accuracy: 51.478 Method: fpl\n",
            "[57.59, 72.11, 36.21, 40.0]\n"
          ]
        },
        {
          "name": "stderr",
          "output_type": "stream",
          "text": [
            "Local Pariticipant 5 CE = 0.006,InfoNCE = 0.101: 100%|██████████| 10/10 [00:04<00:00,  2.40it/s]\n",
            "Local Pariticipant 9 CE = 0.011,InfoNCE = 0.079: 100%|██████████| 10/10 [00:04<00:00,  2.49it/s]\n",
            "Local Pariticipant 2 CE = 0.058,InfoNCE = 0.111: 100%|██████████| 10/10 [00:06<00:00,  1.56it/s]\n",
            "Local Pariticipant 3 CE = 0.095,InfoNCE = 0.166: 100%|██████████| 10/10 [00:08<00:00,  1.25it/s]\n",
            "Local Pariticipant 7 CE = 0.107,InfoNCE = 0.219: 100%|██████████| 10/10 [00:06<00:00,  1.58it/s]\n",
            "Local Pariticipant 1 CE = 0.068,InfoNCE = 0.113: 100%|██████████| 10/10 [00:04<00:00,  2.42it/s]\n",
            "Local Pariticipant 4 CE = 0.025,InfoNCE = 0.114: 100%|██████████| 10/10 [00:03<00:00,  2.50it/s]\n",
            "Local Pariticipant 6 CE = 0.129,InfoNCE = 0.224: 100%|██████████| 10/10 [00:08<00:00,  1.24it/s]\n",
            "Local Pariticipant 0 CE = 0.123,InfoNCE = 0.212: 100%|██████████| 10/10 [00:08<00:00,  1.25it/s]\n",
            "Local Pariticipant 8 CE = 0.042,InfoNCE = 0.078: 100%|██████████| 10/10 [00:02<00:00,  3.68it/s]\n"
          ]
        },
        {
          "name": "stdout",
          "output_type": "stream",
          "text": [
            "Partition 0: 1 clusters\n",
            "Partition 0: 2 clusters\n",
            "Partition 0: 2 clusters\n",
            "Partition 0: 2 clusters\n",
            "Partition 0: 1 clusters\n",
            "Partition 0: 1 clusters\n",
            "Partition 0: 1 clusters\n",
            "Partition 0: 3 clusters\n",
            "Partition 0: 2 clusters\n",
            "Partition 0: 1 clusters\n",
            "The 17 Communcation Accuracy: 52.385 Method: fpl\n",
            "[59.82, 76.84, 36.21, 36.67]\n"
          ]
        },
        {
          "name": "stderr",
          "output_type": "stream",
          "text": [
            "Local Pariticipant 0 CE = 0.022,InfoNCE = 0.086: 100%|██████████| 10/10 [00:08<00:00,  1.23it/s]\n",
            "Local Pariticipant 4 CE = 0.011,InfoNCE = 0.091: 100%|██████████| 10/10 [00:04<00:00,  2.48it/s]\n",
            "Local Pariticipant 8 CE = 0.071,InfoNCE = 0.091: 100%|██████████| 10/10 [00:02<00:00,  3.77it/s]\n",
            "Local Pariticipant 5 CE = 0.010,InfoNCE = 0.086: 100%|██████████| 10/10 [00:04<00:00,  2.45it/s]\n",
            "Local Pariticipant 7 CE = 0.123,InfoNCE = 0.194: 100%|██████████| 10/10 [00:06<00:00,  1.57it/s]\n",
            "Local Pariticipant 3 CE = 0.061,InfoNCE = 0.149: 100%|██████████| 10/10 [00:08<00:00,  1.24it/s]\n",
            "Local Pariticipant 9 CE = 0.030,InfoNCE = 0.086: 100%|██████████| 10/10 [00:04<00:00,  2.48it/s]\n",
            "Local Pariticipant 2 CE = 0.457,InfoNCE = 0.450: 100%|██████████| 10/10 [00:06<00:00,  1.50it/s]\n",
            "Local Pariticipant 1 CE = 0.028,InfoNCE = 0.099: 100%|██████████| 10/10 [00:04<00:00,  2.43it/s]\n",
            "Local Pariticipant 6 CE = 0.038,InfoNCE = 0.117: 100%|██████████| 10/10 [00:07<00:00,  1.26it/s]\n"
          ]
        },
        {
          "name": "stdout",
          "output_type": "stream",
          "text": [
            "Partition 0: 2 clusters\n",
            "Partition 0: 1 clusters\n",
            "Partition 0: 1 clusters\n",
            "Partition 0: 1 clusters\n",
            "Partition 0: 2 clusters\n",
            "Partition 0: 2 clusters\n",
            "Partition 0: 1 clusters\n",
            "Partition 0: 2 clusters\n",
            "Partition 0: 1 clusters\n",
            "Partition 0: 1 clusters\n",
            "The 18 Communcation Accuracy: 51.842 Method: fpl\n",
            "[58.48, 75.79, 43.1, 30.0]\n"
          ]
        },
        {
          "name": "stderr",
          "output_type": "stream",
          "text": [
            "Local Pariticipant 4 CE = 0.011,InfoNCE = 0.090: 100%|██████████| 10/10 [00:03<00:00,  2.51it/s]\n",
            "Local Pariticipant 3 CE = 0.300,InfoNCE = 0.376: 100%|██████████| 10/10 [00:08<00:00,  1.22it/s]\n",
            "Local Pariticipant 6 CE = 0.023,InfoNCE = 0.094: 100%|██████████| 10/10 [00:09<00:00,  1.08it/s]\n",
            "Local Pariticipant 7 CE = 0.061,InfoNCE = 0.149: 100%|██████████| 10/10 [00:12<00:00,  1.22s/it]\n",
            "Local Pariticipant 9 CE = 0.060,InfoNCE = 0.100: 100%|██████████| 10/10 [00:04<00:00,  2.20it/s]\n",
            "Local Pariticipant 2 CE = 0.450,InfoNCE = 0.527: 100%|██████████| 10/10 [00:06<00:00,  1.45it/s]\n",
            "Local Pariticipant 5 CE = 0.020,InfoNCE = 0.098: 100%|██████████| 10/10 [00:04<00:00,  2.22it/s]\n",
            "Local Pariticipant 1 CE = 0.030,InfoNCE = 0.095: 100%|██████████| 10/10 [00:04<00:00,  2.27it/s]\n",
            "Local Pariticipant 0 CE = 0.122,InfoNCE = 0.191: 100%|██████████| 10/10 [00:08<00:00,  1.15it/s]\n",
            "Local Pariticipant 8 CE = 0.046,InfoNCE = 0.087: 100%|██████████| 10/10 [00:02<00:00,  3.44it/s]\n"
          ]
        },
        {
          "name": "stdout",
          "output_type": "stream",
          "text": [
            "Partition 0: 1 clusters\n",
            "Partition 0: 1 clusters\n",
            "Partition 0: 1 clusters\n",
            "Partition 0: 3 clusters\n",
            "Partition 0: 1 clusters\n",
            "Partition 0: 1 clusters\n",
            "Partition 0: 2 clusters\n",
            "Partition 0: 1 clusters\n",
            "Partition 0: 2 clusters\n",
            "Partition 0: 1 clusters\n",
            "The 19 Communcation Accuracy: 52.028 Method: fpl\n",
            "[56.7, 68.42, 39.66, 43.33]\n"
          ]
        },
        {
          "name": "stderr",
          "output_type": "stream",
          "text": [
            "Local Pariticipant 4 CE = 0.011,InfoNCE = 0.082: 100%|██████████| 10/10 [00:04<00:00,  2.27it/s]\n",
            "Local Pariticipant 2 CE = 0.241,InfoNCE = 0.336: 100%|██████████| 10/10 [00:06<00:00,  1.48it/s]\n",
            "Local Pariticipant 3 CE = 0.067,InfoNCE = 0.145: 100%|██████████| 10/10 [00:08<00:00,  1.16it/s]\n",
            "Local Pariticipant 1 CE = 0.043,InfoNCE = 0.096: 100%|██████████| 10/10 [00:04<00:00,  2.24it/s]\n",
            "Local Pariticipant 8 CE = 0.038,InfoNCE = 0.075: 100%|██████████| 10/10 [00:02<00:00,  3.48it/s]\n",
            "Local Pariticipant 6 CE = 0.079,InfoNCE = 0.149: 100%|██████████| 10/10 [00:08<00:00,  1.13it/s]\n",
            "Local Pariticipant 0 CE = 0.038,InfoNCE = 0.104: 100%|██████████| 10/10 [00:08<00:00,  1.15it/s]\n",
            "Local Pariticipant 9 CE = 0.026,InfoNCE = 0.085: 100%|██████████| 10/10 [00:04<00:00,  2.24it/s]\n",
            "Local Pariticipant 5 CE = 0.011,InfoNCE = 0.085: 100%|██████████| 10/10 [00:04<00:00,  2.26it/s]\n",
            "Local Pariticipant 7 CE = 0.231,InfoNCE = 0.309: 100%|██████████| 10/10 [00:06<00:00,  1.47it/s]\n"
          ]
        },
        {
          "name": "stdout",
          "output_type": "stream",
          "text": [
            "Partition 0: 2 clusters\n",
            "Partition 0: 2 clusters\n",
            "Partition 0: 1 clusters\n",
            "Partition 0: 2 clusters\n",
            "Partition 0: 1 clusters\n",
            "Partition 0: 2 clusters\n",
            "Partition 0: 1 clusters\n",
            "Partition 0: 1 clusters\n",
            "Partition 0: 2 clusters\n",
            "Partition 0: 1 clusters\n",
            "The 20 Communcation Accuracy: 53.378 Method: fpl\n",
            "[58.04, 74.21, 37.93, 43.33]\n"
          ]
        },
        {
          "name": "stderr",
          "output_type": "stream",
          "text": [
            "Local Pariticipant 4 CE = 0.018,InfoNCE = 0.098: 100%|██████████| 10/10 [00:04<00:00,  2.28it/s]\n",
            "Local Pariticipant 0 CE = 0.070,InfoNCE = 0.143: 100%|██████████| 10/10 [00:08<00:00,  1.18it/s]\n",
            "Local Pariticipant 1 CE = 0.028,InfoNCE = 0.096: 100%|██████████| 10/10 [00:04<00:00,  2.23it/s]\n",
            "Local Pariticipant 2 CE = 0.335,InfoNCE = 0.337: 100%|██████████| 10/10 [00:06<00:00,  1.49it/s]\n",
            "Local Pariticipant 8 CE = 0.031,InfoNCE = 0.085: 100%|██████████| 10/10 [00:02<00:00,  3.46it/s]\n",
            "Local Pariticipant 6 CE = 0.020,InfoNCE = 0.085: 100%|██████████| 10/10 [00:08<00:00,  1.15it/s]\n",
            "Local Pariticipant 7 CE = 0.204,InfoNCE = 0.298: 100%|██████████| 10/10 [00:06<00:00,  1.47it/s]\n",
            "Local Pariticipant 9 CE = 0.040,InfoNCE = 0.080: 100%|██████████| 10/10 [00:04<00:00,  2.25it/s]\n",
            "Local Pariticipant 3 CE = 0.072,InfoNCE = 0.137: 100%|██████████| 10/10 [00:08<00:00,  1.17it/s]\n",
            "Local Pariticipant 5 CE = 0.011,InfoNCE = 0.082: 100%|██████████| 10/10 [00:04<00:00,  2.27it/s]\n"
          ]
        },
        {
          "name": "stdout",
          "output_type": "stream",
          "text": [
            "Partition 0: 2 clusters\n",
            "Partition 0: 1 clusters\n",
            "Partition 0: 1 clusters\n",
            "Partition 0: 2 clusters\n",
            "Partition 0: 1 clusters\n",
            "Partition 0: 1 clusters\n",
            "Partition 0: 2 clusters\n",
            "Partition 0: 1 clusters\n",
            "Partition 0: 1 clusters\n",
            "Partition 0: 2 clusters\n",
            "The 21 Communcation Accuracy: 47.933 Method: fpl\n",
            "[58.04, 71.05, 29.31, 33.33]\n"
          ]
        },
        {
          "name": "stderr",
          "output_type": "stream",
          "text": [
            "Local Pariticipant 5 CE = 0.012,InfoNCE = 0.085: 100%|██████████| 10/10 [00:04<00:00,  2.27it/s]\n",
            "Local Pariticipant 9 CE = 0.023,InfoNCE = 0.087: 100%|██████████| 10/10 [00:04<00:00,  2.30it/s]\n",
            "Local Pariticipant 1 CE = 0.038,InfoNCE = 0.101: 100%|██████████| 10/10 [00:04<00:00,  2.29it/s]\n",
            "Local Pariticipant 3 CE = 0.039,InfoNCE = 0.099: 100%|██████████| 10/10 [00:08<00:00,  1.14it/s]\n",
            "Local Pariticipant 6 CE = 0.202,InfoNCE = 0.285: 100%|██████████| 10/10 [00:08<00:00,  1.14it/s]\n",
            "Local Pariticipant 0 CE = 0.059,InfoNCE = 0.132: 100%|██████████| 10/10 [00:08<00:00,  1.16it/s]\n",
            "Local Pariticipant 4 CE = 0.004,InfoNCE = 0.090: 100%|██████████| 10/10 [00:04<00:00,  2.22it/s]\n",
            "Local Pariticipant 7 CE = 0.118,InfoNCE = 0.169: 100%|██████████| 10/10 [00:06<00:00,  1.45it/s]\n",
            "Local Pariticipant 8 CE = 0.031,InfoNCE = 0.088: 100%|██████████| 10/10 [00:02<00:00,  3.43it/s]\n",
            "Local Pariticipant 2 CE = 0.107,InfoNCE = 0.131: 100%|██████████| 10/10 [00:06<00:00,  1.46it/s]\n"
          ]
        },
        {
          "name": "stdout",
          "output_type": "stream",
          "text": [
            "Partition 0: 1 clusters\n",
            "Partition 0: 1 clusters\n",
            "Partition 0: 2 clusters\n",
            "Partition 0: 1 clusters\n",
            "Partition 0: 1 clusters\n",
            "Partition 0: 2 clusters\n",
            "Partition 0: 2 clusters\n",
            "Partition 0: 1 clusters\n",
            "Partition 0: 1 clusters\n",
            "Partition 0: 1 clusters\n",
            "The 22 Communcation Accuracy: 50.202 Method: fpl\n",
            "[58.93, 75.79, 32.76, 33.33]\n"
          ]
        },
        {
          "name": "stderr",
          "output_type": "stream",
          "text": [
            "Local Pariticipant 8 CE = 0.019,InfoNCE = 0.084: 100%|██████████| 10/10 [00:02<00:00,  3.39it/s]\n",
            "Local Pariticipant 5 CE = 0.021,InfoNCE = 0.104: 100%|██████████| 10/10 [00:04<00:00,  2.25it/s]\n",
            "Local Pariticipant 3 CE = 0.158,InfoNCE = 0.283: 100%|██████████| 10/10 [00:08<00:00,  1.13it/s]\n",
            "Local Pariticipant 6 CE = 0.081,InfoNCE = 0.182: 100%|██████████| 10/10 [00:08<00:00,  1.12it/s]\n",
            "Local Pariticipant 9 CE = 0.013,InfoNCE = 0.079: 100%|██████████| 10/10 [00:04<00:00,  2.19it/s]\n",
            "Local Pariticipant 1 CE = 0.081,InfoNCE = 0.107: 100%|██████████| 10/10 [00:04<00:00,  2.22it/s]\n",
            "Local Pariticipant 2 CE = 0.193,InfoNCE = 0.188: 100%|██████████| 10/10 [00:06<00:00,  1.46it/s]\n",
            "Local Pariticipant 0 CE = 0.025,InfoNCE = 0.090: 100%|██████████| 10/10 [00:08<00:00,  1.13it/s]\n",
            "Local Pariticipant 4 CE = 0.021,InfoNCE = 0.081: 100%|██████████| 10/10 [00:04<00:00,  2.26it/s]\n",
            "Local Pariticipant 7 CE = 0.650,InfoNCE = 0.675: 100%|██████████| 10/10 [00:06<00:00,  1.47it/s]\n"
          ]
        },
        {
          "name": "stdout",
          "output_type": "stream",
          "text": [
            "Partition 0: 2 clusters\n",
            "Partition 0: 2 clusters\n",
            "Partition 0: 2 clusters\n",
            "Partition 0: 1 clusters\n",
            "Partition 0: 1 clusters\n",
            "Partition 0: 1 clusters\n",
            "Partition 0: 1 clusters\n",
            "Partition 0: 1 clusters\n",
            "Partition 0: 1 clusters\n",
            "Partition 0: 1 clusters\n",
            "The 23 Communcation Accuracy: 52.732 Method: fpl\n",
            "[59.38, 76.84, 41.38, 33.33]\n"
          ]
        },
        {
          "name": "stderr",
          "output_type": "stream",
          "text": [
            "Local Pariticipant 7 CE = 0.089,InfoNCE = 0.125: 100%|██████████| 10/10 [00:06<00:00,  1.46it/s]\n",
            "Local Pariticipant 2 CE = 0.024,InfoNCE = 0.075: 100%|██████████| 10/10 [00:06<00:00,  1.48it/s]\n",
            "Local Pariticipant 8 CE = 0.067,InfoNCE = 0.092: 100%|██████████| 10/10 [00:02<00:00,  3.47it/s]\n",
            "Local Pariticipant 6 CE = 0.018,InfoNCE = 0.089: 100%|██████████| 10/10 [00:08<00:00,  1.15it/s]\n",
            "Local Pariticipant 4 CE = 0.011,InfoNCE = 0.078: 100%|██████████| 10/10 [00:04<00:00,  2.26it/s]\n",
            "Local Pariticipant 0 CE = 0.023,InfoNCE = 0.078: 100%|██████████| 10/10 [00:08<00:00,  1.17it/s]\n",
            "Local Pariticipant 9 CE = 0.013,InfoNCE = 0.076: 100%|██████████| 10/10 [00:04<00:00,  2.24it/s]\n",
            "Local Pariticipant 5 CE = 0.014,InfoNCE = 0.090: 100%|██████████| 10/10 [00:04<00:00,  2.26it/s]\n",
            "Local Pariticipant 3 CE = 0.015,InfoNCE = 0.091: 100%|██████████| 10/10 [00:08<00:00,  1.14it/s]\n",
            "Local Pariticipant 1 CE = 0.025,InfoNCE = 0.087: 100%|██████████| 10/10 [00:04<00:00,  2.21it/s]\n"
          ]
        },
        {
          "name": "stdout",
          "output_type": "stream",
          "text": [
            "Partition 0: 1 clusters\n",
            "Partition 0: 1 clusters\n",
            "Partition 0: 1 clusters\n",
            "Partition 0: 2 clusters\n",
            "Partition 0: 1 clusters\n",
            "Partition 0: 1 clusters\n",
            "Partition 0: 1 clusters\n",
            "Partition 0: 1 clusters\n",
            "Partition 0: 2 clusters\n",
            "Partition 0: 1 clusters\n",
            "The 24 Communcation Accuracy: 52.323 Method: fpl\n",
            "[58.93, 77.37, 39.66, 33.33]\n"
          ]
        },
        {
          "name": "stderr",
          "output_type": "stream",
          "text": [
            "Local Pariticipant 6 CE = 0.078,InfoNCE = 0.154: 100%|██████████| 10/10 [00:08<00:00,  1.12it/s]\n",
            "Local Pariticipant 2 CE = 0.144,InfoNCE = 0.159: 100%|██████████| 10/10 [00:06<00:00,  1.44it/s]\n",
            "Local Pariticipant 3 CE = 0.020,InfoNCE = 0.079: 100%|██████████| 10/10 [00:08<00:00,  1.13it/s]\n",
            "Local Pariticipant 8 CE = 0.032,InfoNCE = 0.071: 100%|██████████| 10/10 [00:02<00:00,  3.38it/s]\n",
            "Local Pariticipant 1 CE = 0.014,InfoNCE = 0.088: 100%|██████████| 10/10 [00:04<00:00,  2.23it/s]\n",
            "Local Pariticipant 0 CE = 0.042,InfoNCE = 0.097: 100%|██████████| 10/10 [00:08<00:00,  1.15it/s]\n",
            "Local Pariticipant 7 CE = 0.806,InfoNCE = 0.828: 100%|██████████| 10/10 [00:07<00:00,  1.43it/s]\n",
            "Local Pariticipant 5 CE = 0.062,InfoNCE = 0.097: 100%|██████████| 10/10 [00:04<00:00,  2.21it/s]\n",
            "Local Pariticipant 9 CE = 0.005,InfoNCE = 0.074: 100%|██████████| 10/10 [00:04<00:00,  2.22it/s]\n",
            "Local Pariticipant 4 CE = 0.009,InfoNCE = 0.076: 100%|██████████| 10/10 [00:04<00:00,  2.35it/s]\n"
          ]
        },
        {
          "name": "stdout",
          "output_type": "stream",
          "text": [
            "Partition 0: 1 clusters\n",
            "Partition 0: 3 clusters\n",
            "Partition 0: 2 clusters\n",
            "Partition 0: 1 clusters\n",
            "Partition 0: 1 clusters\n",
            "Partition 0: 1 clusters\n",
            "Partition 0: 2 clusters\n",
            "Partition 0: 1 clusters\n",
            "Partition 0: 1 clusters\n",
            "Partition 0: 1 clusters\n",
            "The 25 Communcation Accuracy: 49.65 Method: fpl\n",
            "[58.04, 72.63, 37.93, 30.0]\n"
          ]
        },
        {
          "name": "stderr",
          "output_type": "stream",
          "text": [
            "Local Pariticipant 8 CE = 0.020,InfoNCE = 0.071: 100%|██████████| 10/10 [00:02<00:00,  3.47it/s]\n",
            "Local Pariticipant 2 CE = 0.176,InfoNCE = 0.240: 100%|██████████| 10/10 [00:06<00:00,  1.56it/s]\n",
            "Local Pariticipant 6 CE = 0.014,InfoNCE = 0.074: 100%|██████████| 10/10 [00:08<00:00,  1.25it/s]\n",
            "Local Pariticipant 0 CE = 0.016,InfoNCE = 0.075: 100%|██████████| 10/10 [00:07<00:00,  1.27it/s]\n",
            "Local Pariticipant 1 CE = 0.027,InfoNCE = 0.091: 100%|██████████| 10/10 [00:04<00:00,  2.48it/s]\n",
            "Local Pariticipant 9 CE = 0.016,InfoNCE = 0.070: 100%|██████████| 10/10 [00:04<00:00,  2.48it/s]\n",
            "Local Pariticipant 7 CE = 0.799,InfoNCE = 1.042: 100%|██████████| 10/10 [00:06<00:00,  1.62it/s]\n",
            "Local Pariticipant 4 CE = 0.012,InfoNCE = 0.084: 100%|██████████| 10/10 [00:03<00:00,  2.50it/s]\n",
            "Local Pariticipant 3 CE = 0.108,InfoNCE = 0.205: 100%|██████████| 10/10 [00:07<00:00,  1.26it/s]\n",
            "Local Pariticipant 5 CE = 0.020,InfoNCE = 0.108: 100%|██████████| 10/10 [00:03<00:00,  2.51it/s]\n"
          ]
        },
        {
          "name": "stdout",
          "output_type": "stream",
          "text": [
            "Partition 0: 1 clusters\n",
            "Partition 0: 4 clusters\n",
            "Partition 0: 1 clusters\n",
            "Partition 0: 2 clusters\n",
            "Partition 0: 2 clusters\n",
            "Partition 0: 1 clusters\n",
            "Partition 0: 1 clusters\n",
            "Partition 0: 2 clusters\n",
            "Partition 0: 1 clusters\n",
            "Partition 0: 1 clusters\n",
            "The 26 Communcation Accuracy: 50.255 Method: fpl\n",
            "[56.25, 76.84, 37.93, 30.0]\n"
          ]
        },
        {
          "name": "stderr",
          "output_type": "stream",
          "text": [
            "Local Pariticipant 6 CE = 0.012,InfoNCE = 0.077: 100%|██████████| 10/10 [00:07<00:00,  1.27it/s]\n",
            "Local Pariticipant 9 CE = 0.067,InfoNCE = 0.117: 100%|██████████| 10/10 [00:04<00:00,  2.47it/s]\n",
            "Local Pariticipant 7 CE = 0.012,InfoNCE = 0.054: 100%|██████████| 10/10 [00:06<00:00,  1.57it/s]\n",
            "Local Pariticipant 8 CE = 0.028,InfoNCE = 0.069: 100%|██████████| 10/10 [00:02<00:00,  3.75it/s]\n",
            "Local Pariticipant 2 CE = 0.045,InfoNCE = 0.075: 100%|██████████| 10/10 [00:06<00:00,  1.61it/s]\n",
            "Local Pariticipant 1 CE = 0.008,InfoNCE = 0.075: 100%|██████████| 10/10 [00:04<00:00,  2.47it/s]\n",
            "Local Pariticipant 0 CE = 0.320,InfoNCE = 0.458: 100%|██████████| 10/10 [00:07<00:00,  1.27it/s]\n",
            "Local Pariticipant 4 CE = 0.004,InfoNCE = 0.066: 100%|██████████| 10/10 [00:03<00:00,  2.52it/s]\n",
            "Local Pariticipant 3 CE = 0.048,InfoNCE = 0.142: 100%|██████████| 10/10 [00:07<00:00,  1.26it/s]\n",
            "Local Pariticipant 5 CE = 0.007,InfoNCE = 0.094: 100%|██████████| 10/10 [00:04<00:00,  2.50it/s]\n"
          ]
        },
        {
          "name": "stdout",
          "output_type": "stream",
          "text": [
            "Partition 0: 3 clusters\n",
            "Partition 0: 1 clusters\n",
            "Partition 0: 3 clusters\n",
            "Partition 0: 2 clusters\n",
            "Partition 0: 1 clusters\n",
            "Partition 0: 2 clusters\n",
            "Partition 0: 2 clusters\n",
            "Partition 0: 1 clusters\n",
            "Partition 0: 1 clusters\n",
            "Partition 0: 2 clusters\n",
            "The 27 Communcation Accuracy: 54.12 Method: fpl\n",
            "[57.59, 75.79, 43.1, 40.0]\n"
          ]
        },
        {
          "name": "stderr",
          "output_type": "stream",
          "text": [
            "Local Pariticipant 7 CE = 0.121,InfoNCE = 0.117: 100%|██████████| 10/10 [00:06<00:00,  1.62it/s]\n",
            "Local Pariticipant 3 CE = 0.040,InfoNCE = 0.115: 100%|██████████| 10/10 [00:08<00:00,  1.24it/s]\n",
            "Local Pariticipant 2 CE = 0.032,InfoNCE = 0.071: 100%|██████████| 10/10 [00:06<00:00,  1.62it/s]\n",
            "Local Pariticipant 9 CE = 0.014,InfoNCE = 0.073: 100%|██████████| 10/10 [00:04<00:00,  2.50it/s]\n",
            "Local Pariticipant 5 CE = 0.017,InfoNCE = 0.079: 100%|██████████| 10/10 [00:04<00:00,  2.50it/s]\n",
            "Local Pariticipant 6 CE = 0.023,InfoNCE = 0.075: 100%|██████████| 10/10 [00:07<00:00,  1.26it/s]\n",
            "Local Pariticipant 0 CE = 0.011,InfoNCE = 0.068: 100%|██████████| 10/10 [00:07<00:00,  1.28it/s]\n",
            "Local Pariticipant 8 CE = 0.015,InfoNCE = 0.071: 100%|██████████| 10/10 [00:02<00:00,  3.83it/s]\n",
            "Local Pariticipant 1 CE = 0.045,InfoNCE = 0.091: 100%|██████████| 10/10 [00:04<00:00,  2.49it/s]\n",
            "Local Pariticipant 4 CE = 0.005,InfoNCE = 0.069: 100%|██████████| 10/10 [00:03<00:00,  2.54it/s]\n"
          ]
        },
        {
          "name": "stdout",
          "output_type": "stream",
          "text": [
            "Partition 0: 1 clusters\n",
            "Partition 0: 1 clusters\n",
            "Partition 0: 1 clusters\n",
            "Partition 0: 2 clusters\n",
            "Partition 0: 1 clusters\n",
            "Partition 0: 2 clusters\n",
            "Partition 0: 1 clusters\n",
            "Partition 0: 1 clusters\n",
            "Partition 0: 1 clusters\n",
            "Partition 0: 2 clusters\n",
            "The 28 Communcation Accuracy: 54.29 Method: fpl\n",
            "[62.5, 73.16, 44.83, 36.67]\n"
          ]
        },
        {
          "name": "stderr",
          "output_type": "stream",
          "text": [
            "Local Pariticipant 2 CE = 0.248,InfoNCE = 0.312: 100%|██████████| 10/10 [00:06<00:00,  1.62it/s]\n",
            "Local Pariticipant 6 CE = 0.008,InfoNCE = 0.062: 100%|██████████| 10/10 [00:07<00:00,  1.26it/s]\n",
            "Local Pariticipant 0 CE = 0.016,InfoNCE = 0.066: 100%|██████████| 10/10 [00:07<00:00,  1.27it/s]\n",
            "Local Pariticipant 4 CE = 0.002,InfoNCE = 0.056: 100%|██████████| 10/10 [00:03<00:00,  2.52it/s]\n",
            "Local Pariticipant 5 CE = 0.010,InfoNCE = 0.072: 100%|██████████| 10/10 [00:04<00:00,  2.42it/s]\n",
            "Local Pariticipant 8 CE = 0.010,InfoNCE = 0.069: 100%|██████████| 10/10 [00:02<00:00,  3.66it/s]\n",
            "Local Pariticipant 3 CE = 0.010,InfoNCE = 0.063: 100%|██████████| 10/10 [00:08<00:00,  1.16it/s]\n",
            "Local Pariticipant 7 CE = 0.011,InfoNCE = 0.059: 100%|██████████| 10/10 [00:07<00:00,  1.26it/s]\n",
            "Local Pariticipant 1 CE = 0.008,InfoNCE = 0.069: 100%|██████████| 10/10 [00:04<00:00,  2.10it/s]\n",
            "Local Pariticipant 9 CE = 0.008,InfoNCE = 0.065: 100%|██████████| 10/10 [00:04<00:00,  2.11it/s]\n"
          ]
        },
        {
          "name": "stdout",
          "output_type": "stream",
          "text": [
            "Partition 0: 2 clusters\n",
            "Partition 0: 1 clusters\n",
            "Partition 0: 1 clusters\n",
            "Partition 0: 2 clusters\n",
            "Partition 0: 1 clusters\n",
            "Partition 0: 1 clusters\n",
            "Partition 0: 1 clusters\n",
            "Partition 0: 1 clusters\n",
            "Partition 0: 1 clusters\n",
            "Partition 0: 2 clusters\n",
            "The 29 Communcation Accuracy: 55.825 Method: fpl\n",
            "[59.38, 77.37, 46.55, 40.0]\n"
          ]
        },
        {
          "name": "stderr",
          "output_type": "stream",
          "text": [
            "Local Pariticipant 5 CE = 0.006,InfoNCE = 0.074: 100%|██████████| 10/10 [00:04<00:00,  2.10it/s]\n",
            "Local Pariticipant 7 CE = 0.096,InfoNCE = 0.094: 100%|██████████| 10/10 [00:07<00:00,  1.35it/s]\n",
            "Local Pariticipant 4 CE = 0.005,InfoNCE = 0.063: 100%|██████████| 10/10 [00:04<00:00,  2.16it/s]\n",
            "Local Pariticipant 1 CE = 0.071,InfoNCE = 0.132: 100%|██████████| 10/10 [00:04<00:00,  2.11it/s]\n",
            "Local Pariticipant 9 CE = 0.012,InfoNCE = 0.069: 100%|██████████| 10/10 [00:04<00:00,  2.16it/s]\n",
            "Local Pariticipant 2 CE = 0.240,InfoNCE = 0.330: 100%|██████████| 10/10 [00:07<00:00,  1.37it/s]\n",
            "Local Pariticipant 6 CE = 0.007,InfoNCE = 0.059: 100%|██████████| 10/10 [00:09<00:00,  1.06it/s]\n",
            "Local Pariticipant 3 CE = 0.017,InfoNCE = 0.078: 100%|██████████| 10/10 [00:09<00:00,  1.05it/s]\n",
            "Local Pariticipant 0 CE = 0.081,InfoNCE = 0.154: 100%|██████████| 10/10 [00:09<00:00,  1.06it/s]\n",
            "Local Pariticipant 8 CE = 0.018,InfoNCE = 0.064: 100%|██████████| 10/10 [00:03<00:00,  3.06it/s]\n"
          ]
        },
        {
          "name": "stdout",
          "output_type": "stream",
          "text": [
            "Partition 0: 2 clusters\n",
            "Partition 0: 1 clusters\n",
            "Partition 0: 1 clusters\n",
            "Partition 0: 1 clusters\n",
            "Partition 0: 1 clusters\n",
            "Partition 0: 2 clusters\n",
            "Partition 0: 2 clusters\n",
            "Partition 0: 2 clusters\n",
            "Partition 0: 1 clusters\n",
            "Partition 0: 1 clusters\n",
            "The 30 Communcation Accuracy: 55.032 Method: fpl\n",
            "[60.71, 76.32, 43.1, 40.0]\n"
          ]
        },
        {
          "name": "stderr",
          "output_type": "stream",
          "text": [
            "Local Pariticipant 7 CE = 0.011,InfoNCE = 0.061: 100%|██████████| 10/10 [00:07<00:00,  1.34it/s]\n",
            "Local Pariticipant 3 CE = 0.175,InfoNCE = 0.253: 100%|██████████| 10/10 [00:11<00:00,  1.11s/it]\n",
            "Local Pariticipant 5 CE = 0.004,InfoNCE = 0.069: 100%|██████████| 10/10 [00:05<00:00,  1.99it/s]\n",
            "Local Pariticipant 8 CE = 0.017,InfoNCE = 0.062: 100%|██████████| 10/10 [00:03<00:00,  3.02it/s]\n",
            "Local Pariticipant 9 CE = 0.009,InfoNCE = 0.071: 100%|██████████| 10/10 [00:05<00:00,  1.98it/s]\n",
            "Local Pariticipant 6 CE = 0.007,InfoNCE = 0.060: 100%|██████████| 10/10 [00:11<00:00,  1.11s/it]\n",
            "Local Pariticipant 0 CE = 0.012,InfoNCE = 0.063: 100%|██████████| 10/10 [00:11<00:00,  1.11s/it]\n",
            "Local Pariticipant 1 CE = 0.025,InfoNCE = 0.070: 100%|██████████| 10/10 [00:06<00:00,  1.64it/s]\n",
            "Local Pariticipant 2 CE = 0.333,InfoNCE = 0.430: 100%|██████████| 10/10 [00:08<00:00,  1.12it/s]\n",
            "Local Pariticipant 4 CE = 0.007,InfoNCE = 0.080: 100%|██████████| 10/10 [00:06<00:00,  1.60it/s]\n"
          ]
        },
        {
          "name": "stdout",
          "output_type": "stream",
          "text": [
            "Partition 0: 1 clusters\n",
            "Partition 0: 2 clusters\n",
            "Partition 0: 1 clusters\n",
            "Partition 0: 1 clusters\n",
            "Partition 0: 1 clusters\n",
            "Partition 0: 1 clusters\n",
            "Partition 0: 2 clusters\n",
            "Partition 0: 2 clusters\n",
            "Partition 0: 1 clusters\n",
            "Partition 0: 1 clusters\n",
            "The 31 Communcation Accuracy: 55.395 Method: fpl\n",
            "[59.38, 77.37, 44.83, 40.0]\n"
          ]
        },
        {
          "name": "stderr",
          "output_type": "stream",
          "text": [
            "Local Pariticipant 4 CE = 0.011,InfoNCE = 0.057: 100%|██████████| 10/10 [00:04<00:00,  2.01it/s]\n",
            "Local Pariticipant 1 CE = 0.022,InfoNCE = 0.074: 100%|██████████| 10/10 [00:05<00:00,  1.95it/s]\n",
            "Local Pariticipant 6 CE = 0.009,InfoNCE = 0.056: 100%|██████████| 10/10 [00:10<00:00,  1.07s/it]\n",
            "Local Pariticipant 8 CE = 0.008,InfoNCE = 0.058: 100%|██████████| 10/10 [00:04<00:00,  2.42it/s]\n",
            "Local Pariticipant 3 CE = 0.017,InfoNCE = 0.068: 100%|██████████| 10/10 [00:10<00:00,  1.07s/it]\n",
            "Local Pariticipant 0 CE = 0.011,InfoNCE = 0.062: 100%|██████████| 10/10 [00:10<00:00,  1.03s/it]\n",
            "Local Pariticipant 7 CE = 0.525,InfoNCE = 0.657: 100%|██████████| 10/10 [00:08<00:00,  1.22it/s]\n",
            "Local Pariticipant 2 CE = 0.111,InfoNCE = 0.185: 100%|██████████| 10/10 [00:08<00:00,  1.22it/s]\n",
            "Local Pariticipant 9 CE = 0.011,InfoNCE = 0.070: 100%|██████████| 10/10 [00:05<00:00,  1.97it/s]\n",
            "Local Pariticipant 5 CE = 0.009,InfoNCE = 0.074: 100%|██████████| 10/10 [00:04<00:00,  2.00it/s]\n"
          ]
        },
        {
          "name": "stdout",
          "output_type": "stream",
          "text": [
            "Partition 0: 1 clusters\n",
            "Partition 0: 1 clusters\n",
            "Partition 0: 1 clusters\n",
            "Partition 0: 1 clusters\n",
            "Partition 0: 1 clusters\n",
            "Partition 0: 1 clusters\n",
            "Partition 0: 2 clusters\n",
            "Partition 0: 1 clusters\n",
            "Partition 0: 1 clusters\n",
            "Partition 0: 1 clusters\n",
            "The 32 Communcation Accuracy: 53.06 Method: fpl\n",
            "[62.5, 75.26, 34.48, 40.0]\n"
          ]
        },
        {
          "name": "stderr",
          "output_type": "stream",
          "text": [
            "Local Pariticipant 7 CE = 0.011,InfoNCE = 0.053: 100%|██████████| 10/10 [00:08<00:00,  1.24it/s]\n",
            "Local Pariticipant 5 CE = 0.007,InfoNCE = 0.073: 100%|██████████| 10/10 [00:05<00:00,  2.00it/s]\n",
            "Local Pariticipant 9 CE = 0.006,InfoNCE = 0.055: 100%|██████████| 10/10 [00:05<00:00,  1.97it/s]\n",
            "Local Pariticipant 6 CE = 0.051,InfoNCE = 0.109: 100%|██████████| 10/10 [00:10<00:00,  1.05s/it]\n",
            "Local Pariticipant 4 CE = 0.002,InfoNCE = 0.059: 100%|██████████| 10/10 [00:05<00:00,  1.99it/s]\n",
            "Local Pariticipant 2 CE = 0.114,InfoNCE = 0.152: 100%|██████████| 10/10 [00:07<00:00,  1.25it/s]\n",
            "Local Pariticipant 3 CE = 0.005,InfoNCE = 0.053: 100%|██████████| 10/10 [00:10<00:00,  1.03s/it]\n",
            "Local Pariticipant 0 CE = 0.016,InfoNCE = 0.066: 100%|██████████| 10/10 [00:10<00:00,  1.03s/it]\n",
            "Local Pariticipant 8 CE = 0.007,InfoNCE = 0.054: 100%|██████████| 10/10 [00:03<00:00,  2.99it/s]\n",
            "Local Pariticipant 1 CE = 0.006,InfoNCE = 0.061: 100%|██████████| 10/10 [00:04<00:00,  2.01it/s]\n"
          ]
        },
        {
          "name": "stdout",
          "output_type": "stream",
          "text": [
            "Partition 0: 1 clusters\n",
            "Partition 0: 1 clusters\n",
            "Partition 0: 1 clusters\n",
            "Partition 0: 1 clusters\n",
            "Partition 0: 1 clusters\n",
            "Partition 0: 2 clusters\n",
            "Partition 0: 1 clusters\n",
            "Partition 0: 1 clusters\n",
            "Partition 0: 1 clusters\n",
            "Partition 0: 1 clusters\n",
            "The 33 Communcation Accuracy: 55.22 Method: fpl\n",
            "[61.61, 77.89, 41.38, 40.0]\n"
          ]
        },
        {
          "name": "stderr",
          "output_type": "stream",
          "text": [
            "Local Pariticipant 1 CE = 0.011,InfoNCE = 0.057: 100%|██████████| 10/10 [00:04<00:00,  2.12it/s]\n",
            "Local Pariticipant 0 CE = 0.021,InfoNCE = 0.073: 100%|██████████| 10/10 [00:09<00:00,  1.05it/s]\n",
            "Local Pariticipant 2 CE = 0.020,InfoNCE = 0.070: 100%|██████████| 10/10 [00:07<00:00,  1.36it/s]\n",
            "Local Pariticipant 4 CE = 0.005,InfoNCE = 0.075: 100%|██████████| 10/10 [00:04<00:00,  2.11it/s]\n",
            "Local Pariticipant 8 CE = 0.008,InfoNCE = 0.055: 100%|██████████| 10/10 [00:03<00:00,  2.88it/s]\n",
            "Local Pariticipant 6 CE = 0.007,InfoNCE = 0.055: 100%|██████████| 10/10 [00:10<00:00,  1.02s/it]\n",
            "Local Pariticipant 7 CE = 0.030,InfoNCE = 0.084: 100%|██████████| 10/10 [00:07<00:00,  1.31it/s]\n",
            "Local Pariticipant 5 CE = 0.009,InfoNCE = 0.106: 100%|██████████| 10/10 [00:04<00:00,  2.09it/s]\n",
            "Local Pariticipant 9 CE = 0.020,InfoNCE = 0.079: 100%|██████████| 10/10 [00:04<00:00,  2.11it/s]\n",
            "Local Pariticipant 3 CE = 0.006,InfoNCE = 0.060: 100%|██████████| 10/10 [00:09<00:00,  1.05it/s]\n"
          ]
        },
        {
          "name": "stdout",
          "output_type": "stream",
          "text": [
            "Partition 0: 1 clusters\n",
            "Partition 0: 2 clusters\n",
            "Partition 0: 1 clusters\n",
            "Partition 0: 1 clusters\n",
            "Partition 0: 1 clusters\n",
            "Partition 0: 3 clusters\n",
            "Partition 0: 1 clusters\n",
            "Partition 0: 1 clusters\n",
            "Partition 0: 2 clusters\n",
            "Partition 0: 1 clusters\n",
            "The 34 Communcation Accuracy: 55.455 Method: fpl\n",
            "[61.61, 75.26, 48.28, 36.67]\n"
          ]
        },
        {
          "name": "stderr",
          "output_type": "stream",
          "text": [
            "Local Pariticipant 4 CE = 0.001,InfoNCE = 0.050: 100%|██████████| 10/10 [00:04<00:00,  2.13it/s]\n",
            "Local Pariticipant 2 CE = 0.006,InfoNCE = 0.052: 100%|██████████| 10/10 [00:07<00:00,  1.34it/s]\n",
            "Local Pariticipant 0 CE = 0.005,InfoNCE = 0.056: 100%|██████████| 10/10 [00:09<00:00,  1.04it/s]\n",
            "Local Pariticipant 7 CE = 0.283,InfoNCE = 0.419: 100%|██████████| 10/10 [00:07<00:00,  1.35it/s]\n",
            "Local Pariticipant 8 CE = 0.005,InfoNCE = 0.055: 100%|██████████| 10/10 [00:03<00:00,  3.15it/s]\n",
            "Local Pariticipant 1 CE = 0.007,InfoNCE = 0.066: 100%|██████████| 10/10 [00:05<00:00,  1.89it/s]\n",
            "Local Pariticipant 9 CE = 0.015,InfoNCE = 0.070: 100%|██████████| 10/10 [00:04<00:00,  2.05it/s]\n",
            "Local Pariticipant 6 CE = 0.009,InfoNCE = 0.062: 100%|██████████| 10/10 [00:09<00:00,  1.06it/s]\n",
            "Local Pariticipant 5 CE = 0.003,InfoNCE = 0.053: 100%|██████████| 10/10 [00:04<00:00,  2.07it/s]\n",
            "Local Pariticipant 3 CE = 0.006,InfoNCE = 0.056: 100%|██████████| 10/10 [00:09<00:00,  1.06it/s]\n"
          ]
        },
        {
          "name": "stdout",
          "output_type": "stream",
          "text": [
            "Partition 0: 1 clusters\n",
            "Partition 0: 1 clusters\n",
            "Partition 0: 1 clusters\n",
            "Partition 0: 1 clusters\n",
            "Partition 0: 1 clusters\n",
            "Partition 0: 1 clusters\n",
            "Partition 0: 1 clusters\n",
            "Partition 0: 2 clusters\n",
            "Partition 0: 2 clusters\n",
            "Partition 0: 2 clusters\n",
            "The 35 Communcation Accuracy: 54.565 Method: fpl\n",
            "[59.82, 82.11, 39.66, 36.67]\n"
          ]
        },
        {
          "name": "stderr",
          "output_type": "stream",
          "text": [
            "Local Pariticipant 2 CE = 0.007,InfoNCE = 0.047: 100%|██████████| 10/10 [00:07<00:00,  1.32it/s]\n",
            "Local Pariticipant 9 CE = 0.029,InfoNCE = 0.068: 100%|██████████| 10/10 [00:04<00:00,  2.13it/s]\n",
            "Local Pariticipant 1 CE = 0.003,InfoNCE = 0.055: 100%|██████████| 10/10 [00:04<00:00,  2.11it/s]\n",
            "Local Pariticipant 6 CE = 0.004,InfoNCE = 0.054: 100%|██████████| 10/10 [00:09<00:00,  1.05it/s]\n",
            "Local Pariticipant 4 CE = 0.010,InfoNCE = 0.076: 100%|██████████| 10/10 [00:04<00:00,  2.14it/s]\n",
            "Local Pariticipant 7 CE = 0.141,InfoNCE = 0.224: 100%|██████████| 10/10 [00:07<00:00,  1.35it/s]\n",
            "Local Pariticipant 3 CE = 0.010,InfoNCE = 0.060: 100%|██████████| 10/10 [00:09<00:00,  1.04it/s]\n",
            "Local Pariticipant 0 CE = 0.111,InfoNCE = 0.235: 100%|██████████| 10/10 [00:09<00:00,  1.07it/s]\n",
            "Local Pariticipant 5 CE = 0.015,InfoNCE = 0.074: 100%|██████████| 10/10 [00:04<00:00,  2.13it/s]\n",
            "Local Pariticipant 8 CE = 0.003,InfoNCE = 0.047: 100%|██████████| 10/10 [00:03<00:00,  3.10it/s]\n"
          ]
        },
        {
          "name": "stdout",
          "output_type": "stream",
          "text": [
            "Partition 0: 1 clusters\n",
            "Partition 0: 2 clusters\n",
            "Partition 0: 1 clusters\n",
            "Partition 0: 1 clusters\n",
            "Partition 0: 1 clusters\n",
            "Partition 0: 2 clusters\n",
            "Partition 0: 1 clusters\n",
            "Partition 0: 2 clusters\n",
            "Partition 0: 2 clusters\n",
            "Partition 0: 1 clusters\n",
            "The 36 Communcation Accuracy: 51.977 Method: fpl\n",
            "[60.71, 74.21, 39.66, 33.33]\n"
          ]
        },
        {
          "name": "stderr",
          "output_type": "stream",
          "text": [
            "Local Pariticipant 6 CE = 0.029,InfoNCE = 0.091: 100%|██████████| 10/10 [00:09<00:00,  1.06it/s]\n",
            "Local Pariticipant 7 CE = 0.053,InfoNCE = 0.074: 100%|██████████| 10/10 [00:07<00:00,  1.34it/s]\n",
            "Local Pariticipant 0 CE = 0.006,InfoNCE = 0.053: 100%|██████████| 10/10 [00:09<00:00,  1.07it/s]\n",
            "Local Pariticipant 2 CE = 0.096,InfoNCE = 0.156: 100%|██████████| 10/10 [00:07<00:00,  1.33it/s]\n",
            "Local Pariticipant 4 CE = 0.005,InfoNCE = 0.067: 100%|██████████| 10/10 [00:04<00:00,  2.11it/s]\n",
            "Local Pariticipant 8 CE = 0.007,InfoNCE = 0.055: 100%|██████████| 10/10 [00:03<00:00,  3.18it/s]\n",
            "Local Pariticipant 5 CE = 0.011,InfoNCE = 0.076: 100%|██████████| 10/10 [00:04<00:00,  2.13it/s]\n",
            "Local Pariticipant 3 CE = 0.278,InfoNCE = 0.411: 100%|██████████| 10/10 [00:09<00:00,  1.03it/s]\n",
            "Local Pariticipant 1 CE = 0.013,InfoNCE = 0.080: 100%|██████████| 10/10 [00:04<00:00,  2.14it/s]\n",
            "Local Pariticipant 9 CE = 0.011,InfoNCE = 0.064: 100%|██████████| 10/10 [00:04<00:00,  2.18it/s]\n"
          ]
        },
        {
          "name": "stdout",
          "output_type": "stream",
          "text": [
            "Partition 0: 1 clusters\n",
            "Partition 0: 1 clusters\n",
            "Partition 0: 2 clusters\n",
            "Partition 0: 1 clusters\n",
            "Partition 0: 1 clusters\n",
            "Partition 0: 2 clusters\n",
            "Partition 0: 1 clusters\n",
            "Partition 0: 1 clusters\n",
            "Partition 0: 1 clusters\n",
            "Partition 0: 1 clusters\n",
            "The 37 Communcation Accuracy: 54.765 Method: fpl\n",
            "[59.82, 79.47, 43.1, 36.67]\n"
          ]
        },
        {
          "name": "stderr",
          "output_type": "stream",
          "text": [
            "Local Pariticipant 1 CE = 0.011,InfoNCE = 0.060: 100%|██████████| 10/10 [00:04<00:00,  2.07it/s]\n",
            "Local Pariticipant 9 CE = 0.008,InfoNCE = 0.076: 100%|██████████| 10/10 [00:04<00:00,  2.14it/s]\n",
            "Local Pariticipant 3 CE = 0.020,InfoNCE = 0.071: 100%|██████████| 10/10 [00:09<00:00,  1.07it/s]\n",
            "Local Pariticipant 8 CE = 0.007,InfoNCE = 0.052: 100%|██████████| 10/10 [00:03<00:00,  3.20it/s]\n",
            "Local Pariticipant 6 CE = 0.005,InfoNCE = 0.051: 100%|██████████| 10/10 [00:09<00:00,  1.04it/s]\n",
            "Local Pariticipant 2 CE = 0.285,InfoNCE = 0.397: 100%|██████████| 10/10 [00:07<00:00,  1.36it/s]\n",
            "Local Pariticipant 7 CE = 0.246,InfoNCE = 0.370: 100%|██████████| 10/10 [00:07<00:00,  1.33it/s]\n",
            "Local Pariticipant 4 CE = 0.010,InfoNCE = 0.059: 100%|██████████| 10/10 [00:04<00:00,  2.14it/s]\n",
            "Local Pariticipant 5 CE = 0.053,InfoNCE = 0.081: 100%|██████████| 10/10 [00:04<00:00,  2.11it/s]\n",
            "Local Pariticipant 0 CE = 0.018,InfoNCE = 0.084: 100%|██████████| 10/10 [00:09<00:00,  1.07it/s]\n"
          ]
        },
        {
          "name": "stdout",
          "output_type": "stream",
          "text": [
            "Partition 0: 1 clusters\n",
            "Partition 0: 1 clusters\n",
            "Partition 0: 1 clusters\n",
            "Partition 0: 2 clusters\n",
            "Partition 0: 1 clusters\n",
            "Partition 0: 1 clusters\n",
            "Partition 0: 1 clusters\n",
            "Partition 0: 2 clusters\n",
            "Partition 0: 1 clusters\n",
            "Partition 0: 1 clusters\n",
            "The 38 Communcation Accuracy: 55.438 Method: fpl\n",
            "[59.82, 75.26, 50.0, 36.67]\n"
          ]
        },
        {
          "name": "stderr",
          "output_type": "stream",
          "text": [
            "Local Pariticipant 0 CE = 0.035,InfoNCE = 0.085: 100%|██████████| 10/10 [00:09<00:00,  1.06it/s]\n",
            "Local Pariticipant 2 CE = 0.016,InfoNCE = 0.062: 100%|██████████| 10/10 [00:07<00:00,  1.33it/s]\n",
            "Local Pariticipant 3 CE = 0.136,InfoNCE = 0.210: 100%|██████████| 10/10 [00:09<00:00,  1.05it/s]\n",
            "Local Pariticipant 4 CE = 0.007,InfoNCE = 0.055: 100%|██████████| 10/10 [00:04<00:00,  2.11it/s]\n",
            "Local Pariticipant 8 CE = 0.006,InfoNCE = 0.052: 100%|██████████| 10/10 [00:03<00:00,  3.20it/s]\n",
            "Local Pariticipant 7 CE = 0.091,InfoNCE = 0.108: 100%|██████████| 10/10 [00:07<00:00,  1.35it/s]\n",
            "Local Pariticipant 6 CE = 0.004,InfoNCE = 0.048: 100%|██████████| 10/10 [00:09<00:00,  1.05it/s]\n",
            "Local Pariticipant 1 CE = 0.009,InfoNCE = 0.061: 100%|██████████| 10/10 [00:04<00:00,  2.07it/s]\n",
            "Local Pariticipant 5 CE = 0.015,InfoNCE = 0.069: 100%|██████████| 10/10 [00:04<00:00,  2.15it/s]\n",
            "Local Pariticipant 9 CE = 0.005,InfoNCE = 0.056: 100%|██████████| 10/10 [00:04<00:00,  2.14it/s]\n"
          ]
        },
        {
          "name": "stdout",
          "output_type": "stream",
          "text": [
            "Partition 0: 1 clusters\n",
            "Partition 0: 1 clusters\n",
            "Partition 0: 1 clusters\n",
            "Partition 0: 1 clusters\n",
            "Partition 0: 1 clusters\n",
            "Partition 0: 1 clusters\n",
            "Partition 0: 2 clusters\n",
            "Partition 0: 2 clusters\n",
            "Partition 0: 1 clusters\n",
            "Partition 0: 2 clusters\n",
            "The 39 Communcation Accuracy: 54.785 Method: fpl\n",
            "[63.84, 77.37, 37.93, 40.0]\n"
          ]
        },
        {
          "name": "stderr",
          "output_type": "stream",
          "text": [
            "Local Pariticipant 0 CE = 0.203,InfoNCE = 0.358: 100%|██████████| 10/10 [00:09<00:00,  1.06it/s]\n",
            "Local Pariticipant 6 CE = 0.008,InfoNCE = 0.053: 100%|██████████| 10/10 [00:09<00:00,  1.00it/s]\n",
            "Local Pariticipant 9 CE = 0.005,InfoNCE = 0.047: 100%|██████████| 10/10 [00:04<00:00,  2.11it/s]\n",
            "Local Pariticipant 8 CE = 0.008,InfoNCE = 0.054: 100%|██████████| 10/10 [00:03<00:00,  2.78it/s]\n",
            "Local Pariticipant 1 CE = 0.006,InfoNCE = 0.053: 100%|██████████| 10/10 [00:04<00:00,  2.09it/s]\n",
            "Local Pariticipant 5 CE = 0.006,InfoNCE = 0.068: 100%|██████████| 10/10 [00:04<00:00,  2.05it/s]\n",
            "Local Pariticipant 4 CE = 0.005,InfoNCE = 0.058: 100%|██████████| 10/10 [00:04<00:00,  2.12it/s]\n",
            "Local Pariticipant 7 CE = 0.005,InfoNCE = 0.045: 100%|██████████| 10/10 [00:07<00:00,  1.32it/s]\n",
            "Local Pariticipant 3 CE = 0.003,InfoNCE = 0.049: 100%|██████████| 10/10 [00:09<00:00,  1.05it/s]\n",
            "Local Pariticipant 2 CE = 0.013,InfoNCE = 0.057: 100%|██████████| 10/10 [00:07<00:00,  1.32it/s]\n"
          ]
        },
        {
          "name": "stdout",
          "output_type": "stream",
          "text": [
            "Partition 0: 1 clusters\n",
            "Partition 0: 1 clusters\n",
            "Partition 0: 2 clusters\n",
            "Partition 0: 1 clusters\n",
            "Partition 0: 1 clusters\n",
            "Partition 0: 1 clusters\n",
            "Partition 0: 1 clusters\n",
            "Partition 0: 1 clusters\n",
            "Partition 0: 1 clusters\n",
            "Partition 0: 1 clusters\n",
            "The 40 Communcation Accuracy: 56.09 Method: fpl\n",
            "[63.39, 79.47, 44.83, 36.67]\n"
          ]
        },
        {
          "name": "stderr",
          "output_type": "stream",
          "text": [
            "Local Pariticipant 3 CE = 0.008,InfoNCE = 0.056: 100%|██████████| 10/10 [00:09<00:00,  1.06it/s]\n",
            "Local Pariticipant 6 CE = 0.008,InfoNCE = 0.052: 100%|██████████| 10/10 [00:09<00:00,  1.04it/s]\n",
            "Local Pariticipant 1 CE = 0.012,InfoNCE = 0.065: 100%|██████████| 10/10 [00:04<00:00,  2.13it/s]\n",
            "Local Pariticipant 9 CE = 0.034,InfoNCE = 0.086: 100%|██████████| 10/10 [00:04<00:00,  2.07it/s]\n",
            "Local Pariticipant 7 CE = 0.007,InfoNCE = 0.039: 100%|██████████| 10/10 [00:07<00:00,  1.28it/s]\n",
            "Local Pariticipant 4 CE = 0.002,InfoNCE = 0.047: 100%|██████████| 10/10 [00:04<00:00,  2.07it/s]\n",
            "Local Pariticipant 5 CE = 0.014,InfoNCE = 0.062: 100%|██████████| 10/10 [00:04<00:00,  2.07it/s]\n",
            "Local Pariticipant 2 CE = 0.012,InfoNCE = 0.047: 100%|██████████| 10/10 [00:07<00:00,  1.31it/s]\n",
            "Local Pariticipant 8 CE = 0.008,InfoNCE = 0.051: 100%|██████████| 10/10 [00:03<00:00,  3.16it/s]\n",
            "Local Pariticipant 0 CE = 0.011,InfoNCE = 0.063: 100%|██████████| 10/10 [00:09<00:00,  1.06it/s]\n"
          ]
        },
        {
          "name": "stdout",
          "output_type": "stream",
          "text": [
            "Partition 0: 1 clusters\n",
            "Partition 0: 2 clusters\n",
            "Partition 0: 1 clusters\n",
            "Partition 0: 1 clusters\n",
            "Partition 0: 1 clusters\n",
            "Partition 0: 1 clusters\n",
            "Partition 0: 1 clusters\n",
            "Partition 0: 2 clusters\n",
            "Partition 0: 1 clusters\n",
            "Partition 0: 1 clusters\n",
            "The 41 Communcation Accuracy: 57.77 Method: fpl\n",
            "[61.61, 79.47, 50.0, 40.0]\n"
          ]
        },
        {
          "name": "stderr",
          "output_type": "stream",
          "text": [
            "Local Pariticipant 4 CE = 0.008,InfoNCE = 0.052: 100%|██████████| 10/10 [00:04<00:00,  2.08it/s]\n",
            "Local Pariticipant 6 CE = 0.004,InfoNCE = 0.044: 100%|██████████| 10/10 [00:09<00:00,  1.07it/s]\n",
            "Local Pariticipant 9 CE = 0.007,InfoNCE = 0.054: 100%|██████████| 10/10 [00:04<00:00,  2.15it/s]\n",
            "Local Pariticipant 0 CE = 0.003,InfoNCE = 0.041: 100%|██████████| 10/10 [00:09<00:00,  1.06it/s]\n",
            "Local Pariticipant 5 CE = 0.005,InfoNCE = 0.058: 100%|██████████| 10/10 [00:04<00:00,  2.14it/s]\n",
            "Local Pariticipant 3 CE = 0.002,InfoNCE = 0.046: 100%|██████████| 10/10 [00:09<00:00,  1.06it/s]\n",
            "Local Pariticipant 2 CE = 0.007,InfoNCE = 0.039: 100%|██████████| 10/10 [00:07<00:00,  1.32it/s]\n",
            "Local Pariticipant 1 CE = 0.003,InfoNCE = 0.044: 100%|██████████| 10/10 [00:04<00:00,  2.13it/s]\n",
            "Local Pariticipant 7 CE = 0.029,InfoNCE = 0.063: 100%|██████████| 10/10 [00:07<00:00,  1.35it/s]\n",
            "Local Pariticipant 8 CE = 0.004,InfoNCE = 0.043: 100%|██████████| 10/10 [00:03<00:00,  3.10it/s]\n"
          ]
        },
        {
          "name": "stdout",
          "output_type": "stream",
          "text": [
            "Partition 0: 1 clusters\n",
            "Partition 0: 1 clusters\n",
            "Partition 0: 1 clusters\n",
            "Partition 0: 1 clusters\n",
            "Partition 0: 2 clusters\n",
            "Partition 0: 1 clusters\n",
            "Partition 0: 1 clusters\n",
            "Partition 0: 1 clusters\n",
            "Partition 0: 1 clusters\n",
            "Partition 0: 1 clusters\n",
            "The 42 Communcation Accuracy: 57.3 Method: fpl\n",
            "[62.5, 78.42, 48.28, 40.0]\n"
          ]
        },
        {
          "name": "stderr",
          "output_type": "stream",
          "text": [
            "Local Pariticipant 1 CE = 0.002,InfoNCE = 0.047: 100%|██████████| 10/10 [00:04<00:00,  2.09it/s]\n",
            "Local Pariticipant 5 CE = 0.006,InfoNCE = 0.054: 100%|██████████| 10/10 [00:04<00:00,  2.09it/s]\n",
            "Local Pariticipant 4 CE = 0.002,InfoNCE = 0.043: 100%|██████████| 10/10 [00:04<00:00,  2.14it/s]\n",
            "Local Pariticipant 0 CE = 0.006,InfoNCE = 0.042: 100%|██████████| 10/10 [00:09<00:00,  1.07it/s]\n",
            "Local Pariticipant 8 CE = 0.003,InfoNCE = 0.048: 100%|██████████| 10/10 [00:03<00:00,  3.20it/s]\n",
            "Local Pariticipant 9 CE = 0.002,InfoNCE = 0.044: 100%|██████████| 10/10 [00:04<00:00,  2.16it/s]\n",
            "Local Pariticipant 6 CE = 0.006,InfoNCE = 0.042: 100%|██████████| 10/10 [00:09<00:00,  1.05it/s]\n",
            "Local Pariticipant 2 CE = 0.266,InfoNCE = 0.371: 100%|██████████| 10/10 [00:07<00:00,  1.34it/s]\n",
            "Local Pariticipant 7 CE = 0.005,InfoNCE = 0.037: 100%|██████████| 10/10 [00:07<00:00,  1.35it/s]\n",
            "Local Pariticipant 3 CE = 0.219,InfoNCE = 0.295: 100%|██████████| 10/10 [00:09<00:00,  1.05it/s]\n"
          ]
        },
        {
          "name": "stdout",
          "output_type": "stream",
          "text": [
            "Partition 0: 2 clusters\n",
            "Partition 0: 2 clusters\n",
            "Partition 0: 2 clusters\n",
            "Partition 0: 1 clusters\n",
            "Partition 0: 2 clusters\n",
            "Partition 0: 1 clusters\n",
            "Partition 0: 1 clusters\n",
            "Partition 0: 1 clusters\n",
            "Partition 0: 1 clusters\n",
            "Partition 0: 1 clusters\n",
            "The 43 Communcation Accuracy: 57.323 Method: fpl\n",
            "[63.39, 79.47, 43.1, 43.33]\n"
          ]
        },
        {
          "name": "stderr",
          "output_type": "stream",
          "text": [
            "Local Pariticipant 4 CE = 0.002,InfoNCE = 0.046: 100%|██████████| 10/10 [00:04<00:00,  2.06it/s]\n",
            "Local Pariticipant 0 CE = 0.003,InfoNCE = 0.038: 100%|██████████| 10/10 [00:09<00:00,  1.03it/s]\n",
            "Local Pariticipant 1 CE = 0.003,InfoNCE = 0.045: 100%|██████████| 10/10 [00:04<00:00,  2.11it/s]\n",
            "Local Pariticipant 3 CE = 0.007,InfoNCE = 0.047: 100%|██████████| 10/10 [00:09<00:00,  1.04it/s]\n",
            "Local Pariticipant 8 CE = 0.007,InfoNCE = 0.051: 100%|██████████| 10/10 [00:03<00:00,  3.19it/s]\n",
            "Local Pariticipant 6 CE = 0.006,InfoNCE = 0.042: 100%|██████████| 10/10 [00:09<00:00,  1.06it/s]\n",
            "Local Pariticipant 2 CE = 0.003,InfoNCE = 0.033: 100%|██████████| 10/10 [00:07<00:00,  1.28it/s]\n",
            "Local Pariticipant 5 CE = 0.005,InfoNCE = 0.051: 100%|██████████| 10/10 [00:05<00:00,  1.99it/s]\n",
            "Local Pariticipant 9 CE = 0.003,InfoNCE = 0.040: 100%|██████████| 10/10 [00:04<00:00,  2.08it/s]\n",
            "Local Pariticipant 7 CE = 0.004,InfoNCE = 0.037: 100%|██████████| 10/10 [00:07<00:00,  1.31it/s]\n"
          ]
        },
        {
          "name": "stdout",
          "output_type": "stream",
          "text": [
            "Partition 0: 1 clusters\n",
            "Partition 0: 2 clusters\n",
            "Partition 0: 1 clusters\n",
            "Partition 0: 1 clusters\n",
            "Partition 0: 1 clusters\n",
            "Partition 0: 1 clusters\n",
            "Partition 0: 1 clusters\n",
            "Partition 0: 1 clusters\n",
            "Partition 0: 2 clusters\n",
            "Partition 0: 1 clusters\n",
            "The 44 Communcation Accuracy: 57.3 Method: fpl\n",
            "[62.5, 78.42, 48.28, 40.0]\n"
          ]
        },
        {
          "name": "stderr",
          "output_type": "stream",
          "text": [
            "Local Pariticipant 7 CE = 0.003,InfoNCE = 0.041: 100%|██████████| 10/10 [00:07<00:00,  1.34it/s]\n",
            "Local Pariticipant 6 CE = 0.004,InfoNCE = 0.041: 100%|██████████| 10/10 [00:09<00:00,  1.04it/s]\n",
            "Local Pariticipant 0 CE = 0.040,InfoNCE = 0.077: 100%|██████████| 10/10 [00:09<00:00,  1.06it/s]\n",
            "Local Pariticipant 5 CE = 0.005,InfoNCE = 0.054: 100%|██████████| 10/10 [00:04<00:00,  2.13it/s]\n",
            "Local Pariticipant 2 CE = 0.008,InfoNCE = 0.042: 100%|██████████| 10/10 [00:07<00:00,  1.34it/s]\n",
            "Local Pariticipant 1 CE = 0.003,InfoNCE = 0.044: 100%|██████████| 10/10 [00:04<00:00,  2.04it/s]\n",
            "Local Pariticipant 9 CE = 0.005,InfoNCE = 0.044: 100%|██████████| 10/10 [00:04<00:00,  2.06it/s]\n",
            "Local Pariticipant 3 CE = 0.004,InfoNCE = 0.039: 100%|██████████| 10/10 [00:09<00:00,  1.04it/s]\n",
            "Local Pariticipant 4 CE = 0.002,InfoNCE = 0.039: 100%|██████████| 10/10 [00:04<00:00,  2.15it/s]\n",
            "Local Pariticipant 8 CE = 0.003,InfoNCE = 0.040: 100%|██████████| 10/10 [00:03<00:00,  3.20it/s]\n"
          ]
        },
        {
          "name": "stdout",
          "output_type": "stream",
          "text": [
            "Partition 0: 1 clusters\n",
            "Partition 0: 1 clusters\n",
            "Partition 0: 2 clusters\n",
            "Partition 0: 1 clusters\n",
            "Partition 0: 2 clusters\n",
            "Partition 0: 1 clusters\n",
            "Partition 0: 2 clusters\n",
            "Partition 0: 2 clusters\n",
            "Partition 0: 2 clusters\n",
            "Partition 0: 1 clusters\n",
            "The 45 Communcation Accuracy: 57.262 Method: fpl\n",
            "[61.16, 77.89, 50.0, 40.0]\n"
          ]
        },
        {
          "name": "stderr",
          "output_type": "stream",
          "text": [
            "Local Pariticipant 5 CE = 0.006,InfoNCE = 0.062: 100%|██████████| 10/10 [00:04<00:00,  2.10it/s]\n",
            "Local Pariticipant 6 CE = 0.003,InfoNCE = 0.037: 100%|██████████| 10/10 [00:09<00:00,  1.07it/s]\n",
            "Local Pariticipant 2 CE = 0.059,InfoNCE = 0.093: 100%|██████████| 10/10 [00:07<00:00,  1.34it/s]\n",
            "Local Pariticipant 8 CE = 0.002,InfoNCE = 0.037: 100%|██████████| 10/10 [00:03<00:00,  3.09it/s]\n",
            "Local Pariticipant 1 CE = 0.003,InfoNCE = 0.045: 100%|██████████| 10/10 [00:05<00:00,  1.99it/s]\n",
            "Local Pariticipant 0 CE = 0.006,InfoNCE = 0.042: 100%|██████████| 10/10 [00:09<00:00,  1.03it/s]\n",
            "Local Pariticipant 7 CE = 0.005,InfoNCE = 0.032: 100%|██████████| 10/10 [00:07<00:00,  1.35it/s]\n",
            "Local Pariticipant 9 CE = 0.005,InfoNCE = 0.049: 100%|██████████| 10/10 [00:04<00:00,  2.15it/s]\n",
            "Local Pariticipant 4 CE = 0.003,InfoNCE = 0.044: 100%|██████████| 10/10 [00:04<00:00,  2.16it/s]\n",
            "Local Pariticipant 3 CE = 0.005,InfoNCE = 0.044: 100%|██████████| 10/10 [00:10<00:00,  1.00s/it]\n"
          ]
        },
        {
          "name": "stdout",
          "output_type": "stream",
          "text": [
            "Partition 0: 2 clusters\n",
            "Partition 0: 2 clusters\n",
            "Partition 0: 1 clusters\n",
            "Partition 0: 1 clusters\n",
            "Partition 0: 1 clusters\n",
            "Partition 0: 1 clusters\n",
            "Partition 0: 1 clusters\n",
            "Partition 0: 1 clusters\n",
            "Partition 0: 1 clusters\n",
            "Partition 0: 1 clusters\n",
            "The 46 Communcation Accuracy: 56.725 Method: fpl\n",
            "[62.05, 78.42, 43.1, 43.33]\n"
          ]
        },
        {
          "name": "stderr",
          "output_type": "stream",
          "text": [
            "Local Pariticipant 5 CE = 0.005,InfoNCE = 0.047: 100%|██████████| 10/10 [00:04<00:00,  2.10it/s]\n",
            "Local Pariticipant 3 CE = 0.007,InfoNCE = 0.045: 100%|██████████| 10/10 [00:09<00:00,  1.06it/s]\n",
            "Local Pariticipant 7 CE = 0.170,InfoNCE = 0.326: 100%|██████████| 10/10 [00:07<00:00,  1.30it/s]\n",
            "Local Pariticipant 8 CE = 0.007,InfoNCE = 0.045: 100%|██████████| 10/10 [00:03<00:00,  3.18it/s]\n",
            "Local Pariticipant 4 CE = 0.004,InfoNCE = 0.043: 100%|██████████| 10/10 [00:04<00:00,  2.09it/s]\n",
            "Local Pariticipant 1 CE = 0.006,InfoNCE = 0.043: 100%|██████████| 10/10 [00:04<00:00,  2.07it/s]\n",
            "Local Pariticipant 6 CE = 0.003,InfoNCE = 0.039: 100%|██████████| 10/10 [00:09<00:00,  1.03it/s]\n",
            "Local Pariticipant 2 CE = 0.001,InfoNCE = 0.030: 100%|██████████| 10/10 [00:07<00:00,  1.27it/s]\n",
            "Local Pariticipant 9 CE = 0.002,InfoNCE = 0.039: 100%|██████████| 10/10 [00:04<00:00,  2.01it/s]\n",
            "Local Pariticipant 0 CE = 0.003,InfoNCE = 0.041: 100%|██████████| 10/10 [00:09<00:00,  1.03it/s]\n"
          ]
        },
        {
          "name": "stdout",
          "output_type": "stream",
          "text": [
            "Partition 0: 1 clusters\n",
            "Partition 0: 1 clusters\n",
            "Partition 0: 1 clusters\n",
            "Partition 0: 2 clusters\n",
            "Partition 0: 2 clusters\n",
            "Partition 0: 1 clusters\n",
            "Partition 0: 1 clusters\n",
            "Partition 0: 1 clusters\n",
            "Partition 0: 1 clusters\n",
            "Partition 0: 1 clusters\n",
            "The 47 Communcation Accuracy: 54.545 Method: fpl\n",
            "[60.27, 81.58, 39.66, 36.67]\n"
          ]
        },
        {
          "name": "stderr",
          "output_type": "stream",
          "text": [
            "Local Pariticipant 7 CE = 0.008,InfoNCE = 0.038: 100%|██████████| 10/10 [00:07<00:00,  1.34it/s]\n",
            "Local Pariticipant 1 CE = 0.007,InfoNCE = 0.051: 100%|██████████| 10/10 [00:04<00:00,  2.04it/s]\n",
            "Local Pariticipant 4 CE = 0.002,InfoNCE = 0.041: 100%|██████████| 10/10 [00:04<00:00,  2.14it/s]\n",
            "Local Pariticipant 8 CE = 0.003,InfoNCE = 0.041: 100%|██████████| 10/10 [00:03<00:00,  3.24it/s]\n",
            "Local Pariticipant 0 CE = 0.004,InfoNCE = 0.042: 100%|██████████| 10/10 [00:09<00:00,  1.04it/s]\n",
            "Local Pariticipant 5 CE = 0.006,InfoNCE = 0.049: 100%|██████████| 10/10 [00:04<00:00,  2.08it/s]\n",
            "Local Pariticipant 6 CE = 0.010,InfoNCE = 0.047: 100%|██████████| 10/10 [00:09<00:00,  1.05it/s]\n",
            "Local Pariticipant 9 CE = 0.004,InfoNCE = 0.041: 100%|██████████| 10/10 [00:04<00:00,  2.10it/s]\n",
            "Local Pariticipant 3 CE = 0.004,InfoNCE = 0.039: 100%|██████████| 10/10 [00:09<00:00,  1.04it/s]\n",
            "Local Pariticipant 2 CE = 0.053,InfoNCE = 0.060: 100%|██████████| 10/10 [00:07<00:00,  1.34it/s]\n"
          ]
        },
        {
          "name": "stdout",
          "output_type": "stream",
          "text": [
            "Partition 0: 1 clusters\n",
            "Partition 0: 1 clusters\n",
            "Partition 0: 1 clusters\n",
            "Partition 0: 1 clusters\n",
            "Partition 0: 1 clusters\n",
            "Partition 0: 1 clusters\n",
            "Partition 0: 2 clusters\n",
            "Partition 0: 1 clusters\n",
            "Partition 0: 1 clusters\n",
            "Partition 0: 1 clusters\n",
            "The 48 Communcation Accuracy: 57.778 Method: fpl\n",
            "[61.61, 77.89, 48.28, 43.33]\n"
          ]
        },
        {
          "name": "stderr",
          "output_type": "stream",
          "text": [
            "Local Pariticipant 8 CE = 0.008,InfoNCE = 0.043: 100%|██████████| 10/10 [00:03<00:00,  3.14it/s]\n",
            "Local Pariticipant 5 CE = 0.003,InfoNCE = 0.048: 100%|██████████| 10/10 [00:04<00:00,  2.12it/s]\n",
            "Local Pariticipant 4 CE = 0.004,InfoNCE = 0.042: 100%|██████████| 10/10 [00:04<00:00,  2.15it/s]\n",
            "Local Pariticipant 1 CE = 0.001,InfoNCE = 0.034: 100%|██████████| 10/10 [00:04<00:00,  2.14it/s]\n",
            "Local Pariticipant 3 CE = 0.004,InfoNCE = 0.039: 100%|██████████| 10/10 [00:09<00:00,  1.05it/s]\n",
            "Local Pariticipant 9 CE = 0.007,InfoNCE = 0.048: 100%|██████████| 10/10 [00:04<00:00,  2.12it/s]\n",
            "Local Pariticipant 2 CE = 0.069,InfoNCE = 0.099: 100%|██████████| 10/10 [00:07<00:00,  1.35it/s]\n",
            "Local Pariticipant 6 CE = 0.003,InfoNCE = 0.039: 100%|██████████| 10/10 [00:09<00:00,  1.05it/s]\n",
            "Local Pariticipant 0 CE = 0.003,InfoNCE = 0.038: 100%|██████████| 10/10 [00:09<00:00,  1.03it/s]\n",
            "Local Pariticipant 7 CE = 0.014,InfoNCE = 0.045: 100%|██████████| 10/10 [00:07<00:00,  1.34it/s]\n"
          ]
        },
        {
          "name": "stdout",
          "output_type": "stream",
          "text": [
            "Partition 0: 1 clusters\n",
            "Partition 0: 1 clusters\n",
            "Partition 0: 1 clusters\n",
            "Partition 0: 1 clusters\n",
            "Partition 0: 1 clusters\n",
            "Partition 0: 1 clusters\n",
            "Partition 0: 1 clusters\n",
            "Partition 0: 1 clusters\n",
            "Partition 0: 1 clusters\n",
            "Partition 0: 1 clusters\n",
            "The 49 Communcation Accuracy: 56.938 Method: fpl\n",
            "[60.27, 81.05, 43.1, 43.33]\n"
          ]
        }
      ],
      "source": [
        "%run \"main.py\" --model fpl --dataset fl_officecaltech"
      ]
    },
    {
      "cell_type": "code",
      "execution_count": null,
      "metadata": {
        "id": "vNEox5TOAfBv",
        "outputId": "4d946a09-d0e7-4bb8-b6c1-8cbd8e9cfcb8"
      },
      "outputs": [
        {
          "name": "stdout",
          "output_type": "stream",
          "text": [
            "fedprox_10_fl_officecaltech_50_10\n",
            "./data/fl_officecaltech/fedprox\\para1\n",
            "{'caltech': 3, 'dslr': 4, 'amazon': 2, 'webcam': 1}\n",
            "['caltech', 'dslr', 'amazon', 'caltech', 'dslr', 'dslr', 'caltech', 'amazon', 'webcam', 'dslr']\n"
          ]
        },
        {
          "name": "stderr",
          "output_type": "stream",
          "text": [
            "Local Pariticipant 2 loss = 0.875: 100%|██████████| 10/10 [00:04<00:00,  2.36it/s]\n",
            "Local Pariticipant 9 loss = 1.038: 100%|██████████| 10/10 [00:04<00:00,  2.31it/s]\n",
            "Local Pariticipant 1 loss = 1.054: 100%|██████████| 10/10 [00:04<00:00,  2.37it/s]\n",
            "Local Pariticipant 3 loss = 1.369: 100%|██████████| 10/10 [00:05<00:00,  1.72it/s]\n",
            "Local Pariticipant 6 loss = 1.183: 100%|██████████| 10/10 [00:05<00:00,  1.75it/s]\n",
            "Local Pariticipant 4 loss = 0.780: 100%|██████████| 10/10 [00:04<00:00,  2.40it/s]\n",
            "Local Pariticipant 0 loss = 1.333: 100%|██████████| 10/10 [00:05<00:00,  1.84it/s]\n",
            "Local Pariticipant 5 loss = 1.008: 100%|██████████| 10/10 [00:04<00:00,  2.32it/s]\n",
            "Local Pariticipant 7 loss = 0.803: 100%|██████████| 10/10 [00:04<00:00,  2.42it/s]\n",
            "Local Pariticipant 8 loss = 1.201: 100%|██████████| 10/10 [00:02<00:00,  4.73it/s]\n"
          ]
        },
        {
          "name": "stdout",
          "output_type": "stream",
          "text": [
            "The 0 Communcation Accuracy: 18.638 Method: fedprox\n",
            "[14.29, 24.74, 15.52, 20.0]\n"
          ]
        },
        {
          "name": "stderr",
          "output_type": "stream",
          "text": [
            "Local Pariticipant 0 loss = 1.263: 100%|██████████| 10/10 [00:05<00:00,  1.81it/s]\n",
            "Local Pariticipant 3 loss = 0.975: 100%|██████████| 10/10 [00:05<00:00,  1.79it/s]\n",
            "Local Pariticipant 8 loss = 0.582: 100%|██████████| 10/10 [00:02<00:00,  4.42it/s]\n",
            "Local Pariticipant 4 loss = 0.242: 100%|██████████| 10/10 [00:04<00:00,  2.39it/s]\n",
            "Local Pariticipant 1 loss = 0.419: 100%|██████████| 10/10 [00:04<00:00,  2.37it/s]\n",
            "Local Pariticipant 5 loss = 0.465: 100%|██████████| 10/10 [00:04<00:00,  2.40it/s]\n",
            "Local Pariticipant 2 loss = 0.559: 100%|██████████| 10/10 [00:04<00:00,  2.40it/s]\n",
            "Local Pariticipant 9 loss = 0.350: 100%|██████████| 10/10 [00:04<00:00,  2.38it/s]\n",
            "Local Pariticipant 6 loss = 0.954: 100%|██████████| 10/10 [00:05<00:00,  1.82it/s]\n",
            "Local Pariticipant 7 loss = 0.746: 100%|██████████| 10/10 [00:04<00:00,  2.42it/s]\n"
          ]
        },
        {
          "name": "stdout",
          "output_type": "stream",
          "text": [
            "The 1 Communcation Accuracy: 29.355 Method: fedprox\n",
            "[33.04, 37.37, 10.34, 36.67]\n"
          ]
        },
        {
          "name": "stderr",
          "output_type": "stream",
          "text": [
            "Local Pariticipant 1 loss = 0.237: 100%|██████████| 10/10 [00:04<00:00,  2.32it/s]\n",
            "Local Pariticipant 6 loss = 0.784: 100%|██████████| 10/10 [00:05<00:00,  1.80it/s]\n",
            "Local Pariticipant 8 loss = 0.249: 100%|██████████| 10/10 [00:02<00:00,  4.69it/s]\n",
            "Local Pariticipant 9 loss = 0.162: 100%|██████████| 10/10 [00:04<00:00,  2.39it/s]\n",
            "Local Pariticipant 5 loss = 0.195: 100%|██████████| 10/10 [00:04<00:00,  2.39it/s]\n",
            "Local Pariticipant 3 loss = 0.859: 100%|██████████| 10/10 [00:05<00:00,  1.81it/s]\n",
            "Local Pariticipant 0 loss = 1.027: 100%|██████████| 10/10 [00:05<00:00,  1.82it/s]\n",
            "Local Pariticipant 2 loss = 0.516: 100%|██████████| 10/10 [00:04<00:00,  2.28it/s]\n",
            "Local Pariticipant 4 loss = 0.093: 100%|██████████| 10/10 [00:04<00:00,  2.34it/s]\n",
            "Local Pariticipant 7 loss = 0.648: 100%|██████████| 10/10 [00:04<00:00,  2.40it/s]\n"
          ]
        },
        {
          "name": "stdout",
          "output_type": "stream",
          "text": [
            "The 2 Communcation Accuracy: 35.88 Method: fedprox\n",
            "[38.39, 54.21, 27.59, 23.33]\n"
          ]
        },
        {
          "name": "stderr",
          "output_type": "stream",
          "text": [
            "Local Pariticipant 0 loss = 0.540: 100%|██████████| 10/10 [00:05<00:00,  1.83it/s]\n",
            "Local Pariticipant 2 loss = 0.518: 100%|██████████| 10/10 [00:04<00:00,  2.42it/s]\n",
            "Local Pariticipant 7 loss = 0.376: 100%|██████████| 10/10 [00:04<00:00,  2.35it/s]\n",
            "Local Pariticipant 4 loss = 0.096: 100%|██████████| 10/10 [00:04<00:00,  2.37it/s]\n",
            "Local Pariticipant 1 loss = 0.134: 100%|██████████| 10/10 [00:04<00:00,  2.26it/s]\n",
            "Local Pariticipant 9 loss = 0.079: 100%|██████████| 10/10 [00:04<00:00,  2.36it/s]\n",
            "Local Pariticipant 3 loss = 0.741: 100%|██████████| 10/10 [00:05<00:00,  1.69it/s]\n",
            "Local Pariticipant 6 loss = 0.648: 100%|██████████| 10/10 [00:05<00:00,  1.69it/s]\n",
            "Local Pariticipant 8 loss = 0.132: 100%|██████████| 10/10 [00:02<00:00,  4.53it/s]\n",
            "Local Pariticipant 5 loss = 0.170: 100%|██████████| 10/10 [00:04<00:00,  2.26it/s]\n"
          ]
        },
        {
          "name": "stdout",
          "output_type": "stream",
          "text": [
            "The 3 Communcation Accuracy: 40.478 Method: fedprox\n",
            "[41.52, 55.79, 37.93, 26.67]\n"
          ]
        },
        {
          "name": "stderr",
          "output_type": "stream",
          "text": [
            "Local Pariticipant 8 loss = 0.094: 100%|██████████| 10/10 [00:02<00:00,  4.66it/s]\n",
            "Local Pariticipant 7 loss = 0.608: 100%|██████████| 10/10 [00:04<00:00,  2.39it/s]\n",
            "Local Pariticipant 6 loss = 0.461: 100%|██████████| 10/10 [00:05<00:00,  1.74it/s]\n",
            "Local Pariticipant 4 loss = 0.072: 100%|██████████| 10/10 [00:04<00:00,  2.33it/s]\n",
            "Local Pariticipant 9 loss = 0.080: 100%|██████████| 10/10 [00:04<00:00,  2.35it/s]\n",
            "Local Pariticipant 3 loss = 0.732: 100%|██████████| 10/10 [00:05<00:00,  1.78it/s]\n",
            "Local Pariticipant 5 loss = 0.114: 100%|██████████| 10/10 [00:04<00:00,  2.26it/s]\n",
            "Local Pariticipant 1 loss = 0.138: 100%|██████████| 10/10 [00:04<00:00,  2.28it/s]\n",
            "Local Pariticipant 2 loss = 0.446: 100%|██████████| 10/10 [00:04<00:00,  2.32it/s]\n",
            "Local Pariticipant 0 loss = 0.594: 100%|██████████| 10/10 [00:05<00:00,  1.71it/s]\n"
          ]
        },
        {
          "name": "stdout",
          "output_type": "stream",
          "text": [
            "The 4 Communcation Accuracy: 42.32 Method: fedprox\n",
            "[43.75, 61.05, 34.48, 30.0]\n"
          ]
        },
        {
          "name": "stderr",
          "output_type": "stream",
          "text": [
            "Local Pariticipant 3 loss = 0.520: 100%|██████████| 10/10 [00:05<00:00,  1.75it/s]\n",
            "Local Pariticipant 5 loss = 0.064: 100%|██████████| 10/10 [00:04<00:00,  2.24it/s]\n",
            "Local Pariticipant 4 loss = 0.047: 100%|██████████| 10/10 [00:04<00:00,  2.38it/s]\n",
            "Local Pariticipant 6 loss = 0.322: 100%|██████████| 10/10 [00:05<00:00,  1.80it/s]\n",
            "Local Pariticipant 8 loss = 0.088: 100%|██████████| 10/10 [00:02<00:00,  4.66it/s]\n",
            "Local Pariticipant 7 loss = 0.486: 100%|██████████| 10/10 [00:04<00:00,  2.39it/s]\n",
            "Local Pariticipant 1 loss = 0.083: 100%|██████████| 10/10 [00:04<00:00,  2.34it/s]\n",
            "Local Pariticipant 9 loss = 0.046: 100%|██████████| 10/10 [00:04<00:00,  2.28it/s]\n",
            "Local Pariticipant 0 loss = 0.591: 100%|██████████| 10/10 [00:05<00:00,  1.76it/s]\n",
            "Local Pariticipant 2 loss = 0.466: 100%|██████████| 10/10 [00:04<00:00,  2.38it/s]\n"
          ]
        },
        {
          "name": "stdout",
          "output_type": "stream",
          "text": [
            "The 5 Communcation Accuracy: 40.367 Method: fedprox\n",
            "[46.43, 58.95, 32.76, 23.33]\n"
          ]
        },
        {
          "name": "stderr",
          "output_type": "stream",
          "text": [
            "Local Pariticipant 0 loss = 0.607: 100%|██████████| 10/10 [00:05<00:00,  1.82it/s]\n",
            "Local Pariticipant 7 loss = 0.491: 100%|██████████| 10/10 [00:04<00:00,  2.14it/s]\n",
            "Local Pariticipant 1 loss = 0.041: 100%|██████████| 10/10 [00:04<00:00,  2.22it/s]\n",
            "Local Pariticipant 8 loss = 0.114: 100%|██████████| 10/10 [00:02<00:00,  4.62it/s]\n",
            "Local Pariticipant 9 loss = 0.031: 100%|██████████| 10/10 [00:04<00:00,  2.30it/s]\n",
            "Local Pariticipant 6 loss = 0.973: 100%|██████████| 10/10 [00:05<00:00,  1.82it/s]\n",
            "Local Pariticipant 3 loss = 0.353: 100%|██████████| 10/10 [00:05<00:00,  1.80it/s]\n",
            "Local Pariticipant 2 loss = 0.130: 100%|██████████| 10/10 [00:04<00:00,  2.35it/s]\n",
            "Local Pariticipant 4 loss = 0.031: 100%|██████████| 10/10 [00:04<00:00,  2.33it/s]\n",
            "Local Pariticipant 5 loss = 0.068: 100%|██████████| 10/10 [00:04<00:00,  2.36it/s]\n"
          ]
        },
        {
          "name": "stdout",
          "output_type": "stream",
          "text": [
            "The 6 Communcation Accuracy: 44.225 Method: fedprox\n",
            "[42.86, 61.05, 39.66, 33.33]\n"
          ]
        },
        {
          "name": "stderr",
          "output_type": "stream",
          "text": [
            "Local Pariticipant 0 loss = 0.436: 100%|██████████| 10/10 [00:05<00:00,  1.82it/s]\n",
            "Local Pariticipant 4 loss = 0.046: 100%|██████████| 10/10 [00:04<00:00,  2.28it/s]\n",
            "Local Pariticipant 8 loss = 0.102: 100%|██████████| 10/10 [00:02<00:00,  4.73it/s]\n",
            "Local Pariticipant 2 loss = 0.208: 100%|██████████| 10/10 [00:04<00:00,  2.39it/s]\n",
            "Local Pariticipant 9 loss = 0.033: 100%|██████████| 10/10 [00:04<00:00,  2.36it/s]\n",
            "Local Pariticipant 7 loss = 0.593: 100%|██████████| 10/10 [00:04<00:00,  2.40it/s]\n",
            "Local Pariticipant 3 loss = 0.450: 100%|██████████| 10/10 [00:05<00:00,  1.77it/s]\n",
            "Local Pariticipant 1 loss = 0.057: 100%|██████████| 10/10 [00:04<00:00,  2.32it/s]\n",
            "Local Pariticipant 6 loss = 0.139: 100%|██████████| 10/10 [00:05<00:00,  1.80it/s]\n",
            "Local Pariticipant 5 loss = 0.023: 100%|██████████| 10/10 [00:04<00:00,  2.23it/s]\n"
          ]
        },
        {
          "name": "stdout",
          "output_type": "stream",
          "text": [
            "The 7 Communcation Accuracy: 45.192 Method: fedprox\n",
            "[52.68, 62.11, 29.31, 36.67]\n"
          ]
        },
        {
          "name": "stderr",
          "output_type": "stream",
          "text": [
            "Local Pariticipant 6 loss = 0.345: 100%|██████████| 10/10 [00:05<00:00,  1.74it/s]\n",
            "Local Pariticipant 5 loss = 0.047: 100%|██████████| 10/10 [00:04<00:00,  2.38it/s]\n",
            "Local Pariticipant 8 loss = 0.051: 100%|██████████| 10/10 [00:02<00:00,  4.64it/s]\n",
            "Local Pariticipant 9 loss = 0.030: 100%|██████████| 10/10 [00:04<00:00,  2.38it/s]\n",
            "Local Pariticipant 3 loss = 0.277: 100%|██████████| 10/10 [00:05<00:00,  1.81it/s]\n",
            "Local Pariticipant 7 loss = 0.313: 100%|██████████| 10/10 [00:04<00:00,  2.40it/s]\n",
            "Local Pariticipant 1 loss = 0.040: 100%|██████████| 10/10 [00:04<00:00,  2.33it/s]\n",
            "Local Pariticipant 0 loss = 0.237: 100%|██████████| 10/10 [00:05<00:00,  1.77it/s]\n",
            "Local Pariticipant 2 loss = 0.327: 100%|██████████| 10/10 [00:04<00:00,  2.37it/s]\n",
            "Local Pariticipant 4 loss = 0.023: 100%|██████████| 10/10 [00:04<00:00,  2.37it/s]\n"
          ]
        },
        {
          "name": "stdout",
          "output_type": "stream",
          "text": [
            "The 8 Communcation Accuracy: 45.275 Method: fedprox\n",
            "[51.79, 66.32, 39.66, 23.33]\n"
          ]
        },
        {
          "name": "stderr",
          "output_type": "stream",
          "text": [
            "Local Pariticipant 0 loss = 0.366: 100%|██████████| 10/10 [00:05<00:00,  1.84it/s]\n",
            "Local Pariticipant 2 loss = 0.577: 100%|██████████| 10/10 [00:04<00:00,  2.37it/s]\n",
            "Local Pariticipant 3 loss = 0.319: 100%|██████████| 10/10 [00:05<00:00,  1.80it/s]\n",
            "Local Pariticipant 4 loss = 0.022: 100%|██████████| 10/10 [00:04<00:00,  2.38it/s]\n",
            "Local Pariticipant 1 loss = 0.058: 100%|██████████| 10/10 [00:04<00:00,  2.27it/s]\n",
            "Local Pariticipant 9 loss = 0.024: 100%|██████████| 10/10 [00:04<00:00,  2.38it/s]\n",
            "Local Pariticipant 7 loss = 0.274: 100%|██████████| 10/10 [00:04<00:00,  2.41it/s]\n",
            "Local Pariticipant 5 loss = 0.025: 100%|██████████| 10/10 [00:04<00:00,  2.28it/s]\n",
            "Local Pariticipant 8 loss = 0.048: 100%|██████████| 10/10 [00:02<00:00,  4.66it/s]\n",
            "Local Pariticipant 6 loss = 0.265: 100%|██████████| 10/10 [00:05<00:00,  1.77it/s]\n"
          ]
        },
        {
          "name": "stdout",
          "output_type": "stream",
          "text": [
            "The 9 Communcation Accuracy: 41.287 Method: fedprox\n",
            "[49.11, 63.16, 36.21, 16.67]\n"
          ]
        },
        {
          "name": "stderr",
          "output_type": "stream",
          "text": [
            "Local Pariticipant 5 loss = 0.064: 100%|██████████| 10/10 [00:04<00:00,  2.34it/s]\n",
            "Local Pariticipant 4 loss = 0.031: 100%|██████████| 10/10 [00:04<00:00,  2.36it/s]\n",
            "Local Pariticipant 3 loss = 0.160: 100%|██████████| 10/10 [00:05<00:00,  1.70it/s]\n",
            "Local Pariticipant 1 loss = 0.020: 100%|██████████| 10/10 [00:04<00:00,  2.34it/s]\n",
            "Local Pariticipant 2 loss = 0.248: 100%|██████████| 10/10 [00:04<00:00,  2.40it/s]\n",
            "Local Pariticipant 7 loss = 0.427: 100%|██████████| 10/10 [00:04<00:00,  2.41it/s]\n",
            "Local Pariticipant 6 loss = 0.387: 100%|██████████| 10/10 [00:05<00:00,  1.81it/s]\n",
            "Local Pariticipant 9 loss = 0.021: 100%|██████████| 10/10 [00:04<00:00,  2.38it/s]\n",
            "Local Pariticipant 8 loss = 0.086: 100%|██████████| 10/10 [00:02<00:00,  4.24it/s]\n",
            "Local Pariticipant 0 loss = 0.221: 100%|██████████| 10/10 [00:05<00:00,  1.70it/s]\n"
          ]
        },
        {
          "name": "stdout",
          "output_type": "stream",
          "text": [
            "The 10 Communcation Accuracy: 41.808 Method: fedprox\n",
            "[51.34, 54.74, 34.48, 26.67]\n"
          ]
        },
        {
          "name": "stderr",
          "output_type": "stream",
          "text": [
            "Local Pariticipant 3 loss = 0.235: 100%|██████████| 10/10 [00:05<00:00,  1.70it/s]\n",
            "Local Pariticipant 5 loss = 0.037: 100%|██████████| 10/10 [00:04<00:00,  2.29it/s]\n",
            "Local Pariticipant 6 loss = 0.129: 100%|██████████| 10/10 [00:05<00:00,  1.76it/s]\n",
            "Local Pariticipant 2 loss = 0.279: 100%|██████████| 10/10 [00:04<00:00,  2.38it/s]\n",
            "Local Pariticipant 9 loss = 0.041: 100%|██████████| 10/10 [00:04<00:00,  2.30it/s]\n",
            "Local Pariticipant 8 loss = 0.041: 100%|██████████| 10/10 [00:02<00:00,  4.69it/s]\n",
            "Local Pariticipant 0 loss = 0.299: 100%|██████████| 10/10 [00:05<00:00,  1.82it/s]\n",
            "Local Pariticipant 7 loss = 0.276: 100%|██████████| 10/10 [00:04<00:00,  2.22it/s]\n",
            "Local Pariticipant 1 loss = 0.020: 100%|██████████| 10/10 [00:04<00:00,  2.33it/s]\n",
            "Local Pariticipant 4 loss = 0.049: 100%|██████████| 10/10 [00:04<00:00,  2.30it/s]\n"
          ]
        },
        {
          "name": "stdout",
          "output_type": "stream",
          "text": [
            "The 11 Communcation Accuracy: 45.235 Method: fedprox\n",
            "[51.79, 67.89, 37.93, 23.33]\n"
          ]
        },
        {
          "name": "stderr",
          "output_type": "stream",
          "text": [
            "Local Pariticipant 3 loss = 0.133: 100%|██████████| 10/10 [00:05<00:00,  1.68it/s]\n",
            "Local Pariticipant 6 loss = 0.074: 100%|██████████| 10/10 [00:05<00:00,  1.76it/s]\n",
            "Local Pariticipant 1 loss = 0.023: 100%|██████████| 10/10 [00:04<00:00,  2.35it/s]\n",
            "Local Pariticipant 8 loss = 0.031: 100%|██████████| 10/10 [00:02<00:00,  4.71it/s]\n",
            "Local Pariticipant 9 loss = 0.030: 100%|██████████| 10/10 [00:04<00:00,  2.35it/s]\n",
            "Local Pariticipant 2 loss = 0.322: 100%|██████████| 10/10 [00:04<00:00,  2.40it/s]\n",
            "Local Pariticipant 4 loss = 0.012: 100%|██████████| 10/10 [00:04<00:00,  2.30it/s]\n",
            "Local Pariticipant 7 loss = 0.264: 100%|██████████| 10/10 [00:04<00:00,  2.41it/s]\n",
            "Local Pariticipant 0 loss = 0.218: 100%|██████████| 10/10 [00:05<00:00,  1.83it/s]\n",
            "Local Pariticipant 5 loss = 0.037: 100%|██████████| 10/10 [00:04<00:00,  2.40it/s]\n"
          ]
        },
        {
          "name": "stdout",
          "output_type": "stream",
          "text": [
            "The 12 Communcation Accuracy: 42.252 Method: fedprox\n",
            "[54.02, 62.11, 36.21, 16.67]\n"
          ]
        },
        {
          "name": "stderr",
          "output_type": "stream",
          "text": [
            "Local Pariticipant 3 loss = 0.194: 100%|██████████| 10/10 [00:05<00:00,  1.82it/s]\n",
            "Local Pariticipant 8 loss = 0.025: 100%|██████████| 10/10 [00:02<00:00,  4.66it/s]\n",
            "Local Pariticipant 7 loss = 0.084: 100%|██████████| 10/10 [00:04<00:00,  2.39it/s]\n",
            "Local Pariticipant 9 loss = 0.026: 100%|██████████| 10/10 [00:04<00:00,  2.38it/s]\n",
            "Local Pariticipant 1 loss = 0.076: 100%|██████████| 10/10 [00:04<00:00,  2.26it/s]\n",
            "Local Pariticipant 4 loss = 0.036: 100%|██████████| 10/10 [00:04<00:00,  2.39it/s]\n",
            "Local Pariticipant 0 loss = 0.068: 100%|██████████| 10/10 [00:05<00:00,  1.85it/s]\n",
            "Local Pariticipant 6 loss = 0.092: 100%|██████████| 10/10 [00:05<00:00,  1.81it/s]\n",
            "Local Pariticipant 2 loss = 0.278: 100%|██████████| 10/10 [00:04<00:00,  2.42it/s]\n",
            "Local Pariticipant 5 loss = 0.024: 100%|██████████| 10/10 [00:04<00:00,  2.32it/s]\n"
          ]
        },
        {
          "name": "stdout",
          "output_type": "stream",
          "text": [
            "The 13 Communcation Accuracy: 45.765 Method: fedprox\n",
            "[53.12, 66.84, 43.1, 20.0]\n"
          ]
        },
        {
          "name": "stderr",
          "output_type": "stream",
          "text": [
            "Local Pariticipant 7 loss = 0.515: 100%|██████████| 10/10 [00:04<00:00,  2.35it/s]\n",
            "Local Pariticipant 0 loss = 0.298: 100%|██████████| 10/10 [00:05<00:00,  1.81it/s]\n",
            "Local Pariticipant 4 loss = 0.007: 100%|██████████| 10/10 [00:04<00:00,  2.27it/s]\n",
            "Local Pariticipant 2 loss = 0.258: 100%|██████████| 10/10 [00:04<00:00,  2.39it/s]\n",
            "Local Pariticipant 6 loss = 0.049: 100%|██████████| 10/10 [00:05<00:00,  1.80it/s]\n",
            "Local Pariticipant 1 loss = 0.013: 100%|██████████| 10/10 [00:04<00:00,  2.37it/s]\n",
            "Local Pariticipant 9 loss = 0.013: 100%|██████████| 10/10 [00:04<00:00,  2.37it/s]\n",
            "Local Pariticipant 3 loss = 0.184: 100%|██████████| 10/10 [00:05<00:00,  1.80it/s]\n",
            "Local Pariticipant 8 loss = 0.042: 100%|██████████| 10/10 [00:02<00:00,  4.69it/s]\n",
            "Local Pariticipant 5 loss = 0.028: 100%|██████████| 10/10 [00:04<00:00,  2.35it/s]\n"
          ]
        },
        {
          "name": "stdout",
          "output_type": "stream",
          "text": [
            "The 14 Communcation Accuracy: 46.573 Method: fedprox\n",
            "[54.46, 68.95, 36.21, 26.67]\n"
          ]
        },
        {
          "name": "stderr",
          "output_type": "stream",
          "text": [
            "Local Pariticipant 8 loss = 0.041: 100%|██████████| 10/10 [00:02<00:00,  4.63it/s]\n",
            "Local Pariticipant 5 loss = 0.009: 100%|██████████| 10/10 [00:04<00:00,  2.25it/s]\n",
            "Local Pariticipant 2 loss = 0.101: 100%|██████████| 10/10 [00:04<00:00,  2.43it/s]\n",
            "Local Pariticipant 9 loss = 0.033: 100%|██████████| 10/10 [00:04<00:00,  2.33it/s]\n",
            "Local Pariticipant 7 loss = 0.276: 100%|██████████| 10/10 [00:04<00:00,  2.42it/s]\n",
            "Local Pariticipant 4 loss = 0.020: 100%|██████████| 10/10 [00:04<00:00,  2.29it/s]\n",
            "Local Pariticipant 3 loss = 0.107: 100%|██████████| 10/10 [00:05<00:00,  1.81it/s]\n",
            "Local Pariticipant 6 loss = 0.233: 100%|██████████| 10/10 [00:05<00:00,  1.76it/s]\n",
            "Local Pariticipant 0 loss = 0.318: 100%|██████████| 10/10 [00:05<00:00,  1.69it/s]\n",
            "Local Pariticipant 1 loss = 0.044: 100%|██████████| 10/10 [00:04<00:00,  2.33it/s]\n"
          ]
        },
        {
          "name": "stdout",
          "output_type": "stream",
          "text": [
            "The 15 Communcation Accuracy: 44.995 Method: fedprox\n",
            "[53.12, 70.53, 39.66, 16.67]\n"
          ]
        },
        {
          "name": "stderr",
          "output_type": "stream",
          "text": [
            "Local Pariticipant 6 loss = 0.161: 100%|██████████| 10/10 [00:05<00:00,  1.81it/s]\n",
            "Local Pariticipant 1 loss = 0.017: 100%|██████████| 10/10 [00:04<00:00,  2.35it/s]\n",
            "Local Pariticipant 3 loss = 0.217: 100%|██████████| 10/10 [00:05<00:00,  1.81it/s]\n",
            "Local Pariticipant 0 loss = 0.034: 100%|██████████| 10/10 [00:05<00:00,  1.82it/s]\n",
            "Local Pariticipant 8 loss = 0.025: 100%|██████████| 10/10 [00:02<00:00,  4.67it/s]\n",
            "Local Pariticipant 7 loss = 0.159: 100%|██████████| 10/10 [00:04<00:00,  2.40it/s]\n",
            "Local Pariticipant 2 loss = 0.169: 100%|██████████| 10/10 [00:04<00:00,  2.31it/s]\n",
            "Local Pariticipant 4 loss = 0.037: 100%|██████████| 10/10 [00:04<00:00,  2.36it/s]\n",
            "Local Pariticipant 9 loss = 0.035: 100%|██████████| 10/10 [00:04<00:00,  2.36it/s]\n",
            "Local Pariticipant 5 loss = 0.020: 100%|██████████| 10/10 [00:04<00:00,  2.37it/s]\n"
          ]
        },
        {
          "name": "stdout",
          "output_type": "stream",
          "text": [
            "The 16 Communcation Accuracy: 44.86 Method: fedprox\n",
            "[52.68, 68.95, 34.48, 23.33]\n"
          ]
        },
        {
          "name": "stderr",
          "output_type": "stream",
          "text": [
            "Local Pariticipant 8 loss = 0.019: 100%|██████████| 10/10 [00:02<00:00,  3.89it/s]\n",
            "Local Pariticipant 2 loss = 0.141: 100%|██████████| 10/10 [00:04<00:00,  2.14it/s]\n",
            "Local Pariticipant 4 loss = 0.100: 100%|██████████| 10/10 [00:04<00:00,  2.15it/s]\n",
            "Local Pariticipant 6 loss = 0.045: 100%|██████████| 10/10 [00:05<00:00,  1.67it/s]\n",
            "Local Pariticipant 0 loss = 0.070: 100%|██████████| 10/10 [00:05<00:00,  1.79it/s]\n",
            "Local Pariticipant 3 loss = 0.205: 100%|██████████| 10/10 [00:05<00:00,  1.82it/s]\n",
            "Local Pariticipant 9 loss = 0.010: 100%|██████████| 10/10 [00:04<00:00,  2.38it/s]\n",
            "Local Pariticipant 5 loss = 0.003: 100%|██████████| 10/10 [00:04<00:00,  2.38it/s]\n",
            "Local Pariticipant 7 loss = 0.107: 100%|██████████| 10/10 [00:04<00:00,  2.44it/s]\n",
            "Local Pariticipant 1 loss = 0.014: 100%|██████████| 10/10 [00:04<00:00,  2.29it/s]\n"
          ]
        },
        {
          "name": "stdout",
          "output_type": "stream",
          "text": [
            "The 17 Communcation Accuracy: 45.062 Method: fedprox\n",
            "[51.79, 70.53, 37.93, 20.0]\n"
          ]
        },
        {
          "name": "stderr",
          "output_type": "stream",
          "text": [
            "Local Pariticipant 3 loss = 0.309: 100%|██████████| 10/10 [00:05<00:00,  1.80it/s]\n",
            "Local Pariticipant 4 loss = 0.005: 100%|██████████| 10/10 [00:04<00:00,  2.35it/s]\n",
            "Local Pariticipant 6 loss = 0.155: 100%|██████████| 10/10 [00:05<00:00,  1.75it/s]\n",
            "Local Pariticipant 0 loss = 0.054: 100%|██████████| 10/10 [00:05<00:00,  1.82it/s]\n",
            "Local Pariticipant 9 loss = 0.012: 100%|██████████| 10/10 [00:04<00:00,  2.36it/s]\n",
            "Local Pariticipant 1 loss = 0.024: 100%|██████████| 10/10 [00:04<00:00,  2.27it/s]\n",
            "Local Pariticipant 2 loss = 0.099: 100%|██████████| 10/10 [00:04<00:00,  2.39it/s]\n",
            "Local Pariticipant 8 loss = 0.011: 100%|██████████| 10/10 [00:02<00:00,  4.69it/s]\n",
            "Local Pariticipant 7 loss = 0.315: 100%|██████████| 10/10 [00:04<00:00,  2.35it/s]\n",
            "Local Pariticipant 5 loss = 0.021: 100%|██████████| 10/10 [00:04<00:00,  2.34it/s]\n"
          ]
        },
        {
          "name": "stdout",
          "output_type": "stream",
          "text": [
            "The 18 Communcation Accuracy: 45.823 Method: fedprox\n",
            "[53.57, 66.84, 36.21, 26.67]\n"
          ]
        },
        {
          "name": "stderr",
          "output_type": "stream",
          "text": [
            "Local Pariticipant 6 loss = 0.027: 100%|██████████| 10/10 [00:05<00:00,  1.74it/s]\n",
            "Local Pariticipant 7 loss = 0.179: 100%|██████████| 10/10 [00:04<00:00,  2.38it/s]\n",
            "Local Pariticipant 0 loss = 0.115: 100%|██████████| 10/10 [00:05<00:00,  1.83it/s]\n",
            "Local Pariticipant 5 loss = 0.016: 100%|██████████| 10/10 [00:04<00:00,  2.38it/s]\n",
            "Local Pariticipant 2 loss = 0.274: 100%|██████████| 10/10 [00:04<00:00,  2.39it/s]\n",
            "Local Pariticipant 8 loss = 0.048: 100%|██████████| 10/10 [00:02<00:00,  4.44it/s]\n",
            "Local Pariticipant 9 loss = 0.024: 100%|██████████| 10/10 [00:04<00:00,  2.37it/s]\n",
            "Local Pariticipant 1 loss = 0.013: 100%|██████████| 10/10 [00:04<00:00,  2.37it/s]\n",
            "Local Pariticipant 3 loss = 0.202: 100%|██████████| 10/10 [00:05<00:00,  1.80it/s]\n",
            "Local Pariticipant 4 loss = 0.013: 100%|██████████| 10/10 [00:04<00:00,  2.29it/s]\n"
          ]
        },
        {
          "name": "stdout",
          "output_type": "stream",
          "text": [
            "The 19 Communcation Accuracy: 45.805 Method: fedprox\n",
            "[54.02, 66.32, 36.21, 26.67]\n"
          ]
        },
        {
          "name": "stderr",
          "output_type": "stream",
          "text": [
            "Local Pariticipant 4 loss = 0.007: 100%|██████████| 10/10 [00:04<00:00,  2.38it/s]\n",
            "Local Pariticipant 8 loss = 0.013: 100%|██████████| 10/10 [00:02<00:00,  4.73it/s]\n",
            "Local Pariticipant 9 loss = 0.008: 100%|██████████| 10/10 [00:04<00:00,  2.36it/s]\n",
            "Local Pariticipant 5 loss = 0.006: 100%|██████████| 10/10 [00:04<00:00,  2.37it/s]\n",
            "Local Pariticipant 7 loss = 0.127: 100%|██████████| 10/10 [00:04<00:00,  2.40it/s]\n",
            "Local Pariticipant 6 loss = 0.156: 100%|██████████| 10/10 [00:05<00:00,  1.77it/s]\n",
            "Local Pariticipant 1 loss = 0.019: 100%|██████████| 10/10 [00:04<00:00,  2.37it/s]\n",
            "Local Pariticipant 2 loss = 0.328: 100%|██████████| 10/10 [00:04<00:00,  2.41it/s]\n",
            "Local Pariticipant 0 loss = 0.091: 100%|██████████| 10/10 [00:05<00:00,  1.78it/s]\n",
            "Local Pariticipant 3 loss = 0.117: 100%|██████████| 10/10 [00:05<00:00,  1.81it/s]\n"
          ]
        },
        {
          "name": "stdout",
          "output_type": "stream",
          "text": [
            "The 20 Communcation Accuracy: 43.757 Method: fedprox\n",
            "[53.12, 64.21, 31.03, 26.67]\n"
          ]
        },
        {
          "name": "stderr",
          "output_type": "stream",
          "text": [
            "Local Pariticipant 0 loss = 0.044: 100%|██████████| 10/10 [00:05<00:00,  1.85it/s]\n",
            "Local Pariticipant 3 loss = 0.108: 100%|██████████| 10/10 [00:05<00:00,  1.84it/s]\n",
            "Local Pariticipant 8 loss = 0.015: 100%|██████████| 10/10 [00:02<00:00,  4.68it/s]\n",
            "Local Pariticipant 2 loss = 0.159: 100%|██████████| 10/10 [00:04<00:00,  2.41it/s]\n",
            "Local Pariticipant 6 loss = 0.048: 100%|██████████| 10/10 [00:05<00:00,  1.80it/s]\n",
            "Local Pariticipant 1 loss = 0.017: 100%|██████████| 10/10 [00:04<00:00,  2.26it/s]\n",
            "Local Pariticipant 4 loss = 0.006: 100%|██████████| 10/10 [00:04<00:00,  2.37it/s]\n",
            "Local Pariticipant 7 loss = 0.149: 100%|██████████| 10/10 [00:04<00:00,  2.41it/s]\n",
            "Local Pariticipant 5 loss = 0.011: 100%|██████████| 10/10 [00:04<00:00,  2.39it/s]\n",
            "Local Pariticipant 9 loss = 0.007: 100%|██████████| 10/10 [00:04<00:00,  2.39it/s]\n"
          ]
        },
        {
          "name": "stdout",
          "output_type": "stream",
          "text": [
            "The 21 Communcation Accuracy: 47.52 Method: fedprox\n",
            "[55.8, 74.74, 36.21, 23.33]\n"
          ]
        },
        {
          "name": "stderr",
          "output_type": "stream",
          "text": [
            "Local Pariticipant 7 loss = 0.199: 100%|██████████| 10/10 [00:04<00:00,  2.43it/s]\n",
            "Local Pariticipant 9 loss = 0.006: 100%|██████████| 10/10 [00:04<00:00,  2.34it/s]\n",
            "Local Pariticipant 1 loss = 0.003: 100%|██████████| 10/10 [00:04<00:00,  2.39it/s]\n",
            "Local Pariticipant 5 loss = 0.021: 100%|██████████| 10/10 [00:04<00:00,  2.35it/s]\n",
            "Local Pariticipant 3 loss = 0.063: 100%|██████████| 10/10 [00:05<00:00,  1.75it/s]\n",
            "Local Pariticipant 4 loss = 0.024: 100%|██████████| 10/10 [00:04<00:00,  2.35it/s]\n",
            "Local Pariticipant 6 loss = 0.025: 100%|██████████| 10/10 [00:05<00:00,  1.78it/s]\n",
            "Local Pariticipant 8 loss = 0.020: 100%|██████████| 10/10 [00:02<00:00,  4.56it/s]\n",
            "Local Pariticipant 0 loss = 0.043: 100%|██████████| 10/10 [00:05<00:00,  1.78it/s]\n",
            "Local Pariticipant 2 loss = 0.117: 100%|██████████| 10/10 [00:04<00:00,  2.33it/s]\n"
          ]
        },
        {
          "name": "stdout",
          "output_type": "stream",
          "text": [
            "The 22 Communcation Accuracy: 45.72 Method: fedprox\n",
            "[56.7, 75.26, 27.59, 23.33]\n"
          ]
        },
        {
          "name": "stderr",
          "output_type": "stream",
          "text": [
            "Local Pariticipant 4 loss = 0.004: 100%|██████████| 10/10 [00:04<00:00,  2.33it/s]\n",
            "Local Pariticipant 9 loss = 0.012: 100%|██████████| 10/10 [00:04<00:00,  2.33it/s]\n",
            "Local Pariticipant 6 loss = 0.177: 100%|██████████| 10/10 [00:05<00:00,  1.80it/s]\n",
            "Local Pariticipant 2 loss = 0.397: 100%|██████████| 10/10 [00:04<00:00,  2.30it/s]\n",
            "Local Pariticipant 5 loss = 0.007: 100%|██████████| 10/10 [00:04<00:00,  2.37it/s]\n",
            "Local Pariticipant 1 loss = 0.012: 100%|██████████| 10/10 [00:04<00:00,  2.33it/s]\n",
            "Local Pariticipant 3 loss = 0.110: 100%|██████████| 10/10 [00:05<00:00,  1.81it/s]\n",
            "Local Pariticipant 8 loss = 0.018: 100%|██████████| 10/10 [00:02<00:00,  4.62it/s]\n",
            "Local Pariticipant 0 loss = 0.103: 100%|██████████| 10/10 [00:05<00:00,  1.82it/s]\n",
            "Local Pariticipant 7 loss = 0.161: 100%|██████████| 10/10 [00:04<00:00,  2.32it/s]\n"
          ]
        },
        {
          "name": "stdout",
          "output_type": "stream",
          "text": [
            "The 23 Communcation Accuracy: 46.232 Method: fedprox\n",
            "[53.12, 65.26, 46.55, 20.0]\n"
          ]
        },
        {
          "name": "stderr",
          "output_type": "stream",
          "text": [
            "Local Pariticipant 2 loss = 0.167: 100%|██████████| 10/10 [00:04<00:00,  2.38it/s]\n",
            "Local Pariticipant 5 loss = 0.010: 100%|██████████| 10/10 [00:04<00:00,  2.26it/s]\n",
            "Local Pariticipant 0 loss = 0.111: 100%|██████████| 10/10 [00:05<00:00,  1.77it/s]\n",
            "Local Pariticipant 3 loss = 0.068: 100%|██████████| 10/10 [00:05<00:00,  1.78it/s]\n",
            "Local Pariticipant 4 loss = 0.006: 100%|██████████| 10/10 [00:04<00:00,  2.38it/s]\n",
            "Local Pariticipant 8 loss = 0.018: 100%|██████████| 10/10 [00:02<00:00,  4.71it/s]\n",
            "Local Pariticipant 6 loss = 0.036: 100%|██████████| 10/10 [00:05<00:00,  1.76it/s]\n",
            "Local Pariticipant 1 loss = 0.008: 100%|██████████| 10/10 [00:04<00:00,  2.34it/s]\n",
            "Local Pariticipant 7 loss = 0.100: 100%|██████████| 10/10 [00:04<00:00,  2.39it/s]\n",
            "Local Pariticipant 9 loss = 0.005: 100%|██████████| 10/10 [00:04<00:00,  2.34it/s]\n"
          ]
        },
        {
          "name": "stdout",
          "output_type": "stream",
          "text": [
            "The 24 Communcation Accuracy: 43.265 Method: fedprox\n",
            "[55.36, 70.0, 31.03, 16.67]\n"
          ]
        },
        {
          "name": "stderr",
          "output_type": "stream",
          "text": [
            "Local Pariticipant 0 loss = 0.128: 100%|██████████| 10/10 [00:05<00:00,  1.76it/s]\n",
            "Local Pariticipant 4 loss = 0.015: 100%|██████████| 10/10 [00:04<00:00,  2.30it/s]\n",
            "Local Pariticipant 9 loss = 0.012: 100%|██████████| 10/10 [00:04<00:00,  2.30it/s]\n",
            "Local Pariticipant 1 loss = 0.012: 100%|██████████| 10/10 [00:04<00:00,  2.34it/s]\n",
            "Local Pariticipant 8 loss = 0.014: 100%|██████████| 10/10 [00:02<00:00,  4.68it/s]\n",
            "Local Pariticipant 7 loss = 0.182: 100%|██████████| 10/10 [00:04<00:00,  2.35it/s]\n",
            "Local Pariticipant 2 loss = 0.320: 100%|██████████| 10/10 [00:04<00:00,  2.39it/s]\n",
            "Local Pariticipant 6 loss = 0.050: 100%|██████████| 10/10 [00:05<00:00,  1.77it/s]\n",
            "Local Pariticipant 3 loss = 0.202: 100%|██████████| 10/10 [00:05<00:00,  1.78it/s]\n",
            "Local Pariticipant 5 loss = 0.005: 100%|██████████| 10/10 [00:04<00:00,  2.33it/s]\n"
          ]
        },
        {
          "name": "stdout",
          "output_type": "stream",
          "text": [
            "The 25 Communcation Accuracy: 46.255 Method: fedprox\n",
            "[55.8, 74.74, 34.48, 20.0]\n"
          ]
        },
        {
          "name": "stderr",
          "output_type": "stream",
          "text": [
            "Local Pariticipant 5 loss = 0.014: 100%|██████████| 10/10 [00:04<00:00,  2.22it/s]\n",
            "Local Pariticipant 2 loss = 0.793: 100%|██████████| 10/10 [00:04<00:00,  2.37it/s]\n",
            "Local Pariticipant 1 loss = 0.015: 100%|██████████| 10/10 [00:04<00:00,  2.32it/s]\n",
            "Local Pariticipant 9 loss = 0.005: 100%|██████████| 10/10 [00:04<00:00,  2.36it/s]\n",
            "Local Pariticipant 4 loss = 0.003: 100%|██████████| 10/10 [00:04<00:00,  2.39it/s]\n",
            "Local Pariticipant 8 loss = 0.024: 100%|██████████| 10/10 [00:02<00:00,  4.74it/s]\n",
            "Local Pariticipant 0 loss = 0.028: 100%|██████████| 10/10 [00:05<00:00,  1.83it/s]\n",
            "Local Pariticipant 6 loss = 0.034: 100%|██████████| 10/10 [00:05<00:00,  1.77it/s]\n",
            "Local Pariticipant 7 loss = 0.155: 100%|██████████| 10/10 [00:04<00:00,  2.35it/s]\n",
            "Local Pariticipant 3 loss = 0.078: 100%|██████████| 10/10 [00:05<00:00,  1.71it/s]\n"
          ]
        },
        {
          "name": "stdout",
          "output_type": "stream",
          "text": [
            "The 26 Communcation Accuracy: 41.845 Method: fedprox\n",
            "[53.57, 61.05, 32.76, 20.0]\n"
          ]
        },
        {
          "name": "stderr",
          "output_type": "stream",
          "text": [
            "Local Pariticipant 0 loss = 0.093: 100%|██████████| 10/10 [00:05<00:00,  1.80it/s]\n",
            "Local Pariticipant 8 loss = 0.012: 100%|██████████| 10/10 [00:02<00:00,  4.60it/s]\n",
            "Local Pariticipant 1 loss = 0.051: 100%|██████████| 10/10 [00:04<00:00,  2.34it/s]\n",
            "Local Pariticipant 7 loss = 0.069: 100%|██████████| 10/10 [00:04<00:00,  2.39it/s]\n",
            "Local Pariticipant 5 loss = 0.067: 100%|██████████| 10/10 [00:04<00:00,  2.30it/s]\n",
            "Local Pariticipant 9 loss = 0.011: 100%|██████████| 10/10 [00:04<00:00,  2.36it/s]\n",
            "Local Pariticipant 3 loss = 0.030: 100%|██████████| 10/10 [00:05<00:00,  1.77it/s]\n",
            "Local Pariticipant 4 loss = 0.008: 100%|██████████| 10/10 [00:04<00:00,  2.34it/s]\n",
            "Local Pariticipant 2 loss = 0.261: 100%|██████████| 10/10 [00:04<00:00,  2.38it/s]\n",
            "Local Pariticipant 6 loss = 0.062: 100%|██████████| 10/10 [00:05<00:00,  1.71it/s]\n"
          ]
        },
        {
          "name": "stdout",
          "output_type": "stream",
          "text": [
            "The 27 Communcation Accuracy: 46.855 Method: fedprox\n",
            "[55.36, 72.63, 32.76, 26.67]\n"
          ]
        },
        {
          "name": "stderr",
          "output_type": "stream",
          "text": [
            "Local Pariticipant 4 loss = 0.005: 100%|██████████| 10/10 [00:04<00:00,  2.33it/s]\n",
            "Local Pariticipant 6 loss = 0.086: 100%|██████████| 10/10 [00:05<00:00,  1.80it/s]\n",
            "Local Pariticipant 0 loss = 0.035: 100%|██████████| 10/10 [00:05<00:00,  1.77it/s]\n",
            "Local Pariticipant 8 loss = 0.016: 100%|██████████| 10/10 [00:02<00:00,  4.64it/s]\n",
            "Local Pariticipant 5 loss = 0.050: 100%|██████████| 10/10 [00:04<00:00,  2.34it/s]\n",
            "Local Pariticipant 2 loss = 0.163: 100%|██████████| 10/10 [00:04<00:00,  2.35it/s]\n",
            "Local Pariticipant 9 loss = 0.025: 100%|██████████| 10/10 [00:04<00:00,  2.30it/s]\n",
            "Local Pariticipant 1 loss = 0.139: 100%|██████████| 10/10 [00:04<00:00,  2.31it/s]\n",
            "Local Pariticipant 7 loss = 0.088: 100%|██████████| 10/10 [00:04<00:00,  2.27it/s]\n",
            "Local Pariticipant 3 loss = 0.108: 100%|██████████| 10/10 [00:05<00:00,  1.79it/s]\n"
          ]
        },
        {
          "name": "stdout",
          "output_type": "stream",
          "text": [
            "The 28 Communcation Accuracy: 50.74 Method: fedprox\n",
            "[53.57, 77.89, 44.83, 26.67]\n"
          ]
        },
        {
          "name": "stderr",
          "output_type": "stream",
          "text": [
            "Local Pariticipant 3 loss = 0.149: 100%|██████████| 10/10 [00:05<00:00,  1.79it/s]\n",
            "Local Pariticipant 2 loss = 0.168: 100%|██████████| 10/10 [00:04<00:00,  2.38it/s]\n",
            "Local Pariticipant 9 loss = 0.020: 100%|██████████| 10/10 [00:04<00:00,  2.34it/s]\n",
            "Local Pariticipant 0 loss = 0.017: 100%|██████████| 10/10 [00:05<00:00,  1.82it/s]\n",
            "Local Pariticipant 6 loss = 0.016: 100%|██████████| 10/10 [00:05<00:00,  1.79it/s]\n",
            "Local Pariticipant 8 loss = 0.018: 100%|██████████| 10/10 [00:02<00:00,  4.59it/s]\n",
            "Local Pariticipant 7 loss = 0.134: 100%|██████████| 10/10 [00:04<00:00,  2.37it/s]\n",
            "Local Pariticipant 4 loss = 0.015: 100%|██████████| 10/10 [00:04<00:00,  2.35it/s]\n",
            "Local Pariticipant 1 loss = 0.008: 100%|██████████| 10/10 [00:04<00:00,  2.24it/s]\n",
            "Local Pariticipant 5 loss = 0.019: 100%|██████████| 10/10 [00:04<00:00,  2.29it/s]\n"
          ]
        },
        {
          "name": "stdout",
          "output_type": "stream",
          "text": [
            "The 29 Communcation Accuracy: 44.595 Method: fedprox\n",
            "[52.68, 67.89, 34.48, 23.33]\n"
          ]
        },
        {
          "name": "stderr",
          "output_type": "stream",
          "text": [
            "Local Pariticipant 9 loss = 0.055: 100%|██████████| 10/10 [00:04<00:00,  2.36it/s]\n",
            "Local Pariticipant 8 loss = 0.032: 100%|██████████| 10/10 [00:02<00:00,  4.65it/s]\n",
            "Local Pariticipant 2 loss = 0.082: 100%|██████████| 10/10 [00:04<00:00,  2.35it/s]\n",
            "Local Pariticipant 0 loss = 0.053: 100%|██████████| 10/10 [00:05<00:00,  1.79it/s]\n",
            "Local Pariticipant 6 loss = 0.190: 100%|██████████| 10/10 [00:05<00:00,  1.78it/s]\n",
            "Local Pariticipant 4 loss = 0.003: 100%|██████████| 10/10 [00:04<00:00,  2.33it/s]\n",
            "Local Pariticipant 5 loss = 0.012: 100%|██████████| 10/10 [00:04<00:00,  2.28it/s]\n",
            "Local Pariticipant 3 loss = 0.308: 100%|██████████| 10/10 [00:05<00:00,  1.77it/s]\n",
            "Local Pariticipant 1 loss = 0.102: 100%|██████████| 10/10 [00:04<00:00,  2.07it/s]\n",
            "Local Pariticipant 7 loss = 0.123: 100%|██████████| 10/10 [00:04<00:00,  2.35it/s]\n"
          ]
        },
        {
          "name": "stdout",
          "output_type": "stream",
          "text": [
            "The 30 Communcation Accuracy: 46.202 Method: fedprox\n",
            "[55.8, 69.47, 36.21, 23.33]\n"
          ]
        },
        {
          "name": "stderr",
          "output_type": "stream",
          "text": [
            "Local Pariticipant 1 loss = 0.031: 100%|██████████| 10/10 [00:04<00:00,  2.31it/s]\n",
            "Local Pariticipant 4 loss = 0.011: 100%|██████████| 10/10 [00:04<00:00,  2.22it/s]\n",
            "Local Pariticipant 3 loss = 0.037: 100%|██████████| 10/10 [00:05<00:00,  1.77it/s]\n",
            "Local Pariticipant 5 loss = 0.047: 100%|██████████| 10/10 [00:04<00:00,  2.30it/s]\n",
            "Local Pariticipant 7 loss = 0.097: 100%|██████████| 10/10 [00:04<00:00,  2.37it/s]\n",
            "Local Pariticipant 0 loss = 0.050: 100%|██████████| 10/10 [00:05<00:00,  1.70it/s]\n",
            "Local Pariticipant 8 loss = 0.013: 100%|██████████| 10/10 [00:02<00:00,  4.59it/s]\n",
            "Local Pariticipant 2 loss = 0.361: 100%|██████████| 10/10 [00:04<00:00,  2.37it/s]\n",
            "Local Pariticipant 6 loss = 0.143: 100%|██████████| 10/10 [00:05<00:00,  1.75it/s]\n",
            "Local Pariticipant 9 loss = 0.004: 100%|██████████| 10/10 [00:04<00:00,  2.18it/s]\n"
          ]
        },
        {
          "name": "stdout",
          "output_type": "stream",
          "text": [
            "The 31 Communcation Accuracy: 51.725 Method: fedprox\n",
            "[57.59, 76.32, 39.66, 33.33]\n"
          ]
        },
        {
          "name": "stderr",
          "output_type": "stream",
          "text": [
            "Local Pariticipant 4 loss = 0.003: 100%|██████████| 10/10 [00:04<00:00,  2.35it/s]\n",
            "Local Pariticipant 5 loss = 0.048: 100%|██████████| 10/10 [00:04<00:00,  2.23it/s]\n",
            "Local Pariticipant 3 loss = 0.013: 100%|██████████| 10/10 [00:06<00:00,  1.54it/s]\n",
            "Local Pariticipant 2 loss = 0.083: 100%|██████████| 10/10 [00:04<00:00,  2.18it/s]\n",
            "Local Pariticipant 1 loss = 0.078: 100%|██████████| 10/10 [00:05<00:00,  1.96it/s]\n",
            "Local Pariticipant 9 loss = 0.006: 100%|██████████| 10/10 [00:05<00:00,  1.91it/s]\n",
            "Local Pariticipant 8 loss = 0.021: 100%|██████████| 10/10 [00:02<00:00,  4.20it/s]\n",
            "Local Pariticipant 6 loss = 0.027: 100%|██████████| 10/10 [00:05<00:00,  1.75it/s]\n",
            "Local Pariticipant 0 loss = 0.012: 100%|██████████| 10/10 [00:06<00:00,  1.65it/s]\n",
            "Local Pariticipant 7 loss = 0.405: 100%|██████████| 10/10 [00:04<00:00,  2.09it/s]\n"
          ]
        },
        {
          "name": "stdout",
          "output_type": "stream",
          "text": [
            "The 32 Communcation Accuracy: 47.505 Method: fedprox\n",
            "[57.14, 70.0, 36.21, 26.67]\n"
          ]
        },
        {
          "name": "stderr",
          "output_type": "stream",
          "text": [
            "Local Pariticipant 4 loss = 0.010: 100%|██████████| 10/10 [00:04<00:00,  2.21it/s]\n",
            "Local Pariticipant 9 loss = 0.012: 100%|██████████| 10/10 [00:04<00:00,  2.31it/s]\n",
            "Local Pariticipant 8 loss = 0.016: 100%|██████████| 10/10 [00:02<00:00,  4.62it/s]\n",
            "Local Pariticipant 1 loss = 0.010: 100%|██████████| 10/10 [00:04<00:00,  2.17it/s]\n",
            "Local Pariticipant 6 loss = 0.018: 100%|██████████| 10/10 [00:05<00:00,  1.76it/s]\n",
            "Local Pariticipant 7 loss = 0.026: 100%|██████████| 10/10 [00:04<00:00,  2.35it/s]\n",
            "Local Pariticipant 0 loss = 0.006: 100%|██████████| 10/10 [00:06<00:00,  1.66it/s]\n",
            "Local Pariticipant 2 loss = 0.049: 100%|██████████| 10/10 [00:04<00:00,  2.25it/s]\n",
            "Local Pariticipant 3 loss = 0.125: 100%|██████████| 10/10 [00:05<00:00,  1.72it/s]\n",
            "Local Pariticipant 5 loss = 0.009: 100%|██████████| 10/10 [00:04<00:00,  2.15it/s]\n"
          ]
        },
        {
          "name": "stdout",
          "output_type": "stream",
          "text": [
            "The 33 Communcation Accuracy: 52.355 Method: fedprox\n",
            "[58.04, 70.0, 41.38, 40.0]\n"
          ]
        },
        {
          "name": "stderr",
          "output_type": "stream",
          "text": [
            "Local Pariticipant 5 loss = 0.007: 100%|██████████| 10/10 [00:04<00:00,  2.13it/s]\n",
            "Local Pariticipant 6 loss = 0.050: 100%|██████████| 10/10 [00:05<00:00,  1.69it/s]\n",
            "Local Pariticipant 4 loss = 0.004: 100%|██████████| 10/10 [00:04<00:00,  2.29it/s]\n",
            "Local Pariticipant 0 loss = 0.004: 100%|██████████| 10/10 [00:05<00:00,  1.80it/s]\n",
            "Local Pariticipant 8 loss = 0.023: 100%|██████████| 10/10 [00:02<00:00,  4.60it/s]\n",
            "Local Pariticipant 1 loss = 0.054: 100%|██████████| 10/10 [00:04<00:00,  2.24it/s]\n",
            "Local Pariticipant 3 loss = 0.048: 100%|██████████| 10/10 [00:05<00:00,  1.71it/s]\n",
            "Local Pariticipant 9 loss = 0.018: 100%|██████████| 10/10 [00:04<00:00,  2.33it/s]\n",
            "Local Pariticipant 2 loss = 0.024: 100%|██████████| 10/10 [00:04<00:00,  2.30it/s]\n",
            "Local Pariticipant 7 loss = 0.040: 100%|██████████| 10/10 [00:04<00:00,  2.26it/s]\n"
          ]
        },
        {
          "name": "stdout",
          "output_type": "stream",
          "text": [
            "The 34 Communcation Accuracy: 49.055 Method: fedprox\n",
            "[55.8, 74.21, 36.21, 30.0]\n"
          ]
        },
        {
          "name": "stderr",
          "output_type": "stream",
          "text": [
            "Local Pariticipant 6 loss = 0.004: 100%|██████████| 10/10 [00:05<00:00,  1.79it/s]\n",
            "Local Pariticipant 1 loss = 0.006: 100%|██████████| 10/10 [00:04<00:00,  2.32it/s]\n",
            "Local Pariticipant 4 loss = 0.005: 100%|██████████| 10/10 [00:04<00:00,  2.34it/s]\n",
            "Local Pariticipant 3 loss = 0.010: 100%|██████████| 10/10 [00:05<00:00,  1.70it/s]\n",
            "Local Pariticipant 7 loss = 0.076: 100%|██████████| 10/10 [00:04<00:00,  2.20it/s]\n",
            "Local Pariticipant 5 loss = 0.008: 100%|██████████| 10/10 [00:04<00:00,  2.33it/s]\n",
            "Local Pariticipant 9 loss = 0.005: 100%|██████████| 10/10 [00:04<00:00,  2.37it/s]\n",
            "Local Pariticipant 8 loss = 0.004: 100%|██████████| 10/10 [00:02<00:00,  4.66it/s]\n",
            "Local Pariticipant 0 loss = 0.009: 100%|██████████| 10/10 [00:05<00:00,  1.79it/s]\n",
            "Local Pariticipant 2 loss = 0.513: 100%|██████████| 10/10 [00:04<00:00,  2.31it/s]\n"
          ]
        },
        {
          "name": "stdout",
          "output_type": "stream",
          "text": [
            "The 35 Communcation Accuracy: 46.148 Method: fedprox\n",
            "[53.12, 75.26, 36.21, 20.0]\n"
          ]
        },
        {
          "name": "stderr",
          "output_type": "stream",
          "text": [
            "Local Pariticipant 5 loss = 0.008: 100%|██████████| 10/10 [00:04<00:00,  2.31it/s]\n",
            "Local Pariticipant 9 loss = 0.026: 100%|██████████| 10/10 [00:04<00:00,  2.36it/s]\n",
            "Local Pariticipant 2 loss = 0.097: 100%|██████████| 10/10 [00:04<00:00,  2.27it/s]\n",
            "Local Pariticipant 1 loss = 0.004: 100%|██████████| 10/10 [00:04<00:00,  2.27it/s]\n",
            "Local Pariticipant 3 loss = 0.018: 100%|██████████| 10/10 [00:05<00:00,  1.81it/s]\n",
            "Local Pariticipant 8 loss = 0.012: 100%|██████████| 10/10 [00:02<00:00,  4.70it/s]\n",
            "Local Pariticipant 0 loss = 0.151: 100%|██████████| 10/10 [00:05<00:00,  1.75it/s]\n",
            "Local Pariticipant 4 loss = 0.005: 100%|██████████| 10/10 [00:04<00:00,  2.39it/s]\n",
            "Local Pariticipant 7 loss = 0.012: 100%|██████████| 10/10 [00:04<00:00,  2.36it/s]\n",
            "Local Pariticipant 6 loss = 0.149: 100%|██████████| 10/10 [00:05<00:00,  1.81it/s]\n"
          ]
        },
        {
          "name": "stdout",
          "output_type": "stream",
          "text": [
            "The 36 Communcation Accuracy: 47.228 Method: fedprox\n",
            "[55.36, 68.95, 37.93, 26.67]\n"
          ]
        },
        {
          "name": "stderr",
          "output_type": "stream",
          "text": [
            "Local Pariticipant 6 loss = 0.003: 100%|██████████| 10/10 [00:05<00:00,  1.71it/s]\n",
            "Local Pariticipant 3 loss = 0.010: 100%|██████████| 10/10 [00:05<00:00,  1.79it/s]\n",
            "Local Pariticipant 4 loss = 0.021: 100%|██████████| 10/10 [00:04<00:00,  2.38it/s]\n",
            "Local Pariticipant 9 loss = 0.014: 100%|██████████| 10/10 [00:04<00:00,  2.37it/s]\n",
            "Local Pariticipant 8 loss = 0.003: 100%|██████████| 10/10 [00:02<00:00,  4.73it/s]\n",
            "Local Pariticipant 5 loss = 0.002: 100%|██████████| 10/10 [00:04<00:00,  2.38it/s]\n",
            "Local Pariticipant 0 loss = 0.013: 100%|██████████| 10/10 [00:05<00:00,  1.86it/s]\n",
            "Local Pariticipant 7 loss = 0.111: 100%|██████████| 10/10 [00:04<00:00,  2.41it/s]\n",
            "Local Pariticipant 1 loss = 0.009: 100%|██████████| 10/10 [00:04<00:00,  2.33it/s]\n",
            "Local Pariticipant 2 loss = 0.155: 100%|██████████| 10/10 [00:04<00:00,  2.33it/s]\n"
          ]
        },
        {
          "name": "stdout",
          "output_type": "stream",
          "text": [
            "The 37 Communcation Accuracy: 46.892 Method: fedprox\n",
            "[56.25, 76.84, 34.48, 20.0]\n"
          ]
        },
        {
          "name": "stderr",
          "output_type": "stream",
          "text": [
            "Local Pariticipant 9 loss = 0.015: 100%|██████████| 10/10 [00:04<00:00,  2.36it/s]\n",
            "Local Pariticipant 3 loss = 0.127: 100%|██████████| 10/10 [00:05<00:00,  1.81it/s]\n",
            "Local Pariticipant 4 loss = 0.002: 100%|██████████| 10/10 [00:04<00:00,  2.29it/s]\n",
            "Local Pariticipant 7 loss = 0.006: 100%|██████████| 10/10 [00:04<00:00,  2.29it/s]\n",
            "Local Pariticipant 6 loss = 0.010: 100%|██████████| 10/10 [00:05<00:00,  1.68it/s]\n",
            "Local Pariticipant 0 loss = 0.014: 100%|██████████| 10/10 [00:05<00:00,  1.77it/s]\n",
            "Local Pariticipant 2 loss = 0.197: 100%|██████████| 10/10 [00:04<00:00,  2.33it/s]\n",
            "Local Pariticipant 5 loss = 0.003: 100%|██████████| 10/10 [00:04<00:00,  2.15it/s]\n",
            "Local Pariticipant 8 loss = 0.005: 100%|██████████| 10/10 [00:02<00:00,  4.06it/s]\n",
            "Local Pariticipant 1 loss = 0.020: 100%|██████████| 10/10 [00:04<00:00,  2.25it/s]\n"
          ]
        },
        {
          "name": "stdout",
          "output_type": "stream",
          "text": [
            "The 38 Communcation Accuracy: 51.05 Method: fedprox\n",
            "[60.27, 71.05, 36.21, 36.67]\n"
          ]
        },
        {
          "name": "stderr",
          "output_type": "stream",
          "text": [
            "Local Pariticipant 4 loss = 0.017: 100%|██████████| 10/10 [00:04<00:00,  2.33it/s]\n",
            "Local Pariticipant 0 loss = 0.008: 100%|██████████| 10/10 [00:06<00:00,  1.66it/s]\n",
            "Local Pariticipant 3 loss = 0.012: 100%|██████████| 10/10 [00:05<00:00,  1.69it/s]\n",
            "Local Pariticipant 5 loss = 0.004: 100%|██████████| 10/10 [00:04<00:00,  2.09it/s]\n",
            "Local Pariticipant 7 loss = 0.039: 100%|██████████| 10/10 [00:04<00:00,  2.41it/s]\n",
            "Local Pariticipant 9 loss = 0.004: 100%|██████████| 10/10 [00:04<00:00,  2.34it/s]\n",
            "Local Pariticipant 8 loss = 0.008: 100%|██████████| 10/10 [00:02<00:00,  4.47it/s]\n",
            "Local Pariticipant 2 loss = 0.063: 100%|██████████| 10/10 [00:04<00:00,  2.39it/s]\n",
            "Local Pariticipant 1 loss = 0.002: 100%|██████████| 10/10 [00:04<00:00,  2.36it/s]\n",
            "Local Pariticipant 6 loss = 0.012: 100%|██████████| 10/10 [00:05<00:00,  1.80it/s]\n"
          ]
        },
        {
          "name": "stdout",
          "output_type": "stream",
          "text": [
            "The 39 Communcation Accuracy: 47.27 Method: fedprox\n",
            "[57.59, 73.68, 34.48, 23.33]\n"
          ]
        },
        {
          "name": "stderr",
          "output_type": "stream",
          "text": [
            "Local Pariticipant 7 loss = 0.029: 100%|██████████| 10/10 [00:04<00:00,  2.38it/s]\n",
            "Local Pariticipant 9 loss = 0.006: 100%|██████████| 10/10 [00:04<00:00,  2.37it/s]\n",
            "Local Pariticipant 6 loss = 0.019: 100%|██████████| 10/10 [00:05<00:00,  1.79it/s]\n",
            "Local Pariticipant 0 loss = 0.005: 100%|██████████| 10/10 [00:05<00:00,  1.84it/s]\n",
            "Local Pariticipant 2 loss = 0.012: 100%|██████████| 10/10 [00:04<00:00,  2.41it/s]\n",
            "Local Pariticipant 1 loss = 0.005: 100%|██████████| 10/10 [00:04<00:00,  2.39it/s]\n",
            "Local Pariticipant 8 loss = 0.007: 100%|██████████| 10/10 [00:02<00:00,  4.72it/s]\n",
            "Local Pariticipant 4 loss = 0.004: 100%|██████████| 10/10 [00:04<00:00,  2.27it/s]\n",
            "Local Pariticipant 3 loss = 0.014: 100%|██████████| 10/10 [00:05<00:00,  1.74it/s]\n",
            "Local Pariticipant 5 loss = 0.007: 100%|██████████| 10/10 [00:04<00:00,  2.41it/s]\n"
          ]
        },
        {
          "name": "stdout",
          "output_type": "stream",
          "text": [
            "The 40 Communcation Accuracy: 50.082 Method: fedprox\n",
            "[57.14, 75.26, 37.93, 30.0]\n"
          ]
        },
        {
          "name": "stderr",
          "output_type": "stream",
          "text": [
            "Local Pariticipant 1 loss = 0.009: 100%|██████████| 10/10 [00:04<00:00,  2.35it/s]\n",
            "Local Pariticipant 6 loss = 0.003: 100%|██████████| 10/10 [00:05<00:00,  1.81it/s]\n",
            "Local Pariticipant 2 loss = 0.002: 100%|██████████| 10/10 [00:04<00:00,  2.43it/s]\n",
            "Local Pariticipant 5 loss = 0.002: 100%|██████████| 10/10 [00:04<00:00,  2.35it/s]\n",
            "Local Pariticipant 8 loss = 0.008: 100%|██████████| 10/10 [00:02<00:00,  4.70it/s]\n",
            "Local Pariticipant 7 loss = 0.003: 100%|██████████| 10/10 [00:04<00:00,  2.43it/s]\n",
            "Local Pariticipant 0 loss = 0.119: 100%|██████████| 10/10 [00:05<00:00,  1.84it/s]\n",
            "Local Pariticipant 9 loss = 0.004: 100%|██████████| 10/10 [00:04<00:00,  2.35it/s]\n",
            "Local Pariticipant 3 loss = 0.004: 100%|██████████| 10/10 [00:05<00:00,  1.82it/s]\n",
            "Local Pariticipant 4 loss = 0.001: 100%|██████████| 10/10 [00:04<00:00,  2.40it/s]\n"
          ]
        },
        {
          "name": "stdout",
          "output_type": "stream",
          "text": [
            "The 41 Communcation Accuracy: 50.855 Method: fedprox\n",
            "[56.25, 75.79, 41.38, 30.0]\n"
          ]
        },
        {
          "name": "stderr",
          "output_type": "stream",
          "text": [
            "Local Pariticipant 4 loss = 0.002: 100%|██████████| 10/10 [00:04<00:00,  2.38it/s]\n",
            "Local Pariticipant 9 loss = 0.036: 100%|██████████| 10/10 [00:04<00:00,  2.40it/s]\n",
            "Local Pariticipant 1 loss = 0.017: 100%|██████████| 10/10 [00:04<00:00,  2.39it/s]\n",
            "Local Pariticipant 8 loss = 0.002: 100%|██████████| 10/10 [00:02<00:00,  4.75it/s]\n",
            "Local Pariticipant 0 loss = 0.010: 100%|██████████| 10/10 [00:05<00:00,  1.79it/s]\n",
            "Local Pariticipant 2 loss = 0.017: 100%|██████████| 10/10 [00:04<00:00,  2.36it/s]\n",
            "Local Pariticipant 5 loss = 0.007: 100%|██████████| 10/10 [00:04<00:00,  2.39it/s]\n",
            "Local Pariticipant 6 loss = 0.004: 100%|██████████| 10/10 [00:05<00:00,  1.75it/s]\n",
            "Local Pariticipant 3 loss = 0.003: 100%|██████████| 10/10 [00:05<00:00,  1.82it/s]\n",
            "Local Pariticipant 7 loss = 0.213: 100%|██████████| 10/10 [00:04<00:00,  2.43it/s]\n"
          ]
        },
        {
          "name": "stdout",
          "output_type": "stream",
          "text": [
            "The 42 Communcation Accuracy: 47.652 Method: fedprox\n",
            "[54.46, 73.16, 39.66, 23.33]\n"
          ]
        },
        {
          "name": "stderr",
          "output_type": "stream",
          "text": [
            "Local Pariticipant 9 loss = 0.055: 100%|██████████| 10/10 [00:04<00:00,  2.29it/s]\n",
            "Local Pariticipant 3 loss = 0.007: 100%|██████████| 10/10 [00:05<00:00,  1.74it/s]\n",
            "Local Pariticipant 0 loss = 0.009: 100%|██████████| 10/10 [00:05<00:00,  1.79it/s]\n",
            "Local Pariticipant 6 loss = 0.004: 100%|██████████| 10/10 [00:05<00:00,  1.74it/s]\n",
            "Local Pariticipant 2 loss = 0.027: 100%|██████████| 10/10 [00:04<00:00,  2.34it/s]\n",
            "Local Pariticipant 7 loss = 0.020: 100%|██████████| 10/10 [00:04<00:00,  2.37it/s]\n",
            "Local Pariticipant 5 loss = 0.007: 100%|██████████| 10/10 [00:04<00:00,  2.33it/s]\n",
            "Local Pariticipant 8 loss = 0.003: 100%|██████████| 10/10 [00:02<00:00,  4.22it/s]\n",
            "Local Pariticipant 1 loss = 0.005: 100%|██████████| 10/10 [00:04<00:00,  2.28it/s]\n",
            "Local Pariticipant 4 loss = 0.002: 100%|██████████| 10/10 [00:04<00:00,  2.32it/s]\n"
          ]
        },
        {
          "name": "stdout",
          "output_type": "stream",
          "text": [
            "The 43 Communcation Accuracy: 55.12 Method: fedprox\n",
            "[56.7, 78.95, 44.83, 40.0]\n"
          ]
        },
        {
          "name": "stderr",
          "output_type": "stream",
          "text": [
            "Local Pariticipant 8 loss = 0.005: 100%|██████████| 10/10 [00:02<00:00,  3.94it/s]\n",
            "Local Pariticipant 9 loss = 0.003: 100%|██████████| 10/10 [00:05<00:00,  1.87it/s]\n",
            "Local Pariticipant 0 loss = 0.006: 100%|██████████| 10/10 [00:05<00:00,  1.86it/s]\n",
            "Local Pariticipant 2 loss = 0.076: 100%|██████████| 10/10 [00:04<00:00,  2.44it/s]\n",
            "Local Pariticipant 3 loss = 0.028: 100%|██████████| 10/10 [00:05<00:00,  1.92it/s]\n",
            "Local Pariticipant 1 loss = 0.006: 100%|██████████| 10/10 [00:03<00:00,  2.50it/s]\n",
            "Local Pariticipant 6 loss = 0.006: 100%|██████████| 10/10 [00:05<00:00,  1.95it/s]\n",
            "Local Pariticipant 4 loss = 0.001: 100%|██████████| 10/10 [00:04<00:00,  2.42it/s]\n",
            "Local Pariticipant 7 loss = 0.070: 100%|██████████| 10/10 [00:04<00:00,  2.13it/s]\n",
            "Local Pariticipant 5 loss = 0.014: 100%|██████████| 10/10 [00:04<00:00,  2.38it/s]\n"
          ]
        },
        {
          "name": "stdout",
          "output_type": "stream",
          "text": [
            "The 44 Communcation Accuracy: 52.135 Method: fedprox\n",
            "[56.7, 73.68, 44.83, 33.33]\n"
          ]
        },
        {
          "name": "stderr",
          "output_type": "stream",
          "text": [
            "Local Pariticipant 7 loss = 0.033: 100%|██████████| 10/10 [00:04<00:00,  2.40it/s]\n",
            "Local Pariticipant 6 loss = 0.029: 100%|██████████| 10/10 [00:05<00:00,  1.74it/s]\n",
            "Local Pariticipant 9 loss = 0.004: 100%|██████████| 10/10 [00:04<00:00,  2.40it/s]\n",
            "Local Pariticipant 2 loss = 0.506: 100%|██████████| 10/10 [00:04<00:00,  2.41it/s]\n",
            "Local Pariticipant 3 loss = 0.011: 100%|██████████| 10/10 [00:05<00:00,  1.81it/s]\n",
            "Local Pariticipant 8 loss = 0.004: 100%|██████████| 10/10 [00:02<00:00,  4.65it/s]\n",
            "Local Pariticipant 5 loss = 0.006: 100%|██████████| 10/10 [00:04<00:00,  2.38it/s]\n",
            "Local Pariticipant 0 loss = 0.055: 100%|██████████| 10/10 [00:05<00:00,  1.84it/s]\n",
            "Local Pariticipant 4 loss = 0.002: 100%|██████████| 10/10 [00:04<00:00,  2.39it/s]\n",
            "Local Pariticipant 1 loss = 0.011: 100%|██████████| 10/10 [00:04<00:00,  2.34it/s]\n"
          ]
        },
        {
          "name": "stdout",
          "output_type": "stream",
          "text": [
            "The 45 Communcation Accuracy: 46.845 Method: fedprox\n",
            "[55.36, 74.21, 34.48, 23.33]\n"
          ]
        },
        {
          "name": "stderr",
          "output_type": "stream",
          "text": [
            "Local Pariticipant 8 loss = 0.009: 100%|██████████| 10/10 [00:02<00:00,  4.69it/s]\n",
            "Local Pariticipant 5 loss = 0.002: 100%|██████████| 10/10 [00:04<00:00,  2.39it/s]\n",
            "Local Pariticipant 6 loss = 0.107: 100%|██████████| 10/10 [00:05<00:00,  1.80it/s]\n",
            "Local Pariticipant 7 loss = 0.151: 100%|██████████| 10/10 [00:04<00:00,  2.41it/s]\n",
            "Local Pariticipant 4 loss = 0.006: 100%|██████████| 10/10 [00:04<00:00,  2.37it/s]\n",
            "Local Pariticipant 9 loss = 0.002: 100%|██████████| 10/10 [00:04<00:00,  2.25it/s]\n",
            "Local Pariticipant 1 loss = 0.007: 100%|██████████| 10/10 [00:04<00:00,  2.35it/s]\n",
            "Local Pariticipant 2 loss = 0.044: 100%|██████████| 10/10 [00:04<00:00,  2.41it/s]\n",
            "Local Pariticipant 0 loss = 0.009: 100%|██████████| 10/10 [00:05<00:00,  1.82it/s]\n",
            "Local Pariticipant 3 loss = 0.013: 100%|██████████| 10/10 [00:05<00:00,  1.81it/s]\n"
          ]
        },
        {
          "name": "stdout",
          "output_type": "stream",
          "text": [
            "The 46 Communcation Accuracy: 48.625 Method: fedprox\n",
            "[57.59, 77.37, 36.21, 23.33]\n"
          ]
        },
        {
          "name": "stderr",
          "output_type": "stream",
          "text": [
            "Local Pariticipant 4 loss = 0.013: 100%|██████████| 10/10 [00:04<00:00,  2.38it/s]\n",
            "Local Pariticipant 9 loss = 0.005: 100%|██████████| 10/10 [00:04<00:00,  2.39it/s]\n",
            "Local Pariticipant 2 loss = 0.004: 100%|██████████| 10/10 [00:04<00:00,  2.36it/s]\n",
            "Local Pariticipant 5 loss = 0.002: 100%|██████████| 10/10 [00:04<00:00,  2.38it/s]\n",
            "Local Pariticipant 3 loss = 0.014: 100%|██████████| 10/10 [00:05<00:00,  1.80it/s]\n",
            "Local Pariticipant 7 loss = 0.013: 100%|██████████| 10/10 [00:04<00:00,  2.41it/s]\n",
            "Local Pariticipant 6 loss = 0.061: 100%|██████████| 10/10 [00:05<00:00,  1.80it/s]\n",
            "Local Pariticipant 1 loss = 0.003: 100%|██████████| 10/10 [00:04<00:00,  2.27it/s]\n",
            "Local Pariticipant 8 loss = 0.005: 100%|██████████| 10/10 [00:02<00:00,  4.32it/s]\n",
            "Local Pariticipant 0 loss = 0.005: 100%|██████████| 10/10 [00:05<00:00,  1.83it/s]\n"
          ]
        },
        {
          "name": "stdout",
          "output_type": "stream",
          "text": [
            "The 47 Communcation Accuracy: 52.285 Method: fedprox\n",
            "[57.59, 76.84, 41.38, 33.33]\n"
          ]
        },
        {
          "name": "stderr",
          "output_type": "stream",
          "text": [
            "Local Pariticipant 2 loss = 0.041: 100%|██████████| 10/10 [00:04<00:00,  2.36it/s]\n",
            "Local Pariticipant 3 loss = 0.007: 100%|██████████| 10/10 [00:05<00:00,  1.80it/s]\n",
            "Local Pariticipant 6 loss = 0.136: 100%|██████████| 10/10 [00:05<00:00,  1.80it/s]\n",
            "Local Pariticipant 0 loss = 0.027: 100%|██████████| 10/10 [00:05<00:00,  1.79it/s]\n",
            "Local Pariticipant 7 loss = 0.004: 100%|██████████| 10/10 [00:04<00:00,  2.34it/s]\n",
            "Local Pariticipant 1 loss = 0.006: 100%|██████████| 10/10 [00:04<00:00,  2.34it/s]\n",
            "Local Pariticipant 9 loss = 0.017: 100%|██████████| 10/10 [00:04<00:00,  2.37it/s]\n",
            "Local Pariticipant 8 loss = 0.005: 100%|██████████| 10/10 [00:02<00:00,  4.70it/s]\n",
            "Local Pariticipant 4 loss = 0.003: 100%|██████████| 10/10 [00:04<00:00,  2.40it/s]\n",
            "Local Pariticipant 5 loss = 0.005: 100%|██████████| 10/10 [00:04<00:00,  2.36it/s]\n"
          ]
        },
        {
          "name": "stdout",
          "output_type": "stream",
          "text": [
            "The 48 Communcation Accuracy: 49.937 Method: fedprox\n",
            "[55.8, 79.47, 34.48, 30.0]\n"
          ]
        },
        {
          "name": "stderr",
          "output_type": "stream",
          "text": [
            "Local Pariticipant 9 loss = 0.004: 100%|██████████| 10/10 [00:04<00:00,  2.29it/s]\n",
            "Local Pariticipant 7 loss = 0.010: 100%|██████████| 10/10 [00:04<00:00,  2.41it/s]\n",
            "Local Pariticipant 1 loss = 0.008: 100%|██████████| 10/10 [00:04<00:00,  2.39it/s]\n",
            "Local Pariticipant 3 loss = 0.028: 100%|██████████| 10/10 [00:05<00:00,  1.81it/s]\n",
            "Local Pariticipant 4 loss = 0.002: 100%|██████████| 10/10 [00:04<00:00,  2.40it/s]\n",
            "Local Pariticipant 0 loss = 0.023: 100%|██████████| 10/10 [00:05<00:00,  1.84it/s]\n",
            "Local Pariticipant 5 loss = 0.003: 100%|██████████| 10/10 [00:04<00:00,  2.39it/s]\n",
            "Local Pariticipant 2 loss = 0.031: 100%|██████████| 10/10 [00:04<00:00,  2.39it/s]\n",
            "Local Pariticipant 8 loss = 0.004: 100%|██████████| 10/10 [00:02<00:00,  4.69it/s]\n",
            "Local Pariticipant 6 loss = 0.004: 100%|██████████| 10/10 [00:05<00:00,  1.81it/s]\n"
          ]
        },
        {
          "name": "stdout",
          "output_type": "stream",
          "text": [
            "The 49 Communcation Accuracy: 48.825 Method: fedprox\n",
            "[57.14, 73.68, 34.48, 30.0]\n"
          ]
        }
      ],
      "source": [
        "%run \"main.py\" --model fedprox --dataset fl_officecaltech"
      ]
    },
    {
      "cell_type": "code",
      "execution_count": null,
      "metadata": {
        "id": "ud9WKv1gAkgg",
        "outputId": "7248e28b-e560-4e07-b907-da22799b095c"
      },
      "outputs": [
        {
          "name": "stdout",
          "output_type": "stream",
          "text": [
            "moon_10_fl_officecaltech_50_10\n",
            "./data/fl_officecaltech/moon\\para1\n",
            "{'caltech': 3, 'dslr': 4, 'amazon': 2, 'webcam': 1}\n",
            "['caltech', 'dslr', 'amazon', 'caltech', 'dslr', 'dslr', 'caltech', 'amazon', 'webcam', 'dslr']\n"
          ]
        },
        {
          "name": "stderr",
          "output_type": "stream",
          "text": [
            "Local Pariticipant 7 CE = 1.374,CON = 2.592: 100%|██████████| 10/10 [00:06<00:00,  1.67it/s]\n",
            "Local Pariticipant 8 CE = 1.287,CON = 2.719: 100%|██████████| 10/10 [00:02<00:00,  3.67it/s]\n",
            "Local Pariticipant 1 CE = 1.067,CON = 2.841: 100%|██████████| 10/10 [00:04<00:00,  2.13it/s]\n",
            "Local Pariticipant 3 CE = 1.487,CON = 2.493: 100%|██████████| 10/10 [00:07<00:00,  1.28it/s]\n",
            "Local Pariticipant 4 CE = 0.999,CON = 2.681: 100%|██████████| 10/10 [00:04<00:00,  2.18it/s]\n",
            "Local Pariticipant 5 CE = 1.002,CON = 2.764: 100%|██████████| 10/10 [00:04<00:00,  2.16it/s]\n",
            "Local Pariticipant 6 CE = 1.500,CON = 2.537: 100%|██████████| 10/10 [00:07<00:00,  1.30it/s]\n",
            "Local Pariticipant 0 CE = 1.448,CON = 3.466: 100%|██████████| 10/10 [00:07<00:00,  1.32it/s]\n",
            "Local Pariticipant 2 CE = 1.173,CON = 2.633: 100%|██████████| 10/10 [00:06<00:00,  1.66it/s]\n",
            "Local Pariticipant 9 CE = 1.035,CON = 2.692: 100%|██████████| 10/10 [00:04<00:00,  2.09it/s]\n"
          ]
        },
        {
          "name": "stdout",
          "output_type": "stream",
          "text": [
            "The 0 Communcation Accuracy: 18.95 Method: moon\n",
            "[24.55, 22.63, 8.62, 20.0]\n"
          ]
        },
        {
          "name": "stderr",
          "output_type": "stream",
          "text": [
            "Local Pariticipant 3 CE = 1.205,CON = 2.556: 100%|██████████| 10/10 [00:07<00:00,  1.28it/s]\n",
            "Local Pariticipant 5 CE = 0.592,CON = 2.904: 100%|██████████| 10/10 [00:04<00:00,  2.12it/s]\n",
            "Local Pariticipant 1 CE = 0.581,CON = 2.893: 100%|██████████| 10/10 [00:04<00:00,  2.13it/s]\n",
            "Local Pariticipant 6 CE = 0.993,CON = 2.668: 100%|██████████| 10/10 [00:07<00:00,  1.27it/s]\n",
            "Local Pariticipant 8 CE = 0.714,CON = 2.991: 100%|██████████| 10/10 [00:02<00:00,  3.63it/s]\n",
            "Local Pariticipant 2 CE = 1.022,CON = 2.746: 100%|██████████| 10/10 [00:06<00:00,  1.65it/s]\n",
            "Local Pariticipant 0 CE = 1.283,CON = 2.430: 100%|██████████| 10/10 [00:07<00:00,  1.30it/s]\n",
            "Local Pariticipant 9 CE = 0.490,CON = 2.790: 100%|██████████| 10/10 [00:04<00:00,  2.12it/s]\n",
            "Local Pariticipant 4 CE = 0.392,CON = 2.832: 100%|██████████| 10/10 [00:04<00:00,  2.12it/s]\n",
            "Local Pariticipant 7 CE = 0.791,CON = 2.763: 100%|██████████| 10/10 [00:06<00:00,  1.64it/s]\n"
          ]
        },
        {
          "name": "stdout",
          "output_type": "stream",
          "text": [
            "The 1 Communcation Accuracy: 29.305 Method: moon\n",
            "[37.05, 43.16, 10.34, 26.67]\n"
          ]
        },
        {
          "name": "stderr",
          "output_type": "stream",
          "text": [
            "Local Pariticipant 4 CE = 0.246,CON = 2.930: 100%|██████████| 10/10 [00:04<00:00,  2.09it/s]\n",
            "Local Pariticipant 0 CE = 0.830,CON = 2.217: 100%|██████████| 10/10 [00:07<00:00,  1.29it/s]\n",
            "Local Pariticipant 9 CE = 0.259,CON = 2.919: 100%|██████████| 10/10 [00:04<00:00,  2.13it/s]\n",
            "Local Pariticipant 8 CE = 0.387,CON = 3.071: 100%|██████████| 10/10 [00:02<00:00,  3.56it/s]\n",
            "Local Pariticipant 7 CE = 0.803,CON = 2.406: 100%|██████████| 10/10 [00:06<00:00,  1.60it/s]\n",
            "Local Pariticipant 1 CE = 0.319,CON = 3.094: 100%|██████████| 10/10 [00:04<00:00,  2.11it/s]\n",
            "Local Pariticipant 6 CE = 0.931,CON = 2.236: 100%|██████████| 10/10 [00:07<00:00,  1.28it/s]\n",
            "Local Pariticipant 3 CE = 1.145,CON = 2.214: 100%|██████████| 10/10 [00:07<00:00,  1.28it/s]\n",
            "Local Pariticipant 2 CE = 0.637,CON = 2.434: 100%|██████████| 10/10 [00:06<00:00,  1.63it/s]\n",
            "Local Pariticipant 5 CE = 0.347,CON = 2.951: 100%|██████████| 10/10 [00:04<00:00,  2.11it/s]\n"
          ]
        },
        {
          "name": "stdout",
          "output_type": "stream",
          "text": [
            "The 2 Communcation Accuracy: 36.698 Method: moon\n",
            "[41.52, 52.63, 29.31, 23.33]\n"
          ]
        },
        {
          "name": "stderr",
          "output_type": "stream",
          "text": [
            "Local Pariticipant 5 CE = 0.215,CON = 2.887: 100%|██████████| 10/10 [00:04<00:00,  2.10it/s]\n",
            "Local Pariticipant 9 CE = 0.151,CON = 2.675: 100%|██████████| 10/10 [00:04<00:00,  2.12it/s]\n",
            "Local Pariticipant 4 CE = 0.140,CON = 2.630: 100%|██████████| 10/10 [00:04<00:00,  2.12it/s]\n",
            "Local Pariticipant 7 CE = 0.449,CON = 2.264: 100%|██████████| 10/10 [00:06<00:00,  1.59it/s]\n",
            "Local Pariticipant 6 CE = 0.816,CON = 2.117: 100%|██████████| 10/10 [00:08<00:00,  1.24it/s]\n",
            "Local Pariticipant 8 CE = 0.281,CON = 2.883: 100%|██████████| 10/10 [00:02<00:00,  3.59it/s]\n",
            "Local Pariticipant 1 CE = 0.291,CON = 2.769: 100%|██████████| 10/10 [00:04<00:00,  2.06it/s]\n",
            "Local Pariticipant 2 CE = 0.576,CON = 2.149: 100%|██████████| 10/10 [00:06<00:00,  1.63it/s]\n",
            "Local Pariticipant 0 CE = 0.797,CON = 2.173: 100%|██████████| 10/10 [00:07<00:00,  1.28it/s]\n",
            "Local Pariticipant 3 CE = 0.638,CON = 2.039: 100%|██████████| 10/10 [00:07<00:00,  1.26it/s]\n"
          ]
        },
        {
          "name": "stdout",
          "output_type": "stream",
          "text": [
            "The 3 Communcation Accuracy: 37.86 Method: moon\n",
            "[43.3, 55.26, 36.21, 16.67]\n"
          ]
        },
        {
          "name": "stderr",
          "output_type": "stream",
          "text": [
            "Local Pariticipant 5 CE = 0.183,CON = 2.716: 100%|██████████| 10/10 [00:04<00:00,  2.06it/s]\n",
            "Local Pariticipant 0 CE = 0.690,CON = 2.048: 100%|██████████| 10/10 [00:07<00:00,  1.29it/s]\n",
            "Local Pariticipant 3 CE = 0.582,CON = 2.031: 100%|██████████| 10/10 [00:07<00:00,  1.27it/s]\n",
            "Local Pariticipant 2 CE = 0.550,CON = 2.092: 100%|██████████| 10/10 [00:06<00:00,  1.59it/s]\n",
            "Local Pariticipant 9 CE = 0.138,CON = 2.626: 100%|██████████| 10/10 [00:04<00:00,  2.04it/s]\n",
            "Local Pariticipant 4 CE = 0.121,CON = 2.597: 100%|██████████| 10/10 [00:04<00:00,  2.10it/s]\n",
            "Local Pariticipant 1 CE = 0.176,CON = 2.681: 100%|██████████| 10/10 [00:04<00:00,  2.07it/s]\n",
            "Local Pariticipant 8 CE = 0.183,CON = 2.793: 100%|██████████| 10/10 [00:02<00:00,  3.58it/s]\n",
            "Local Pariticipant 6 CE = 0.447,CON = 2.003: 100%|██████████| 10/10 [00:07<00:00,  1.28it/s]\n",
            "Local Pariticipant 7 CE = 0.390,CON = 2.160: 100%|██████████| 10/10 [00:06<00:00,  1.63it/s]\n"
          ]
        },
        {
          "name": "stdout",
          "output_type": "stream",
          "text": [
            "The 4 Communcation Accuracy: 42.788 Method: moon\n",
            "[43.75, 59.47, 37.93, 30.0]\n"
          ]
        },
        {
          "name": "stderr",
          "output_type": "stream",
          "text": [
            "Local Pariticipant 3 CE = 0.535,CON = 2.007: 100%|██████████| 10/10 [00:07<00:00,  1.26it/s]\n",
            "Local Pariticipant 4 CE = 0.104,CON = 2.367: 100%|██████████| 10/10 [00:04<00:00,  2.09it/s]\n",
            "Local Pariticipant 2 CE = 0.223,CON = 1.958: 100%|██████████| 10/10 [00:06<00:00,  1.59it/s]\n",
            "Local Pariticipant 8 CE = 0.191,CON = 2.607: 100%|██████████| 10/10 [00:02<00:00,  3.55it/s]\n",
            "Local Pariticipant 1 CE = 0.153,CON = 2.482: 100%|██████████| 10/10 [00:05<00:00,  1.99it/s]\n",
            "Local Pariticipant 5 CE = 0.094,CON = 2.750: 100%|██████████| 10/10 [00:04<00:00,  2.11it/s]\n",
            "Local Pariticipant 9 CE = 0.075,CON = 2.435: 100%|██████████| 10/10 [00:04<00:00,  2.01it/s]\n",
            "Local Pariticipant 0 CE = 0.513,CON = 2.045: 100%|██████████| 10/10 [00:07<00:00,  1.29it/s]\n",
            "Local Pariticipant 6 CE = 0.466,CON = 2.023: 100%|██████████| 10/10 [00:07<00:00,  1.26it/s]\n",
            "Local Pariticipant 7 CE = 0.334,CON = 2.118: 100%|██████████| 10/10 [00:06<00:00,  1.63it/s]\n"
          ]
        },
        {
          "name": "stdout",
          "output_type": "stream",
          "text": [
            "The 5 Communcation Accuracy: 44.988 Method: moon\n",
            "[46.43, 60.53, 39.66, 33.33]\n"
          ]
        },
        {
          "name": "stderr",
          "output_type": "stream",
          "text": [
            "Local Pariticipant 9 CE = 0.052,CON = 2.491: 100%|██████████| 10/10 [00:04<00:00,  2.05it/s]\n",
            "Local Pariticipant 6 CE = 0.412,CON = 1.936: 100%|██████████| 10/10 [00:08<00:00,  1.24it/s]\n",
            "Local Pariticipant 3 CE = 0.525,CON = 1.968: 100%|██████████| 10/10 [00:07<00:00,  1.26it/s]\n",
            "Local Pariticipant 5 CE = 0.185,CON = 2.558: 100%|██████████| 10/10 [00:04<00:00,  2.08it/s]\n",
            "Local Pariticipant 2 CE = 0.444,CON = 1.898: 100%|██████████| 10/10 [00:06<00:00,  1.60it/s]\n",
            "Local Pariticipant 8 CE = 0.089,CON = 2.576: 100%|██████████| 10/10 [00:03<00:00,  3.32it/s]\n",
            "Local Pariticipant 1 CE = 0.131,CON = 2.536: 100%|██████████| 10/10 [00:04<00:00,  2.07it/s]\n",
            "Local Pariticipant 0 CE = 0.541,CON = 2.035: 100%|██████████| 10/10 [00:07<00:00,  1.28it/s]\n",
            "Local Pariticipant 4 CE = 0.099,CON = 2.337: 100%|██████████| 10/10 [00:04<00:00,  2.08it/s]\n",
            "Local Pariticipant 7 CE = 0.508,CON = 2.007: 100%|██████████| 10/10 [00:06<00:00,  1.63it/s]\n"
          ]
        },
        {
          "name": "stdout",
          "output_type": "stream",
          "text": [
            "The 6 Communcation Accuracy: 42.12 Method: moon\n",
            "[49.11, 63.16, 36.21, 20.0]\n"
          ]
        },
        {
          "name": "stderr",
          "output_type": "stream",
          "text": [
            "Local Pariticipant 6 CE = 0.361,CON = 1.866: 100%|██████████| 10/10 [00:07<00:00,  1.26it/s]\n",
            "Local Pariticipant 7 CE = 0.348,CON = 2.002: 100%|██████████| 10/10 [00:06<00:00,  1.62it/s]\n",
            "Local Pariticipant 1 CE = 0.149,CON = 2.323: 100%|██████████| 10/10 [00:04<00:00,  2.08it/s]\n",
            "Local Pariticipant 0 CE = 0.413,CON = 2.134: 100%|██████████| 10/10 [00:07<00:00,  1.28it/s]\n",
            "Local Pariticipant 2 CE = 0.372,CON = 1.910: 100%|██████████| 10/10 [00:06<00:00,  1.57it/s]\n",
            "Local Pariticipant 4 CE = 0.101,CON = 2.245: 100%|██████████| 10/10 [00:04<00:00,  2.02it/s]\n",
            "Local Pariticipant 8 CE = 0.154,CON = 2.503: 100%|██████████| 10/10 [00:02<00:00,  3.58it/s]\n",
            "Local Pariticipant 5 CE = 0.099,CON = 2.507: 100%|██████████| 10/10 [00:04<00:00,  2.07it/s]\n",
            "Local Pariticipant 9 CE = 0.137,CON = 2.271: 100%|██████████| 10/10 [00:04<00:00,  2.04it/s]\n",
            "Local Pariticipant 3 CE = 0.555,CON = 1.943: 100%|██████████| 10/10 [00:07<00:00,  1.26it/s]\n"
          ]
        },
        {
          "name": "stdout",
          "output_type": "stream",
          "text": [
            "The 7 Communcation Accuracy: 43.412 Method: moon\n",
            "[52.68, 63.16, 34.48, 23.33]\n"
          ]
        },
        {
          "name": "stderr",
          "output_type": "stream",
          "text": [
            "Local Pariticipant 6 CE = 0.429,CON = 1.993: 100%|██████████| 10/10 [00:07<00:00,  1.26it/s]\n",
            "Local Pariticipant 9 CE = 0.077,CON = 2.394: 100%|██████████| 10/10 [00:04<00:00,  2.00it/s]\n",
            "Local Pariticipant 1 CE = 0.170,CON = 2.404: 100%|██████████| 10/10 [00:04<00:00,  2.07it/s]\n",
            "Local Pariticipant 8 CE = 0.082,CON = 2.481: 100%|██████████| 10/10 [00:02<00:00,  3.56it/s]\n",
            "Local Pariticipant 2 CE = 0.527,CON = 1.929: 100%|██████████| 10/10 [00:06<00:00,  1.63it/s]\n",
            "Local Pariticipant 5 CE = 0.109,CON = 2.425: 100%|██████████| 10/10 [00:05<00:00,  1.96it/s]\n",
            "Local Pariticipant 4 CE = 0.064,CON = 2.216: 100%|██████████| 10/10 [00:04<00:00,  2.11it/s]\n",
            "Local Pariticipant 7 CE = 0.331,CON = 1.913: 100%|██████████| 10/10 [00:06<00:00,  1.62it/s]\n",
            "Local Pariticipant 0 CE = 0.422,CON = 1.922: 100%|██████████| 10/10 [00:07<00:00,  1.29it/s]\n",
            "Local Pariticipant 3 CE = 0.431,CON = 2.022: 100%|██████████| 10/10 [00:07<00:00,  1.27it/s]\n"
          ]
        },
        {
          "name": "stdout",
          "output_type": "stream",
          "text": [
            "The 8 Communcation Accuracy: 43.135 Method: moon\n",
            "[50.89, 62.11, 36.21, 23.33]\n"
          ]
        },
        {
          "name": "stderr",
          "output_type": "stream",
          "text": [
            "Local Pariticipant 9 CE = 0.076,CON = 2.195: 100%|██████████| 10/10 [00:04<00:00,  2.09it/s]\n",
            "Local Pariticipant 2 CE = 0.318,CON = 1.887: 100%|██████████| 10/10 [00:06<00:00,  1.64it/s]\n",
            "Local Pariticipant 5 CE = 0.087,CON = 2.372: 100%|██████████| 10/10 [00:04<00:00,  2.07it/s]\n",
            "Local Pariticipant 8 CE = 0.132,CON = 2.380: 100%|██████████| 10/10 [00:02<00:00,  3.56it/s]\n",
            "Local Pariticipant 6 CE = 0.313,CON = 1.921: 100%|██████████| 10/10 [00:07<00:00,  1.27it/s]\n",
            "Local Pariticipant 1 CE = 0.098,CON = 2.223: 100%|██████████| 10/10 [00:04<00:00,  2.10it/s]\n",
            "Local Pariticipant 7 CE = 0.094,CON = 1.901: 100%|██████████| 10/10 [00:06<00:00,  1.57it/s]\n",
            "Local Pariticipant 4 CE = 0.081,CON = 2.208: 100%|██████████| 10/10 [00:04<00:00,  2.09it/s]\n",
            "Local Pariticipant 3 CE = 0.400,CON = 1.962: 100%|██████████| 10/10 [00:07<00:00,  1.27it/s]\n",
            "Local Pariticipant 0 CE = 0.205,CON = 1.969: 100%|██████████| 10/10 [00:07<00:00,  1.29it/s]\n"
          ]
        },
        {
          "name": "stdout",
          "output_type": "stream",
          "text": [
            "The 9 Communcation Accuracy: 43.168 Method: moon\n",
            "[50.0, 64.74, 37.93, 20.0]\n"
          ]
        },
        {
          "name": "stderr",
          "output_type": "stream",
          "text": [
            "Local Pariticipant 5 CE = 0.098,CON = 2.358: 100%|██████████| 10/10 [00:04<00:00,  2.04it/s]\n",
            "Local Pariticipant 8 CE = 0.068,CON = 2.369: 100%|██████████| 10/10 [00:02<00:00,  3.56it/s]\n",
            "Local Pariticipant 6 CE = 0.249,CON = 1.903: 100%|██████████| 10/10 [00:07<00:00,  1.27it/s]\n",
            "Local Pariticipant 4 CE = 0.061,CON = 2.169: 100%|██████████| 10/10 [00:04<00:00,  2.08it/s]\n",
            "Local Pariticipant 2 CE = 0.312,CON = 1.803: 100%|██████████| 10/10 [00:06<00:00,  1.62it/s]\n",
            "Local Pariticipant 9 CE = 0.050,CON = 2.375: 100%|██████████| 10/10 [00:04<00:00,  2.09it/s]\n",
            "Local Pariticipant 3 CE = 0.197,CON = 1.926: 100%|██████████| 10/10 [00:07<00:00,  1.27it/s]\n",
            "Local Pariticipant 1 CE = 0.135,CON = 2.391: 100%|██████████| 10/10 [00:04<00:00,  2.05it/s]\n",
            "Local Pariticipant 0 CE = 0.333,CON = 1.995: 100%|██████████| 10/10 [00:08<00:00,  1.24it/s]\n",
            "Local Pariticipant 7 CE = 0.414,CON = 1.887: 100%|██████████| 10/10 [00:06<00:00,  1.57it/s]\n"
          ]
        },
        {
          "name": "stdout",
          "output_type": "stream",
          "text": [
            "The 10 Communcation Accuracy: 41.645 Method: moon\n",
            "[51.34, 64.21, 31.03, 20.0]\n"
          ]
        },
        {
          "name": "stderr",
          "output_type": "stream",
          "text": [
            "Local Pariticipant 2 CE = 0.206,CON = 1.852: 100%|██████████| 10/10 [00:06<00:00,  1.51it/s]\n",
            "Local Pariticipant 5 CE = 0.088,CON = 2.321: 100%|██████████| 10/10 [00:05<00:00,  1.96it/s]\n",
            "Local Pariticipant 8 CE = 0.105,CON = 2.258: 100%|██████████| 10/10 [00:02<00:00,  3.73it/s]\n",
            "Local Pariticipant 6 CE = 0.208,CON = 1.832: 100%|██████████| 10/10 [00:07<00:00,  1.34it/s]\n",
            "Local Pariticipant 7 CE = 0.256,CON = 1.943: 100%|██████████| 10/10 [00:05<00:00,  1.71it/s]\n",
            "Local Pariticipant 3 CE = 0.322,CON = 1.978: 100%|██████████| 10/10 [00:07<00:00,  1.35it/s]\n",
            "Local Pariticipant 4 CE = 0.050,CON = 2.109: 100%|██████████| 10/10 [00:04<00:00,  2.27it/s]\n",
            "Local Pariticipant 0 CE = 0.266,CON = 2.055: 100%|██████████| 10/10 [00:07<00:00,  1.34it/s]\n",
            "Local Pariticipant 1 CE = 0.055,CON = 2.265: 100%|██████████| 10/10 [00:04<00:00,  2.22it/s]\n",
            "Local Pariticipant 9 CE = 0.103,CON = 2.176: 100%|██████████| 10/10 [00:04<00:00,  2.28it/s]\n"
          ]
        },
        {
          "name": "stdout",
          "output_type": "stream",
          "text": [
            "The 11 Communcation Accuracy: 43.91 Method: moon\n",
            "[52.68, 65.26, 31.03, 26.67]\n"
          ]
        },
        {
          "name": "stderr",
          "output_type": "stream",
          "text": [
            "Local Pariticipant 0 CE = 0.173,CON = 1.935: 100%|██████████| 10/10 [00:07<00:00,  1.36it/s]\n",
            "Local Pariticipant 5 CE = 0.047,CON = 2.265: 100%|██████████| 10/10 [00:04<00:00,  2.27it/s]\n",
            "Local Pariticipant 4 CE = 0.054,CON = 2.178: 100%|██████████| 10/10 [00:04<00:00,  2.30it/s]\n",
            "Local Pariticipant 3 CE = 0.327,CON = 1.884: 100%|██████████| 10/10 [00:07<00:00,  1.34it/s]\n",
            "Local Pariticipant 2 CE = 0.183,CON = 1.898: 100%|██████████| 10/10 [00:05<00:00,  1.74it/s]\n",
            "Local Pariticipant 9 CE = 0.039,CON = 2.338: 100%|██████████| 10/10 [00:04<00:00,  2.28it/s]\n",
            "Local Pariticipant 8 CE = 0.083,CON = 2.334: 100%|██████████| 10/10 [00:02<00:00,  3.85it/s]\n",
            "Local Pariticipant 7 CE = 0.182,CON = 1.916: 100%|██████████| 10/10 [00:05<00:00,  1.74it/s]\n",
            "Local Pariticipant 6 CE = 0.208,CON = 1.874: 100%|██████████| 10/10 [00:07<00:00,  1.37it/s]\n",
            "Local Pariticipant 1 CE = 0.122,CON = 2.366: 100%|██████████| 10/10 [00:04<00:00,  2.31it/s]\n"
          ]
        },
        {
          "name": "stdout",
          "output_type": "stream",
          "text": [
            "The 12 Communcation Accuracy: 45.948 Method: moon\n",
            "[55.8, 66.84, 34.48, 26.67]\n"
          ]
        },
        {
          "name": "stderr",
          "output_type": "stream",
          "text": [
            "Local Pariticipant 0 CE = 0.104,CON = 1.930: 100%|██████████| 10/10 [00:07<00:00,  1.38it/s]\n",
            "Local Pariticipant 1 CE = 0.046,CON = 2.245: 100%|██████████| 10/10 [00:04<00:00,  2.31it/s]\n",
            "Local Pariticipant 6 CE = 0.226,CON = 1.841: 100%|██████████| 10/10 [00:07<00:00,  1.36it/s]\n",
            "Local Pariticipant 5 CE = 0.056,CON = 2.241: 100%|██████████| 10/10 [00:04<00:00,  2.18it/s]\n",
            "Local Pariticipant 9 CE = 0.084,CON = 2.166: 100%|██████████| 10/10 [00:04<00:00,  2.26it/s]\n",
            "Local Pariticipant 3 CE = 0.186,CON = 1.958: 100%|██████████| 10/10 [00:07<00:00,  1.34it/s]\n",
            "Local Pariticipant 7 CE = 0.151,CON = 1.843: 100%|██████████| 10/10 [00:05<00:00,  1.73it/s]\n",
            "Local Pariticipant 2 CE = 0.355,CON = 1.728: 100%|██████████| 10/10 [00:05<00:00,  1.74it/s]\n",
            "Local Pariticipant 8 CE = 0.098,CON = 2.202: 100%|██████████| 10/10 [00:02<00:00,  3.89it/s]\n",
            "Local Pariticipant 4 CE = 0.075,CON = 2.107: 100%|██████████| 10/10 [00:04<00:00,  2.30it/s]\n"
          ]
        },
        {
          "name": "stdout",
          "output_type": "stream",
          "text": [
            "The 13 Communcation Accuracy: 43.472 Method: moon\n",
            "[54.02, 68.95, 27.59, 23.33]\n"
          ]
        },
        {
          "name": "stderr",
          "output_type": "stream",
          "text": [
            "Local Pariticipant 8 CE = 0.106,CON = 2.273: 100%|██████████| 10/10 [00:02<00:00,  3.89it/s]\n",
            "Local Pariticipant 1 CE = 0.141,CON = 2.342: 100%|██████████| 10/10 [00:04<00:00,  2.31it/s]\n",
            "Local Pariticipant 0 CE = 0.206,CON = 1.894: 100%|██████████| 10/10 [00:07<00:00,  1.35it/s]\n",
            "Local Pariticipant 2 CE = 0.217,CON = 1.809: 100%|██████████| 10/10 [00:05<00:00,  1.75it/s]\n",
            "Local Pariticipant 3 CE = 0.224,CON = 1.860: 100%|██████████| 10/10 [00:07<00:00,  1.39it/s]\n",
            "Local Pariticipant 4 CE = 0.077,CON = 2.146: 100%|██████████| 10/10 [00:04<00:00,  2.14it/s]\n",
            "Local Pariticipant 5 CE = 0.112,CON = 2.190: 100%|██████████| 10/10 [00:04<00:00,  2.28it/s]\n",
            "Local Pariticipant 6 CE = 0.208,CON = 1.897: 100%|██████████| 10/10 [00:07<00:00,  1.39it/s]\n",
            "Local Pariticipant 9 CE = 0.047,CON = 2.295: 100%|██████████| 10/10 [00:04<00:00,  2.23it/s]\n",
            "Local Pariticipant 7 CE = 0.268,CON = 1.829: 100%|██████████| 10/10 [00:05<00:00,  1.76it/s]\n"
          ]
        },
        {
          "name": "stdout",
          "output_type": "stream",
          "text": [
            "The 14 Communcation Accuracy: 43.6 Method: moon\n",
            "[53.57, 64.74, 32.76, 23.33]\n"
          ]
        },
        {
          "name": "stderr",
          "output_type": "stream",
          "text": [
            "Local Pariticipant 4 CE = 0.082,CON = 2.062: 100%|██████████| 10/10 [00:04<00:00,  2.25it/s]\n",
            "Local Pariticipant 1 CE = 0.055,CON = 2.148: 100%|██████████| 10/10 [00:04<00:00,  2.29it/s]\n",
            "Local Pariticipant 7 CE = 0.224,CON = 1.903: 100%|██████████| 10/10 [00:05<00:00,  1.78it/s]\n",
            "Local Pariticipant 2 CE = 0.387,CON = 1.769: 100%|██████████| 10/10 [00:05<00:00,  1.78it/s]\n",
            "Local Pariticipant 5 CE = 0.052,CON = 2.226: 100%|██████████| 10/10 [00:04<00:00,  2.32it/s]\n",
            "Local Pariticipant 0 CE = 0.179,CON = 1.912: 100%|██████████| 10/10 [00:07<00:00,  1.42it/s]\n",
            "Local Pariticipant 9 CE = 0.059,CON = 2.116: 100%|██████████| 10/10 [00:04<00:00,  2.29it/s]\n",
            "Local Pariticipant 8 CE = 0.079,CON = 2.164: 100%|██████████| 10/10 [00:02<00:00,  3.98it/s]\n",
            "Local Pariticipant 3 CE = 0.179,CON = 1.932: 100%|██████████| 10/10 [00:07<00:00,  1.39it/s]\n",
            "Local Pariticipant 6 CE = 0.127,CON = 1.789: 100%|██████████| 10/10 [00:07<00:00,  1.40it/s]\n"
          ]
        },
        {
          "name": "stdout",
          "output_type": "stream",
          "text": [
            "The 15 Communcation Accuracy: 44.225 Method: moon\n",
            "[55.8, 66.84, 27.59, 26.67]\n"
          ]
        },
        {
          "name": "stderr",
          "output_type": "stream",
          "text": [
            "Local Pariticipant 3 CE = 0.136,CON = 1.897: 100%|██████████| 10/10 [00:07<00:00,  1.39it/s]\n",
            "Local Pariticipant 7 CE = 0.311,CON = 1.900: 100%|██████████| 10/10 [00:05<00:00,  1.78it/s]\n",
            "Local Pariticipant 8 CE = 0.068,CON = 2.169: 100%|██████████| 10/10 [00:02<00:00,  3.97it/s]\n",
            "Local Pariticipant 5 CE = 0.139,CON = 2.174: 100%|██████████| 10/10 [00:04<00:00,  2.31it/s]\n",
            "Local Pariticipant 2 CE = 0.168,CON = 1.895: 100%|██████████| 10/10 [00:05<00:00,  1.77it/s]\n",
            "Local Pariticipant 1 CE = 0.073,CON = 2.136: 100%|██████████| 10/10 [00:04<00:00,  2.31it/s]\n",
            "Local Pariticipant 0 CE = 0.216,CON = 1.875: 100%|██████████| 10/10 [00:07<00:00,  1.41it/s]\n",
            "Local Pariticipant 6 CE = 0.097,CON = 1.863: 100%|██████████| 10/10 [00:07<00:00,  1.37it/s]\n",
            "Local Pariticipant 4 CE = 0.028,CON = 2.099: 100%|██████████| 10/10 [00:04<00:00,  2.33it/s]\n",
            "Local Pariticipant 9 CE = 0.048,CON = 2.192: 100%|██████████| 10/10 [00:04<00:00,  2.30it/s]\n"
          ]
        },
        {
          "name": "stdout",
          "output_type": "stream",
          "text": [
            "The 16 Communcation Accuracy: 46.642 Method: moon\n",
            "[55.8, 67.89, 36.21, 26.67]\n"
          ]
        },
        {
          "name": "stderr",
          "output_type": "stream",
          "text": [
            "Local Pariticipant 5 CE = 0.056,CON = 2.166: 100%|██████████| 10/10 [00:04<00:00,  2.28it/s]\n",
            "Local Pariticipant 3 CE = 0.175,CON = 1.896: 100%|██████████| 10/10 [00:07<00:00,  1.40it/s]\n",
            "Local Pariticipant 6 CE = 0.158,CON = 1.843: 100%|██████████| 10/10 [00:07<00:00,  1.40it/s]\n",
            "Local Pariticipant 2 CE = 0.163,CON = 1.778: 100%|██████████| 10/10 [00:05<00:00,  1.78it/s]\n",
            "Local Pariticipant 7 CE = 0.251,CON = 1.866: 100%|██████████| 10/10 [00:05<00:00,  1.78it/s]\n",
            "Local Pariticipant 0 CE = 0.257,CON = 1.876: 100%|██████████| 10/10 [00:07<00:00,  1.39it/s]\n",
            "Local Pariticipant 4 CE = 0.103,CON = 2.044: 100%|██████████| 10/10 [00:04<00:00,  2.32it/s]\n",
            "Local Pariticipant 8 CE = 0.083,CON = 2.153: 100%|██████████| 10/10 [00:02<00:00,  3.98it/s]\n",
            "Local Pariticipant 9 CE = 0.074,CON = 2.080: 100%|██████████| 10/10 [00:04<00:00,  2.31it/s]\n",
            "Local Pariticipant 1 CE = 0.062,CON = 2.074: 100%|██████████| 10/10 [00:04<00:00,  2.29it/s]\n"
          ]
        },
        {
          "name": "stdout",
          "output_type": "stream",
          "text": [
            "The 17 Communcation Accuracy: 46.02 Method: moon\n",
            "[54.46, 65.26, 31.03, 33.33]\n"
          ]
        },
        {
          "name": "stderr",
          "output_type": "stream",
          "text": [
            "Local Pariticipant 1 CE = 0.075,CON = 2.051: 100%|██████████| 10/10 [00:04<00:00,  2.30it/s]\n",
            "Local Pariticipant 6 CE = 0.151,CON = 1.845: 100%|██████████| 10/10 [00:07<00:00,  1.40it/s]\n",
            "Local Pariticipant 5 CE = 0.072,CON = 2.155: 100%|██████████| 10/10 [00:04<00:00,  2.31it/s]\n",
            "Local Pariticipant 4 CE = 0.022,CON = 2.063: 100%|██████████| 10/10 [00:04<00:00,  2.33it/s]\n",
            "Local Pariticipant 3 CE = 0.278,CON = 1.867: 100%|██████████| 10/10 [00:07<00:00,  1.40it/s]\n",
            "Local Pariticipant 2 CE = 0.145,CON = 1.796: 100%|██████████| 10/10 [00:05<00:00,  1.79it/s]\n",
            "Local Pariticipant 0 CE = 0.110,CON = 1.961: 100%|██████████| 10/10 [00:07<00:00,  1.41it/s]\n",
            "Local Pariticipant 9 CE = 0.037,CON = 2.184: 100%|██████████| 10/10 [00:04<00:00,  2.34it/s]\n",
            "Local Pariticipant 8 CE = 0.053,CON = 2.160: 100%|██████████| 10/10 [00:02<00:00,  3.95it/s]\n",
            "Local Pariticipant 7 CE = 0.086,CON = 1.717: 100%|██████████| 10/10 [00:05<00:00,  1.75it/s]\n"
          ]
        },
        {
          "name": "stdout",
          "output_type": "stream",
          "text": [
            "The 18 Communcation Accuracy: 42.672 Method: moon\n",
            "[50.45, 61.05, 25.86, 33.33]\n"
          ]
        },
        {
          "name": "stderr",
          "output_type": "stream",
          "text": [
            "Local Pariticipant 7 CE = 0.410,CON = 1.818: 100%|██████████| 10/10 [00:05<00:00,  1.76it/s]\n",
            "Local Pariticipant 5 CE = 0.046,CON = 2.177: 100%|██████████| 10/10 [00:04<00:00,  2.29it/s]\n",
            "Local Pariticipant 1 CE = 0.063,CON = 2.017: 100%|██████████| 10/10 [00:04<00:00,  2.29it/s]\n",
            "Local Pariticipant 0 CE = 0.158,CON = 1.821: 100%|██████████| 10/10 [00:07<00:00,  1.42it/s]\n",
            "Local Pariticipant 3 CE = 0.190,CON = 1.834: 100%|██████████| 10/10 [00:07<00:00,  1.40it/s]\n",
            "Local Pariticipant 2 CE = 0.314,CON = 1.786: 100%|██████████| 10/10 [00:05<00:00,  1.79it/s]\n",
            "Local Pariticipant 6 CE = 0.085,CON = 1.723: 100%|██████████| 10/10 [00:07<00:00,  1.40it/s]\n",
            "Local Pariticipant 8 CE = 0.095,CON = 2.132: 100%|██████████| 10/10 [00:02<00:00,  3.88it/s]\n",
            "Local Pariticipant 4 CE = 0.034,CON = 2.061: 100%|██████████| 10/10 [00:04<00:00,  2.20it/s]\n",
            "Local Pariticipant 9 CE = 0.038,CON = 2.072: 100%|██████████| 10/10 [00:04<00:00,  2.30it/s]\n"
          ]
        },
        {
          "name": "stdout",
          "output_type": "stream",
          "text": [
            "The 19 Communcation Accuracy: 43.0 Method: moon\n",
            "[53.57, 65.79, 29.31, 23.33]\n"
          ]
        },
        {
          "name": "stderr",
          "output_type": "stream",
          "text": [
            "Local Pariticipant 6 CE = 0.192,CON = 1.835: 100%|██████████| 10/10 [00:07<00:00,  1.40it/s]\n",
            "Local Pariticipant 2 CE = 0.274,CON = 1.773: 100%|██████████| 10/10 [00:05<00:00,  1.79it/s]\n",
            "Local Pariticipant 1 CE = 0.034,CON = 1.991: 100%|██████████| 10/10 [00:04<00:00,  2.31it/s]\n",
            "Local Pariticipant 0 CE = 0.100,CON = 1.866: 100%|██████████| 10/10 [00:07<00:00,  1.41it/s]\n",
            "Local Pariticipant 8 CE = 0.058,CON = 2.139: 100%|██████████| 10/10 [00:02<00:00,  3.87it/s]\n",
            "Local Pariticipant 9 CE = 0.027,CON = 2.084: 100%|██████████| 10/10 [00:04<00:00,  2.30it/s]\n",
            "Local Pariticipant 4 CE = 0.028,CON = 1.982: 100%|██████████| 10/10 [00:04<00:00,  2.31it/s]\n",
            "Local Pariticipant 5 CE = 0.109,CON = 2.061: 100%|██████████| 10/10 [00:04<00:00,  2.30it/s]\n",
            "Local Pariticipant 3 CE = 0.123,CON = 1.881: 100%|██████████| 10/10 [00:07<00:00,  1.40it/s]\n",
            "Local Pariticipant 7 CE = 0.222,CON = 1.809: 100%|██████████| 10/10 [00:05<00:00,  1.79it/s]\n"
          ]
        },
        {
          "name": "stdout",
          "output_type": "stream",
          "text": [
            "The 20 Communcation Accuracy: 45.685 Method: moon\n",
            "[53.12, 65.26, 31.03, 33.33]\n"
          ]
        },
        {
          "name": "stderr",
          "output_type": "stream",
          "text": [
            "Local Pariticipant 7 CE = 0.083,CON = 1.734: 100%|██████████| 10/10 [00:05<00:00,  1.78it/s]\n",
            "Local Pariticipant 6 CE = 0.092,CON = 1.790: 100%|██████████| 10/10 [00:07<00:00,  1.40it/s]\n",
            "Local Pariticipant 2 CE = 0.256,CON = 1.695: 100%|██████████| 10/10 [00:05<00:00,  1.77it/s]\n",
            "Local Pariticipant 4 CE = 0.039,CON = 2.047: 100%|██████████| 10/10 [00:04<00:00,  2.30it/s]\n",
            "Local Pariticipant 0 CE = 0.189,CON = 1.809: 100%|██████████| 10/10 [00:07<00:00,  1.40it/s]\n",
            "Local Pariticipant 5 CE = 0.040,CON = 2.139: 100%|██████████| 10/10 [00:04<00:00,  2.28it/s]\n",
            "Local Pariticipant 9 CE = 0.055,CON = 1.936: 100%|██████████| 10/10 [00:04<00:00,  2.13it/s]\n",
            "Local Pariticipant 8 CE = 0.062,CON = 2.018: 100%|██████████| 10/10 [00:02<00:00,  3.77it/s]\n",
            "Local Pariticipant 3 CE = 0.151,CON = 1.863: 100%|██████████| 10/10 [00:07<00:00,  1.32it/s]\n",
            "Local Pariticipant 1 CE = 0.108,CON = 2.067: 100%|██████████| 10/10 [00:04<00:00,  2.19it/s]\n"
          ]
        },
        {
          "name": "stdout",
          "output_type": "stream",
          "text": [
            "The 21 Communcation Accuracy: 46.007 Method: moon\n",
            "[54.46, 68.42, 34.48, 26.67]\n"
          ]
        },
        {
          "name": "stderr",
          "output_type": "stream",
          "text": [
            "Local Pariticipant 5 CE = 0.066,CON = 1.961: 100%|██████████| 10/10 [00:04<00:00,  2.26it/s]\n",
            "Local Pariticipant 1 CE = 0.048,CON = 2.060: 100%|██████████| 10/10 [00:04<00:00,  2.25it/s]\n",
            "Local Pariticipant 7 CE = 0.119,CON = 1.728: 100%|██████████| 10/10 [00:05<00:00,  1.71it/s]\n",
            "Local Pariticipant 0 CE = 0.075,CON = 1.855: 100%|██████████| 10/10 [00:07<00:00,  1.29it/s]\n",
            "Local Pariticipant 6 CE = 0.125,CON = 1.833: 100%|██████████| 10/10 [00:07<00:00,  1.34it/s]\n",
            "Local Pariticipant 2 CE = 0.263,CON = 1.737: 100%|██████████| 10/10 [00:06<00:00,  1.62it/s]\n",
            "Local Pariticipant 3 CE = 0.183,CON = 1.759: 100%|██████████| 10/10 [00:08<00:00,  1.23it/s]\n",
            "Local Pariticipant 9 CE = 0.042,CON = 2.094: 100%|██████████| 10/10 [00:04<00:00,  2.10it/s]\n",
            "Local Pariticipant 8 CE = 0.076,CON = 2.119: 100%|██████████| 10/10 [00:02<00:00,  3.72it/s]\n",
            "Local Pariticipant 4 CE = 0.062,CON = 1.979: 100%|██████████| 10/10 [00:04<00:00,  2.02it/s]\n"
          ]
        },
        {
          "name": "stdout",
          "output_type": "stream",
          "text": [
            "The 22 Communcation Accuracy: 47.382 Method: moon\n",
            "[58.04, 63.68, 34.48, 33.33]\n"
          ]
        },
        {
          "name": "stderr",
          "output_type": "stream",
          "text": [
            "Local Pariticipant 4 CE = 0.056,CON = 2.064: 100%|██████████| 10/10 [00:04<00:00,  2.02it/s]\n",
            "Local Pariticipant 6 CE = 0.088,CON = 1.801: 100%|██████████| 10/10 [00:08<00:00,  1.21it/s]\n",
            "Local Pariticipant 3 CE = 0.060,CON = 1.766: 100%|██████████| 10/10 [00:08<00:00,  1.22it/s]\n",
            "Local Pariticipant 7 CE = 0.079,CON = 1.802: 100%|██████████| 10/10 [00:06<00:00,  1.61it/s]\n",
            "Local Pariticipant 2 CE = 0.306,CON = 1.766: 100%|██████████| 10/10 [00:06<00:00,  1.59it/s]\n",
            "Local Pariticipant 1 CE = 0.046,CON = 2.011: 100%|██████████| 10/10 [00:04<00:00,  2.04it/s]\n",
            "Local Pariticipant 0 CE = 0.167,CON = 1.782: 100%|██████████| 10/10 [00:07<00:00,  1.26it/s]\n",
            "Local Pariticipant 9 CE = 0.024,CON = 1.970: 100%|██████████| 10/10 [00:04<00:00,  2.05it/s]\n",
            "Local Pariticipant 8 CE = 0.062,CON = 2.024: 100%|██████████| 10/10 [00:02<00:00,  3.54it/s]\n",
            "Local Pariticipant 5 CE = 0.042,CON = 2.161: 100%|██████████| 10/10 [00:04<00:00,  2.06it/s]\n"
          ]
        },
        {
          "name": "stdout",
          "output_type": "stream",
          "text": [
            "The 23 Communcation Accuracy: 50.048 Method: moon\n",
            "[54.91, 68.95, 39.66, 36.67]\n"
          ]
        },
        {
          "name": "stderr",
          "output_type": "stream",
          "text": [
            "Local Pariticipant 0 CE = 0.054,CON = 1.823: 100%|██████████| 10/10 [00:07<00:00,  1.27it/s]\n",
            "Local Pariticipant 3 CE = 0.130,CON = 1.812: 100%|██████████| 10/10 [00:08<00:00,  1.24it/s]\n",
            "Local Pariticipant 4 CE = 0.034,CON = 1.919: 100%|██████████| 10/10 [00:04<00:00,  2.06it/s]\n",
            "Local Pariticipant 2 CE = 0.198,CON = 1.823: 100%|██████████| 10/10 [00:06<00:00,  1.54it/s]\n",
            "Local Pariticipant 9 CE = 0.032,CON = 2.063: 100%|██████████| 10/10 [00:04<00:00,  2.01it/s]\n",
            "Local Pariticipant 8 CE = 0.060,CON = 2.047: 100%|██████████| 10/10 [00:02<00:00,  3.51it/s]\n",
            "Local Pariticipant 6 CE = 0.123,CON = 1.800: 100%|██████████| 10/10 [00:07<00:00,  1.25it/s]\n",
            "Local Pariticipant 1 CE = 0.100,CON = 2.002: 100%|██████████| 10/10 [00:05<00:00,  1.94it/s]\n",
            "Local Pariticipant 5 CE = 0.037,CON = 1.959: 100%|██████████| 10/10 [00:05<00:00,  1.92it/s]\n",
            "Local Pariticipant 7 CE = 0.267,CON = 1.782: 100%|██████████| 10/10 [00:06<00:00,  1.59it/s]\n"
          ]
        },
        {
          "name": "stdout",
          "output_type": "stream",
          "text": [
            "The 24 Communcation Accuracy: 45.715 Method: moon\n",
            "[55.8, 69.47, 27.59, 30.0]\n"
          ]
        },
        {
          "name": "stderr",
          "output_type": "stream",
          "text": [
            "Local Pariticipant 3 CE = 0.090,CON = 1.797: 100%|██████████| 10/10 [00:08<00:00,  1.23it/s]\n",
            "Local Pariticipant 8 CE = 0.057,CON = 1.993: 100%|██████████| 10/10 [00:02<00:00,  3.34it/s]\n",
            "Local Pariticipant 7 CE = 0.139,CON = 1.783: 100%|██████████| 10/10 [00:06<00:00,  1.59it/s]\n",
            "Local Pariticipant 2 CE = 0.245,CON = 1.734: 100%|██████████| 10/10 [00:06<00:00,  1.58it/s]\n",
            "Local Pariticipant 0 CE = 0.075,CON = 1.842: 100%|██████████| 10/10 [00:08<00:00,  1.24it/s]\n",
            "Local Pariticipant 6 CE = 0.050,CON = 1.730: 100%|██████████| 10/10 [00:08<00:00,  1.21it/s]\n",
            "Local Pariticipant 5 CE = 0.039,CON = 2.158: 100%|██████████| 10/10 [00:05<00:00,  1.89it/s]\n",
            "Local Pariticipant 9 CE = 0.033,CON = 1.897: 100%|██████████| 10/10 [00:04<00:00,  2.04it/s]\n",
            "Local Pariticipant 1 CE = 0.061,CON = 2.048: 100%|██████████| 10/10 [00:04<00:00,  2.01it/s]\n",
            "Local Pariticipant 4 CE = 0.019,CON = 2.019: 100%|██████████| 10/10 [00:04<00:00,  2.06it/s]\n"
          ]
        },
        {
          "name": "stdout",
          "output_type": "stream",
          "text": [
            "The 25 Communcation Accuracy: 47.862 Method: moon\n",
            "[54.46, 72.63, 31.03, 33.33]\n"
          ]
        },
        {
          "name": "stderr",
          "output_type": "stream",
          "text": [
            "Local Pariticipant 6 CE = 0.085,CON = 1.811: 100%|██████████| 10/10 [00:08<00:00,  1.24it/s]\n",
            "Local Pariticipant 1 CE = 0.036,CON = 2.018: 100%|██████████| 10/10 [00:04<00:00,  2.03it/s]\n",
            "Local Pariticipant 4 CE = 0.021,CON = 1.940: 100%|██████████| 10/10 [00:04<00:00,  2.03it/s]\n",
            "Local Pariticipant 9 CE = 0.026,CON = 2.039: 100%|██████████| 10/10 [00:04<00:00,  2.06it/s]\n",
            "Local Pariticipant 3 CE = 0.048,CON = 1.763: 100%|██████████| 10/10 [00:07<00:00,  1.26it/s]\n",
            "Local Pariticipant 2 CE = 0.064,CON = 1.822: 100%|██████████| 10/10 [00:06<00:00,  1.52it/s]\n",
            "Local Pariticipant 0 CE = 0.059,CON = 1.798: 100%|██████████| 10/10 [00:07<00:00,  1.25it/s]\n",
            "Local Pariticipant 8 CE = 0.052,CON = 2.017: 100%|██████████| 10/10 [00:02<00:00,  3.47it/s]\n",
            "Local Pariticipant 5 CE = 0.051,CON = 1.967: 100%|██████████| 10/10 [00:04<00:00,  2.01it/s]\n",
            "Local Pariticipant 7 CE = 0.076,CON = 1.765: 100%|██████████| 10/10 [00:06<00:00,  1.58it/s]\n"
          ]
        },
        {
          "name": "stdout",
          "output_type": "stream",
          "text": [
            "The 26 Communcation Accuracy: 47.385 Method: moon\n",
            "[52.68, 70.53, 39.66, 26.67]\n"
          ]
        },
        {
          "name": "stderr",
          "output_type": "stream",
          "text": [
            "Local Pariticipant 2 CE = 0.142,CON = 1.662: 100%|██████████| 10/10 [00:06<00:00,  1.59it/s]\n",
            "Local Pariticipant 8 CE = 0.046,CON = 1.917: 100%|██████████| 10/10 [00:02<00:00,  3.49it/s]\n",
            "Local Pariticipant 5 CE = 0.026,CON = 2.101: 100%|██████████| 10/10 [00:04<00:00,  2.07it/s]\n",
            "Local Pariticipant 9 CE = 0.044,CON = 1.908: 100%|██████████| 10/10 [00:04<00:00,  2.05it/s]\n",
            "Local Pariticipant 7 CE = 0.099,CON = 1.777: 100%|██████████| 10/10 [00:06<00:00,  1.60it/s]\n",
            "Local Pariticipant 4 CE = 0.057,CON = 2.005: 100%|██████████| 10/10 [00:04<00:00,  2.05it/s]\n",
            "Local Pariticipant 3 CE = 0.035,CON = 1.790: 100%|██████████| 10/10 [00:08<00:00,  1.24it/s]\n",
            "Local Pariticipant 6 CE = 0.068,CON = 1.764: 100%|██████████| 10/10 [00:09<00:00,  1.07it/s]\n",
            "Local Pariticipant 1 CE = 0.044,CON = 1.956: 100%|██████████| 10/10 [00:05<00:00,  1.67it/s]\n",
            "Local Pariticipant 0 CE = 0.087,CON = 1.792: 100%|██████████| 10/10 [00:08<00:00,  1.24it/s]\n"
          ]
        },
        {
          "name": "stdout",
          "output_type": "stream",
          "text": [
            "The 27 Communcation Accuracy: 47.698 Method: moon\n",
            "[55.8, 72.11, 36.21, 26.67]\n"
          ]
        },
        {
          "name": "stderr",
          "output_type": "stream",
          "text": [
            "Local Pariticipant 6 CE = 0.057,CON = 1.828: 100%|██████████| 10/10 [00:08<00:00,  1.25it/s]\n",
            "Local Pariticipant 0 CE = 0.184,CON = 1.699: 100%|██████████| 10/10 [00:08<00:00,  1.22it/s]\n",
            "Local Pariticipant 1 CE = 0.055,CON = 1.966: 100%|██████████| 10/10 [00:05<00:00,  1.99it/s]\n",
            "Local Pariticipant 3 CE = 0.106,CON = 1.811: 100%|██████████| 10/10 [00:08<00:00,  1.19it/s]\n",
            "Local Pariticipant 4 CE = 0.047,CON = 1.896: 100%|██████████| 10/10 [00:05<00:00,  1.93it/s]\n",
            "Local Pariticipant 9 CE = 0.019,CON = 2.027: 100%|██████████| 10/10 [00:05<00:00,  1.98it/s]\n",
            "Local Pariticipant 2 CE = 0.212,CON = 1.771: 100%|██████████| 10/10 [00:06<00:00,  1.49it/s]\n",
            "Local Pariticipant 5 CE = 0.040,CON = 1.894: 100%|██████████| 10/10 [00:04<00:00,  2.05it/s]\n",
            "Local Pariticipant 7 CE = 0.047,CON = 1.787: 100%|██████████| 10/10 [00:06<00:00,  1.61it/s]\n",
            "Local Pariticipant 8 CE = 0.043,CON = 2.032: 100%|██████████| 10/10 [00:02<00:00,  3.53it/s]\n"
          ]
        },
        {
          "name": "stdout",
          "output_type": "stream",
          "text": [
            "The 28 Communcation Accuracy: 47.368 Method: moon\n",
            "[54.46, 70.53, 34.48, 30.0]\n"
          ]
        },
        {
          "name": "stderr",
          "output_type": "stream",
          "text": [
            "Local Pariticipant 4 CE = 0.024,CON = 1.998: 100%|██████████| 10/10 [00:04<00:00,  2.06it/s]\n",
            "Local Pariticipant 2 CE = 0.454,CON = 1.761: 100%|██████████| 10/10 [00:06<00:00,  1.56it/s]\n",
            "Local Pariticipant 0 CE = 0.066,CON = 1.782: 100%|██████████| 10/10 [00:08<00:00,  1.24it/s]\n",
            "Local Pariticipant 9 CE = 0.041,CON = 1.835: 100%|██████████| 10/10 [00:04<00:00,  2.01it/s]\n",
            "Local Pariticipant 7 CE = 0.178,CON = 1.836: 100%|██████████| 10/10 [00:06<00:00,  1.54it/s]\n",
            "Local Pariticipant 6 CE = 0.069,CON = 1.736: 100%|██████████| 10/10 [00:08<00:00,  1.22it/s]\n",
            "Local Pariticipant 3 CE = 0.042,CON = 1.843: 100%|██████████| 10/10 [00:08<00:00,  1.24it/s]\n",
            "Local Pariticipant 8 CE = 0.040,CON = 1.889: 100%|██████████| 10/10 [00:02<00:00,  3.50it/s]\n",
            "Local Pariticipant 5 CE = 0.043,CON = 2.081: 100%|██████████| 10/10 [00:04<00:00,  2.03it/s]\n",
            "Local Pariticipant 1 CE = 0.076,CON = 1.967: 100%|██████████| 10/10 [00:04<00:00,  2.04it/s]\n"
          ]
        },
        {
          "name": "stdout",
          "output_type": "stream",
          "text": [
            "The 29 Communcation Accuracy: 48.915 Method: moon\n",
            "[56.7, 72.63, 39.66, 26.67]\n"
          ]
        },
        {
          "name": "stderr",
          "output_type": "stream",
          "text": [
            "Local Pariticipant 1 CE = 0.100,CON = 1.870: 100%|██████████| 10/10 [00:04<00:00,  2.03it/s]\n",
            "Local Pariticipant 9 CE = 0.021,CON = 2.022: 100%|██████████| 10/10 [00:04<00:00,  2.06it/s]\n",
            "Local Pariticipant 7 CE = 0.070,CON = 1.769: 100%|██████████| 10/10 [00:06<00:00,  1.60it/s]\n",
            "Local Pariticipant 8 CE = 0.041,CON = 1.959: 100%|██████████| 10/10 [00:02<00:00,  3.51it/s]\n",
            "Local Pariticipant 2 CE = 0.249,CON = 1.720: 100%|██████████| 10/10 [00:06<00:00,  1.61it/s]\n",
            "Local Pariticipant 0 CE = 0.037,CON = 1.751: 100%|██████████| 10/10 [00:07<00:00,  1.27it/s]\n",
            "Local Pariticipant 5 CE = 0.078,CON = 1.854: 100%|██████████| 10/10 [00:04<00:00,  2.06it/s]\n",
            "Local Pariticipant 3 CE = 0.147,CON = 1.763: 100%|██████████| 10/10 [00:08<00:00,  1.24it/s]\n",
            "Local Pariticipant 6 CE = 0.104,CON = 1.715: 100%|██████████| 10/10 [00:08<00:00,  1.25it/s]\n",
            "Local Pariticipant 4 CE = 0.034,CON = 1.837: 100%|██████████| 10/10 [00:04<00:00,  2.05it/s]\n"
          ]
        },
        {
          "name": "stdout",
          "output_type": "stream",
          "text": [
            "The 30 Communcation Accuracy: 47.257 Method: moon\n",
            "[56.25, 68.42, 31.03, 33.33]\n"
          ]
        },
        {
          "name": "stderr",
          "output_type": "stream",
          "text": [
            "Local Pariticipant 0 CE = 0.044,CON = 1.742: 100%|██████████| 10/10 [00:07<00:00,  1.27it/s]\n",
            "Local Pariticipant 6 CE = 0.054,CON = 1.766: 100%|██████████| 10/10 [00:08<00:00,  1.22it/s]\n",
            "Local Pariticipant 5 CE = 0.013,CON = 2.025: 100%|██████████| 10/10 [00:04<00:00,  2.05it/s]\n",
            "Local Pariticipant 1 CE = 0.033,CON = 1.953: 100%|██████████| 10/10 [00:04<00:00,  2.04it/s]\n",
            "Local Pariticipant 7 CE = 0.075,CON = 1.753: 100%|██████████| 10/10 [00:06<00:00,  1.61it/s]\n",
            "Local Pariticipant 4 CE = 0.027,CON = 1.989: 100%|██████████| 10/10 [00:04<00:00,  2.08it/s]\n",
            "Local Pariticipant 2 CE = 0.090,CON = 1.765: 100%|██████████| 10/10 [00:06<00:00,  1.61it/s]\n",
            "Local Pariticipant 8 CE = 0.051,CON = 1.898: 100%|██████████| 10/10 [00:02<00:00,  3.48it/s]\n",
            "Local Pariticipant 3 CE = 0.044,CON = 1.782: 100%|██████████| 10/10 [00:07<00:00,  1.25it/s]\n",
            "Local Pariticipant 9 CE = 0.018,CON = 1.848: 100%|██████████| 10/10 [00:05<00:00,  2.00it/s]\n"
          ]
        },
        {
          "name": "stdout",
          "output_type": "stream",
          "text": [
            "The 31 Communcation Accuracy: 48.835 Method: moon\n",
            "[57.14, 72.11, 32.76, 33.33]\n"
          ]
        },
        {
          "name": "stderr",
          "output_type": "stream",
          "text": [
            "Local Pariticipant 9 CE = 0.020,CON = 1.935: 100%|██████████| 10/10 [00:05<00:00,  1.99it/s]\n",
            "Local Pariticipant 0 CE = 0.052,CON = 1.748: 100%|██████████| 10/10 [00:07<00:00,  1.25it/s]\n",
            "Local Pariticipant 2 CE = 0.122,CON = 1.827: 100%|██████████| 10/10 [00:06<00:00,  1.61it/s]\n",
            "Local Pariticipant 8 CE = 0.065,CON = 1.950: 100%|██████████| 10/10 [00:02<00:00,  3.53it/s]\n",
            "Local Pariticipant 6 CE = 0.175,CON = 1.793: 100%|██████████| 10/10 [00:08<00:00,  1.21it/s]\n",
            "Local Pariticipant 4 CE = 0.020,CON = 1.834: 100%|██████████| 10/10 [00:04<00:00,  2.07it/s]\n",
            "Local Pariticipant 3 CE = 0.082,CON = 1.810: 100%|██████████| 10/10 [00:07<00:00,  1.25it/s]\n",
            "Local Pariticipant 7 CE = 0.033,CON = 1.671: 100%|██████████| 10/10 [00:06<00:00,  1.59it/s]\n",
            "Local Pariticipant 5 CE = 0.062,CON = 1.804: 100%|██████████| 10/10 [00:04<00:00,  2.06it/s]\n",
            "Local Pariticipant 1 CE = 0.031,CON = 1.914: 100%|██████████| 10/10 [00:04<00:00,  2.07it/s]\n"
          ]
        },
        {
          "name": "stdout",
          "output_type": "stream",
          "text": [
            "The 32 Communcation Accuracy: 50.745 Method: moon\n",
            "[55.36, 74.74, 36.21, 36.67]\n"
          ]
        },
        {
          "name": "stderr",
          "output_type": "stream",
          "text": [
            "Local Pariticipant 3 CE = 0.099,CON = 1.780: 100%|██████████| 10/10 [00:07<00:00,  1.26it/s]\n",
            "Local Pariticipant 0 CE = 0.064,CON = 1.780: 100%|██████████| 10/10 [00:07<00:00,  1.27it/s]\n",
            "Local Pariticipant 4 CE = 0.025,CON = 1.897: 100%|██████████| 10/10 [00:04<00:00,  2.10it/s]\n",
            "Local Pariticipant 6 CE = 0.056,CON = 1.751: 100%|██████████| 10/10 [00:07<00:00,  1.26it/s]\n",
            "Local Pariticipant 7 CE = 0.189,CON = 1.739: 100%|██████████| 10/10 [00:06<00:00,  1.58it/s]\n",
            "Local Pariticipant 2 CE = 0.119,CON = 1.764: 100%|██████████| 10/10 [00:06<00:00,  1.60it/s]\n",
            "Local Pariticipant 9 CE = 0.031,CON = 1.810: 100%|██████████| 10/10 [00:04<00:00,  2.04it/s]\n",
            "Local Pariticipant 5 CE = 0.029,CON = 1.972: 100%|██████████| 10/10 [00:05<00:00,  1.92it/s]\n",
            "Local Pariticipant 8 CE = 0.053,CON = 1.884: 100%|██████████| 10/10 [00:02<00:00,  3.54it/s]\n",
            "Local Pariticipant 1 CE = 0.061,CON = 1.902: 100%|██████████| 10/10 [00:04<00:00,  2.05it/s]\n"
          ]
        },
        {
          "name": "stdout",
          "output_type": "stream",
          "text": [
            "The 33 Communcation Accuracy: 48.455 Method: moon\n",
            "[55.8, 75.26, 32.76, 30.0]\n"
          ]
        },
        {
          "name": "stderr",
          "output_type": "stream",
          "text": [
            "Local Pariticipant 2 CE = 0.340,CON = 1.863: 100%|██████████| 10/10 [00:06<00:00,  1.61it/s]\n",
            "Local Pariticipant 8 CE = 0.064,CON = 1.938: 100%|██████████| 10/10 [00:02<00:00,  3.51it/s]\n",
            "Local Pariticipant 6 CE = 0.040,CON = 1.728: 100%|██████████| 10/10 [00:07<00:00,  1.25it/s]\n",
            "Local Pariticipant 0 CE = 0.091,CON = 1.768: 100%|██████████| 10/10 [00:08<00:00,  1.25it/s]\n",
            "Local Pariticipant 3 CE = 0.050,CON = 1.800: 100%|██████████| 10/10 [00:08<00:00,  1.24it/s]\n",
            "Local Pariticipant 5 CE = 0.026,CON = 1.838: 100%|██████████| 10/10 [00:04<00:00,  2.06it/s]\n",
            "Local Pariticipant 9 CE = 0.043,CON = 1.945: 100%|██████████| 10/10 [00:04<00:00,  2.05it/s]\n",
            "Local Pariticipant 7 CE = 0.266,CON = 1.727: 100%|██████████| 10/10 [00:06<00:00,  1.61it/s]\n",
            "Local Pariticipant 4 CE = 0.018,CON = 1.852: 100%|██████████| 10/10 [00:05<00:00,  1.87it/s]\n",
            "Local Pariticipant 1 CE = 0.039,CON = 1.892: 100%|██████████| 10/10 [00:05<00:00,  1.86it/s]\n"
          ]
        },
        {
          "name": "stdout",
          "output_type": "stream",
          "text": [
            "The 34 Communcation Accuracy: 49.85 Method: moon\n",
            "[55.36, 71.05, 39.66, 33.33]\n"
          ]
        },
        {
          "name": "stderr",
          "output_type": "stream",
          "text": [
            "Local Pariticipant 0 CE = 0.047,CON = 1.737: 100%|██████████| 10/10 [00:08<00:00,  1.17it/s]\n",
            "Local Pariticipant 3 CE = 0.019,CON = 1.810: 100%|██████████| 10/10 [00:07<00:00,  1.25it/s]\n",
            "Local Pariticipant 8 CE = 0.045,CON = 1.871: 100%|██████████| 10/10 [00:02<00:00,  3.53it/s]\n",
            "Local Pariticipant 1 CE = 0.045,CON = 1.959: 100%|██████████| 10/10 [00:04<00:00,  2.07it/s]\n",
            "Local Pariticipant 5 CE = 0.023,CON = 1.912: 100%|██████████| 10/10 [00:04<00:00,  2.08it/s]\n",
            "Local Pariticipant 7 CE = 0.248,CON = 1.683: 100%|██████████| 10/10 [00:06<00:00,  1.60it/s]\n",
            "Local Pariticipant 6 CE = 0.211,CON = 1.731: 100%|██████████| 10/10 [00:08<00:00,  1.22it/s]\n",
            "Local Pariticipant 9 CE = 0.025,CON = 1.853: 100%|██████████| 10/10 [00:04<00:00,  2.07it/s]\n",
            "Local Pariticipant 4 CE = 0.043,CON = 1.949: 100%|██████████| 10/10 [00:04<00:00,  2.08it/s]\n",
            "Local Pariticipant 2 CE = 0.173,CON = 1.771: 100%|██████████| 10/10 [00:06<00:00,  1.62it/s]\n"
          ]
        },
        {
          "name": "stdout",
          "output_type": "stream",
          "text": [
            "The 35 Communcation Accuracy: 46.41 Method: moon\n",
            "[55.8, 70.53, 29.31, 30.0]\n"
          ]
        },
        {
          "name": "stderr",
          "output_type": "stream",
          "text": [
            "Local Pariticipant 6 CE = 0.126,CON = 1.723: 100%|██████████| 10/10 [00:07<00:00,  1.26it/s]\n",
            "Local Pariticipant 9 CE = 0.032,CON = 1.931: 100%|██████████| 10/10 [00:04<00:00,  2.07it/s]\n",
            "Local Pariticipant 4 CE = 0.018,CON = 1.793: 100%|██████████| 10/10 [00:04<00:00,  2.06it/s]\n",
            "Local Pariticipant 8 CE = 0.028,CON = 1.935: 100%|██████████| 10/10 [00:02<00:00,  3.52it/s]\n",
            "Local Pariticipant 1 CE = 0.034,CON = 1.866: 100%|██████████| 10/10 [00:05<00:00,  1.96it/s]\n",
            "Local Pariticipant 3 CE = 0.083,CON = 1.760: 100%|██████████| 10/10 [00:08<00:00,  1.25it/s]\n",
            "Local Pariticipant 5 CE = 0.026,CON = 1.848: 100%|██████████| 10/10 [00:04<00:00,  2.07it/s]\n",
            "Local Pariticipant 2 CE = 0.090,CON = 1.703: 100%|██████████| 10/10 [00:06<00:00,  1.62it/s]\n",
            "Local Pariticipant 0 CE = 0.063,CON = 1.777: 100%|██████████| 10/10 [00:07<00:00,  1.27it/s]\n",
            "Local Pariticipant 7 CE = 0.094,CON = 1.887: 100%|██████████| 10/10 [00:06<00:00,  1.58it/s]\n"
          ]
        },
        {
          "name": "stdout",
          "output_type": "stream",
          "text": [
            "The 36 Communcation Accuracy: 45.995 Method: moon\n",
            "[56.25, 68.42, 29.31, 30.0]\n"
          ]
        },
        {
          "name": "stderr",
          "output_type": "stream",
          "text": [
            "Local Pariticipant 3 CE = 0.020,CON = 1.778: 100%|██████████| 10/10 [00:08<00:00,  1.23it/s]\n",
            "Local Pariticipant 7 CE = 0.229,CON = 1.785: 100%|██████████| 10/10 [00:06<00:00,  1.52it/s]\n",
            "Local Pariticipant 1 CE = 0.032,CON = 1.909: 100%|██████████| 10/10 [00:05<00:00,  1.83it/s]\n",
            "Local Pariticipant 4 CE = 0.025,CON = 1.926: 100%|██████████| 10/10 [00:04<00:00,  2.04it/s]\n",
            "Local Pariticipant 9 CE = 0.016,CON = 1.787: 100%|██████████| 10/10 [00:04<00:00,  2.12it/s]\n",
            "Local Pariticipant 6 CE = 0.089,CON = 1.717: 100%|██████████| 10/10 [00:08<00:00,  1.19it/s]\n",
            "Local Pariticipant 8 CE = 0.036,CON = 1.823: 100%|██████████| 10/10 [00:02<00:00,  3.48it/s]\n",
            "Local Pariticipant 5 CE = 0.088,CON = 1.904: 100%|██████████| 10/10 [00:04<00:00,  2.07it/s]\n",
            "Local Pariticipant 2 CE = 0.116,CON = 1.726: 100%|██████████| 10/10 [00:06<00:00,  1.62it/s]\n",
            "Local Pariticipant 0 CE = 0.024,CON = 1.807: 100%|██████████| 10/10 [00:07<00:00,  1.27it/s]\n"
          ]
        },
        {
          "name": "stdout",
          "output_type": "stream",
          "text": [
            "The 37 Communcation Accuracy: 47.695 Method: moon\n",
            "[56.7, 73.16, 27.59, 33.33]\n"
          ]
        },
        {
          "name": "stderr",
          "output_type": "stream",
          "text": [
            "Local Pariticipant 6 CE = 0.077,CON = 1.662: 100%|██████████| 10/10 [00:08<00:00,  1.22it/s]\n",
            "Local Pariticipant 0 CE = 0.028,CON = 1.722: 100%|██████████| 10/10 [00:07<00:00,  1.26it/s]\n",
            "Local Pariticipant 2 CE = 0.051,CON = 1.630: 100%|██████████| 10/10 [00:06<00:00,  1.60it/s]\n",
            "Local Pariticipant 5 CE = 0.047,CON = 1.765: 100%|██████████| 10/10 [00:04<00:00,  2.07it/s]\n",
            "Local Pariticipant 9 CE = 0.015,CON = 1.951: 100%|██████████| 10/10 [00:04<00:00,  2.06it/s]\n",
            "Local Pariticipant 7 CE = 0.183,CON = 1.957: 100%|██████████| 10/10 [00:06<00:00,  1.62it/s]\n",
            "Local Pariticipant 1 CE = 0.050,CON = 1.861: 100%|██████████| 10/10 [00:04<00:00,  2.07it/s]\n",
            "Local Pariticipant 4 CE = 0.031,CON = 1.793: 100%|██████████| 10/10 [00:04<00:00,  2.08it/s]\n",
            "Local Pariticipant 8 CE = 0.032,CON = 1.928: 100%|██████████| 10/10 [00:02<00:00,  3.59it/s]\n",
            "Local Pariticipant 3 CE = 0.038,CON = 1.729: 100%|██████████| 10/10 [00:07<00:00,  1.25it/s]\n"
          ]
        },
        {
          "name": "stdout",
          "output_type": "stream",
          "text": [
            "The 38 Communcation Accuracy: 46.81 Method: moon\n",
            "[57.14, 68.95, 34.48, 26.67]\n"
          ]
        },
        {
          "name": "stderr",
          "output_type": "stream",
          "text": [
            "Local Pariticipant 3 CE = 0.027,CON = 1.758: 100%|██████████| 10/10 [00:07<00:00,  1.25it/s]\n",
            "Local Pariticipant 5 CE = 0.044,CON = 1.884: 100%|██████████| 10/10 [00:04<00:00,  2.07it/s]\n",
            "Local Pariticipant 8 CE = 0.038,CON = 1.817: 100%|██████████| 10/10 [00:02<00:00,  3.57it/s]\n",
            "Local Pariticipant 0 CE = 0.061,CON = 1.759: 100%|██████████| 10/10 [00:08<00:00,  1.18it/s]\n",
            "Local Pariticipant 4 CE = 0.019,CON = 1.905: 100%|██████████| 10/10 [00:04<00:00,  2.03it/s]\n",
            "Local Pariticipant 7 CE = 0.047,CON = 1.591: 100%|██████████| 10/10 [00:06<00:00,  1.59it/s]\n",
            "Local Pariticipant 2 CE = 0.095,CON = 1.802: 100%|██████████| 10/10 [00:06<00:00,  1.54it/s]\n",
            "Local Pariticipant 1 CE = 0.052,CON = 1.856: 100%|██████████| 10/10 [00:04<00:00,  2.04it/s]\n",
            "Local Pariticipant 6 CE = 0.052,CON = 1.705: 100%|██████████| 10/10 [00:07<00:00,  1.26it/s]\n",
            "Local Pariticipant 9 CE = 0.036,CON = 1.743: 100%|██████████| 10/10 [00:04<00:00,  2.07it/s]\n"
          ]
        },
        {
          "name": "stdout",
          "output_type": "stream",
          "text": [
            "The 39 Communcation Accuracy: 46.235 Method: moon\n",
            "[55.8, 73.16, 29.31, 26.67]\n"
          ]
        },
        {
          "name": "stderr",
          "output_type": "stream",
          "text": [
            "Local Pariticipant 0 CE = 0.039,CON = 1.784: 100%|██████████| 10/10 [00:07<00:00,  1.26it/s]\n",
            "Local Pariticipant 5 CE = 0.034,CON = 1.745: 100%|██████████| 10/10 [00:04<00:00,  2.04it/s]\n",
            "Local Pariticipant 8 CE = 0.040,CON = 1.871: 100%|██████████| 10/10 [00:02<00:00,  3.56it/s]\n",
            "Local Pariticipant 1 CE = 0.028,CON = 1.849: 100%|██████████| 10/10 [00:04<00:00,  2.07it/s]\n",
            "Local Pariticipant 3 CE = 0.093,CON = 1.744: 100%|██████████| 10/10 [00:07<00:00,  1.26it/s]\n",
            "Local Pariticipant 4 CE = 0.026,CON = 1.811: 100%|██████████| 10/10 [00:04<00:00,  2.09it/s]\n",
            "Local Pariticipant 9 CE = 0.047,CON = 1.947: 100%|██████████| 10/10 [00:04<00:00,  2.07it/s]\n",
            "Local Pariticipant 6 CE = 0.022,CON = 1.701: 100%|██████████| 10/10 [00:07<00:00,  1.26it/s]\n",
            "Local Pariticipant 2 CE = 0.102,CON = 1.788: 100%|██████████| 10/10 [00:06<00:00,  1.57it/s]\n",
            "Local Pariticipant 7 CE = 0.042,CON = 1.753: 100%|██████████| 10/10 [00:06<00:00,  1.54it/s]\n"
          ]
        },
        {
          "name": "stdout",
          "output_type": "stream",
          "text": [
            "The 40 Communcation Accuracy: 48.13 Method: moon\n",
            "[57.59, 68.95, 29.31, 36.67]\n"
          ]
        },
        {
          "name": "stderr",
          "output_type": "stream",
          "text": [
            "Local Pariticipant 3 CE = 0.020,CON = 1.754: 100%|██████████| 10/10 [00:08<00:00,  1.19it/s]\n",
            "Local Pariticipant 5 CE = 0.026,CON = 1.870: 100%|██████████| 10/10 [00:04<00:00,  2.05it/s]\n",
            "Local Pariticipant 4 CE = 0.013,CON = 1.884: 100%|██████████| 10/10 [00:05<00:00,  1.83it/s]\n",
            "Local Pariticipant 1 CE = 0.039,CON = 1.867: 100%|██████████| 10/10 [00:05<00:00,  1.84it/s]\n",
            "Local Pariticipant 6 CE = 0.050,CON = 1.704: 100%|██████████| 10/10 [00:09<00:00,  1.10it/s]\n",
            "Local Pariticipant 2 CE = 0.052,CON = 1.690: 100%|██████████| 10/10 [00:07<00:00,  1.38it/s]\n",
            "Local Pariticipant 0 CE = 0.032,CON = 1.747: 100%|██████████| 10/10 [00:08<00:00,  1.22it/s]\n",
            "Local Pariticipant 7 CE = 0.142,CON = 1.779: 100%|██████████| 10/10 [00:06<00:00,  1.55it/s]\n",
            "Local Pariticipant 9 CE = 0.025,CON = 1.784: 100%|██████████| 10/10 [00:04<00:00,  2.00it/s]\n",
            "Local Pariticipant 8 CE = 0.050,CON = 1.796: 100%|██████████| 10/10 [00:03<00:00,  3.32it/s]\n"
          ]
        },
        {
          "name": "stdout",
          "output_type": "stream",
          "text": [
            "The 41 Communcation Accuracy: 48.545 Method: moon\n",
            "[56.25, 70.0, 37.93, 30.0]\n"
          ]
        },
        {
          "name": "stderr",
          "output_type": "stream",
          "text": [
            "Local Pariticipant 0 CE = 0.044,CON = 1.763: 100%|██████████| 10/10 [00:08<00:00,  1.23it/s]\n",
            "Local Pariticipant 5 CE = 0.034,CON = 1.747: 100%|██████████| 10/10 [00:05<00:00,  2.00it/s]\n",
            "Local Pariticipant 4 CE = 0.028,CON = 1.782: 100%|██████████| 10/10 [00:05<00:00,  1.95it/s]\n",
            "Local Pariticipant 7 CE = 0.072,CON = 1.781: 100%|██████████| 10/10 [00:06<00:00,  1.60it/s]\n",
            "Local Pariticipant 1 CE = 0.035,CON = 1.810: 100%|██████████| 10/10 [00:05<00:00,  1.95it/s]\n",
            "Local Pariticipant 3 CE = 0.022,CON = 1.768: 100%|██████████| 10/10 [00:08<00:00,  1.21it/s]\n",
            "Local Pariticipant 2 CE = 0.260,CON = 1.739: 100%|██████████| 10/10 [00:06<00:00,  1.53it/s]\n",
            "Local Pariticipant 9 CE = 0.020,CON = 1.859: 100%|██████████| 10/10 [00:05<00:00,  1.88it/s]\n",
            "Local Pariticipant 6 CE = 0.130,CON = 1.715: 100%|██████████| 10/10 [00:08<00:00,  1.20it/s]\n",
            "Local Pariticipant 8 CE = 0.037,CON = 1.903: 100%|██████████| 10/10 [00:02<00:00,  3.57it/s]\n"
          ]
        },
        {
          "name": "stdout",
          "output_type": "stream",
          "text": [
            "The 42 Communcation Accuracy: 48.555 Method: moon\n",
            "[58.04, 71.58, 37.93, 26.67]\n"
          ]
        },
        {
          "name": "stderr",
          "output_type": "stream",
          "text": [
            "Local Pariticipant 2 CE = 0.040,CON = 1.697: 100%|██████████| 10/10 [00:06<00:00,  1.51it/s]\n",
            "Local Pariticipant 5 CE = 0.022,CON = 1.840: 100%|██████████| 10/10 [00:06<00:00,  1.57it/s]\n",
            "Local Pariticipant 0 CE = 0.033,CON = 1.787: 100%|██████████| 10/10 [00:09<00:00,  1.00it/s]\n",
            "Local Pariticipant 9 CE = 0.059,CON = 1.804: 100%|██████████| 10/10 [00:05<00:00,  1.68it/s]\n",
            "Local Pariticipant 4 CE = 0.021,CON = 1.866: 100%|██████████| 10/10 [00:05<00:00,  1.82it/s]\n",
            "Local Pariticipant 1 CE = 0.068,CON = 1.888: 100%|██████████| 10/10 [00:05<00:00,  1.87it/s]\n",
            "Local Pariticipant 3 CE = 0.039,CON = 1.716: 100%|██████████| 10/10 [00:09<00:00,  1.10it/s]\n",
            "Local Pariticipant 8 CE = 0.040,CON = 1.814: 100%|██████████| 10/10 [00:02<00:00,  3.50it/s]\n",
            "Local Pariticipant 7 CE = 0.209,CON = 1.704: 100%|██████████| 10/10 [00:06<00:00,  1.56it/s]\n",
            "Local Pariticipant 6 CE = 0.042,CON = 1.686: 100%|██████████| 10/10 [00:08<00:00,  1.23it/s]\n"
          ]
        },
        {
          "name": "stdout",
          "output_type": "stream",
          "text": [
            "The 43 Communcation Accuracy: 52.252 Method: moon\n",
            "[58.04, 69.47, 44.83, 36.67]\n"
          ]
        },
        {
          "name": "stderr",
          "output_type": "stream",
          "text": [
            "Local Pariticipant 8 CE = 0.030,CON = 1.831: 100%|██████████| 10/10 [00:02<00:00,  3.51it/s]\n",
            "Local Pariticipant 5 CE = 0.033,CON = 1.754: 100%|██████████| 10/10 [00:05<00:00,  1.95it/s]\n",
            "Local Pariticipant 2 CE = 0.126,CON = 1.666: 100%|██████████| 10/10 [00:06<00:00,  1.60it/s]\n",
            "Local Pariticipant 7 CE = 0.060,CON = 1.768: 100%|██████████| 10/10 [00:06<00:00,  1.57it/s]\n",
            "Local Pariticipant 0 CE = 0.047,CON = 1.753: 100%|██████████| 10/10 [00:08<00:00,  1.23it/s]\n",
            "Local Pariticipant 6 CE = 0.026,CON = 1.694: 100%|██████████| 10/10 [00:08<00:00,  1.23it/s]\n",
            "Local Pariticipant 1 CE = 0.030,CON = 1.794: 100%|██████████| 10/10 [00:05<00:00,  1.97it/s]\n",
            "Local Pariticipant 9 CE = 0.005,CON = 1.827: 100%|██████████| 10/10 [00:05<00:00,  1.89it/s]\n",
            "Local Pariticipant 3 CE = 0.053,CON = 1.775: 100%|██████████| 10/10 [00:08<00:00,  1.22it/s]\n",
            "Local Pariticipant 4 CE = 0.022,CON = 1.742: 100%|██████████| 10/10 [00:04<00:00,  2.04it/s]\n"
          ]
        },
        {
          "name": "stdout",
          "output_type": "stream",
          "text": [
            "The 44 Communcation Accuracy: 52.005 Method: moon\n",
            "[55.8, 75.79, 43.1, 33.33]\n"
          ]
        },
        {
          "name": "stderr",
          "output_type": "stream",
          "text": [
            "Local Pariticipant 5 CE = 0.027,CON = 1.821: 100%|██████████| 10/10 [00:05<00:00,  1.97it/s]\n",
            "Local Pariticipant 3 CE = 0.033,CON = 1.742: 100%|██████████| 10/10 [00:08<00:00,  1.22it/s]\n",
            "Local Pariticipant 7 CE = 0.068,CON = 1.681: 100%|██████████| 10/10 [00:06<00:00,  1.56it/s]\n",
            "Local Pariticipant 1 CE = 0.015,CON = 1.851: 100%|██████████| 10/10 [00:05<00:00,  1.97it/s]\n",
            "Local Pariticipant 4 CE = 0.023,CON = 1.843: 100%|██████████| 10/10 [00:05<00:00,  1.99it/s]\n",
            "Local Pariticipant 9 CE = 0.020,CON = 1.754: 100%|██████████| 10/10 [00:04<00:00,  2.03it/s]\n",
            "Local Pariticipant 2 CE = 0.161,CON = 1.679: 100%|██████████| 10/10 [00:06<00:00,  1.59it/s]\n",
            "Local Pariticipant 0 CE = 0.050,CON = 1.695: 100%|██████████| 10/10 [00:08<00:00,  1.25it/s]\n",
            "Local Pariticipant 6 CE = 0.043,CON = 1.694: 100%|██████████| 10/10 [00:08<00:00,  1.24it/s]\n",
            "Local Pariticipant 8 CE = 0.039,CON = 1.826: 100%|██████████| 10/10 [00:02<00:00,  3.54it/s]\n"
          ]
        },
        {
          "name": "stdout",
          "output_type": "stream",
          "text": [
            "The 45 Communcation Accuracy: 51.865 Method: moon\n",
            "[56.25, 73.16, 41.38, 36.67]\n"
          ]
        },
        {
          "name": "stderr",
          "output_type": "stream",
          "text": [
            "Local Pariticipant 8 CE = 0.036,CON = 1.828: 100%|██████████| 10/10 [00:02<00:00,  3.50it/s]\n",
            "Local Pariticipant 7 CE = 0.086,CON = 1.724: 100%|██████████| 10/10 [00:06<00:00,  1.60it/s]\n",
            "Local Pariticipant 6 CE = 0.027,CON = 1.726: 100%|██████████| 10/10 [00:08<00:00,  1.23it/s]\n",
            "Local Pariticipant 4 CE = 0.024,CON = 1.737: 100%|██████████| 10/10 [00:04<00:00,  2.09it/s]\n",
            "Local Pariticipant 0 CE = 0.021,CON = 1.727: 100%|██████████| 10/10 [00:08<00:00,  1.23it/s]\n",
            "Local Pariticipant 5 CE = 0.022,CON = 1.770: 100%|██████████| 10/10 [00:05<00:00,  1.94it/s]\n",
            "Local Pariticipant 1 CE = 0.020,CON = 1.740: 100%|██████████| 10/10 [00:04<00:00,  2.05it/s]\n",
            "Local Pariticipant 2 CE = 0.109,CON = 1.681: 100%|██████████| 10/10 [00:06<00:00,  1.54it/s]\n",
            "Local Pariticipant 9 CE = 0.017,CON = 1.802: 100%|██████████| 10/10 [00:05<00:00,  1.74it/s]\n",
            "Local Pariticipant 3 CE = 0.108,CON = 1.784: 100%|██████████| 10/10 [00:10<00:00,  1.07s/it]\n"
          ]
        },
        {
          "name": "stdout",
          "output_type": "stream",
          "text": [
            "The 46 Communcation Accuracy: 51.305 Method: moon\n",
            "[58.93, 71.58, 41.38, 33.33]\n"
          ]
        },
        {
          "name": "stderr",
          "output_type": "stream",
          "text": [
            "Local Pariticipant 6 CE = 0.035,CON = 1.630: 100%|██████████| 10/10 [00:07<00:00,  1.31it/s]\n",
            "Local Pariticipant 2 CE = 0.133,CON = 1.706: 100%|██████████| 10/10 [00:06<00:00,  1.56it/s]\n",
            "Local Pariticipant 9 CE = 0.020,CON = 1.710: 100%|██████████| 10/10 [00:05<00:00,  1.84it/s]\n",
            "Local Pariticipant 3 CE = 0.072,CON = 1.705: 100%|██████████| 10/10 [00:07<00:00,  1.26it/s]\n",
            "Local Pariticipant 1 CE = 0.047,CON = 1.837: 100%|██████████| 10/10 [00:09<00:00,  1.02it/s]\n",
            "Local Pariticipant 8 CE = 0.028,CON = 1.783: 100%|██████████| 10/10 [00:03<00:00,  2.76it/s]\n",
            "Local Pariticipant 5 CE = 0.031,CON = 1.783: 100%|██████████| 10/10 [00:04<00:00,  2.06it/s]\n",
            "Local Pariticipant 0 CE = 0.025,CON = 1.771: 100%|██████████| 10/10 [00:07<00:00,  1.39it/s]\n",
            "Local Pariticipant 4 CE = 0.019,CON = 1.820: 100%|██████████| 10/10 [00:04<00:00,  2.31it/s]\n",
            "Local Pariticipant 7 CE = 0.127,CON = 1.641: 100%|██████████| 10/10 [00:06<00:00,  1.60it/s]\n"
          ]
        },
        {
          "name": "stdout",
          "output_type": "stream",
          "text": [
            "The 47 Communcation Accuracy: 52.743 Method: moon\n",
            "[56.7, 71.05, 46.55, 36.67]\n"
          ]
        },
        {
          "name": "stderr",
          "output_type": "stream",
          "text": [
            "Local Pariticipant 5 CE = 0.022,CON = 1.732: 100%|██████████| 10/10 [00:05<00:00,  2.00it/s]\n",
            "Local Pariticipant 7 CE = 0.153,CON = 1.772: 100%|██████████| 10/10 [00:05<00:00,  1.76it/s]\n",
            "Local Pariticipant 6 CE = 0.079,CON = 1.700: 100%|██████████| 10/10 [00:07<00:00,  1.34it/s]\n",
            "Local Pariticipant 0 CE = 0.021,CON = 1.772: 100%|██████████| 10/10 [00:07<00:00,  1.38it/s]\n",
            "Local Pariticipant 4 CE = 0.021,CON = 1.746: 100%|██████████| 10/10 [00:04<00:00,  2.12it/s]\n",
            "Local Pariticipant 1 CE = 0.036,CON = 1.694: 100%|██████████| 10/10 [00:05<00:00,  1.84it/s]\n",
            "Local Pariticipant 9 CE = 0.027,CON = 1.793: 100%|██████████| 10/10 [00:05<00:00,  1.84it/s]\n",
            "Local Pariticipant 3 CE = 0.028,CON = 1.759: 100%|██████████| 10/10 [00:08<00:00,  1.17it/s]\n",
            "Local Pariticipant 8 CE = 0.031,CON = 1.793: 100%|██████████| 10/10 [00:03<00:00,  2.83it/s]\n",
            "Local Pariticipant 2 CE = 0.153,CON = 1.632: 100%|██████████| 10/10 [00:06<00:00,  1.53it/s]\n"
          ]
        },
        {
          "name": "stdout",
          "output_type": "stream",
          "text": [
            "The 48 Communcation Accuracy: 49.752 Method: moon\n",
            "[56.7, 71.05, 37.93, 33.33]\n"
          ]
        },
        {
          "name": "stderr",
          "output_type": "stream",
          "text": [
            "Local Pariticipant 5 CE = 0.020,CON = 1.808: 100%|██████████| 10/10 [00:06<00:00,  1.66it/s]\n",
            "Local Pariticipant 7 CE = 0.017,CON = 1.791: 100%|██████████| 10/10 [00:07<00:00,  1.43it/s]\n",
            "Local Pariticipant 6 CE = 0.033,CON = 1.632: 100%|██████████| 10/10 [00:09<00:00,  1.07it/s]\n",
            "Local Pariticipant 8 CE = 0.045,CON = 1.746: 100%|██████████| 10/10 [00:02<00:00,  3.46it/s]\n",
            "Local Pariticipant 2 CE = 0.046,CON = 1.601: 100%|██████████| 10/10 [00:06<00:00,  1.61it/s]\n",
            "Local Pariticipant 9 CE = 0.013,CON = 1.709: 100%|██████████| 10/10 [00:04<00:00,  2.02it/s]\n",
            "Local Pariticipant 4 CE = 0.020,CON = 1.837: 100%|██████████| 10/10 [00:05<00:00,  1.98it/s]\n",
            "Local Pariticipant 0 CE = 0.037,CON = 1.718: 100%|██████████| 10/10 [00:07<00:00,  1.28it/s]\n",
            "Local Pariticipant 3 CE = 0.047,CON = 1.740: 100%|██████████| 10/10 [00:07<00:00,  1.28it/s]\n",
            "Local Pariticipant 1 CE = 0.029,CON = 1.836: 100%|██████████| 10/10 [00:04<00:00,  2.13it/s]\n"
          ]
        },
        {
          "name": "stdout",
          "output_type": "stream",
          "text": [
            "The 49 Communcation Accuracy: 53.878 Method: moon\n",
            "[58.93, 68.42, 44.83, 43.33]\n"
          ]
        }
      ],
      "source": [
        "%run \"main.py\" --model moon --dataset fl_officecaltech"
      ]
    },
    {
      "cell_type": "code",
      "execution_count": null,
      "metadata": {
        "id": "tL9aGgluAvn_",
        "outputId": "0453425b-064c-4665-e4ef-13d8b3088db9"
      },
      "outputs": [
        {
          "name": "stdout",
          "output_type": "stream",
          "text": [
            "fedavg_10_fl_digits_50_10\n",
            "./data/fl_digits/fedavg\\para1\n",
            "{'mnist': 2, 'syn': 6, 'usps': 2}\n",
            "['mnist' 'syn' 'usps' 'mnist' 'syn' 'syn' 'syn' 'syn' 'usps' 'syn']\n",
            "Using downloaded and verified file: D:/doan/RethinkFL/pls/test_32x32.mat\n"
          ]
        },
        {
          "name": "stderr",
          "output_type": "stream",
          "text": [
            "Local Pariticipant 3 loss = 0.509: 100%|██████████| 10/10 [00:06<00:00,  1.66it/s]\n",
            "Local Pariticipant 4 loss = 1.597: 100%|██████████| 10/10 [00:00<00:00, 12.52it/s]\n",
            "Local Pariticipant 0 loss = 0.661: 100%|██████████| 10/10 [00:06<00:00,  1.54it/s]\n",
            "Local Pariticipant 9 loss = 1.415: 100%|██████████| 10/10 [00:00<00:00, 13.98it/s]\n",
            "Local Pariticipant 7 loss = 1.619: 100%|██████████| 10/10 [00:00<00:00, 12.79it/s]\n",
            "Local Pariticipant 6 loss = 1.559: 100%|██████████| 10/10 [00:00<00:00, 15.95it/s]\n",
            "Local Pariticipant 1 loss = 1.620: 100%|██████████| 10/10 [00:00<00:00, 15.75it/s]\n",
            "Local Pariticipant 2 loss = 0.804: 100%|██████████| 10/10 [00:00<00:00, 12.33it/s]\n",
            "Local Pariticipant 5 loss = 1.651: 100%|██████████| 10/10 [00:00<00:00, 16.24it/s]\n",
            "Local Pariticipant 8 loss = 1.685: 100%|██████████| 10/10 [00:00<00:00, 12.87it/s]\n"
          ]
        },
        {
          "name": "stdout",
          "output_type": "stream",
          "text": [
            "The 0 Communcation Accuracy: 13.115 Method: fedavg\n",
            "[11.35, 13.15, 17.79, 10.17]\n"
          ]
        },
        {
          "name": "stderr",
          "output_type": "stream",
          "text": [
            "Local Pariticipant 1 loss = 0.984: 100%|██████████| 10/10 [00:00<00:00, 15.99it/s]\n",
            "Local Pariticipant 0 loss = 0.353: 100%|██████████| 10/10 [00:06<00:00,  1.45it/s]\n",
            "Local Pariticipant 8 loss = 0.609: 100%|██████████| 10/10 [00:01<00:00,  8.74it/s]\n",
            "Local Pariticipant 9 loss = 0.864: 100%|██████████| 10/10 [00:00<00:00, 14.70it/s]\n",
            "Local Pariticipant 2 loss = 0.639: 100%|██████████| 10/10 [00:00<00:00, 12.33it/s]\n",
            "Local Pariticipant 7 loss = 0.661: 100%|██████████| 10/10 [00:00<00:00, 13.88it/s]\n",
            "Local Pariticipant 3 loss = 0.261: 100%|██████████| 10/10 [00:06<00:00,  1.54it/s]\n",
            "Local Pariticipant 6 loss = 0.951: 100%|██████████| 10/10 [00:00<00:00, 15.00it/s]\n",
            "Local Pariticipant 4 loss = 0.782: 100%|██████████| 10/10 [00:00<00:00, 16.46it/s]\n",
            "Local Pariticipant 5 loss = 1.217: 100%|██████████| 10/10 [00:00<00:00, 16.57it/s]\n"
          ]
        },
        {
          "name": "stdout",
          "output_type": "stream",
          "text": [
            "The 1 Communcation Accuracy: 24.305 Method: fedavg\n",
            "[35.75, 36.67, 9.47, 15.33]\n"
          ]
        },
        {
          "name": "stderr",
          "output_type": "stream",
          "text": [
            "Local Pariticipant 6 loss = 0.919: 100%|██████████| 10/10 [00:00<00:00, 16.60it/s]\n",
            "Local Pariticipant 8 loss = 1.413: 100%|██████████| 10/10 [00:00<00:00, 13.82it/s]\n",
            "Local Pariticipant 3 loss = 0.084: 100%|██████████| 10/10 [00:05<00:00,  1.74it/s]\n",
            "Local Pariticipant 7 loss = 0.473: 100%|██████████| 10/10 [00:00<00:00, 15.74it/s]\n",
            "Local Pariticipant 1 loss = 0.978: 100%|██████████| 10/10 [00:00<00:00, 14.88it/s]\n",
            "Local Pariticipant 4 loss = 0.681: 100%|██████████| 10/10 [00:00<00:00, 13.88it/s]\n",
            "Local Pariticipant 5 loss = 1.036: 100%|██████████| 10/10 [00:00<00:00, 17.21it/s]\n",
            "Local Pariticipant 2 loss = 0.802: 100%|██████████| 10/10 [00:00<00:00, 13.14it/s]\n",
            "Local Pariticipant 9 loss = 0.927: 100%|██████████| 10/10 [00:00<00:00, 17.66it/s]\n",
            "Local Pariticipant 0 loss = 0.493: 100%|██████████| 10/10 [00:06<00:00,  1.65it/s]\n"
          ]
        },
        {
          "name": "stdout",
          "output_type": "stream",
          "text": [
            "The 2 Communcation Accuracy: 41.358 Method: fedavg\n",
            "[89.12, 52.27, 8.29, 15.75]\n"
          ]
        },
        {
          "name": "stderr",
          "output_type": "stream",
          "text": [
            "Local Pariticipant 5 loss = 0.710: 100%|██████████| 10/10 [00:00<00:00, 18.27it/s]\n",
            "Local Pariticipant 1 loss = 0.578: 100%|██████████| 10/10 [00:00<00:00, 18.40it/s]\n",
            "Local Pariticipant 9 loss = 0.500: 100%|██████████| 10/10 [00:00<00:00, 18.03it/s]\n",
            "Local Pariticipant 0 loss = 0.061: 100%|██████████| 10/10 [00:05<00:00,  1.82it/s]\n",
            "Local Pariticipant 4 loss = 0.756: 100%|██████████| 10/10 [00:00<00:00, 18.98it/s]\n",
            "Local Pariticipant 7 loss = 0.442: 100%|██████████| 10/10 [00:00<00:00, 18.72it/s]\n",
            "Local Pariticipant 3 loss = 0.201: 100%|██████████| 10/10 [00:05<00:00,  1.72it/s]\n",
            "Local Pariticipant 8 loss = 1.051: 100%|██████████| 10/10 [00:00<00:00, 12.73it/s]\n",
            "Local Pariticipant 6 loss = 0.615: 100%|██████████| 10/10 [00:00<00:00, 17.58it/s]\n",
            "Local Pariticipant 2 loss = 0.431: 100%|██████████| 10/10 [00:00<00:00, 13.78it/s]\n"
          ]
        },
        {
          "name": "stdout",
          "output_type": "stream",
          "text": [
            "The 3 Communcation Accuracy: 41.86 Method: fedavg\n",
            "[87.23, 54.41, 8.22, 17.58]\n"
          ]
        },
        {
          "name": "stderr",
          "output_type": "stream",
          "text": [
            "Local Pariticipant 8 loss = 0.160: 100%|██████████| 10/10 [00:00<00:00, 13.00it/s]\n",
            "Local Pariticipant 6 loss = 0.544: 100%|██████████| 10/10 [00:00<00:00, 17.45it/s]\n",
            "Local Pariticipant 0 loss = 0.316: 100%|██████████| 10/10 [00:05<00:00,  1.74it/s]\n",
            "Local Pariticipant 1 loss = 0.505: 100%|██████████| 10/10 [00:00<00:00, 17.22it/s]\n",
            "Local Pariticipant 5 loss = 0.463: 100%|██████████| 10/10 [00:00<00:00, 17.43it/s]\n",
            "Local Pariticipant 7 loss = 0.214: 100%|██████████| 10/10 [00:00<00:00, 16.73it/s]\n",
            "Local Pariticipant 2 loss = 0.476: 100%|██████████| 10/10 [00:00<00:00, 13.50it/s]\n",
            "Local Pariticipant 4 loss = 0.347: 100%|██████████| 10/10 [00:00<00:00, 17.15it/s]\n",
            "Local Pariticipant 3 loss = 0.081: 100%|██████████| 10/10 [00:05<00:00,  1.74it/s]\n",
            "Local Pariticipant 9 loss = 0.564: 100%|██████████| 10/10 [00:00<00:00, 16.80it/s]\n"
          ]
        },
        {
          "name": "stdout",
          "output_type": "stream",
          "text": [
            "The 4 Communcation Accuracy: 45.09 Method: fedavg\n",
            "[93.25, 61.24, 7.54, 18.33]\n"
          ]
        },
        {
          "name": "stderr",
          "output_type": "stream",
          "text": [
            "Local Pariticipant 2 loss = 0.566: 100%|██████████| 10/10 [00:00<00:00, 12.83it/s]\n",
            "Local Pariticipant 6 loss = 0.369: 100%|██████████| 10/10 [00:00<00:00, 17.55it/s]\n",
            "Local Pariticipant 8 loss = 0.250: 100%|██████████| 10/10 [00:00<00:00, 12.91it/s]\n",
            "Local Pariticipant 4 loss = 0.346: 100%|██████████| 10/10 [00:00<00:00, 15.16it/s]\n",
            "Local Pariticipant 3 loss = 0.014: 100%|██████████| 10/10 [00:06<00:00,  1.65it/s]\n",
            "Local Pariticipant 5 loss = 0.397: 100%|██████████| 10/10 [00:00<00:00, 13.49it/s]\n",
            "Local Pariticipant 7 loss = 0.351: 100%|██████████| 10/10 [00:00<00:00, 11.82it/s]\n",
            "Local Pariticipant 1 loss = 0.555: 100%|██████████| 10/10 [00:00<00:00, 17.30it/s]\n",
            "Local Pariticipant 0 loss = 0.100: 100%|██████████| 10/10 [00:05<00:00,  1.67it/s]\n",
            "Local Pariticipant 9 loss = 0.289: 100%|██████████| 10/10 [00:00<00:00, 15.09it/s]\n"
          ]
        },
        {
          "name": "stdout",
          "output_type": "stream",
          "text": [
            "The 5 Communcation Accuracy: 44.928 Method: fedavg\n",
            "[93.41, 58.15, 7.9, 20.25]\n"
          ]
        },
        {
          "name": "stderr",
          "output_type": "stream",
          "text": [
            "Local Pariticipant 0 loss = 0.014: 100%|██████████| 10/10 [00:06<00:00,  1.65it/s]\n",
            "Local Pariticipant 7 loss = 0.236: 100%|██████████| 10/10 [00:00<00:00, 16.72it/s]\n",
            "Local Pariticipant 3 loss = 0.020: 100%|██████████| 10/10 [00:05<00:00,  1.69it/s]\n",
            "Local Pariticipant 8 loss = 0.666: 100%|██████████| 10/10 [00:00<00:00, 11.30it/s]\n",
            "Local Pariticipant 1 loss = 0.347: 100%|██████████| 10/10 [00:00<00:00, 14.54it/s]\n",
            "Local Pariticipant 5 loss = 0.295: 100%|██████████| 10/10 [00:00<00:00, 11.90it/s]\n",
            "Local Pariticipant 6 loss = 0.387: 100%|██████████| 10/10 [00:00<00:00, 15.05it/s]\n",
            "Local Pariticipant 2 loss = 0.939: 100%|██████████| 10/10 [00:00<00:00, 13.14it/s]\n",
            "Local Pariticipant 4 loss = 0.486: 100%|██████████| 10/10 [00:00<00:00, 18.81it/s]\n",
            "Local Pariticipant 9 loss = 0.317: 100%|██████████| 10/10 [00:00<00:00, 18.09it/s]\n"
          ]
        },
        {
          "name": "stdout",
          "output_type": "stream",
          "text": [
            "The 6 Communcation Accuracy: 46.188 Method: fedavg\n",
            "[94.34, 60.89, 8.1, 21.42]\n"
          ]
        },
        {
          "name": "stderr",
          "output_type": "stream",
          "text": [
            "Local Pariticipant 7 loss = 0.253: 100%|██████████| 10/10 [00:00<00:00, 14.10it/s]\n",
            "Local Pariticipant 6 loss = 0.284: 100%|██████████| 10/10 [00:00<00:00, 12.39it/s]\n",
            "Local Pariticipant 4 loss = 0.355: 100%|██████████| 10/10 [00:00<00:00, 14.95it/s]\n",
            "Local Pariticipant 5 loss = 0.347: 100%|██████████| 10/10 [00:00<00:00, 15.01it/s]\n",
            "Local Pariticipant 1 loss = 0.254: 100%|██████████| 10/10 [00:00<00:00, 14.61it/s]\n",
            "Local Pariticipant 0 loss = 0.009: 100%|██████████| 10/10 [00:06<00:00,  1.61it/s]\n",
            "Local Pariticipant 8 loss = 0.780: 100%|██████████| 10/10 [00:00<00:00, 12.32it/s]\n",
            "Local Pariticipant 3 loss = 0.206: 100%|██████████| 10/10 [00:06<00:00,  1.64it/s]\n",
            "Local Pariticipant 2 loss = 0.920: 100%|██████████| 10/10 [00:00<00:00, 13.04it/s]\n",
            "Local Pariticipant 9 loss = 0.184: 100%|██████████| 10/10 [00:00<00:00, 17.14it/s]\n"
          ]
        },
        {
          "name": "stdout",
          "output_type": "stream",
          "text": [
            "The 7 Communcation Accuracy: 46.858 Method: fedavg\n",
            "[94.83, 63.83, 7.94, 20.83]\n"
          ]
        },
        {
          "name": "stderr",
          "output_type": "stream",
          "text": [
            "Local Pariticipant 9 loss = 0.261: 100%|██████████| 10/10 [00:00<00:00, 10.74it/s]\n",
            "Local Pariticipant 2 loss = 0.240: 100%|██████████| 10/10 [00:01<00:00,  7.77it/s]\n",
            "Local Pariticipant 6 loss = 0.400: 100%|██████████| 10/10 [00:00<00:00, 11.11it/s]\n",
            "Local Pariticipant 7 loss = 0.171: 100%|██████████| 10/10 [00:00<00:00, 11.24it/s]\n",
            "Local Pariticipant 1 loss = 0.216: 100%|██████████| 10/10 [00:00<00:00, 11.44it/s]\n",
            "Local Pariticipant 8 loss = 0.120: 100%|██████████| 10/10 [00:01<00:00,  8.24it/s]\n",
            "Local Pariticipant 4 loss = 0.273: 100%|██████████| 10/10 [00:00<00:00, 11.37it/s]\n",
            "Local Pariticipant 3 loss = 0.046: 100%|██████████| 10/10 [00:08<00:00,  1.13it/s]\n",
            "Local Pariticipant 5 loss = 0.401: 100%|██████████| 10/10 [00:00<00:00, 13.77it/s]\n",
            "Local Pariticipant 0 loss = 0.013: 100%|██████████| 10/10 [00:07<00:00,  1.31it/s]\n"
          ]
        },
        {
          "name": "stdout",
          "output_type": "stream",
          "text": [
            "The 8 Communcation Accuracy: 50.885 Method: fedavg\n",
            "[94.71, 73.94, 9.56, 25.33]\n"
          ]
        },
        {
          "name": "stderr",
          "output_type": "stream",
          "text": [
            "Local Pariticipant 9 loss = 0.541: 100%|██████████| 10/10 [00:00<00:00, 11.32it/s]\n",
            "Local Pariticipant 1 loss = 0.189: 100%|██████████| 10/10 [00:00<00:00, 11.19it/s]\n",
            "Local Pariticipant 2 loss = 1.287: 100%|██████████| 10/10 [00:01<00:00,  8.66it/s]\n",
            "Local Pariticipant 7 loss = 0.232: 100%|██████████| 10/10 [00:00<00:00, 12.07it/s]\n",
            "Local Pariticipant 6 loss = 0.472: 100%|██████████| 10/10 [00:00<00:00, 12.99it/s]\n",
            "Local Pariticipant 3 loss = 0.005: 100%|██████████| 10/10 [00:07<00:00,  1.36it/s]\n",
            "Local Pariticipant 0 loss = 0.053: 100%|██████████| 10/10 [00:08<00:00,  1.21it/s]\n",
            "Local Pariticipant 5 loss = 0.361: 100%|██████████| 10/10 [00:00<00:00, 12.34it/s]\n",
            "Local Pariticipant 4 loss = 0.435: 100%|██████████| 10/10 [00:00<00:00, 12.29it/s]\n",
            "Local Pariticipant 8 loss = 1.091: 100%|██████████| 10/10 [00:01<00:00,  8.74it/s]\n"
          ]
        },
        {
          "name": "stdout",
          "output_type": "stream",
          "text": [
            "The 9 Communcation Accuracy: 46.648 Method: fedavg\n",
            "[94.53, 62.43, 8.3, 21.33]\n"
          ]
        },
        {
          "name": "stderr",
          "output_type": "stream",
          "text": [
            "Local Pariticipant 7 loss = 0.191: 100%|██████████| 10/10 [00:00<00:00, 12.07it/s]\n",
            "Local Pariticipant 8 loss = 1.310: 100%|██████████| 10/10 [00:01<00:00,  9.56it/s]\n",
            "Local Pariticipant 1 loss = 0.288: 100%|██████████| 10/10 [00:00<00:00, 11.98it/s]\n",
            "Local Pariticipant 0 loss = 0.019: 100%|██████████| 10/10 [00:08<00:00,  1.12it/s]\n",
            "Local Pariticipant 6 loss = 0.199: 100%|██████████| 10/10 [00:00<00:00, 12.96it/s]\n",
            "Local Pariticipant 4 loss = 0.310: 100%|██████████| 10/10 [00:00<00:00, 12.88it/s]\n",
            "Local Pariticipant 5 loss = 0.359: 100%|██████████| 10/10 [00:00<00:00, 12.87it/s]\n",
            "Local Pariticipant 2 loss = 0.450: 100%|██████████| 10/10 [00:01<00:00,  9.78it/s]\n",
            "Local Pariticipant 9 loss = 0.191: 100%|██████████| 10/10 [00:00<00:00, 13.33it/s]\n",
            "Local Pariticipant 3 loss = 0.218: 100%|██████████| 10/10 [00:07<00:00,  1.26it/s]\n"
          ]
        },
        {
          "name": "stdout",
          "output_type": "stream",
          "text": [
            "The 10 Communcation Accuracy: 50.048 Method: fedavg\n",
            "[94.34, 71.65, 9.53, 24.67]\n"
          ]
        },
        {
          "name": "stderr",
          "output_type": "stream",
          "text": [
            "Local Pariticipant 2 loss = 0.259: 100%|██████████| 10/10 [00:01<00:00,  9.62it/s]\n",
            "Local Pariticipant 1 loss = 0.226: 100%|██████████| 10/10 [00:00<00:00, 12.17it/s]\n",
            "Local Pariticipant 6 loss = 0.345: 100%|██████████| 10/10 [00:00<00:00, 13.02it/s]\n",
            "Local Pariticipant 7 loss = 0.332: 100%|██████████| 10/10 [00:00<00:00, 13.58it/s]\n",
            "Local Pariticipant 5 loss = 0.202: 100%|██████████| 10/10 [00:00<00:00, 13.66it/s]\n",
            "Local Pariticipant 0 loss = 0.275: 100%|██████████| 10/10 [00:07<00:00,  1.32it/s]\n",
            "Local Pariticipant 8 loss = 0.501: 100%|██████████| 10/10 [00:00<00:00, 10.50it/s]\n",
            "Local Pariticipant 4 loss = 0.174: 100%|██████████| 10/10 [00:00<00:00, 11.20it/s]\n",
            "Local Pariticipant 9 loss = 0.133: 100%|██████████| 10/10 [00:00<00:00, 13.69it/s]\n",
            "Local Pariticipant 3 loss = 0.036: 100%|██████████| 10/10 [00:07<00:00,  1.29it/s]\n"
          ]
        },
        {
          "name": "stdout",
          "output_type": "stream",
          "text": [
            "The 11 Communcation Accuracy: 50.538 Method: fedavg\n",
            "[95.54, 74.19, 8.59, 23.83]\n"
          ]
        },
        {
          "name": "stderr",
          "output_type": "stream",
          "text": [
            "Local Pariticipant 6 loss = 0.421: 100%|██████████| 10/10 [00:00<00:00, 13.53it/s]\n",
            "Local Pariticipant 0 loss = 0.012: 100%|██████████| 10/10 [00:08<00:00,  1.19it/s]\n",
            "Local Pariticipant 4 loss = 0.439: 100%|██████████| 10/10 [00:00<00:00, 13.77it/s]\n",
            "Local Pariticipant 2 loss = 0.194: 100%|██████████| 10/10 [00:01<00:00,  9.95it/s]\n",
            "Local Pariticipant 5 loss = 0.299: 100%|██████████| 10/10 [00:00<00:00, 12.96it/s]\n",
            "Local Pariticipant 3 loss = 0.049: 100%|██████████| 10/10 [00:07<00:00,  1.28it/s]\n",
            "Local Pariticipant 7 loss = 0.333: 100%|██████████| 10/10 [00:00<00:00, 13.12it/s]\n",
            "Local Pariticipant 8 loss = 0.135: 100%|██████████| 10/10 [00:00<00:00, 10.16it/s]\n",
            "Local Pariticipant 9 loss = 0.199: 100%|██████████| 10/10 [00:00<00:00, 13.03it/s]\n",
            "Local Pariticipant 1 loss = 0.148: 100%|██████████| 10/10 [00:00<00:00, 12.62it/s]\n"
          ]
        },
        {
          "name": "stdout",
          "output_type": "stream",
          "text": [
            "The 12 Communcation Accuracy: 51.835 Method: fedavg\n",
            "[95.98, 76.48, 9.8, 25.08]\n"
          ]
        },
        {
          "name": "stderr",
          "output_type": "stream",
          "text": [
            "Local Pariticipant 1 loss = 0.212: 100%|██████████| 10/10 [00:00<00:00, 13.59it/s]\n",
            "Local Pariticipant 0 loss = 0.005: 100%|██████████| 10/10 [00:08<00:00,  1.20it/s]\n",
            "Local Pariticipant 9 loss = 0.199: 100%|██████████| 10/10 [00:00<00:00, 12.43it/s]\n",
            "Local Pariticipant 3 loss = 0.037: 100%|██████████| 10/10 [00:07<00:00,  1.28it/s]\n",
            "Local Pariticipant 8 loss = 0.365: 100%|██████████| 10/10 [00:00<00:00, 10.13it/s]\n",
            "Local Pariticipant 6 loss = 0.169: 100%|██████████| 10/10 [00:00<00:00, 13.38it/s]\n",
            "Local Pariticipant 2 loss = 0.014: 100%|██████████| 10/10 [00:00<00:00, 10.35it/s]\n",
            "Local Pariticipant 7 loss = 0.277: 100%|██████████| 10/10 [00:00<00:00, 13.79it/s]\n",
            "Local Pariticipant 4 loss = 0.314: 100%|██████████| 10/10 [00:00<00:00, 13.96it/s]\n",
            "Local Pariticipant 5 loss = 0.125: 100%|██████████| 10/10 [00:00<00:00, 13.46it/s]\n"
          ]
        },
        {
          "name": "stdout",
          "output_type": "stream",
          "text": [
            "The 13 Communcation Accuracy: 50.45 Method: fedavg\n",
            "[96.09, 72.1, 9.61, 24.0]\n"
          ]
        },
        {
          "name": "stderr",
          "output_type": "stream",
          "text": [
            "Local Pariticipant 4 loss = 0.141: 100%|██████████| 10/10 [00:00<00:00, 13.66it/s]\n",
            "Local Pariticipant 9 loss = 0.167: 100%|██████████| 10/10 [00:00<00:00, 13.89it/s]\n",
            "Local Pariticipant 6 loss = 0.102: 100%|██████████| 10/10 [00:00<00:00, 13.17it/s]\n",
            "Local Pariticipant 0 loss = 0.005: 100%|██████████| 10/10 [00:07<00:00,  1.36it/s]\n",
            "Local Pariticipant 3 loss = 0.053: 100%|██████████| 10/10 [00:06<00:00,  1.50it/s]\n",
            "Local Pariticipant 2 loss = 0.469: 100%|██████████| 10/10 [00:00<00:00, 11.53it/s]\n",
            "Local Pariticipant 7 loss = 0.266: 100%|██████████| 10/10 [00:00<00:00, 15.03it/s]\n",
            "Local Pariticipant 1 loss = 0.141: 100%|██████████| 10/10 [00:00<00:00, 14.72it/s]\n",
            "Local Pariticipant 5 loss = 0.122: 100%|██████████| 10/10 [00:00<00:00, 14.40it/s]\n",
            "Local Pariticipant 8 loss = 1.823: 100%|██████████| 10/10 [00:00<00:00, 10.44it/s]\n"
          ]
        },
        {
          "name": "stdout",
          "output_type": "stream",
          "text": [
            "The 14 Communcation Accuracy: 53.255 Method: fedavg\n",
            "[96.37, 79.67, 9.98, 27.0]\n"
          ]
        },
        {
          "name": "stderr",
          "output_type": "stream",
          "text": [
            "Local Pariticipant 2 loss = 0.539: 100%|██████████| 10/10 [00:01<00:00,  9.81it/s]\n",
            "Local Pariticipant 3 loss = 0.002: 100%|██████████| 10/10 [00:07<00:00,  1.34it/s]\n",
            "Local Pariticipant 5 loss = 0.293: 100%|██████████| 10/10 [00:00<00:00, 13.71it/s]\n",
            "Local Pariticipant 0 loss = 0.007: 100%|██████████| 10/10 [00:07<00:00,  1.41it/s]\n",
            "Local Pariticipant 7 loss = 0.154: 100%|██████████| 10/10 [00:00<00:00, 14.07it/s]\n",
            "Local Pariticipant 8 loss = 0.446: 100%|██████████| 10/10 [00:00<00:00, 10.88it/s]\n",
            "Local Pariticipant 4 loss = 0.199: 100%|██████████| 10/10 [00:00<00:00, 14.01it/s]\n",
            "Local Pariticipant 1 loss = 0.184: 100%|██████████| 10/10 [00:00<00:00, 13.75it/s]\n",
            "Local Pariticipant 6 loss = 0.122: 100%|██████████| 10/10 [00:00<00:00, 14.13it/s]\n",
            "Local Pariticipant 9 loss = 0.150: 100%|██████████| 10/10 [00:00<00:00, 13.03it/s]\n"
          ]
        },
        {
          "name": "stdout",
          "output_type": "stream",
          "text": [
            "The 15 Communcation Accuracy: 52.003 Method: fedavg\n",
            "[95.87, 75.93, 9.71, 26.5]\n"
          ]
        },
        {
          "name": "stderr",
          "output_type": "stream",
          "text": [
            "Local Pariticipant 1 loss = 0.184: 100%|██████████| 10/10 [00:00<00:00, 14.03it/s]\n",
            "Local Pariticipant 5 loss = 0.126: 100%|██████████| 10/10 [00:00<00:00, 12.36it/s]\n",
            "Local Pariticipant 9 loss = 0.085: 100%|██████████| 10/10 [00:00<00:00, 13.77it/s]\n",
            "Local Pariticipant 8 loss = 0.032: 100%|██████████| 10/10 [00:00<00:00, 10.27it/s]\n",
            "Local Pariticipant 7 loss = 0.490: 100%|██████████| 10/10 [00:00<00:00, 14.31it/s]\n",
            "Local Pariticipant 6 loss = 0.168: 100%|██████████| 10/10 [00:00<00:00, 14.30it/s]\n",
            "Local Pariticipant 3 loss = 0.005: 100%|██████████| 10/10 [00:07<00:00,  1.38it/s]\n",
            "Local Pariticipant 0 loss = 0.012: 100%|██████████| 10/10 [00:07<00:00,  1.34it/s]\n",
            "Local Pariticipant 4 loss = 0.344: 100%|██████████| 10/10 [00:00<00:00, 12.76it/s]\n",
            "Local Pariticipant 2 loss = 0.035: 100%|██████████| 10/10 [00:01<00:00,  9.60it/s]\n"
          ]
        },
        {
          "name": "stdout",
          "output_type": "stream",
          "text": [
            "The 16 Communcation Accuracy: 50.005 Method: fedavg\n",
            "[95.25, 72.99, 9.2, 22.58]\n"
          ]
        },
        {
          "name": "stderr",
          "output_type": "stream",
          "text": [
            "Local Pariticipant 4 loss = 0.110: 100%|██████████| 10/10 [00:00<00:00, 12.28it/s]\n",
            "Local Pariticipant 9 loss = 0.141: 100%|██████████| 10/10 [00:00<00:00, 12.11it/s]\n",
            "Local Pariticipant 7 loss = 0.076: 100%|██████████| 10/10 [00:00<00:00, 12.20it/s]\n",
            "Local Pariticipant 5 loss = 0.199: 100%|██████████| 10/10 [00:00<00:00, 13.55it/s]\n",
            "Local Pariticipant 0 loss = 0.001: 100%|██████████| 10/10 [00:08<00:00,  1.22it/s]\n",
            "Local Pariticipant 6 loss = 0.185: 100%|██████████| 10/10 [00:00<00:00, 12.32it/s]\n",
            "Local Pariticipant 8 loss = 1.098: 100%|██████████| 10/10 [00:00<00:00, 10.57it/s]\n",
            "Local Pariticipant 3 loss = 0.031: 100%|██████████| 10/10 [00:07<00:00,  1.37it/s]\n",
            "Local Pariticipant 1 loss = 0.168: 100%|██████████| 10/10 [00:00<00:00, 13.73it/s]\n",
            "Local Pariticipant 2 loss = 0.989: 100%|██████████| 10/10 [00:00<00:00, 10.36it/s]\n"
          ]
        },
        {
          "name": "stdout",
          "output_type": "stream",
          "text": [
            "The 17 Communcation Accuracy: 54.24 Method: fedavg\n",
            "[95.98, 81.76, 10.39, 28.83]\n"
          ]
        },
        {
          "name": "stderr",
          "output_type": "stream",
          "text": [
            "Local Pariticipant 8 loss = 0.363: 100%|██████████| 10/10 [00:00<00:00, 11.32it/s]\n",
            "Local Pariticipant 2 loss = 0.320: 100%|██████████| 10/10 [00:00<00:00, 11.08it/s]\n",
            "Local Pariticipant 7 loss = 0.100: 100%|██████████| 10/10 [00:00<00:00, 14.48it/s]\n",
            "Local Pariticipant 5 loss = 0.112: 100%|██████████| 10/10 [00:00<00:00, 14.36it/s]\n",
            "Local Pariticipant 9 loss = 0.148: 100%|██████████| 10/10 [00:00<00:00, 14.63it/s]\n",
            "Local Pariticipant 1 loss = 0.074: 100%|██████████| 10/10 [00:00<00:00, 11.69it/s]\n",
            "Local Pariticipant 6 loss = 0.172: 100%|██████████| 10/10 [00:00<00:00, 14.66it/s]\n",
            "Local Pariticipant 3 loss = 0.002: 100%|██████████| 10/10 [00:07<00:00,  1.42it/s]\n",
            "Local Pariticipant 0 loss = 0.017: 100%|██████████| 10/10 [00:07<00:00,  1.36it/s]\n",
            "Local Pariticipant 4 loss = 0.245: 100%|██████████| 10/10 [00:00<00:00, 13.20it/s]\n"
          ]
        },
        {
          "name": "stdout",
          "output_type": "stream",
          "text": [
            "The 18 Communcation Accuracy: 53.282 Method: fedavg\n",
            "[93.42, 83.26, 9.53, 26.92]\n"
          ]
        },
        {
          "name": "stderr",
          "output_type": "stream",
          "text": [
            "Local Pariticipant 5 loss = 0.081: 100%|██████████| 10/10 [00:00<00:00, 14.58it/s]\n",
            "Local Pariticipant 3 loss = 0.072: 100%|██████████| 10/10 [00:07<00:00,  1.39it/s]\n",
            "Local Pariticipant 9 loss = 0.136: 100%|██████████| 10/10 [00:00<00:00, 12.30it/s]\n",
            "Local Pariticipant 6 loss = 0.069: 100%|██████████| 10/10 [00:00<00:00, 12.50it/s]\n",
            "Local Pariticipant 1 loss = 0.143: 100%|██████████| 10/10 [00:00<00:00, 13.41it/s]\n",
            "Local Pariticipant 7 loss = 0.108: 100%|██████████| 10/10 [00:00<00:00, 13.34it/s]\n",
            "Local Pariticipant 2 loss = 1.174: 100%|██████████| 10/10 [00:00<00:00, 10.41it/s]\n",
            "Local Pariticipant 0 loss = 0.010: 100%|██████████| 10/10 [00:07<00:00,  1.38it/s]\n",
            "Local Pariticipant 8 loss = 2.541: 100%|██████████| 10/10 [00:00<00:00, 10.45it/s]\n",
            "Local Pariticipant 4 loss = 0.117: 100%|██████████| 10/10 [00:00<00:00, 13.25it/s]\n"
          ]
        },
        {
          "name": "stdout",
          "output_type": "stream",
          "text": [
            "The 19 Communcation Accuracy: 53.522 Method: fedavg\n",
            "[96.62, 81.22, 9.92, 26.33]\n"
          ]
        },
        {
          "name": "stderr",
          "output_type": "stream",
          "text": [
            "Local Pariticipant 6 loss = 0.187: 100%|██████████| 10/10 [00:00<00:00, 14.67it/s]\n",
            "Local Pariticipant 3 loss = 0.058: 100%|██████████| 10/10 [00:07<00:00,  1.32it/s]\n",
            "Local Pariticipant 9 loss = 0.175: 100%|██████████| 10/10 [00:00<00:00, 13.81it/s]\n",
            "Local Pariticipant 8 loss = 0.334: 100%|██████████| 10/10 [00:00<00:00, 10.83it/s]\n",
            "Local Pariticipant 1 loss = 0.035: 100%|██████████| 10/10 [00:00<00:00, 14.46it/s]\n",
            "Local Pariticipant 2 loss = 1.422: 100%|██████████| 10/10 [00:00<00:00, 11.23it/s]\n",
            "Local Pariticipant 4 loss = 0.091: 100%|██████████| 10/10 [00:00<00:00, 14.51it/s]\n",
            "Local Pariticipant 0 loss = 0.004: 100%|██████████| 10/10 [00:06<00:00,  1.43it/s]\n",
            "Local Pariticipant 5 loss = 0.112: 100%|██████████| 10/10 [00:00<00:00, 14.89it/s]\n",
            "Local Pariticipant 7 loss = 0.213: 100%|██████████| 10/10 [00:00<00:00, 14.94it/s]\n"
          ]
        },
        {
          "name": "stdout",
          "output_type": "stream",
          "text": [
            "The 20 Communcation Accuracy: 55.2 Method: fedavg\n",
            "[96.03, 84.7, 10.49, 29.58]\n"
          ]
        },
        {
          "name": "stderr",
          "output_type": "stream",
          "text": [
            "Local Pariticipant 8 loss = 1.103: 100%|██████████| 10/10 [00:00<00:00, 10.58it/s]\n",
            "Local Pariticipant 7 loss = 0.201: 100%|██████████| 10/10 [00:00<00:00, 14.17it/s]\n",
            "Local Pariticipant 9 loss = 0.116: 100%|██████████| 10/10 [00:00<00:00, 14.31it/s]\n",
            "Local Pariticipant 1 loss = 0.182: 100%|██████████| 10/10 [00:00<00:00, 13.83it/s]\n",
            "Local Pariticipant 4 loss = 0.138: 100%|██████████| 10/10 [00:00<00:00, 11.78it/s]\n",
            "Local Pariticipant 3 loss = 0.022: 100%|██████████| 10/10 [00:07<00:00,  1.30it/s]\n",
            "Local Pariticipant 6 loss = 0.092: 100%|██████████| 10/10 [00:00<00:00, 14.01it/s]\n",
            "Local Pariticipant 2 loss = 0.855: 100%|██████████| 10/10 [00:00<00:00, 10.88it/s]\n",
            "Local Pariticipant 5 loss = 0.087: 100%|██████████| 10/10 [00:00<00:00, 13.61it/s]\n",
            "Local Pariticipant 0 loss = 0.002: 100%|██████████| 10/10 [00:07<00:00,  1.35it/s]\n"
          ]
        },
        {
          "name": "stdout",
          "output_type": "stream",
          "text": [
            "The 21 Communcation Accuracy: 52.438 Method: fedavg\n",
            "[95.98, 79.12, 9.65, 25.0]\n"
          ]
        },
        {
          "name": "stderr",
          "output_type": "stream",
          "text": [
            "Local Pariticipant 6 loss = 0.213: 100%|██████████| 10/10 [00:00<00:00, 13.51it/s]\n",
            "Local Pariticipant 9 loss = 0.051: 100%|██████████| 10/10 [00:00<00:00, 14.35it/s]\n",
            "Local Pariticipant 4 loss = 0.457: 100%|██████████| 10/10 [00:00<00:00, 14.37it/s]\n",
            "Local Pariticipant 7 loss = 0.105: 100%|██████████| 10/10 [00:00<00:00, 12.75it/s]\n",
            "Local Pariticipant 3 loss = 0.011: 100%|██████████| 10/10 [00:07<00:00,  1.26it/s]\n",
            "Local Pariticipant 2 loss = 0.117: 100%|██████████| 10/10 [00:01<00:00,  8.75it/s]\n",
            "Local Pariticipant 8 loss = 0.947: 100%|██████████| 10/10 [00:01<00:00,  8.91it/s]\n",
            "Local Pariticipant 5 loss = 0.184: 100%|██████████| 10/10 [00:00<00:00, 12.85it/s]\n",
            "Local Pariticipant 1 loss = 0.100: 100%|██████████| 10/10 [00:00<00:00, 13.26it/s]\n",
            "Local Pariticipant 0 loss = 0.017: 100%|██████████| 10/10 [00:07<00:00,  1.26it/s]\n"
          ]
        },
        {
          "name": "stdout",
          "output_type": "stream",
          "text": [
            "The 22 Communcation Accuracy: 54.705 Method: fedavg\n",
            "[95.53, 83.76, 9.86, 29.67]\n"
          ]
        },
        {
          "name": "stderr",
          "output_type": "stream",
          "text": [
            "Local Pariticipant 9 loss = 0.082: 100%|██████████| 10/10 [00:00<00:00, 13.05it/s]\n",
            "Local Pariticipant 3 loss = 0.008: 100%|██████████| 10/10 [00:07<00:00,  1.34it/s]\n",
            "Local Pariticipant 2 loss = 0.495: 100%|██████████| 10/10 [00:01<00:00,  9.96it/s]\n",
            "Local Pariticipant 4 loss = 0.080: 100%|██████████| 10/10 [00:00<00:00, 13.35it/s]\n",
            "Local Pariticipant 5 loss = 0.253: 100%|██████████| 10/10 [00:00<00:00, 13.92it/s]\n",
            "Local Pariticipant 7 loss = 0.082: 100%|██████████| 10/10 [00:00<00:00, 14.11it/s]\n",
            "Local Pariticipant 6 loss = 0.081: 100%|██████████| 10/10 [00:00<00:00, 14.22it/s]\n",
            "Local Pariticipant 8 loss = 0.351: 100%|██████████| 10/10 [00:00<00:00, 10.09it/s]\n",
            "Local Pariticipant 0 loss = 0.062: 100%|██████████| 10/10 [00:07<00:00,  1.30it/s]\n",
            "Local Pariticipant 1 loss = 0.067: 100%|██████████| 10/10 [00:00<00:00, 14.45it/s]\n"
          ]
        },
        {
          "name": "stdout",
          "output_type": "stream",
          "text": [
            "The 23 Communcation Accuracy: 53.248 Method: fedavg\n",
            "[96.29, 80.22, 9.81, 26.67]\n"
          ]
        },
        {
          "name": "stderr",
          "output_type": "stream",
          "text": [
            "Local Pariticipant 0 loss = 0.004: 100%|██████████| 10/10 [00:07<00:00,  1.38it/s]\n",
            "Local Pariticipant 9 loss = 0.095: 100%|██████████| 10/10 [00:00<00:00, 14.17it/s]\n",
            "Local Pariticipant 7 loss = 0.123: 100%|██████████| 10/10 [00:00<00:00, 14.10it/s]\n",
            "Local Pariticipant 1 loss = 0.056: 100%|██████████| 10/10 [00:00<00:00, 14.38it/s]\n",
            "Local Pariticipant 5 loss = 0.254: 100%|██████████| 10/10 [00:00<00:00, 14.19it/s]\n",
            "Local Pariticipant 2 loss = 1.636: 100%|██████████| 10/10 [00:00<00:00, 10.92it/s]\n",
            "Local Pariticipant 6 loss = 0.130: 100%|██████████| 10/10 [00:00<00:00, 13.47it/s]\n",
            "Local Pariticipant 8 loss = 0.007: 100%|██████████| 10/10 [00:00<00:00, 10.45it/s]\n",
            "Local Pariticipant 3 loss = 0.002: 100%|██████████| 10/10 [00:07<00:00,  1.36it/s]\n",
            "Local Pariticipant 4 loss = 0.135: 100%|██████████| 10/10 [00:00<00:00, 14.16it/s]\n"
          ]
        },
        {
          "name": "stdout",
          "output_type": "stream",
          "text": [
            "The 24 Communcation Accuracy: 55.465 Method: fedavg\n",
            "[96.65, 84.4, 9.73, 31.08]\n"
          ]
        },
        {
          "name": "stderr",
          "output_type": "stream",
          "text": [
            "Local Pariticipant 5 loss = 0.110: 100%|██████████| 10/10 [00:00<00:00, 12.59it/s]\n",
            "Local Pariticipant 3 loss = 0.025: 100%|██████████| 10/10 [00:07<00:00,  1.31it/s]\n",
            "Local Pariticipant 1 loss = 0.091: 100%|██████████| 10/10 [00:00<00:00, 13.62it/s]\n",
            "Local Pariticipant 8 loss = 0.670: 100%|██████████| 10/10 [00:00<00:00, 10.46it/s]\n",
            "Local Pariticipant 2 loss = 1.641: 100%|██████████| 10/10 [00:01<00:00,  9.72it/s]\n",
            "Local Pariticipant 4 loss = 0.106: 100%|██████████| 10/10 [00:00<00:00, 11.96it/s]\n",
            "Local Pariticipant 9 loss = 0.066: 100%|██████████| 10/10 [00:00<00:00, 12.62it/s]\n",
            "Local Pariticipant 0 loss = 0.019: 100%|██████████| 10/10 [00:07<00:00,  1.34it/s]\n",
            "Local Pariticipant 6 loss = 0.077: 100%|██████████| 10/10 [00:00<00:00, 14.31it/s]\n",
            "Local Pariticipant 7 loss = 0.220: 100%|██████████| 10/10 [00:00<00:00, 14.45it/s]\n"
          ]
        },
        {
          "name": "stdout",
          "output_type": "stream",
          "text": [
            "The 25 Communcation Accuracy: 54.115 Method: fedavg\n",
            "[95.15, 81.51, 10.3, 29.5]\n"
          ]
        },
        {
          "name": "stderr",
          "output_type": "stream",
          "text": [
            "Local Pariticipant 4 loss = 0.113: 100%|██████████| 10/10 [00:00<00:00, 13.18it/s]\n",
            "Local Pariticipant 7 loss = 0.230: 100%|██████████| 10/10 [00:00<00:00, 13.59it/s]\n",
            "Local Pariticipant 6 loss = 0.213: 100%|██████████| 10/10 [00:00<00:00, 14.33it/s]\n",
            "Local Pariticipant 8 loss = 0.025: 100%|██████████| 10/10 [00:00<00:00, 10.27it/s]\n",
            "Local Pariticipant 2 loss = 1.430: 100%|██████████| 10/10 [00:00<00:00, 10.72it/s]\n",
            "Local Pariticipant 1 loss = 0.079: 100%|██████████| 10/10 [00:00<00:00, 13.38it/s]\n",
            "Local Pariticipant 3 loss = 0.004: 100%|██████████| 10/10 [00:08<00:00,  1.24it/s]\n",
            "Local Pariticipant 0 loss = 0.005: 100%|██████████| 10/10 [00:06<00:00,  1.43it/s]\n",
            "Local Pariticipant 5 loss = 0.063: 100%|██████████| 10/10 [00:00<00:00, 16.94it/s]\n",
            "Local Pariticipant 9 loss = 0.057: 100%|██████████| 10/10 [00:00<00:00, 15.75it/s]\n"
          ]
        },
        {
          "name": "stdout",
          "output_type": "stream",
          "text": [
            "The 26 Communcation Accuracy: 52.94 Method: fedavg\n",
            "[96.08, 78.57, 8.94, 28.17]\n"
          ]
        },
        {
          "name": "stderr",
          "output_type": "stream",
          "text": [
            "Local Pariticipant 5 loss = 0.103: 100%|██████████| 10/10 [00:00<00:00, 12.91it/s]\n",
            "Local Pariticipant 2 loss = 0.900: 100%|██████████| 10/10 [00:01<00:00,  9.93it/s]\n",
            "Local Pariticipant 9 loss = 0.061: 100%|██████████| 10/10 [00:00<00:00, 13.67it/s]\n",
            "Local Pariticipant 1 loss = 0.197: 100%|██████████| 10/10 [00:00<00:00, 13.35it/s]\n",
            "Local Pariticipant 8 loss = 0.530: 100%|██████████| 10/10 [00:00<00:00, 10.79it/s]\n",
            "Local Pariticipant 6 loss = 0.080: 100%|██████████| 10/10 [00:00<00:00, 13.73it/s]\n",
            "Local Pariticipant 0 loss = 0.001: 100%|██████████| 10/10 [00:07<00:00,  1.35it/s]\n",
            "Local Pariticipant 4 loss = 0.082: 100%|██████████| 10/10 [00:00<00:00, 13.81it/s]\n",
            "Local Pariticipant 7 loss = 0.212: 100%|██████████| 10/10 [00:00<00:00, 12.64it/s]\n",
            "Local Pariticipant 3 loss = 0.006: 100%|██████████| 10/10 [00:07<00:00,  1.40it/s]\n"
          ]
        },
        {
          "name": "stdout",
          "output_type": "stream",
          "text": [
            "The 27 Communcation Accuracy: 54.148 Method: fedavg\n",
            "[96.23, 82.01, 10.1, 28.25]\n"
          ]
        },
        {
          "name": "stderr",
          "output_type": "stream",
          "text": [
            "Local Pariticipant 8 loss = 0.018: 100%|██████████| 10/10 [00:00<00:00, 10.54it/s]\n",
            "Local Pariticipant 0 loss = 0.006: 100%|██████████| 10/10 [00:07<00:00,  1.35it/s]\n",
            "Local Pariticipant 2 loss = 0.796: 100%|██████████| 10/10 [00:00<00:00, 10.31it/s]\n",
            "Local Pariticipant 9 loss = 0.184: 100%|██████████| 10/10 [00:00<00:00, 14.10it/s]\n",
            "Local Pariticipant 5 loss = 0.319: 100%|██████████| 10/10 [00:00<00:00, 14.41it/s]\n",
            "Local Pariticipant 7 loss = 0.167: 100%|██████████| 10/10 [00:00<00:00, 13.95it/s]\n",
            "Local Pariticipant 6 loss = 0.131: 100%|██████████| 10/10 [00:00<00:00, 13.80it/s]\n",
            "Local Pariticipant 1 loss = 0.066: 100%|██████████| 10/10 [00:00<00:00, 14.25it/s]\n",
            "Local Pariticipant 4 loss = 0.227: 100%|██████████| 10/10 [00:00<00:00, 14.37it/s]\n",
            "Local Pariticipant 3 loss = 0.003: 100%|██████████| 10/10 [00:07<00:00,  1.37it/s]\n"
          ]
        },
        {
          "name": "stdout",
          "output_type": "stream",
          "text": [
            "The 28 Communcation Accuracy: 54.06 Method: fedavg\n",
            "[96.79, 80.77, 9.76, 28.92]\n"
          ]
        },
        {
          "name": "stderr",
          "output_type": "stream",
          "text": [
            "Local Pariticipant 2 loss = 1.211: 100%|██████████| 10/10 [00:00<00:00, 10.14it/s]\n",
            "Local Pariticipant 5 loss = 0.127: 100%|██████████| 10/10 [00:00<00:00, 13.70it/s]\n",
            "Local Pariticipant 6 loss = 0.220: 100%|██████████| 10/10 [00:00<00:00, 13.66it/s]\n",
            "Local Pariticipant 8 loss = 1.204: 100%|██████████| 10/10 [00:00<00:00, 10.03it/s]\n",
            "Local Pariticipant 3 loss = 0.045: 100%|██████████| 10/10 [00:07<00:00,  1.29it/s]\n",
            "Local Pariticipant 0 loss = 0.003: 100%|██████████| 10/10 [00:07<00:00,  1.35it/s]\n",
            "Local Pariticipant 9 loss = 0.049: 100%|██████████| 10/10 [00:00<00:00, 14.45it/s]\n",
            "Local Pariticipant 7 loss = 0.036: 100%|██████████| 10/10 [00:00<00:00, 14.39it/s]\n",
            "Local Pariticipant 4 loss = 0.139: 100%|██████████| 10/10 [00:00<00:00, 14.66it/s]\n",
            "Local Pariticipant 1 loss = 0.059: 100%|██████████| 10/10 [00:00<00:00, 13.90it/s]\n"
          ]
        },
        {
          "name": "stdout",
          "output_type": "stream",
          "text": [
            "The 29 Communcation Accuracy: 52.488 Method: fedavg\n",
            "[95.52, 79.67, 9.18, 25.58]\n"
          ]
        },
        {
          "name": "stderr",
          "output_type": "stream",
          "text": [
            "Local Pariticipant 7 loss = 0.103: 100%|██████████| 10/10 [00:00<00:00, 13.92it/s]\n",
            "Local Pariticipant 4 loss = 0.145: 100%|██████████| 10/10 [00:00<00:00, 14.48it/s]\n",
            "Local Pariticipant 6 loss = 0.092: 100%|██████████| 10/10 [00:00<00:00, 14.60it/s]\n",
            "Local Pariticipant 3 loss = 0.009: 100%|██████████| 10/10 [00:05<00:00,  1.73it/s]\n",
            "Local Pariticipant 8 loss = 0.808: 100%|██████████| 10/10 [00:00<00:00, 13.92it/s]\n",
            "Local Pariticipant 1 loss = 0.054: 100%|██████████| 10/10 [00:00<00:00, 16.20it/s]\n",
            "Local Pariticipant 9 loss = 0.090: 100%|██████████| 10/10 [00:00<00:00, 16.25it/s]\n",
            "Local Pariticipant 0 loss = 0.002: 100%|██████████| 10/10 [00:05<00:00,  1.84it/s]\n",
            "Local Pariticipant 5 loss = 0.037: 100%|██████████| 10/10 [00:00<00:00, 18.53it/s]\n",
            "Local Pariticipant 2 loss = 0.016: 100%|██████████| 10/10 [00:00<00:00, 14.53it/s]\n"
          ]
        },
        {
          "name": "stdout",
          "output_type": "stream",
          "text": [
            "The 30 Communcation Accuracy: 54.67 Method: fedavg\n",
            "[96.11, 85.45, 9.62, 27.5]\n"
          ]
        },
        {
          "name": "stderr",
          "output_type": "stream",
          "text": [
            "Local Pariticipant 0 loss = 0.006: 100%|██████████| 10/10 [00:06<00:00,  1.56it/s]\n",
            "Local Pariticipant 6 loss = 0.073: 100%|██████████| 10/10 [00:00<00:00, 16.10it/s]\n",
            "Local Pariticipant 3 loss = 0.001: 100%|██████████| 10/10 [00:06<00:00,  1.66it/s]\n",
            "Local Pariticipant 1 loss = 0.100: 100%|██████████| 10/10 [00:00<00:00, 16.09it/s]\n",
            "Local Pariticipant 2 loss = 0.302: 100%|██████████| 10/10 [00:00<00:00, 12.73it/s]\n",
            "Local Pariticipant 7 loss = 0.088: 100%|██████████| 10/10 [00:00<00:00, 16.29it/s]\n",
            "Local Pariticipant 4 loss = 0.139: 100%|██████████| 10/10 [00:00<00:00, 15.78it/s]\n",
            "Local Pariticipant 5 loss = 0.099: 100%|██████████| 10/10 [00:00<00:00, 16.06it/s]\n",
            "Local Pariticipant 9 loss = 0.073: 100%|██████████| 10/10 [00:00<00:00, 16.20it/s]\n",
            "Local Pariticipant 8 loss = 1.221: 100%|██████████| 10/10 [00:00<00:00, 12.59it/s]\n"
          ]
        },
        {
          "name": "stdout",
          "output_type": "stream",
          "text": [
            "The 31 Communcation Accuracy: 53.528 Method: fedavg\n",
            "[96.65, 81.27, 9.11, 27.08]\n"
          ]
        },
        {
          "name": "stderr",
          "output_type": "stream",
          "text": [
            "Local Pariticipant 8 loss = 0.469: 100%|██████████| 10/10 [00:00<00:00, 12.72it/s]\n",
            "Local Pariticipant 1 loss = 0.078: 100%|██████████| 10/10 [00:00<00:00, 16.50it/s]\n",
            "Local Pariticipant 5 loss = 0.112: 100%|██████████| 10/10 [00:00<00:00, 16.22it/s]\n",
            "Local Pariticipant 0 loss = 0.001: 100%|██████████| 10/10 [00:05<00:00,  1.68it/s]\n",
            "Local Pariticipant 2 loss = 0.015: 100%|██████████| 10/10 [00:00<00:00, 13.02it/s]\n",
            "Local Pariticipant 7 loss = 0.069: 100%|██████████| 10/10 [00:00<00:00, 16.35it/s]\n",
            "Local Pariticipant 3 loss = 0.001: 100%|██████████| 10/10 [00:06<00:00,  1.65it/s]\n",
            "Local Pariticipant 9 loss = 0.073: 100%|██████████| 10/10 [00:00<00:00, 16.54it/s]\n",
            "Local Pariticipant 6 loss = 0.131: 100%|██████████| 10/10 [00:00<00:00, 15.68it/s]\n",
            "Local Pariticipant 4 loss = 0.075: 100%|██████████| 10/10 [00:00<00:00, 15.54it/s]\n"
          ]
        },
        {
          "name": "stdout",
          "output_type": "stream",
          "text": [
            "The 32 Communcation Accuracy: 55.002 Method: fedavg\n",
            "[96.3, 83.16, 9.47, 31.08]\n"
          ]
        },
        {
          "name": "stderr",
          "output_type": "stream",
          "text": [
            "Local Pariticipant 7 loss = 0.053: 100%|██████████| 10/10 [00:00<00:00, 16.14it/s]\n",
            "Local Pariticipant 4 loss = 0.108: 100%|██████████| 10/10 [00:00<00:00, 15.92it/s]\n",
            "Local Pariticipant 0 loss = 0.003: 100%|██████████| 10/10 [00:06<00:00,  1.59it/s]\n",
            "Local Pariticipant 2 loss = 0.027: 100%|██████████| 10/10 [00:00<00:00, 12.99it/s]\n",
            "Local Pariticipant 3 loss = 0.022: 100%|██████████| 10/10 [00:05<00:00,  1.69it/s]\n",
            "Local Pariticipant 1 loss = 0.078: 100%|██████████| 10/10 [00:00<00:00, 16.77it/s]\n",
            "Local Pariticipant 8 loss = 0.007: 100%|██████████| 10/10 [00:00<00:00, 12.99it/s]\n",
            "Local Pariticipant 9 loss = 0.046: 100%|██████████| 10/10 [00:00<00:00, 16.66it/s]\n",
            "Local Pariticipant 6 loss = 0.028: 100%|██████████| 10/10 [00:00<00:00, 16.24it/s]\n",
            "Local Pariticipant 5 loss = 0.109: 100%|██████████| 10/10 [00:00<00:00, 16.89it/s]\n"
          ]
        },
        {
          "name": "stdout",
          "output_type": "stream",
          "text": [
            "The 33 Communcation Accuracy: 54.14 Method: fedavg\n",
            "[96.63, 83.81, 9.45, 26.67]\n"
          ]
        },
        {
          "name": "stderr",
          "output_type": "stream",
          "text": [
            "Local Pariticipant 6 loss = 0.046: 100%|██████████| 10/10 [00:00<00:00, 15.53it/s]\n",
            "Local Pariticipant 5 loss = 0.183: 100%|██████████| 10/10 [00:00<00:00, 16.77it/s]\n",
            "Local Pariticipant 3 loss = 0.000: 100%|██████████| 10/10 [00:05<00:00,  1.71it/s]\n",
            "Local Pariticipant 2 loss = 0.327: 100%|██████████| 10/10 [00:00<00:00, 12.94it/s]\n",
            "Local Pariticipant 8 loss = 0.402: 100%|██████████| 10/10 [00:00<00:00, 13.13it/s]\n",
            "Local Pariticipant 9 loss = 0.074: 100%|██████████| 10/10 [00:00<00:00, 16.71it/s]\n",
            "Local Pariticipant 1 loss = 0.047: 100%|██████████| 10/10 [00:00<00:00, 16.37it/s]\n",
            "Local Pariticipant 4 loss = 0.053: 100%|██████████| 10/10 [00:00<00:00, 17.19it/s]\n",
            "Local Pariticipant 7 loss = 0.076: 100%|██████████| 10/10 [00:00<00:00, 16.81it/s]\n",
            "Local Pariticipant 0 loss = 0.037: 100%|██████████| 10/10 [00:05<00:00,  1.71it/s]\n"
          ]
        },
        {
          "name": "stdout",
          "output_type": "stream",
          "text": [
            "The 34 Communcation Accuracy: 54.362 Method: fedavg\n",
            "[96.76, 82.36, 10.16, 28.17]\n"
          ]
        },
        {
          "name": "stderr",
          "output_type": "stream",
          "text": [
            "Local Pariticipant 3 loss = 0.003: 100%|██████████| 10/10 [00:05<00:00,  1.67it/s]\n",
            "Local Pariticipant 7 loss = 0.056: 100%|██████████| 10/10 [00:00<00:00, 17.07it/s]\n",
            "Local Pariticipant 4 loss = 0.103: 100%|██████████| 10/10 [00:00<00:00, 16.79it/s]\n",
            "Local Pariticipant 1 loss = 0.056: 100%|██████████| 10/10 [00:00<00:00, 16.02it/s]\n",
            "Local Pariticipant 5 loss = 0.211: 100%|██████████| 10/10 [00:00<00:00, 16.12it/s]\n",
            "Local Pariticipant 6 loss = 0.088: 100%|██████████| 10/10 [00:00<00:00, 16.85it/s]\n",
            "Local Pariticipant 2 loss = 0.609: 100%|██████████| 10/10 [00:00<00:00, 13.00it/s]\n",
            "Local Pariticipant 0 loss = 0.000: 100%|██████████| 10/10 [00:05<00:00,  1.70it/s]\n",
            "Local Pariticipant 9 loss = 0.168: 100%|██████████| 10/10 [00:00<00:00, 16.90it/s]\n",
            "Local Pariticipant 8 loss = 0.079: 100%|██████████| 10/10 [00:00<00:00, 13.12it/s]\n"
          ]
        },
        {
          "name": "stdout",
          "output_type": "stream",
          "text": [
            "The 35 Communcation Accuracy: 54.992 Method: fedavg\n",
            "[96.8, 85.8, 9.79, 27.58]\n"
          ]
        },
        {
          "name": "stderr",
          "output_type": "stream",
          "text": [
            "Local Pariticipant 4 loss = 0.093: 100%|██████████| 10/10 [00:00<00:00, 16.13it/s]\n",
            "Local Pariticipant 3 loss = 0.002: 100%|██████████| 10/10 [00:05<00:00,  1.70it/s]\n",
            "Local Pariticipant 0 loss = 0.000: 100%|██████████| 10/10 [00:06<00:00,  1.49it/s]\n",
            "Local Pariticipant 5 loss = 0.108: 100%|██████████| 10/10 [00:00<00:00, 15.04it/s]\n",
            "Local Pariticipant 2 loss = 0.054: 100%|██████████| 10/10 [00:00<00:00, 12.05it/s]\n",
            "Local Pariticipant 9 loss = 0.038: 100%|██████████| 10/10 [00:00<00:00, 13.86it/s]\n",
            "Local Pariticipant 8 loss = 2.297: 100%|██████████| 10/10 [00:00<00:00, 11.26it/s]\n",
            "Local Pariticipant 6 loss = 0.081: 100%|██████████| 10/10 [00:00<00:00, 15.50it/s]\n",
            "Local Pariticipant 1 loss = 0.067: 100%|██████████| 10/10 [00:00<00:00, 15.07it/s]\n",
            "Local Pariticipant 7 loss = 0.046: 100%|██████████| 10/10 [00:00<00:00, 16.17it/s]\n"
          ]
        },
        {
          "name": "stdout",
          "output_type": "stream",
          "text": [
            "The 36 Communcation Accuracy: 54.495 Method: fedavg\n",
            "[96.68, 83.86, 9.36, 28.08]\n"
          ]
        },
        {
          "name": "stderr",
          "output_type": "stream",
          "text": [
            "Local Pariticipant 0 loss = 0.000: 100%|██████████| 10/10 [00:06<00:00,  1.63it/s]\n",
            "Local Pariticipant 3 loss = 0.006: 100%|██████████| 10/10 [00:07<00:00,  1.43it/s]\n",
            "Local Pariticipant 6 loss = 0.128: 100%|██████████| 10/10 [00:00<00:00, 15.41it/s]\n",
            "Local Pariticipant 5 loss = 0.040: 100%|██████████| 10/10 [00:00<00:00, 16.12it/s]\n",
            "Local Pariticipant 1 loss = 0.067: 100%|██████████| 10/10 [00:00<00:00, 16.45it/s]\n",
            "Local Pariticipant 8 loss = 2.433: 100%|██████████| 10/10 [00:00<00:00, 12.93it/s]\n",
            "Local Pariticipant 4 loss = 0.081: 100%|██████████| 10/10 [00:00<00:00, 16.63it/s]\n",
            "Local Pariticipant 7 loss = 0.048: 100%|██████████| 10/10 [00:00<00:00, 16.18it/s]\n",
            "Local Pariticipant 2 loss = 0.070: 100%|██████████| 10/10 [00:00<00:00, 12.65it/s]\n",
            "Local Pariticipant 9 loss = 0.148: 100%|██████████| 10/10 [00:00<00:00, 16.31it/s]\n"
          ]
        },
        {
          "name": "stdout",
          "output_type": "stream",
          "text": [
            "The 37 Communcation Accuracy: 55.672 Method: fedavg\n",
            "[96.77, 87.29, 9.88, 28.75]\n"
          ]
        },
        {
          "name": "stderr",
          "output_type": "stream",
          "text": [
            "Local Pariticipant 4 loss = 0.031: 100%|██████████| 10/10 [00:00<00:00, 16.30it/s]\n",
            "Local Pariticipant 8 loss = 1.313: 100%|██████████| 10/10 [00:00<00:00, 14.13it/s]\n",
            "Local Pariticipant 9 loss = 0.060: 100%|██████████| 10/10 [00:00<00:00, 18.18it/s]\n",
            "Local Pariticipant 3 loss = 0.003: 100%|██████████| 10/10 [00:05<00:00,  1.82it/s]\n",
            "Local Pariticipant 1 loss = 0.059: 100%|██████████| 10/10 [00:00<00:00, 17.82it/s]\n",
            "Local Pariticipant 6 loss = 0.131: 100%|██████████| 10/10 [00:00<00:00, 17.96it/s]\n",
            "Local Pariticipant 5 loss = 0.071: 100%|██████████| 10/10 [00:00<00:00, 17.29it/s]\n",
            "Local Pariticipant 7 loss = 0.049: 100%|██████████| 10/10 [00:00<00:00, 17.88it/s]\n",
            "Local Pariticipant 2 loss = 0.116: 100%|██████████| 10/10 [00:00<00:00, 14.29it/s]\n",
            "Local Pariticipant 0 loss = 0.001: 100%|██████████| 10/10 [00:05<00:00,  1.83it/s]\n"
          ]
        },
        {
          "name": "stdout",
          "output_type": "stream",
          "text": [
            "The 38 Communcation Accuracy: 54.545 Method: fedavg\n",
            "[96.86, 83.51, 9.64, 28.17]\n"
          ]
        },
        {
          "name": "stderr",
          "output_type": "stream",
          "text": [
            "Local Pariticipant 7 loss = 0.071: 100%|██████████| 10/10 [00:00<00:00, 15.77it/s]\n",
            "Local Pariticipant 2 loss = 0.574: 100%|██████████| 10/10 [00:00<00:00, 12.82it/s]\n",
            "Local Pariticipant 9 loss = 0.041: 100%|██████████| 10/10 [00:00<00:00, 16.23it/s]\n",
            "Local Pariticipant 5 loss = 0.049: 100%|██████████| 10/10 [00:00<00:00, 16.22it/s]\n",
            "Local Pariticipant 3 loss = 0.006: 100%|██████████| 10/10 [00:06<00:00,  1.63it/s]\n",
            "Local Pariticipant 6 loss = 0.185: 100%|██████████| 10/10 [00:00<00:00, 15.56it/s]\n",
            "Local Pariticipant 8 loss = 0.230: 100%|██████████| 10/10 [00:00<00:00, 12.92it/s]\n",
            "Local Pariticipant 1 loss = 0.073: 100%|██████████| 10/10 [00:00<00:00, 16.51it/s]\n",
            "Local Pariticipant 0 loss = 0.000: 100%|██████████| 10/10 [00:05<00:00,  1.75it/s]\n",
            "Local Pariticipant 4 loss = 0.024: 100%|██████████| 10/10 [00:00<00:00, 17.59it/s]\n"
          ]
        },
        {
          "name": "stdout",
          "output_type": "stream",
          "text": [
            "The 39 Communcation Accuracy: 56.302 Method: fedavg\n",
            "[96.36, 87.59, 10.26, 31.0]\n"
          ]
        },
        {
          "name": "stderr",
          "output_type": "stream",
          "text": [
            "Local Pariticipant 7 loss = 0.038: 100%|██████████| 10/10 [00:00<00:00, 15.81it/s]\n",
            "Local Pariticipant 3 loss = 0.001: 100%|██████████| 10/10 [00:05<00:00,  1.68it/s]\n",
            "Local Pariticipant 8 loss = 0.260: 100%|██████████| 10/10 [00:00<00:00, 11.52it/s]\n",
            "Local Pariticipant 1 loss = 0.034: 100%|██████████| 10/10 [00:00<00:00, 15.06it/s]\n",
            "Local Pariticipant 5 loss = 0.061: 100%|██████████| 10/10 [00:00<00:00, 16.17it/s]\n",
            "Local Pariticipant 4 loss = 0.047: 100%|██████████| 10/10 [00:00<00:00, 15.44it/s]\n",
            "Local Pariticipant 9 loss = 0.132: 100%|██████████| 10/10 [00:00<00:00, 16.39it/s]\n",
            "Local Pariticipant 6 loss = 0.070: 100%|██████████| 10/10 [00:00<00:00, 16.04it/s]\n",
            "Local Pariticipant 2 loss = 0.939: 100%|██████████| 10/10 [00:00<00:00, 11.29it/s]\n",
            "Local Pariticipant 0 loss = 0.000: 100%|██████████| 10/10 [00:06<00:00,  1.61it/s]\n"
          ]
        },
        {
          "name": "stdout",
          "output_type": "stream",
          "text": [
            "The 40 Communcation Accuracy: 55.393 Method: fedavg\n",
            "[96.6, 85.7, 9.77, 29.5]\n"
          ]
        },
        {
          "name": "stderr",
          "output_type": "stream",
          "text": [
            "Local Pariticipant 5 loss = 0.036: 100%|██████████| 10/10 [00:00<00:00, 14.85it/s]\n",
            "Local Pariticipant 7 loss = 0.087: 100%|██████████| 10/10 [00:00<00:00, 15.83it/s]\n",
            "Local Pariticipant 0 loss = 0.000: 100%|██████████| 10/10 [00:05<00:00,  1.67it/s]\n",
            "Local Pariticipant 9 loss = 0.045: 100%|██████████| 10/10 [00:00<00:00, 16.07it/s]\n",
            "Local Pariticipant 2 loss = 0.954: 100%|██████████| 10/10 [00:00<00:00, 12.81it/s]\n",
            "Local Pariticipant 1 loss = 0.084: 100%|██████████| 10/10 [00:00<00:00, 14.64it/s]\n",
            "Local Pariticipant 8 loss = 0.971: 100%|██████████| 10/10 [00:00<00:00, 12.87it/s]\n",
            "Local Pariticipant 6 loss = 0.063: 100%|██████████| 10/10 [00:00<00:00, 16.02it/s]\n",
            "Local Pariticipant 4 loss = 0.165: 100%|██████████| 10/10 [00:00<00:00, 16.23it/s]\n",
            "Local Pariticipant 3 loss = 0.002: 100%|██████████| 10/10 [00:05<00:00,  1.67it/s]\n"
          ]
        },
        {
          "name": "stdout",
          "output_type": "stream",
          "text": [
            "The 41 Communcation Accuracy: 55.302 Method: fedavg\n",
            "[96.96, 85.7, 9.55, 29.0]\n"
          ]
        },
        {
          "name": "stderr",
          "output_type": "stream",
          "text": [
            "Local Pariticipant 7 loss = 0.016: 100%|██████████| 10/10 [00:00<00:00, 14.68it/s]\n",
            "Local Pariticipant 4 loss = 0.061: 100%|██████████| 10/10 [00:00<00:00, 16.17it/s]\n",
            "Local Pariticipant 6 loss = 0.117: 100%|██████████| 10/10 [00:00<00:00, 16.03it/s]\n",
            "Local Pariticipant 0 loss = 0.000: 100%|██████████| 10/10 [00:06<00:00,  1.64it/s]\n",
            "Local Pariticipant 5 loss = 0.046: 100%|██████████| 10/10 [00:00<00:00, 16.46it/s]\n",
            "Local Pariticipant 8 loss = 0.795: 100%|██████████| 10/10 [00:00<00:00, 11.99it/s]\n",
            "Local Pariticipant 2 loss = 0.411: 100%|██████████| 10/10 [00:00<00:00, 12.87it/s]\n",
            "Local Pariticipant 1 loss = 0.029: 100%|██████████| 10/10 [00:00<00:00, 16.25it/s]\n",
            "Local Pariticipant 3 loss = 0.001: 100%|██████████| 10/10 [00:06<00:00,  1.66it/s]\n",
            "Local Pariticipant 9 loss = 0.024: 100%|██████████| 10/10 [00:00<00:00, 14.45it/s]\n"
          ]
        },
        {
          "name": "stdout",
          "output_type": "stream",
          "text": [
            "The 42 Communcation Accuracy: 53.892 Method: fedavg\n",
            "[96.27, 84.16, 9.47, 25.67]\n"
          ]
        },
        {
          "name": "stderr",
          "output_type": "stream",
          "text": [
            "Local Pariticipant 4 loss = 0.064: 100%|██████████| 10/10 [00:00<00:00, 15.53it/s]\n",
            "Local Pariticipant 8 loss = 0.809: 100%|██████████| 10/10 [00:00<00:00, 12.89it/s]\n",
            "Local Pariticipant 0 loss = 0.001: 100%|██████████| 10/10 [00:05<00:00,  1.67it/s]\n",
            "Local Pariticipant 7 loss = 0.071: 100%|██████████| 10/10 [00:00<00:00, 16.45it/s]\n",
            "Local Pariticipant 3 loss = 0.003: 100%|██████████| 10/10 [00:06<00:00,  1.66it/s]\n",
            "Local Pariticipant 9 loss = 0.032: 100%|██████████| 10/10 [00:00<00:00, 16.46it/s]\n",
            "Local Pariticipant 6 loss = 0.088: 100%|██████████| 10/10 [00:00<00:00, 16.56it/s]\n",
            "Local Pariticipant 5 loss = 0.080: 100%|██████████| 10/10 [00:00<00:00, 16.56it/s]\n",
            "Local Pariticipant 2 loss = 0.300: 100%|██████████| 10/10 [00:00<00:00, 12.92it/s]\n",
            "Local Pariticipant 1 loss = 0.031: 100%|██████████| 10/10 [00:00<00:00, 16.32it/s]\n"
          ]
        },
        {
          "name": "stdout",
          "output_type": "stream",
          "text": [
            "The 43 Communcation Accuracy: 55.718 Method: fedavg\n",
            "[96.93, 86.8, 9.89, 29.25]\n"
          ]
        },
        {
          "name": "stderr",
          "output_type": "stream",
          "text": [
            "Local Pariticipant 0 loss = 0.042: 100%|██████████| 10/10 [00:05<00:00,  1.68it/s]\n",
            "Local Pariticipant 2 loss = 0.100: 100%|██████████| 10/10 [00:00<00:00, 12.98it/s]\n",
            "Local Pariticipant 4 loss = 0.194: 100%|██████████| 10/10 [00:00<00:00, 14.26it/s]\n",
            "Local Pariticipant 7 loss = 0.018: 100%|██████████| 10/10 [00:00<00:00, 16.22it/s]\n",
            "Local Pariticipant 5 loss = 0.043: 100%|██████████| 10/10 [00:00<00:00, 16.53it/s]\n",
            "Local Pariticipant 3 loss = 0.000: 100%|██████████| 10/10 [00:05<00:00,  1.69it/s]\n",
            "Local Pariticipant 1 loss = 0.040: 100%|██████████| 10/10 [00:00<00:00, 16.00it/s]\n",
            "Local Pariticipant 9 loss = 0.017: 100%|██████████| 10/10 [00:00<00:00, 14.01it/s]\n",
            "Local Pariticipant 6 loss = 0.048: 100%|██████████| 10/10 [00:00<00:00, 16.20it/s]\n",
            "Local Pariticipant 8 loss = 0.004: 100%|██████████| 10/10 [00:00<00:00, 10.71it/s]\n"
          ]
        },
        {
          "name": "stdout",
          "output_type": "stream",
          "text": [
            "The 44 Communcation Accuracy: 56.135 Method: fedavg\n",
            "[97.24, 85.45, 9.6, 32.25]\n"
          ]
        },
        {
          "name": "stderr",
          "output_type": "stream",
          "text": [
            "Local Pariticipant 5 loss = 0.068: 100%|██████████| 10/10 [00:00<00:00, 15.90it/s]\n",
            "Local Pariticipant 6 loss = 0.048: 100%|██████████| 10/10 [00:00<00:00, 16.17it/s]\n",
            "Local Pariticipant 2 loss = 0.234: 100%|██████████| 10/10 [00:00<00:00, 12.58it/s]\n",
            "Local Pariticipant 1 loss = 0.024: 100%|██████████| 10/10 [00:00<00:00, 16.33it/s]\n",
            "Local Pariticipant 0 loss = 0.001: 100%|██████████| 10/10 [00:06<00:00,  1.65it/s]\n",
            "Local Pariticipant 4 loss = 0.041: 100%|██████████| 10/10 [00:00<00:00, 15.47it/s]\n",
            "Local Pariticipant 8 loss = 0.541: 100%|██████████| 10/10 [00:00<00:00, 12.75it/s]\n",
            "Local Pariticipant 3 loss = 0.001: 100%|██████████| 10/10 [00:06<00:00,  1.64it/s]\n",
            "Local Pariticipant 7 loss = 0.013: 100%|██████████| 10/10 [00:00<00:00, 16.27it/s]\n",
            "Local Pariticipant 9 loss = 0.044: 100%|██████████| 10/10 [00:00<00:00, 16.28it/s]\n"
          ]
        },
        {
          "name": "stdout",
          "output_type": "stream",
          "text": [
            "The 45 Communcation Accuracy: 54.68 Method: fedavg\n",
            "[96.36, 83.86, 9.83, 28.67]\n"
          ]
        },
        {
          "name": "stderr",
          "output_type": "stream",
          "text": [
            "Local Pariticipant 7 loss = 0.047: 100%|██████████| 10/10 [00:00<00:00, 14.85it/s]\n",
            "Local Pariticipant 5 loss = 0.040: 100%|██████████| 10/10 [00:00<00:00, 15.73it/s]\n",
            "Local Pariticipant 1 loss = 0.125: 100%|██████████| 10/10 [00:00<00:00, 16.03it/s]\n",
            "Local Pariticipant 2 loss = 0.012: 100%|██████████| 10/10 [00:00<00:00, 12.71it/s]\n",
            "Local Pariticipant 3 loss = 0.001: 100%|██████████| 10/10 [00:06<00:00,  1.64it/s]\n",
            "Local Pariticipant 4 loss = 0.040: 100%|██████████| 10/10 [00:00<00:00, 15.02it/s]\n",
            "Local Pariticipant 0 loss = 0.002: 100%|██████████| 10/10 [00:06<00:00,  1.66it/s]\n",
            "Local Pariticipant 9 loss = 0.062: 100%|██████████| 10/10 [00:00<00:00, 15.80it/s]\n",
            "Local Pariticipant 6 loss = 0.050: 100%|██████████| 10/10 [00:00<00:00, 15.69it/s]\n",
            "Local Pariticipant 8 loss = 0.337: 100%|██████████| 10/10 [00:00<00:00, 12.66it/s]\n"
          ]
        },
        {
          "name": "stdout",
          "output_type": "stream",
          "text": [
            "The 46 Communcation Accuracy: 55.625 Method: fedavg\n",
            "[97.14, 86.8, 9.39, 29.17]\n"
          ]
        },
        {
          "name": "stderr",
          "output_type": "stream",
          "text": [
            "Local Pariticipant 4 loss = 0.094: 100%|██████████| 10/10 [00:00<00:00, 15.60it/s]\n",
            "Local Pariticipant 5 loss = 0.105: 100%|██████████| 10/10 [00:00<00:00, 16.27it/s]\n",
            "Local Pariticipant 1 loss = 0.025: 100%|██████████| 10/10 [00:00<00:00, 15.98it/s]\n",
            "Local Pariticipant 3 loss = 0.001: 100%|██████████| 10/10 [00:05<00:00,  1.67it/s]\n",
            "Local Pariticipant 9 loss = 0.035: 100%|██████████| 10/10 [00:00<00:00, 15.14it/s]\n",
            "Local Pariticipant 0 loss = 0.003: 100%|██████████| 10/10 [00:06<00:00,  1.57it/s]\n",
            "Local Pariticipant 6 loss = 0.017: 100%|██████████| 10/10 [00:00<00:00, 16.18it/s]\n",
            "Local Pariticipant 7 loss = 0.015: 100%|██████████| 10/10 [00:00<00:00, 16.35it/s]\n",
            "Local Pariticipant 8 loss = 0.572: 100%|██████████| 10/10 [00:00<00:00, 12.76it/s]\n",
            "Local Pariticipant 2 loss = 0.138: 100%|██████████| 10/10 [00:00<00:00, 12.77it/s]\n"
          ]
        },
        {
          "name": "stdout",
          "output_type": "stream",
          "text": [
            "The 47 Communcation Accuracy: 56.452 Method: fedavg\n",
            "[96.86, 86.35, 9.35, 33.25]\n"
          ]
        },
        {
          "name": "stderr",
          "output_type": "stream",
          "text": [
            "Local Pariticipant 9 loss = 0.031: 100%|██████████| 10/10 [00:00<00:00, 14.79it/s]\n",
            "Local Pariticipant 8 loss = 1.621: 100%|██████████| 10/10 [00:00<00:00, 12.64it/s]\n",
            "Local Pariticipant 7 loss = 0.056: 100%|██████████| 10/10 [00:00<00:00, 15.60it/s]\n",
            "Local Pariticipant 4 loss = 0.135: 100%|██████████| 10/10 [00:00<00:00, 16.03it/s]\n",
            "Local Pariticipant 2 loss = 0.001: 100%|██████████| 10/10 [00:00<00:00, 11.48it/s]\n",
            "Local Pariticipant 1 loss = 0.024: 100%|██████████| 10/10 [00:00<00:00, 15.63it/s]\n",
            "Local Pariticipant 5 loss = 0.034: 100%|██████████| 10/10 [00:00<00:00, 15.44it/s]\n",
            "Local Pariticipant 0 loss = 0.000: 100%|██████████| 10/10 [00:06<00:00,  1.65it/s]\n",
            "Local Pariticipant 6 loss = 0.028: 100%|██████████| 10/10 [00:00<00:00, 16.11it/s]\n",
            "Local Pariticipant 3 loss = 0.045: 100%|██████████| 10/10 [00:06<00:00,  1.64it/s]\n"
          ]
        },
        {
          "name": "stdout",
          "output_type": "stream",
          "text": [
            "The 48 Communcation Accuracy: 55.505 Method: fedavg\n",
            "[96.71, 85.45, 10.11, 29.75]\n"
          ]
        },
        {
          "name": "stderr",
          "output_type": "stream",
          "text": [
            "Local Pariticipant 7 loss = 0.018: 100%|██████████| 10/10 [00:00<00:00, 15.48it/s]\n",
            "Local Pariticipant 0 loss = 0.000: 100%|██████████| 10/10 [00:06<00:00,  1.62it/s]\n",
            "Local Pariticipant 4 loss = 0.062: 100%|██████████| 10/10 [00:00<00:00, 16.28it/s]\n",
            "Local Pariticipant 3 loss = 0.004: 100%|██████████| 10/10 [00:05<00:00,  1.68it/s]\n",
            "Local Pariticipant 8 loss = 0.057: 100%|██████████| 10/10 [00:00<00:00, 12.44it/s]\n",
            "Local Pariticipant 9 loss = 0.089: 100%|██████████| 10/10 [00:00<00:00, 16.14it/s]\n",
            "Local Pariticipant 5 loss = 0.028: 100%|██████████| 10/10 [00:00<00:00, 15.84it/s]\n",
            "Local Pariticipant 6 loss = 0.043: 100%|██████████| 10/10 [00:00<00:00, 16.17it/s]\n",
            "Local Pariticipant 1 loss = 0.032: 100%|██████████| 10/10 [00:00<00:00, 16.01it/s]\n",
            "Local Pariticipant 2 loss = 0.017: 100%|██████████| 10/10 [00:00<00:00, 12.68it/s]\n"
          ]
        },
        {
          "name": "stdout",
          "output_type": "stream",
          "text": [
            "The 49 Communcation Accuracy: 56.46 Method: fedavg\n",
            "[96.96, 87.59, 10.29, 31.0]\n"
          ]
        }
      ],
      "source": [
        "%run \"main.py\" --model fedavg --dataset fl_digits"
      ]
    },
    {
      "cell_type": "code",
      "execution_count": null,
      "metadata": {
        "id": "-jpNAdqsAyJz",
        "outputId": "e44e334a-6adf-4dc8-89f1-0e4c379fbaf0"
      },
      "outputs": [
        {
          "name": "stdout",
          "output_type": "stream",
          "text": [
            "fpl_10_fl_digits_50_10\n",
            "./data/fl_digits/fpl\\para1\n",
            "{'mnist': 2, 'syn': 6, 'usps': 2}\n",
            "['mnist' 'syn' 'usps' 'mnist' 'syn' 'syn' 'syn' 'syn' 'usps' 'syn']\n",
            "Using downloaded and verified file: D:/doan/RethinkFL/pls/test_32x32.mat\n"
          ]
        },
        {
          "name": "stderr",
          "output_type": "stream",
          "text": [
            "Local Pariticipant 9 CE = 1.429,InfoNCE = 0.000: 100%|██████████| 10/10 [00:00<00:00, 15.23it/s]\n",
            "Local Pariticipant 8 CE = 0.938,InfoNCE = 0.000: 100%|██████████| 10/10 [00:00<00:00, 12.46it/s]\n",
            "Local Pariticipant 4 CE = 1.589,InfoNCE = 0.000: 100%|██████████| 10/10 [00:00<00:00, 16.11it/s]\n",
            "Local Pariticipant 2 CE = 1.599,InfoNCE = 0.000: 100%|██████████| 10/10 [00:00<00:00, 12.99it/s]\n",
            "Local Pariticipant 3 CE = 0.368,InfoNCE = 0.000: 100%|██████████| 10/10 [00:06<00:00,  1.65it/s]\n",
            "Local Pariticipant 1 CE = 1.654,InfoNCE = 0.000: 100%|██████████| 10/10 [00:00<00:00, 16.31it/s]\n",
            "Local Pariticipant 0 CE = 0.581,InfoNCE = 0.000: 100%|██████████| 10/10 [00:05<00:00,  1.67it/s]\n",
            "Local Pariticipant 6 CE = 1.575,InfoNCE = 0.000: 100%|██████████| 10/10 [00:00<00:00, 15.91it/s]\n",
            "Local Pariticipant 5 CE = 1.624,InfoNCE = 0.000: 100%|██████████| 10/10 [00:00<00:00, 16.31it/s]\n",
            "Local Pariticipant 7 CE = 1.637,InfoNCE = 0.000: 100%|██████████| 10/10 [00:00<00:00, 13.71it/s]\n"
          ]
        },
        {
          "name": "stdout",
          "output_type": "stream",
          "text": [
            "Partition 0: 3 clusters\n",
            "Partition 0: 2 clusters\n",
            "Partition 0: 4 clusters\n",
            "Partition 0: 3 clusters\n",
            "Partition 0: 2 clusters\n",
            "Partition 0: 2 clusters\n",
            "Partition 0: 2 clusters\n",
            "Partition 0: 2 clusters\n",
            "Partition 0: 2 clusters\n",
            "Partition 0: 3 clusters\n",
            "The 0 Communcation Accuracy: 13.218 Method: fpl\n",
            "[11.35, 13.15, 18.37, 10.0]\n"
          ]
        },
        {
          "name": "stderr",
          "output_type": "stream",
          "text": [
            "Local Pariticipant 5 CE = 1.129,InfoNCE = 1.361: 100%|██████████| 10/10 [00:01<00:00,  5.06it/s]\n",
            "Local Pariticipant 1 CE = 1.346,InfoNCE = 1.555: 100%|██████████| 10/10 [00:02<00:00,  4.67it/s]\n",
            "Local Pariticipant 7 CE = 0.816,InfoNCE = 1.041: 100%|██████████| 10/10 [00:02<00:00,  4.91it/s]\n",
            "Local Pariticipant 8 CE = 0.634,InfoNCE = 0.469: 100%|██████████| 10/10 [00:02<00:00,  3.47it/s]\n",
            "Local Pariticipant 0 CE = 0.110,InfoNCE = 0.187: 100%|██████████| 10/10 [00:23<00:00,  2.37s/it]\n",
            "Local Pariticipant 3 CE = 0.500,InfoNCE = 0.479: 100%|██████████| 10/10 [00:23<00:00,  2.38s/it]\n",
            "Local Pariticipant 4 CE = 1.106,InfoNCE = 1.443: 100%|██████████| 10/10 [00:01<00:00,  5.02it/s]\n",
            "Local Pariticipant 6 CE = 1.106,InfoNCE = 1.386: 100%|██████████| 10/10 [00:01<00:00,  5.12it/s]\n",
            "Local Pariticipant 9 CE = 1.065,InfoNCE = 1.291: 100%|██████████| 10/10 [00:01<00:00,  5.20it/s]\n",
            "Local Pariticipant 2 CE = 0.674,InfoNCE = 0.780: 100%|██████████| 10/10 [00:02<00:00,  3.50it/s]\n"
          ]
        },
        {
          "name": "stdout",
          "output_type": "stream",
          "text": [
            "Partition 0: 3 clusters\n",
            "Partition 0: 2 clusters\n",
            "Partition 0: 2 clusters\n",
            "Partition 0: 2 clusters\n",
            "Partition 0: 3 clusters\n",
            "Partition 0: 2 clusters\n",
            "Partition 0: 1 clusters\n",
            "Partition 0: 3 clusters\n",
            "Partition 0: 2 clusters\n",
            "Partition 0: 1 clusters\n",
            "The 1 Communcation Accuracy: 21.44 Method: fpl\n",
            "[31.35, 25.71, 12.95, 15.75]\n"
          ]
        },
        {
          "name": "stderr",
          "output_type": "stream",
          "text": [
            "Local Pariticipant 6 CE = 0.910,InfoNCE = 1.022: 100%|██████████| 10/10 [00:01<00:00,  5.11it/s]\n",
            "Local Pariticipant 1 CE = 0.986,InfoNCE = 0.985: 100%|██████████| 10/10 [00:01<00:00,  5.13it/s]\n",
            "Local Pariticipant 7 CE = 0.718,InfoNCE = 0.837: 100%|██████████| 10/10 [00:01<00:00,  5.11it/s]\n",
            "Local Pariticipant 3 CE = 0.098,InfoNCE = 0.203: 100%|██████████| 10/10 [00:23<00:00,  2.34s/it]\n",
            "Local Pariticipant 2 CE = 0.308,InfoNCE = 0.645: 100%|██████████| 10/10 [00:02<00:00,  3.38it/s]\n",
            "Local Pariticipant 4 CE = 0.785,InfoNCE = 0.921: 100%|██████████| 10/10 [00:01<00:00,  5.16it/s]\n",
            "Local Pariticipant 0 CE = 0.149,InfoNCE = 0.254: 100%|██████████| 10/10 [00:23<00:00,  2.31s/it]\n",
            "Local Pariticipant 8 CE = 0.144,InfoNCE = 0.191: 100%|██████████| 10/10 [00:02<00:00,  3.60it/s]\n",
            "Local Pariticipant 5 CE = 1.206,InfoNCE = 1.417: 100%|██████████| 10/10 [00:01<00:00,  5.05it/s]\n",
            "Local Pariticipant 9 CE = 0.992,InfoNCE = 1.256: 100%|██████████| 10/10 [00:01<00:00,  5.05it/s]\n"
          ]
        },
        {
          "name": "stdout",
          "output_type": "stream",
          "text": [
            "Partition 0: 1 clusters\n",
            "Partition 0: 2 clusters\n",
            "Partition 0: 2 clusters\n",
            "Partition 0: 3 clusters\n",
            "Partition 0: 2 clusters\n",
            "Partition 0: 2 clusters\n",
            "Partition 0: 2 clusters\n",
            "Partition 0: 3 clusters\n",
            "Partition 0: 2 clusters\n",
            "Partition 0: 3 clusters\n",
            "The 2 Communcation Accuracy: 38.755 Method: fpl\n",
            "[85.68, 45.79, 7.63, 15.92]\n"
          ]
        },
        {
          "name": "stderr",
          "output_type": "stream",
          "text": [
            "Local Pariticipant 8 CE = 0.556,InfoNCE = 0.790: 100%|██████████| 10/10 [00:02<00:00,  3.55it/s]\n",
            "Local Pariticipant 2 CE = 0.715,InfoNCE = 0.547: 100%|██████████| 10/10 [00:02<00:00,  3.63it/s]\n",
            "Local Pariticipant 4 CE = 0.562,InfoNCE = 0.683: 100%|██████████| 10/10 [00:01<00:00,  5.04it/s]\n",
            "Local Pariticipant 0 CE = 0.046,InfoNCE = 0.083: 100%|██████████| 10/10 [00:23<00:00,  2.34s/it]\n",
            "Local Pariticipant 3 CE = 0.025,InfoNCE = 0.093: 100%|██████████| 10/10 [00:22<00:00,  2.28s/it]\n",
            "Local Pariticipant 6 CE = 0.830,InfoNCE = 0.879: 100%|██████████| 10/10 [00:01<00:00,  5.26it/s]\n",
            "Local Pariticipant 5 CE = 0.645,InfoNCE = 0.862: 100%|██████████| 10/10 [00:01<00:00,  5.30it/s]\n",
            "Local Pariticipant 7 CE = 0.485,InfoNCE = 0.585: 100%|██████████| 10/10 [00:02<00:00,  4.79it/s]\n",
            "Local Pariticipant 9 CE = 0.464,InfoNCE = 0.587: 100%|██████████| 10/10 [00:01<00:00,  5.20it/s]\n",
            "Local Pariticipant 1 CE = 0.711,InfoNCE = 0.792: 100%|██████████| 10/10 [00:01<00:00,  5.31it/s]\n"
          ]
        },
        {
          "name": "stdout",
          "output_type": "stream",
          "text": [
            "Partition 0: 1 clusters\n",
            "Partition 0: 2 clusters\n",
            "Partition 0: 2 clusters\n",
            "Partition 0: 2 clusters\n",
            "Partition 0: 1 clusters\n",
            "Partition 0: 2 clusters\n",
            "Partition 0: 2 clusters\n",
            "Partition 0: 3 clusters\n",
            "Partition 0: 3 clusters\n",
            "Partition 0: 2 clusters\n",
            "The 3 Communcation Accuracy: 44.595 Method: fpl\n",
            "[92.61, 58.74, 8.2, 18.83]\n"
          ]
        },
        {
          "name": "stderr",
          "output_type": "stream",
          "text": [
            "Local Pariticipant 0 CE = 0.053,InfoNCE = 0.099: 100%|██████████| 10/10 [00:22<00:00,  2.30s/it]\n",
            "Local Pariticipant 3 CE = 0.022,InfoNCE = 0.076: 100%|██████████| 10/10 [00:22<00:00,  2.28s/it]\n",
            "Local Pariticipant 8 CE = 0.486,InfoNCE = 0.687: 100%|██████████| 10/10 [00:02<00:00,  3.69it/s]\n",
            "Local Pariticipant 9 CE = 0.536,InfoNCE = 0.629: 100%|██████████| 10/10 [00:01<00:00,  5.22it/s]\n",
            "Local Pariticipant 6 CE = 0.446,InfoNCE = 0.526: 100%|██████████| 10/10 [00:01<00:00,  5.27it/s]\n",
            "Local Pariticipant 2 CE = 0.235,InfoNCE = 0.398: 100%|██████████| 10/10 [00:02<00:00,  3.46it/s]\n",
            "Local Pariticipant 5 CE = 0.486,InfoNCE = 0.547: 100%|██████████| 10/10 [00:01<00:00,  5.21it/s]\n",
            "Local Pariticipant 1 CE = 0.646,InfoNCE = 0.756: 100%|██████████| 10/10 [00:01<00:00,  5.19it/s]\n",
            "Local Pariticipant 7 CE = 0.270,InfoNCE = 0.358: 100%|██████████| 10/10 [00:01<00:00,  5.25it/s]\n",
            "Local Pariticipant 4 CE = 0.585,InfoNCE = 0.652: 100%|██████████| 10/10 [00:01<00:00,  5.17it/s]\n"
          ]
        },
        {
          "name": "stdout",
          "output_type": "stream",
          "text": [
            "Partition 0: 3 clusters\n",
            "Partition 0: 2 clusters\n",
            "Partition 0: 2 clusters\n",
            "Partition 0: 3 clusters\n",
            "Partition 0: 1 clusters\n",
            "Partition 0: 2 clusters\n",
            "Partition 0: 2 clusters\n",
            "Partition 0: 2 clusters\n",
            "Partition 0: 3 clusters\n",
            "Partition 0: 2 clusters\n",
            "The 4 Communcation Accuracy: 45.972 Method: fpl\n",
            "[94.41, 61.88, 8.02, 19.58]\n"
          ]
        },
        {
          "name": "stderr",
          "output_type": "stream",
          "text": [
            "Local Pariticipant 9 CE = 0.662,InfoNCE = 0.765: 100%|██████████| 10/10 [00:01<00:00,  5.22it/s]\n",
            "Local Pariticipant 5 CE = 0.483,InfoNCE = 0.573: 100%|██████████| 10/10 [00:01<00:00,  5.18it/s]\n",
            "Local Pariticipant 1 CE = 0.484,InfoNCE = 0.538: 100%|██████████| 10/10 [00:01<00:00,  5.18it/s]\n",
            "Local Pariticipant 8 CE = 0.416,InfoNCE = 0.590: 100%|██████████| 10/10 [00:02<00:00,  3.46it/s]\n",
            "Local Pariticipant 3 CE = 0.019,InfoNCE = 0.064: 100%|██████████| 10/10 [00:22<00:00,  2.29s/it]\n",
            "Local Pariticipant 6 CE = 0.306,InfoNCE = 0.436: 100%|██████████| 10/10 [00:01<00:00,  5.07it/s]\n",
            "Local Pariticipant 7 CE = 0.353,InfoNCE = 0.405: 100%|██████████| 10/10 [00:01<00:00,  5.12it/s]\n",
            "Local Pariticipant 2 CE = 0.608,InfoNCE = 0.574: 100%|██████████| 10/10 [00:02<00:00,  3.56it/s]\n",
            "Local Pariticipant 0 CE = 0.062,InfoNCE = 0.133: 100%|██████████| 10/10 [00:23<00:00,  2.33s/it]\n",
            "Local Pariticipant 4 CE = 0.493,InfoNCE = 0.633: 100%|██████████| 10/10 [00:01<00:00,  5.06it/s]\n"
          ]
        },
        {
          "name": "stdout",
          "output_type": "stream",
          "text": [
            "Partition 0: 1 clusters\n",
            "Partition 0: 3 clusters\n",
            "Partition 0: 2 clusters\n",
            "Partition 0: 2 clusters\n",
            "Partition 0: 2 clusters\n",
            "Partition 0: 2 clusters\n",
            "Partition 0: 2 clusters\n",
            "Partition 0: 2 clusters\n",
            "Partition 0: 2 clusters\n",
            "Partition 0: 2 clusters\n",
            "The 5 Communcation Accuracy: 47.892 Method: fpl\n",
            "[95.36, 60.34, 9.04, 26.83]\n"
          ]
        },
        {
          "name": "stderr",
          "output_type": "stream",
          "text": [
            "Local Pariticipant 9 CE = 0.307,InfoNCE = 0.383: 100%|██████████| 10/10 [00:01<00:00,  5.24it/s]\n",
            "Local Pariticipant 7 CE = 0.395,InfoNCE = 0.449: 100%|██████████| 10/10 [00:01<00:00,  5.19it/s]\n",
            "Local Pariticipant 4 CE = 0.387,InfoNCE = 0.479: 100%|██████████| 10/10 [00:01<00:00,  5.10it/s]\n",
            "Local Pariticipant 3 CE = 0.064,InfoNCE = 0.107: 100%|██████████| 10/10 [00:22<00:00,  2.30s/it]\n",
            "Local Pariticipant 0 CE = 0.032,InfoNCE = 0.072: 100%|██████████| 10/10 [00:22<00:00,  2.27s/it]\n",
            "Local Pariticipant 5 CE = 0.483,InfoNCE = 0.577: 100%|██████████| 10/10 [00:01<00:00,  5.22it/s]\n",
            "Local Pariticipant 6 CE = 0.344,InfoNCE = 0.423: 100%|██████████| 10/10 [00:01<00:00,  5.25it/s]\n",
            "Local Pariticipant 1 CE = 0.363,InfoNCE = 0.452: 100%|██████████| 10/10 [00:01<00:00,  5.26it/s]\n",
            "Local Pariticipant 2 CE = 0.424,InfoNCE = 0.420: 100%|██████████| 10/10 [00:02<00:00,  3.68it/s]\n",
            "Local Pariticipant 8 CE = 0.092,InfoNCE = 0.426: 100%|██████████| 10/10 [00:02<00:00,  3.66it/s]\n"
          ]
        },
        {
          "name": "stdout",
          "output_type": "stream",
          "text": [
            "Partition 0: 3 clusters\n",
            "Partition 0: 2 clusters\n",
            "Partition 0: 1 clusters\n",
            "Partition 0: 2 clusters\n",
            "Partition 0: 2 clusters\n",
            "Partition 0: 2 clusters\n",
            "Partition 0: 2 clusters\n",
            "Partition 0: 2 clusters\n",
            "Partition 0: 2 clusters\n",
            "Partition 0: 1 clusters\n",
            "The 6 Communcation Accuracy: 49.398 Method: fpl\n",
            "[95.33, 66.92, 10.09, 25.25]\n"
          ]
        },
        {
          "name": "stderr",
          "output_type": "stream",
          "text": [
            "Local Pariticipant 3 CE = 0.109,InfoNCE = 0.137: 100%|██████████| 10/10 [00:22<00:00,  2.30s/it]\n",
            "Local Pariticipant 7 CE = 0.284,InfoNCE = 0.433: 100%|██████████| 10/10 [00:01<00:00,  5.15it/s]\n",
            "Local Pariticipant 1 CE = 0.222,InfoNCE = 0.328: 100%|██████████| 10/10 [00:01<00:00,  5.09it/s]\n",
            "Local Pariticipant 4 CE = 0.317,InfoNCE = 0.393: 100%|██████████| 10/10 [00:01<00:00,  5.24it/s]\n",
            "Local Pariticipant 2 CE = 0.464,InfoNCE = 0.213: 100%|██████████| 10/10 [00:02<00:00,  3.60it/s]\n",
            "Local Pariticipant 0 CE = 0.061,InfoNCE = 0.097: 100%|██████████| 10/10 [00:22<00:00,  2.29s/it]\n",
            "Local Pariticipant 9 CE = 0.307,InfoNCE = 0.301: 100%|██████████| 10/10 [00:01<00:00,  5.17it/s]\n",
            "Local Pariticipant 8 CE = 0.826,InfoNCE = 0.452: 100%|██████████| 10/10 [00:02<00:00,  3.62it/s]\n",
            "Local Pariticipant 5 CE = 0.468,InfoNCE = 0.623: 100%|██████████| 10/10 [00:02<00:00,  4.84it/s]\n",
            "Local Pariticipant 6 CE = 0.325,InfoNCE = 0.350: 100%|██████████| 10/10 [00:02<00:00,  4.62it/s]\n"
          ]
        },
        {
          "name": "stdout",
          "output_type": "stream",
          "text": [
            "Partition 0: 2 clusters\n",
            "Partition 0: 3 clusters\n",
            "Partition 0: 2 clusters\n",
            "Partition 0: 2 clusters\n",
            "Partition 0: 1 clusters\n",
            "Partition 0: 2 clusters\n",
            "Partition 0: 3 clusters\n",
            "Partition 0: 1 clusters\n",
            "Partition 0: 2 clusters\n",
            "Partition 0: 1 clusters\n",
            "The 7 Communcation Accuracy: 49.898 Method: fpl\n",
            "[94.12, 66.67, 9.8, 29.0]\n"
          ]
        },
        {
          "name": "stderr",
          "output_type": "stream",
          "text": [
            "Local Pariticipant 7 CE = 0.310,InfoNCE = 0.345: 100%|██████████| 10/10 [00:02<00:00,  4.58it/s]\n",
            "Local Pariticipant 0 CE = 0.084,InfoNCE = 0.150: 100%|██████████| 10/10 [00:24<00:00,  2.41s/it]\n",
            "Local Pariticipant 8 CE = 0.400,InfoNCE = 0.330: 100%|██████████| 10/10 [00:02<00:00,  3.64it/s]\n",
            "Local Pariticipant 3 CE = 0.021,InfoNCE = 0.056: 100%|██████████| 10/10 [00:23<00:00,  2.32s/it]\n",
            "Local Pariticipant 4 CE = 0.623,InfoNCE = 0.588: 100%|██████████| 10/10 [00:01<00:00,  5.11it/s]\n",
            "Local Pariticipant 5 CE = 0.274,InfoNCE = 0.424: 100%|██████████| 10/10 [00:01<00:00,  5.25it/s]\n",
            "Local Pariticipant 1 CE = 0.205,InfoNCE = 0.316: 100%|██████████| 10/10 [00:02<00:00,  4.70it/s]\n",
            "Local Pariticipant 6 CE = 0.238,InfoNCE = 0.325: 100%|██████████| 10/10 [00:01<00:00,  5.19it/s]\n",
            "Local Pariticipant 9 CE = 0.278,InfoNCE = 0.281: 100%|██████████| 10/10 [00:01<00:00,  5.16it/s]\n",
            "Local Pariticipant 2 CE = 1.110,InfoNCE = 1.189: 100%|██████████| 10/10 [00:02<00:00,  3.58it/s]\n"
          ]
        },
        {
          "name": "stdout",
          "output_type": "stream",
          "text": [
            "Partition 0: 2 clusters\n",
            "Partition 0: 1 clusters\n",
            "Partition 0: 2 clusters\n",
            "Partition 0: 2 clusters\n",
            "Partition 0: 2 clusters\n",
            "Partition 0: 1 clusters\n",
            "Partition 0: 2 clusters\n",
            "Partition 0: 1 clusters\n",
            "Partition 0: 2 clusters\n",
            "Partition 0: 2 clusters\n",
            "The 8 Communcation Accuracy: 51.005 Method: fpl\n",
            "[96.66, 68.91, 9.62, 28.83]\n"
          ]
        },
        {
          "name": "stderr",
          "output_type": "stream",
          "text": [
            "Local Pariticipant 8 CE = 0.513,InfoNCE = 0.579: 100%|██████████| 10/10 [00:02<00:00,  3.53it/s]\n",
            "Local Pariticipant 0 CE = 0.026,InfoNCE = 0.050: 100%|██████████| 10/10 [00:23<00:00,  2.35s/it]\n",
            "Local Pariticipant 2 CE = 0.635,InfoNCE = 0.760: 100%|██████████| 10/10 [00:02<00:00,  3.48it/s]\n",
            "Local Pariticipant 4 CE = 0.236,InfoNCE = 0.269: 100%|██████████| 10/10 [00:02<00:00,  4.98it/s]\n",
            "Local Pariticipant 3 CE = 0.010,InfoNCE = 0.040: 100%|██████████| 10/10 [00:23<00:00,  2.35s/it]\n",
            "Local Pariticipant 5 CE = 0.199,InfoNCE = 0.258: 100%|██████████| 10/10 [00:01<00:00,  5.05it/s]\n",
            "Local Pariticipant 9 CE = 0.195,InfoNCE = 0.289: 100%|██████████| 10/10 [00:01<00:00,  5.13it/s]\n",
            "Local Pariticipant 1 CE = 0.279,InfoNCE = 0.430: 100%|██████████| 10/10 [00:01<00:00,  5.15it/s]\n",
            "Local Pariticipant 7 CE = 0.212,InfoNCE = 0.291: 100%|██████████| 10/10 [00:02<00:00,  4.58it/s]\n",
            "Local Pariticipant 6 CE = 0.256,InfoNCE = 0.355: 100%|██████████| 10/10 [00:02<00:00,  4.99it/s]\n"
          ]
        },
        {
          "name": "stdout",
          "output_type": "stream",
          "text": [
            "Partition 0: 2 clusters\n",
            "Partition 0: 1 clusters\n",
            "Partition 0: 2 clusters\n",
            "Partition 0: 2 clusters\n",
            "Partition 0: 1 clusters\n",
            "Partition 0: 1 clusters\n",
            "Partition 0: 3 clusters\n",
            "Partition 0: 1 clusters\n",
            "Partition 0: 2 clusters\n",
            "Partition 0: 2 clusters\n",
            "The 9 Communcation Accuracy: 50.198 Method: fpl\n",
            "[96.07, 67.86, 9.61, 27.25]\n"
          ]
        },
        {
          "name": "stderr",
          "output_type": "stream",
          "text": [
            "Local Pariticipant 8 CE = 0.012,InfoNCE = 0.070: 100%|██████████| 10/10 [00:03<00:00,  3.32it/s]\n",
            "Local Pariticipant 7 CE = 0.269,InfoNCE = 0.296: 100%|██████████| 10/10 [00:01<00:00,  5.15it/s]\n",
            "Local Pariticipant 5 CE = 0.376,InfoNCE = 0.466: 100%|██████████| 10/10 [00:01<00:00,  5.02it/s]\n",
            "Local Pariticipant 3 CE = 0.008,InfoNCE = 0.033: 100%|██████████| 10/10 [00:22<00:00,  2.29s/it]\n",
            "Local Pariticipant 9 CE = 0.107,InfoNCE = 0.168: 100%|██████████| 10/10 [00:01<00:00,  5.17it/s]\n",
            "Local Pariticipant 1 CE = 0.147,InfoNCE = 0.231: 100%|██████████| 10/10 [00:01<00:00,  5.14it/s]\n",
            "Local Pariticipant 6 CE = 0.147,InfoNCE = 0.238: 100%|██████████| 10/10 [00:01<00:00,  5.08it/s]\n",
            "Local Pariticipant 0 CE = 0.008,InfoNCE = 0.041: 100%|██████████| 10/10 [00:23<00:00,  2.32s/it]\n",
            "Local Pariticipant 2 CE = 0.170,InfoNCE = 0.229: 100%|██████████| 10/10 [00:02<00:00,  3.59it/s]\n",
            "Local Pariticipant 4 CE = 0.197,InfoNCE = 0.301: 100%|██████████| 10/10 [00:01<00:00,  5.06it/s]\n"
          ]
        },
        {
          "name": "stdout",
          "output_type": "stream",
          "text": [
            "Partition 0: 1 clusters\n",
            "Partition 0: 3 clusters\n",
            "Partition 0: 3 clusters\n",
            "Partition 0: 2 clusters\n",
            "Partition 0: 2 clusters\n",
            "Partition 0: 2 clusters\n",
            "Partition 0: 1 clusters\n",
            "Partition 0: 1 clusters\n",
            "Partition 0: 2 clusters\n",
            "Partition 0: 1 clusters\n",
            "The 10 Communcation Accuracy: 53.29 Method: fpl\n",
            "[96.9, 75.04, 10.39, 30.83]\n"
          ]
        },
        {
          "name": "stderr",
          "output_type": "stream",
          "text": [
            "Local Pariticipant 6 CE = 0.161,InfoNCE = 0.224: 100%|██████████| 10/10 [00:01<00:00,  5.01it/s]\n",
            "Local Pariticipant 3 CE = 0.010,InfoNCE = 0.039: 100%|██████████| 10/10 [00:23<00:00,  2.34s/it]\n",
            "Local Pariticipant 5 CE = 0.164,InfoNCE = 0.210: 100%|██████████| 10/10 [00:02<00:00,  4.91it/s]\n",
            "Local Pariticipant 4 CE = 0.313,InfoNCE = 0.375: 100%|██████████| 10/10 [00:01<00:00,  5.13it/s]\n",
            "Local Pariticipant 9 CE = 0.158,InfoNCE = 0.269: 100%|██████████| 10/10 [00:02<00:00,  4.49it/s]\n",
            "Local Pariticipant 0 CE = 0.014,InfoNCE = 0.033: 100%|██████████| 10/10 [00:23<00:00,  2.33s/it]\n",
            "Local Pariticipant 2 CE = 0.733,InfoNCE = 0.837: 100%|██████████| 10/10 [00:02<00:00,  3.52it/s]\n",
            "Local Pariticipant 8 CE = 0.228,InfoNCE = 0.351: 100%|██████████| 10/10 [00:02<00:00,  3.57it/s]\n",
            "Local Pariticipant 7 CE = 0.116,InfoNCE = 0.207: 100%|██████████| 10/10 [00:01<00:00,  5.10it/s]\n",
            "Local Pariticipant 1 CE = 0.243,InfoNCE = 0.330: 100%|██████████| 10/10 [00:01<00:00,  5.05it/s]\n"
          ]
        },
        {
          "name": "stdout",
          "output_type": "stream",
          "text": [
            "Partition 0: 1 clusters\n",
            "Partition 0: 2 clusters\n",
            "Partition 0: 2 clusters\n",
            "Partition 0: 2 clusters\n",
            "Partition 0: 1 clusters\n",
            "Partition 0: 2 clusters\n",
            "Partition 0: 1 clusters\n",
            "Partition 0: 1 clusters\n",
            "Partition 0: 2 clusters\n",
            "Partition 0: 1 clusters\n",
            "The 11 Communcation Accuracy: 54.372 Method: fpl\n",
            "[97.11, 79.62, 11.09, 29.67]\n"
          ]
        },
        {
          "name": "stderr",
          "output_type": "stream",
          "text": [
            "Local Pariticipant 7 CE = 0.100,InfoNCE = 0.168: 100%|██████████| 10/10 [00:02<00:00,  4.80it/s]\n",
            "Local Pariticipant 1 CE = 0.265,InfoNCE = 0.322: 100%|██████████| 10/10 [00:01<00:00,  5.13it/s]\n",
            "Local Pariticipant 8 CE = 0.911,InfoNCE = 0.739: 100%|██████████| 10/10 [00:02<00:00,  3.35it/s]\n",
            "Local Pariticipant 6 CE = 0.157,InfoNCE = 0.213: 100%|██████████| 10/10 [00:02<00:00,  4.92it/s]\n",
            "Local Pariticipant 3 CE = 0.008,InfoNCE = 0.031: 100%|██████████| 10/10 [00:23<00:00,  2.35s/it]\n",
            "Local Pariticipant 4 CE = 0.170,InfoNCE = 0.192: 100%|██████████| 10/10 [00:01<00:00,  5.12it/s]\n",
            "Local Pariticipant 9 CE = 0.127,InfoNCE = 0.157: 100%|██████████| 10/10 [00:01<00:00,  5.15it/s]\n",
            "Local Pariticipant 2 CE = 0.279,InfoNCE = 0.497: 100%|██████████| 10/10 [00:02<00:00,  3.61it/s]\n",
            "Local Pariticipant 0 CE = 0.012,InfoNCE = 0.036: 100%|██████████| 10/10 [00:23<00:00,  2.31s/it]\n",
            "Local Pariticipant 5 CE = 0.222,InfoNCE = 0.300: 100%|██████████| 10/10 [00:01<00:00,  5.09it/s]\n"
          ]
        },
        {
          "name": "stdout",
          "output_type": "stream",
          "text": [
            "Partition 0: 1 clusters\n",
            "Partition 0: 3 clusters\n",
            "Partition 0: 3 clusters\n",
            "Partition 0: 1 clusters\n",
            "Partition 0: 2 clusters\n",
            "Partition 0: 3 clusters\n",
            "Partition 0: 2 clusters\n",
            "Partition 0: 2 clusters\n",
            "Partition 0: 3 clusters\n",
            "Partition 0: 1 clusters\n",
            "The 12 Communcation Accuracy: 51.99 Method: fpl\n",
            "[96.03, 72.6, 9.16, 30.17]\n"
          ]
        },
        {
          "name": "stderr",
          "output_type": "stream",
          "text": [
            "Local Pariticipant 1 CE = 0.141,InfoNCE = 0.203: 100%|██████████| 10/10 [00:01<00:00,  5.17it/s]\n",
            "Local Pariticipant 6 CE = 0.159,InfoNCE = 0.226: 100%|██████████| 10/10 [00:01<00:00,  5.06it/s]\n",
            "Local Pariticipant 2 CE = 0.896,InfoNCE = 0.599: 100%|██████████| 10/10 [00:03<00:00,  3.30it/s]\n",
            "Local Pariticipant 3 CE = 0.025,InfoNCE = 0.062: 100%|██████████| 10/10 [00:23<00:00,  2.33s/it]\n",
            "Local Pariticipant 8 CE = 1.133,InfoNCE = 0.883: 100%|██████████| 10/10 [00:03<00:00,  3.26it/s]\n",
            "Local Pariticipant 0 CE = 0.013,InfoNCE = 0.043: 100%|██████████| 10/10 [00:23<00:00,  2.31s/it]\n",
            "Local Pariticipant 7 CE = 0.152,InfoNCE = 0.202: 100%|██████████| 10/10 [00:02<00:00,  4.54it/s]\n",
            "Local Pariticipant 9 CE = 0.105,InfoNCE = 0.177: 100%|██████████| 10/10 [00:01<00:00,  5.12it/s]\n",
            "Local Pariticipant 5 CE = 0.120,InfoNCE = 0.210: 100%|██████████| 10/10 [00:01<00:00,  5.17it/s]\n",
            "Local Pariticipant 4 CE = 0.207,InfoNCE = 0.300: 100%|██████████| 10/10 [00:01<00:00,  5.19it/s]\n"
          ]
        },
        {
          "name": "stdout",
          "output_type": "stream",
          "text": [
            "Partition 0: 2 clusters\n",
            "Partition 0: 2 clusters\n",
            "Partition 0: 2 clusters\n",
            "Partition 0: 1 clusters\n",
            "Partition 0: 1 clusters\n",
            "Partition 0: 1 clusters\n",
            "Partition 0: 2 clusters\n",
            "Partition 0: 1 clusters\n",
            "Partition 0: 3 clusters\n",
            "Partition 0: 1 clusters\n",
            "The 13 Communcation Accuracy: 52.89 Method: fpl\n",
            "[96.72, 75.24, 9.27, 30.33]\n"
          ]
        },
        {
          "name": "stderr",
          "output_type": "stream",
          "text": [
            "Local Pariticipant 9 CE = 0.199,InfoNCE = 0.221: 100%|██████████| 10/10 [00:02<00:00,  4.73it/s]\n",
            "Local Pariticipant 1 CE = 0.162,InfoNCE = 0.219: 100%|██████████| 10/10 [00:02<00:00,  4.96it/s]\n",
            "Local Pariticipant 7 CE = 0.195,InfoNCE = 0.292: 100%|██████████| 10/10 [00:01<00:00,  5.07it/s]\n",
            "Local Pariticipant 2 CE = 0.178,InfoNCE = 0.587: 100%|██████████| 10/10 [00:02<00:00,  3.53it/s]\n",
            "Local Pariticipant 3 CE = 0.010,InfoNCE = 0.032: 100%|██████████| 10/10 [00:23<00:00,  2.35s/it]\n",
            "Local Pariticipant 4 CE = 0.181,InfoNCE = 0.218: 100%|██████████| 10/10 [00:01<00:00,  5.05it/s]\n",
            "Local Pariticipant 5 CE = 0.169,InfoNCE = 0.222: 100%|██████████| 10/10 [00:01<00:00,  5.20it/s]\n",
            "Local Pariticipant 8 CE = 0.028,InfoNCE = 0.073: 100%|██████████| 10/10 [00:02<00:00,  3.61it/s]\n",
            "Local Pariticipant 0 CE = 0.004,InfoNCE = 0.026: 100%|██████████| 10/10 [00:23<00:00,  2.34s/it]\n",
            "Local Pariticipant 6 CE = 0.303,InfoNCE = 0.361: 100%|██████████| 10/10 [00:01<00:00,  5.14it/s]\n"
          ]
        },
        {
          "name": "stdout",
          "output_type": "stream",
          "text": [
            "Partition 0: 1 clusters\n",
            "Partition 0: 1 clusters\n",
            "Partition 0: 2 clusters\n",
            "Partition 0: 2 clusters\n",
            "Partition 0: 2 clusters\n",
            "Partition 0: 2 clusters\n",
            "Partition 0: 1 clusters\n",
            "Partition 0: 1 clusters\n",
            "Partition 0: 3 clusters\n",
            "Partition 0: 1 clusters\n",
            "The 14 Communcation Accuracy: 50.833 Method: fpl\n",
            "[97.14, 69.91, 8.61, 27.67]\n"
          ]
        },
        {
          "name": "stderr",
          "output_type": "stream",
          "text": [
            "Local Pariticipant 6 CE = 0.209,InfoNCE = 0.269: 100%|██████████| 10/10 [00:01<00:00,  5.06it/s]\n",
            "Local Pariticipant 7 CE = 0.095,InfoNCE = 0.156: 100%|██████████| 10/10 [00:01<00:00,  5.15it/s]\n",
            "Local Pariticipant 8 CE = 0.029,InfoNCE = 0.084: 100%|██████████| 10/10 [00:02<00:00,  3.59it/s]\n",
            "Local Pariticipant 9 CE = 0.109,InfoNCE = 0.130: 100%|██████████| 10/10 [00:01<00:00,  5.10it/s]\n",
            "Local Pariticipant 2 CE = 0.522,InfoNCE = 0.681: 100%|██████████| 10/10 [00:02<00:00,  3.63it/s]\n",
            "Local Pariticipant 5 CE = 0.243,InfoNCE = 0.309: 100%|██████████| 10/10 [00:01<00:00,  5.11it/s]\n",
            "Local Pariticipant 4 CE = 0.159,InfoNCE = 0.218: 100%|██████████| 10/10 [00:01<00:00,  5.02it/s]\n",
            "Local Pariticipant 3 CE = 0.010,InfoNCE = 0.031: 100%|██████████| 10/10 [00:23<00:00,  2.36s/it]\n",
            "Local Pariticipant 0 CE = 0.011,InfoNCE = 0.034: 100%|██████████| 10/10 [00:23<00:00,  2.34s/it]\n",
            "Local Pariticipant 1 CE = 0.215,InfoNCE = 0.261: 100%|██████████| 10/10 [00:01<00:00,  5.13it/s]\n"
          ]
        },
        {
          "name": "stdout",
          "output_type": "stream",
          "text": [
            "Partition 0: 2 clusters\n",
            "Partition 0: 2 clusters\n",
            "Partition 0: 1 clusters\n",
            "Partition 0: 2 clusters\n",
            "Partition 0: 1 clusters\n",
            "Partition 0: 1 clusters\n",
            "Partition 0: 1 clusters\n",
            "Partition 0: 2 clusters\n",
            "Partition 0: 1 clusters\n",
            "Partition 0: 2 clusters\n",
            "The 15 Communcation Accuracy: 54.538 Method: fpl\n",
            "[97.12, 80.12, 8.91, 32.0]\n"
          ]
        },
        {
          "name": "stderr",
          "output_type": "stream",
          "text": [
            "Local Pariticipant 0 CE = 0.010,InfoNCE = 0.033: 100%|██████████| 10/10 [00:23<00:00,  2.33s/it]\n",
            "Local Pariticipant 9 CE = 0.092,InfoNCE = 0.144: 100%|██████████| 10/10 [00:01<00:00,  5.12it/s]\n",
            "Local Pariticipant 3 CE = 0.008,InfoNCE = 0.031: 100%|██████████| 10/10 [00:23<00:00,  2.35s/it]\n",
            "Local Pariticipant 1 CE = 0.093,InfoNCE = 0.154: 100%|██████████| 10/10 [00:01<00:00,  5.16it/s]\n",
            "Local Pariticipant 2 CE = 1.268,InfoNCE = 1.207: 100%|██████████| 10/10 [00:02<00:00,  3.51it/s]\n",
            "Local Pariticipant 4 CE = 0.279,InfoNCE = 0.303: 100%|██████████| 10/10 [00:01<00:00,  5.05it/s]\n",
            "Local Pariticipant 6 CE = 0.147,InfoNCE = 0.201: 100%|██████████| 10/10 [00:01<00:00,  5.07it/s]\n",
            "Local Pariticipant 7 CE = 0.065,InfoNCE = 0.124: 100%|██████████| 10/10 [00:02<00:00,  4.99it/s]\n",
            "Local Pariticipant 8 CE = 0.113,InfoNCE = 0.161: 100%|██████████| 10/10 [00:02<00:00,  3.58it/s]\n",
            "Local Pariticipant 5 CE = 0.125,InfoNCE = 0.190: 100%|██████████| 10/10 [00:01<00:00,  5.13it/s]\n"
          ]
        },
        {
          "name": "stdout",
          "output_type": "stream",
          "text": [
            "Partition 0: 1 clusters\n",
            "Partition 0: 2 clusters\n",
            "Partition 0: 3 clusters\n",
            "Partition 0: 1 clusters\n",
            "Partition 0: 2 clusters\n",
            "Partition 0: 2 clusters\n",
            "Partition 0: 1 clusters\n",
            "Partition 0: 1 clusters\n",
            "Partition 0: 1 clusters\n",
            "Partition 0: 1 clusters\n",
            "The 16 Communcation Accuracy: 53.688 Method: fpl\n",
            "[97.05, 78.38, 8.74, 30.58]\n"
          ]
        },
        {
          "name": "stderr",
          "output_type": "stream",
          "text": [
            "Local Pariticipant 8 CE = 0.691,InfoNCE = 0.648: 100%|██████████| 10/10 [00:02<00:00,  3.59it/s]\n",
            "Local Pariticipant 9 CE = 0.112,InfoNCE = 0.185: 100%|██████████| 10/10 [00:01<00:00,  5.13it/s]\n",
            "Local Pariticipant 4 CE = 0.163,InfoNCE = 0.199: 100%|██████████| 10/10 [00:01<00:00,  5.13it/s]\n",
            "Local Pariticipant 0 CE = 0.006,InfoNCE = 0.031: 100%|██████████| 10/10 [00:23<00:00,  2.33s/it]\n",
            "Local Pariticipant 6 CE = 0.136,InfoNCE = 0.202: 100%|██████████| 10/10 [00:01<00:00,  5.22it/s]\n",
            "Local Pariticipant 5 CE = 0.237,InfoNCE = 0.330: 100%|██████████| 10/10 [00:01<00:00,  5.15it/s]\n",
            "Local Pariticipant 1 CE = 0.085,InfoNCE = 0.161: 100%|██████████| 10/10 [00:02<00:00,  4.61it/s]\n",
            "Local Pariticipant 3 CE = 0.008,InfoNCE = 0.029: 100%|██████████| 10/10 [00:23<00:00,  2.36s/it]\n",
            "Local Pariticipant 7 CE = 0.064,InfoNCE = 0.143: 100%|██████████| 10/10 [00:01<00:00,  5.11it/s]\n",
            "Local Pariticipant 2 CE = 0.582,InfoNCE = 0.453: 100%|██████████| 10/10 [00:03<00:00,  3.21it/s]\n"
          ]
        },
        {
          "name": "stdout",
          "output_type": "stream",
          "text": [
            "Partition 0: 1 clusters\n",
            "Partition 0: 2 clusters\n",
            "Partition 0: 1 clusters\n",
            "Partition 0: 1 clusters\n",
            "Partition 0: 3 clusters\n",
            "Partition 0: 1 clusters\n",
            "Partition 0: 3 clusters\n",
            "Partition 0: 2 clusters\n",
            "Partition 0: 1 clusters\n",
            "Partition 0: 3 clusters\n",
            "The 17 Communcation Accuracy: 55.395 Method: fpl\n",
            "[97.23, 80.57, 9.61, 34.17]\n"
          ]
        },
        {
          "name": "stderr",
          "output_type": "stream",
          "text": [
            "Local Pariticipant 8 CE = 0.822,InfoNCE = 1.280: 100%|██████████| 10/10 [00:02<00:00,  3.59it/s]\n",
            "Local Pariticipant 9 CE = 0.124,InfoNCE = 0.167: 100%|██████████| 10/10 [00:01<00:00,  5.08it/s]\n",
            "Local Pariticipant 2 CE = 0.090,InfoNCE = 0.346: 100%|██████████| 10/10 [00:02<00:00,  3.56it/s]\n",
            "Local Pariticipant 7 CE = 0.067,InfoNCE = 0.145: 100%|██████████| 10/10 [00:02<00:00,  4.99it/s]\n",
            "Local Pariticipant 0 CE = 0.005,InfoNCE = 0.026: 100%|██████████| 10/10 [00:23<00:00,  2.37s/it]\n",
            "Local Pariticipant 5 CE = 0.140,InfoNCE = 0.232: 100%|██████████| 10/10 [00:01<00:00,  5.11it/s]\n",
            "Local Pariticipant 4 CE = 0.142,InfoNCE = 0.184: 100%|██████████| 10/10 [00:01<00:00,  5.05it/s]\n",
            "Local Pariticipant 3 CE = 0.014,InfoNCE = 0.039: 100%|██████████| 10/10 [00:23<00:00,  2.31s/it]\n",
            "Local Pariticipant 6 CE = 0.123,InfoNCE = 0.204: 100%|██████████| 10/10 [00:01<00:00,  5.09it/s]\n",
            "Local Pariticipant 1 CE = 0.121,InfoNCE = 0.176: 100%|██████████| 10/10 [00:01<00:00,  5.13it/s]\n"
          ]
        },
        {
          "name": "stdout",
          "output_type": "stream",
          "text": [
            "Partition 0: 1 clusters\n",
            "Partition 0: 2 clusters\n",
            "Partition 0: 1 clusters\n",
            "Partition 0: 1 clusters\n",
            "Partition 0: 1 clusters\n",
            "Partition 0: 2 clusters\n",
            "Partition 0: 4 clusters\n",
            "Partition 0: 1 clusters\n",
            "Partition 0: 2 clusters\n",
            "Partition 0: 1 clusters\n",
            "The 18 Communcation Accuracy: 54.943 Method: fpl\n",
            "[97.14, 81.22, 8.99, 32.42]\n"
          ]
        },
        {
          "name": "stderr",
          "output_type": "stream",
          "text": [
            "Local Pariticipant 6 CE = 0.098,InfoNCE = 0.184: 100%|██████████| 10/10 [00:01<00:00,  5.10it/s]\n",
            "Local Pariticipant 7 CE = 0.092,InfoNCE = 0.151: 100%|██████████| 10/10 [00:01<00:00,  5.16it/s]\n",
            "Local Pariticipant 9 CE = 0.126,InfoNCE = 0.174: 100%|██████████| 10/10 [00:01<00:00,  5.03it/s]\n",
            "Local Pariticipant 8 CE = 0.438,InfoNCE = 0.551: 100%|██████████| 10/10 [00:02<00:00,  3.64it/s]\n",
            "Local Pariticipant 2 CE = 0.137,InfoNCE = 0.258: 100%|██████████| 10/10 [00:02<00:00,  3.58it/s]\n",
            "Local Pariticipant 1 CE = 0.093,InfoNCE = 0.154: 100%|██████████| 10/10 [00:01<00:00,  5.13it/s]\n",
            "Local Pariticipant 5 CE = 0.083,InfoNCE = 0.127: 100%|██████████| 10/10 [00:01<00:00,  5.08it/s]\n",
            "Local Pariticipant 4 CE = 0.087,InfoNCE = 0.154: 100%|██████████| 10/10 [00:01<00:00,  5.19it/s]\n",
            "Local Pariticipant 0 CE = 0.011,InfoNCE = 0.034: 100%|██████████| 10/10 [00:23<00:00,  2.32s/it]\n",
            "Local Pariticipant 3 CE = 0.005,InfoNCE = 0.026: 100%|██████████| 10/10 [00:23<00:00,  2.32s/it]\n"
          ]
        },
        {
          "name": "stdout",
          "output_type": "stream",
          "text": [
            "Partition 0: 1 clusters\n",
            "Partition 0: 1 clusters\n",
            "Partition 0: 1 clusters\n",
            "Partition 0: 1 clusters\n",
            "Partition 0: 2 clusters\n",
            "Partition 0: 1 clusters\n",
            "Partition 0: 1 clusters\n",
            "Partition 0: 1 clusters\n",
            "Partition 0: 2 clusters\n",
            "Partition 0: 2 clusters\n",
            "The 19 Communcation Accuracy: 56.647 Method: fpl\n",
            "[97.26, 83.96, 10.45, 34.92]\n"
          ]
        },
        {
          "name": "stderr",
          "output_type": "stream",
          "text": [
            "Local Pariticipant 7 CE = 0.153,InfoNCE = 0.179: 100%|██████████| 10/10 [00:01<00:00,  5.15it/s]\n",
            "Local Pariticipant 6 CE = 0.199,InfoNCE = 0.262: 100%|██████████| 10/10 [00:01<00:00,  5.12it/s]\n",
            "Local Pariticipant 5 CE = 0.139,InfoNCE = 0.193: 100%|██████████| 10/10 [00:01<00:00,  5.21it/s]\n",
            "Local Pariticipant 4 CE = 0.065,InfoNCE = 0.123: 100%|██████████| 10/10 [00:02<00:00,  4.86it/s]\n",
            "Local Pariticipant 0 CE = 0.005,InfoNCE = 0.023: 100%|██████████| 10/10 [00:23<00:00,  2.33s/it]\n",
            "Local Pariticipant 1 CE = 0.064,InfoNCE = 0.141: 100%|██████████| 10/10 [00:01<00:00,  5.08it/s]\n",
            "Local Pariticipant 8 CE = 0.751,InfoNCE = 0.932: 100%|██████████| 10/10 [00:02<00:00,  3.50it/s]\n",
            "Local Pariticipant 2 CE = 0.090,InfoNCE = 0.547: 100%|██████████| 10/10 [00:02<00:00,  3.62it/s]\n",
            "Local Pariticipant 9 CE = 0.088,InfoNCE = 0.121: 100%|██████████| 10/10 [00:01<00:00,  5.19it/s]\n",
            "Local Pariticipant 3 CE = 0.005,InfoNCE = 0.023: 100%|██████████| 10/10 [00:23<00:00,  2.35s/it]\n"
          ]
        },
        {
          "name": "stdout",
          "output_type": "stream",
          "text": [
            "Partition 0: 1 clusters\n",
            "Partition 0: 1 clusters\n",
            "Partition 0: 2 clusters\n",
            "Partition 0: 1 clusters\n",
            "Partition 0: 1 clusters\n",
            "Partition 0: 1 clusters\n",
            "Partition 0: 1 clusters\n",
            "Partition 0: 1 clusters\n",
            "Partition 0: 1 clusters\n",
            "Partition 0: 1 clusters\n",
            "The 20 Communcation Accuracy: 56.188 Method: fpl\n",
            "[97.25, 83.91, 9.67, 33.92]\n"
          ]
        },
        {
          "name": "stderr",
          "output_type": "stream",
          "text": [
            "Local Pariticipant 6 CE = 0.141,InfoNCE = 0.248: 100%|██████████| 10/10 [00:01<00:00,  5.24it/s]\n",
            "Local Pariticipant 4 CE = 0.279,InfoNCE = 0.253: 100%|██████████| 10/10 [00:01<00:00,  5.17it/s]\n",
            "Local Pariticipant 3 CE = 0.004,InfoNCE = 0.021: 100%|██████████| 10/10 [00:23<00:00,  2.31s/it]\n",
            "Local Pariticipant 7 CE = 0.130,InfoNCE = 0.168: 100%|██████████| 10/10 [00:01<00:00,  5.08it/s]\n",
            "Local Pariticipant 2 CE = 0.184,InfoNCE = 0.165: 100%|██████████| 10/10 [00:02<00:00,  3.54it/s]\n",
            "Local Pariticipant 1 CE = 0.087,InfoNCE = 0.163: 100%|██████████| 10/10 [00:01<00:00,  5.09it/s]\n",
            "Local Pariticipant 8 CE = 0.631,InfoNCE = 0.504: 100%|██████████| 10/10 [00:02<00:00,  3.56it/s]\n",
            "Local Pariticipant 5 CE = 0.061,InfoNCE = 0.121: 100%|██████████| 10/10 [00:02<00:00,  4.49it/s]\n",
            "Local Pariticipant 9 CE = 0.117,InfoNCE = 0.151: 100%|██████████| 10/10 [00:01<00:00,  5.01it/s]\n",
            "Local Pariticipant 0 CE = 0.005,InfoNCE = 0.022: 100%|██████████| 10/10 [00:23<00:00,  2.33s/it]\n"
          ]
        },
        {
          "name": "stdout",
          "output_type": "stream",
          "text": [
            "Partition 0: 1 clusters\n",
            "Partition 0: 2 clusters\n",
            "Partition 0: 1 clusters\n",
            "Partition 0: 3 clusters\n",
            "Partition 0: 1 clusters\n",
            "Partition 0: 1 clusters\n",
            "Partition 0: 1 clusters\n",
            "Partition 0: 1 clusters\n",
            "Partition 0: 1 clusters\n",
            "Partition 0: 1 clusters\n",
            "The 21 Communcation Accuracy: 54.908 Method: fpl\n",
            "[97.41, 81.32, 8.9, 32.0]\n"
          ]
        },
        {
          "name": "stderr",
          "output_type": "stream",
          "text": [
            "Local Pariticipant 6 CE = 0.245,InfoNCE = 0.343: 100%|██████████| 10/10 [00:01<00:00,  5.08it/s]\n",
            "Local Pariticipant 1 CE = 0.034,InfoNCE = 0.092: 100%|██████████| 10/10 [00:02<00:00,  4.90it/s]\n",
            "Local Pariticipant 9 CE = 0.057,InfoNCE = 0.103: 100%|██████████| 10/10 [00:02<00:00,  4.94it/s]\n",
            "Local Pariticipant 5 CE = 0.082,InfoNCE = 0.195: 100%|██████████| 10/10 [00:01<00:00,  5.06it/s]\n",
            "Local Pariticipant 2 CE = 0.161,InfoNCE = 0.207: 100%|██████████| 10/10 [00:02<00:00,  3.50it/s]\n",
            "Local Pariticipant 3 CE = 0.003,InfoNCE = 0.024: 100%|██████████| 10/10 [00:23<00:00,  2.36s/it]\n",
            "Local Pariticipant 7 CE = 0.132,InfoNCE = 0.155: 100%|██████████| 10/10 [00:01<00:00,  5.08it/s]\n",
            "Local Pariticipant 8 CE = 0.751,InfoNCE = 0.621: 100%|██████████| 10/10 [00:03<00:00,  3.18it/s]\n",
            "Local Pariticipant 4 CE = 0.101,InfoNCE = 0.178: 100%|██████████| 10/10 [00:01<00:00,  5.09it/s]\n",
            "Local Pariticipant 0 CE = 0.007,InfoNCE = 0.024: 100%|██████████| 10/10 [00:23<00:00,  2.33s/it]\n"
          ]
        },
        {
          "name": "stdout",
          "output_type": "stream",
          "text": [
            "Partition 0: 1 clusters\n",
            "Partition 0: 1 clusters\n",
            "Partition 0: 2 clusters\n",
            "Partition 0: 1 clusters\n",
            "Partition 0: 1 clusters\n",
            "Partition 0: 1 clusters\n",
            "Partition 0: 1 clusters\n",
            "Partition 0: 3 clusters\n",
            "Partition 0: 1 clusters\n",
            "Partition 0: 1 clusters\n",
            "The 22 Communcation Accuracy: 55.635 Method: fpl\n",
            "[97.38, 82.81, 9.1, 33.25]\n"
          ]
        },
        {
          "name": "stderr",
          "output_type": "stream",
          "text": [
            "Local Pariticipant 5 CE = 0.089,InfoNCE = 0.129: 100%|██████████| 10/10 [00:01<00:00,  5.09it/s]\n",
            "Local Pariticipant 8 CE = 0.155,InfoNCE = 0.293: 100%|██████████| 10/10 [00:02<00:00,  3.57it/s]\n",
            "Local Pariticipant 3 CE = 0.026,InfoNCE = 0.087: 100%|██████████| 10/10 [00:22<00:00,  2.28s/it]\n",
            "Local Pariticipant 6 CE = 0.066,InfoNCE = 0.110: 100%|██████████| 10/10 [00:01<00:00,  5.13it/s]\n",
            "Local Pariticipant 2 CE = 2.082,InfoNCE = 1.693: 100%|██████████| 10/10 [00:02<00:00,  3.60it/s]\n",
            "Local Pariticipant 0 CE = 0.012,InfoNCE = 0.027: 100%|██████████| 10/10 [00:23<00:00,  2.33s/it]\n",
            "Local Pariticipant 9 CE = 0.053,InfoNCE = 0.115: 100%|██████████| 10/10 [00:01<00:00,  5.22it/s]\n",
            "Local Pariticipant 1 CE = 0.129,InfoNCE = 0.203: 100%|██████████| 10/10 [00:01<00:00,  5.10it/s]\n",
            "Local Pariticipant 4 CE = 0.129,InfoNCE = 0.154: 100%|██████████| 10/10 [00:01<00:00,  5.04it/s]\n",
            "Local Pariticipant 7 CE = 0.323,InfoNCE = 0.368: 100%|██████████| 10/10 [00:01<00:00,  5.19it/s]\n"
          ]
        },
        {
          "name": "stdout",
          "output_type": "stream",
          "text": [
            "Partition 0: 1 clusters\n",
            "Partition 0: 1 clusters\n",
            "Partition 0: 2 clusters\n",
            "Partition 0: 1 clusters\n",
            "Partition 0: 1 clusters\n",
            "Partition 0: 1 clusters\n",
            "Partition 0: 1 clusters\n",
            "Partition 0: 1 clusters\n",
            "Partition 0: 1 clusters\n",
            "Partition 0: 1 clusters\n",
            "The 23 Communcation Accuracy: 57.32 Method: fpl\n",
            "[97.31, 86.3, 10.59, 35.08]\n"
          ]
        },
        {
          "name": "stderr",
          "output_type": "stream",
          "text": [
            "Local Pariticipant 2 CE = 0.195,InfoNCE = 0.503: 100%|██████████| 10/10 [00:02<00:00,  3.61it/s]\n",
            "Local Pariticipant 4 CE = 0.210,InfoNCE = 0.278: 100%|██████████| 10/10 [00:02<00:00,  4.94it/s]\n",
            "Local Pariticipant 3 CE = 0.018,InfoNCE = 0.041: 100%|██████████| 10/10 [00:23<00:00,  2.33s/it]\n",
            "Local Pariticipant 5 CE = 0.095,InfoNCE = 0.148: 100%|██████████| 10/10 [00:01<00:00,  5.10it/s]\n",
            "Local Pariticipant 6 CE = 0.189,InfoNCE = 0.179: 100%|██████████| 10/10 [00:01<00:00,  5.12it/s]\n",
            "Local Pariticipant 1 CE = 0.057,InfoNCE = 0.125: 100%|██████████| 10/10 [00:01<00:00,  5.09it/s]\n",
            "Local Pariticipant 9 CE = 0.041,InfoNCE = 0.094: 100%|██████████| 10/10 [00:01<00:00,  5.16it/s]\n",
            "Local Pariticipant 7 CE = 0.066,InfoNCE = 0.125: 100%|██████████| 10/10 [00:01<00:00,  5.07it/s]\n",
            "Local Pariticipant 8 CE = 0.832,InfoNCE = 0.695: 100%|██████████| 10/10 [00:02<00:00,  3.61it/s]\n",
            "Local Pariticipant 0 CE = 0.004,InfoNCE = 0.022: 100%|██████████| 10/10 [00:23<00:00,  2.32s/it]\n"
          ]
        },
        {
          "name": "stdout",
          "output_type": "stream",
          "text": [
            "Partition 0: 1 clusters\n",
            "Partition 0: 2 clusters\n",
            "Partition 0: 1 clusters\n",
            "Partition 0: 1 clusters\n",
            "Partition 0: 1 clusters\n",
            "Partition 0: 1 clusters\n",
            "Partition 0: 1 clusters\n",
            "Partition 0: 1 clusters\n",
            "Partition 0: 1 clusters\n",
            "Partition 0: 2 clusters\n",
            "The 24 Communcation Accuracy: 58.552 Method: fpl\n",
            "[97.63, 88.24, 10.26, 38.08]\n"
          ]
        },
        {
          "name": "stderr",
          "output_type": "stream",
          "text": [
            "Local Pariticipant 1 CE = 0.049,InfoNCE = 0.114: 100%|██████████| 10/10 [00:01<00:00,  5.02it/s]\n",
            "Local Pariticipant 2 CE = 0.862,InfoNCE = 0.855: 100%|██████████| 10/10 [00:02<00:00,  3.59it/s]\n",
            "Local Pariticipant 3 CE = 0.003,InfoNCE = 0.020: 100%|██████████| 10/10 [00:23<00:00,  2.37s/it]\n",
            "Local Pariticipant 0 CE = 0.017,InfoNCE = 0.037: 100%|██████████| 10/10 [00:23<00:00,  2.31s/it]\n",
            "Local Pariticipant 5 CE = 0.034,InfoNCE = 0.091: 100%|██████████| 10/10 [00:01<00:00,  5.16it/s]\n",
            "Local Pariticipant 8 CE = 0.318,InfoNCE = 0.321: 100%|██████████| 10/10 [00:02<00:00,  3.55it/s]\n",
            "Local Pariticipant 6 CE = 0.189,InfoNCE = 0.213: 100%|██████████| 10/10 [00:01<00:00,  5.03it/s]\n",
            "Local Pariticipant 4 CE = 0.071,InfoNCE = 0.126: 100%|██████████| 10/10 [00:02<00:00,  4.97it/s]\n",
            "Local Pariticipant 7 CE = 0.057,InfoNCE = 0.098: 100%|██████████| 10/10 [00:02<00:00,  4.31it/s]\n",
            "Local Pariticipant 9 CE = 0.104,InfoNCE = 0.170: 100%|██████████| 10/10 [00:01<00:00,  5.22it/s]\n"
          ]
        },
        {
          "name": "stdout",
          "output_type": "stream",
          "text": [
            "Partition 0: 1 clusters\n",
            "Partition 0: 3 clusters\n",
            "Partition 0: 1 clusters\n",
            "Partition 0: 1 clusters\n",
            "Partition 0: 1 clusters\n",
            "Partition 0: 1 clusters\n",
            "Partition 0: 2 clusters\n",
            "Partition 0: 1 clusters\n",
            "Partition 0: 1 clusters\n",
            "Partition 0: 1 clusters\n",
            "The 25 Communcation Accuracy: 57.275 Method: fpl\n",
            "[96.87, 85.1, 9.71, 37.42]\n"
          ]
        },
        {
          "name": "stderr",
          "output_type": "stream",
          "text": [
            "Local Pariticipant 4 CE = 0.126,InfoNCE = 0.131: 100%|██████████| 10/10 [00:01<00:00,  5.03it/s]\n",
            "Local Pariticipant 5 CE = 0.139,InfoNCE = 0.208: 100%|██████████| 10/10 [00:01<00:00,  5.12it/s]\n",
            "Local Pariticipant 9 CE = 0.055,InfoNCE = 0.093: 100%|██████████| 10/10 [00:02<00:00,  4.83it/s]\n",
            "Local Pariticipant 6 CE = 0.046,InfoNCE = 0.137: 100%|██████████| 10/10 [00:01<00:00,  5.09it/s]\n",
            "Local Pariticipant 1 CE = 0.055,InfoNCE = 0.116: 100%|██████████| 10/10 [00:01<00:00,  5.09it/s]\n",
            "Local Pariticipant 7 CE = 0.107,InfoNCE = 0.146: 100%|██████████| 10/10 [00:01<00:00,  5.08it/s]\n",
            "Local Pariticipant 8 CE = 0.070,InfoNCE = 0.111: 100%|██████████| 10/10 [00:02<00:00,  3.57it/s]\n",
            "Local Pariticipant 2 CE = 0.075,InfoNCE = 0.093: 100%|██████████| 10/10 [00:02<00:00,  3.54it/s]\n",
            "Local Pariticipant 3 CE = 0.003,InfoNCE = 0.024: 100%|██████████| 10/10 [00:23<00:00,  2.38s/it]\n",
            "Local Pariticipant 0 CE = 0.005,InfoNCE = 0.019: 100%|██████████| 10/10 [00:23<00:00,  2.33s/it]\n"
          ]
        },
        {
          "name": "stdout",
          "output_type": "stream",
          "text": [
            "Partition 0: 1 clusters\n",
            "Partition 0: 1 clusters\n",
            "Partition 0: 2 clusters\n",
            "Partition 0: 1 clusters\n",
            "Partition 0: 1 clusters\n",
            "Partition 0: 1 clusters\n",
            "Partition 0: 2 clusters\n",
            "Partition 0: 1 clusters\n",
            "Partition 0: 1 clusters\n",
            "Partition 0: 1 clusters\n",
            "The 26 Communcation Accuracy: 57.085 Method: fpl\n",
            "[97.52, 84.75, 9.4, 36.67]\n"
          ]
        },
        {
          "name": "stderr",
          "output_type": "stream",
          "text": [
            "Local Pariticipant 5 CE = 0.048,InfoNCE = 0.086: 100%|██████████| 10/10 [00:02<00:00,  4.91it/s]\n",
            "Local Pariticipant 0 CE = 0.018,InfoNCE = 0.030: 100%|██████████| 10/10 [00:23<00:00,  2.37s/it]\n",
            "Local Pariticipant 6 CE = 0.094,InfoNCE = 0.171: 100%|██████████| 10/10 [00:02<00:00,  4.65it/s]\n",
            "Local Pariticipant 7 CE = 0.046,InfoNCE = 0.082: 100%|██████████| 10/10 [00:02<00:00,  4.17it/s]\n",
            "Local Pariticipant 1 CE = 0.076,InfoNCE = 0.191: 100%|██████████| 10/10 [00:03<00:00,  2.74it/s]\n",
            "Local Pariticipant 4 CE = 0.109,InfoNCE = 0.156: 100%|██████████| 10/10 [00:02<00:00,  3.38it/s]\n",
            "Local Pariticipant 8 CE = 0.071,InfoNCE = 0.085: 100%|██████████| 10/10 [00:04<00:00,  2.40it/s]\n",
            "Local Pariticipant 9 CE = 0.107,InfoNCE = 0.140: 100%|██████████| 10/10 [00:02<00:00,  3.66it/s]\n",
            "Local Pariticipant 3 CE = 0.003,InfoNCE = 0.017: 100%|██████████| 10/10 [00:24<00:00,  2.46s/it]\n",
            "Local Pariticipant 2 CE = 0.334,InfoNCE = 0.398: 100%|██████████| 10/10 [00:02<00:00,  3.97it/s]\n"
          ]
        },
        {
          "name": "stdout",
          "output_type": "stream",
          "text": [
            "Partition 0: 1 clusters\n",
            "Partition 0: 1 clusters\n",
            "Partition 0: 1 clusters\n",
            "Partition 0: 2 clusters\n",
            "Partition 0: 1 clusters\n",
            "Partition 0: 1 clusters\n",
            "Partition 0: 1 clusters\n",
            "Partition 0: 2 clusters\n",
            "Partition 0: 1 clusters\n",
            "Partition 0: 1 clusters\n",
            "The 27 Communcation Accuracy: 57.633 Method: fpl\n",
            "[97.43, 86.55, 10.38, 36.17]\n"
          ]
        },
        {
          "name": "stderr",
          "output_type": "stream",
          "text": [
            "Local Pariticipant 7 CE = 0.030,InfoNCE = 0.081: 100%|██████████| 10/10 [00:01<00:00,  5.85it/s]\n",
            "Local Pariticipant 6 CE = 0.096,InfoNCE = 0.125: 100%|██████████| 10/10 [00:01<00:00,  5.76it/s]\n",
            "Local Pariticipant 9 CE = 0.042,InfoNCE = 0.093: 100%|██████████| 10/10 [00:01<00:00,  5.51it/s]\n",
            "Local Pariticipant 4 CE = 0.082,InfoNCE = 0.149: 100%|██████████| 10/10 [00:01<00:00,  5.73it/s]\n",
            "Local Pariticipant 3 CE = 0.002,InfoNCE = 0.015: 100%|██████████| 10/10 [00:19<00:00,  1.95s/it]\n",
            "Local Pariticipant 0 CE = 0.005,InfoNCE = 0.019: 100%|██████████| 10/10 [00:19<00:00,  1.93s/it]\n",
            "Local Pariticipant 5 CE = 0.064,InfoNCE = 0.123: 100%|██████████| 10/10 [00:01<00:00,  6.02it/s]\n",
            "Local Pariticipant 1 CE = 0.044,InfoNCE = 0.105: 100%|██████████| 10/10 [00:01<00:00,  5.93it/s]\n",
            "Local Pariticipant 2 CE = 0.376,InfoNCE = 0.550: 100%|██████████| 10/10 [00:02<00:00,  4.25it/s]\n",
            "Local Pariticipant 8 CE = 1.264,InfoNCE = 1.136: 100%|██████████| 10/10 [00:02<00:00,  4.20it/s]\n"
          ]
        },
        {
          "name": "stdout",
          "output_type": "stream",
          "text": [
            "Partition 0: 1 clusters\n",
            "Partition 0: 1 clusters\n",
            "Partition 0: 2 clusters\n",
            "Partition 0: 1 clusters\n",
            "Partition 0: 1 clusters\n",
            "Partition 0: 1 clusters\n",
            "Partition 0: 1 clusters\n",
            "Partition 0: 1 clusters\n",
            "Partition 0: 2 clusters\n",
            "Partition 0: 1 clusters\n",
            "The 28 Communcation Accuracy: 56.502 Method: fpl\n",
            "[96.84, 84.6, 10.49, 34.08]\n"
          ]
        },
        {
          "name": "stderr",
          "output_type": "stream",
          "text": [
            "Local Pariticipant 8 CE = 1.357,InfoNCE = 1.456: 100%|██████████| 10/10 [00:02<00:00,  4.22it/s]\n",
            "Local Pariticipant 6 CE = 0.225,InfoNCE = 0.230: 100%|██████████| 10/10 [00:01<00:00,  6.06it/s]\n",
            "Local Pariticipant 0 CE = 0.002,InfoNCE = 0.021: 100%|██████████| 10/10 [00:19<00:00,  1.96s/it]\n",
            "Local Pariticipant 4 CE = 0.056,InfoNCE = 0.139: 100%|██████████| 10/10 [00:01<00:00,  6.18it/s]\n",
            "Local Pariticipant 7 CE = 0.095,InfoNCE = 0.147: 100%|██████████| 10/10 [00:01<00:00,  5.97it/s]\n",
            "Local Pariticipant 1 CE = 0.074,InfoNCE = 0.136: 100%|██████████| 10/10 [00:01<00:00,  6.12it/s]\n",
            "Local Pariticipant 2 CE = 0.053,InfoNCE = 0.140: 100%|██████████| 10/10 [00:02<00:00,  4.24it/s]\n",
            "Local Pariticipant 3 CE = 0.004,InfoNCE = 0.029: 100%|██████████| 10/10 [00:19<00:00,  1.95s/it]\n",
            "Local Pariticipant 9 CE = 0.055,InfoNCE = 0.120: 100%|██████████| 10/10 [00:01<00:00,  6.09it/s]\n",
            "Local Pariticipant 5 CE = 0.035,InfoNCE = 0.099: 100%|██████████| 10/10 [00:01<00:00,  6.16it/s]\n"
          ]
        },
        {
          "name": "stdout",
          "output_type": "stream",
          "text": [
            "Partition 0: 1 clusters\n",
            "Partition 0: 1 clusters\n",
            "Partition 0: 1 clusters\n",
            "Partition 0: 1 clusters\n",
            "Partition 0: 1 clusters\n",
            "Partition 0: 2 clusters\n",
            "Partition 0: 1 clusters\n",
            "Partition 0: 1 clusters\n",
            "Partition 0: 1 clusters\n",
            "Partition 0: 1 clusters\n",
            "The 29 Communcation Accuracy: 57.573 Method: fpl\n",
            "[97.48, 85.0, 10.23, 37.58]\n"
          ]
        },
        {
          "name": "stderr",
          "output_type": "stream",
          "text": [
            "Local Pariticipant 0 CE = 0.015,InfoNCE = 0.034: 100%|██████████| 10/10 [00:19<00:00,  1.92s/it]\n",
            "Local Pariticipant 5 CE = 0.062,InfoNCE = 0.132: 100%|██████████| 10/10 [00:01<00:00,  6.12it/s]\n",
            "Local Pariticipant 2 CE = 0.023,InfoNCE = 0.180: 100%|██████████| 10/10 [00:02<00:00,  4.24it/s]\n",
            "Local Pariticipant 6 CE = 0.131,InfoNCE = 0.180: 100%|██████████| 10/10 [00:01<00:00,  6.12it/s]\n",
            "Local Pariticipant 3 CE = 0.002,InfoNCE = 0.017: 100%|██████████| 10/10 [00:19<00:00,  1.94s/it]\n",
            "Local Pariticipant 8 CE = 0.433,InfoNCE = 0.536: 100%|██████████| 10/10 [00:02<00:00,  4.32it/s]\n",
            "Local Pariticipant 7 CE = 0.064,InfoNCE = 0.104: 100%|██████████| 10/10 [00:01<00:00,  5.89it/s]\n",
            "Local Pariticipant 9 CE = 0.055,InfoNCE = 0.085: 100%|██████████| 10/10 [00:01<00:00,  6.11it/s]\n",
            "Local Pariticipant 1 CE = 0.052,InfoNCE = 0.103: 100%|██████████| 10/10 [00:01<00:00,  6.20it/s]\n",
            "Local Pariticipant 4 CE = 0.092,InfoNCE = 0.177: 100%|██████████| 10/10 [00:01<00:00,  6.15it/s]\n"
          ]
        },
        {
          "name": "stdout",
          "output_type": "stream",
          "text": [
            "Partition 0: 1 clusters\n",
            "Partition 0: 2 clusters\n",
            "Partition 0: 1 clusters\n",
            "Partition 0: 1 clusters\n",
            "Partition 0: 1 clusters\n",
            "Partition 0: 1 clusters\n",
            "Partition 0: 1 clusters\n",
            "Partition 0: 1 clusters\n",
            "Partition 0: 1 clusters\n",
            "Partition 0: 2 clusters\n",
            "The 30 Communcation Accuracy: 57.13 Method: fpl\n",
            "[97.42, 85.1, 9.25, 36.75]\n"
          ]
        },
        {
          "name": "stderr",
          "output_type": "stream",
          "text": [
            "Local Pariticipant 0 CE = 0.005,InfoNCE = 0.021: 100%|██████████| 10/10 [00:19<00:00,  1.93s/it]\n",
            "Local Pariticipant 3 CE = 0.005,InfoNCE = 0.025: 100%|██████████| 10/10 [00:19<00:00,  1.93s/it]\n",
            "Local Pariticipant 4 CE = 0.071,InfoNCE = 0.121: 100%|██████████| 10/10 [00:01<00:00,  6.17it/s]\n",
            "Local Pariticipant 8 CE = 0.704,InfoNCE = 0.468: 100%|██████████| 10/10 [00:02<00:00,  4.29it/s]\n",
            "Local Pariticipant 1 CE = 0.032,InfoNCE = 0.087: 100%|██████████| 10/10 [00:01<00:00,  6.06it/s]\n",
            "Local Pariticipant 7 CE = 0.079,InfoNCE = 0.112: 100%|██████████| 10/10 [00:01<00:00,  6.10it/s]\n",
            "Local Pariticipant 9 CE = 0.121,InfoNCE = 0.152: 100%|██████████| 10/10 [00:01<00:00,  6.06it/s]\n",
            "Local Pariticipant 5 CE = 0.044,InfoNCE = 0.124: 100%|██████████| 10/10 [00:01<00:00,  6.08it/s]\n",
            "Local Pariticipant 6 CE = 0.020,InfoNCE = 0.081: 100%|██████████| 10/10 [00:01<00:00,  6.12it/s]\n",
            "Local Pariticipant 2 CE = 0.047,InfoNCE = 0.144: 100%|██████████| 10/10 [00:02<00:00,  4.20it/s]\n"
          ]
        },
        {
          "name": "stdout",
          "output_type": "stream",
          "text": [
            "Partition 0: 1 clusters\n",
            "Partition 0: 1 clusters\n",
            "Partition 0: 1 clusters\n",
            "Partition 0: 2 clusters\n",
            "Partition 0: 1 clusters\n",
            "Partition 0: 1 clusters\n",
            "Partition 0: 1 clusters\n",
            "Partition 0: 1 clusters\n",
            "Partition 0: 1 clusters\n",
            "Partition 0: 1 clusters\n",
            "The 31 Communcation Accuracy: 57.372 Method: fpl\n",
            "[97.41, 85.55, 9.78, 36.75]\n"
          ]
        },
        {
          "name": "stderr",
          "output_type": "stream",
          "text": [
            "Local Pariticipant 4 CE = 0.069,InfoNCE = 0.146: 100%|██████████| 10/10 [00:01<00:00,  6.15it/s]\n",
            "Local Pariticipant 0 CE = 0.016,InfoNCE = 0.031: 100%|██████████| 10/10 [00:19<00:00,  1.92s/it]\n",
            "Local Pariticipant 8 CE = 1.327,InfoNCE = 1.465: 100%|██████████| 10/10 [00:02<00:00,  4.17it/s]\n",
            "Local Pariticipant 3 CE = 0.004,InfoNCE = 0.021: 100%|██████████| 10/10 [00:19<00:00,  1.93s/it]\n",
            "Local Pariticipant 6 CE = 0.067,InfoNCE = 0.115: 100%|██████████| 10/10 [00:01<00:00,  6.07it/s]\n",
            "Local Pariticipant 7 CE = 0.070,InfoNCE = 0.092: 100%|██████████| 10/10 [00:01<00:00,  6.10it/s]\n",
            "Local Pariticipant 9 CE = 0.032,InfoNCE = 0.070: 100%|██████████| 10/10 [00:01<00:00,  6.14it/s]\n",
            "Local Pariticipant 5 CE = 0.107,InfoNCE = 0.176: 100%|██████████| 10/10 [00:01<00:00,  6.01it/s]\n",
            "Local Pariticipant 2 CE = 0.533,InfoNCE = 0.508: 100%|██████████| 10/10 [00:02<00:00,  4.21it/s]\n",
            "Local Pariticipant 1 CE = 0.045,InfoNCE = 0.099: 100%|██████████| 10/10 [00:01<00:00,  6.10it/s]\n"
          ]
        },
        {
          "name": "stdout",
          "output_type": "stream",
          "text": [
            "Partition 0: 1 clusters\n",
            "Partition 0: 1 clusters\n",
            "Partition 0: 1 clusters\n",
            "Partition 0: 1 clusters\n",
            "Partition 0: 1 clusters\n",
            "Partition 0: 1 clusters\n",
            "Partition 0: 1 clusters\n",
            "Partition 0: 2 clusters\n",
            "Partition 0: 1 clusters\n",
            "Partition 0: 1 clusters\n",
            "The 32 Communcation Accuracy: 58.87 Method: fpl\n",
            "[97.76, 88.04, 10.51, 39.17]\n"
          ]
        },
        {
          "name": "stderr",
          "output_type": "stream",
          "text": [
            "Local Pariticipant 2 CE = 0.618,InfoNCE = 0.779: 100%|██████████| 10/10 [00:02<00:00,  4.28it/s]\n",
            "Local Pariticipant 8 CE = 0.235,InfoNCE = 0.452: 100%|██████████| 10/10 [00:02<00:00,  4.09it/s]\n",
            "Local Pariticipant 6 CE = 0.025,InfoNCE = 0.080: 100%|██████████| 10/10 [00:01<00:00,  6.22it/s]\n",
            "Local Pariticipant 4 CE = 0.073,InfoNCE = 0.144: 100%|██████████| 10/10 [00:01<00:00,  6.13it/s]\n",
            "Local Pariticipant 5 CE = 0.129,InfoNCE = 0.194: 100%|██████████| 10/10 [00:01<00:00,  6.15it/s]\n",
            "Local Pariticipant 3 CE = 0.004,InfoNCE = 0.019: 100%|██████████| 10/10 [00:19<00:00,  1.93s/it]\n",
            "Local Pariticipant 7 CE = 0.072,InfoNCE = 0.105: 100%|██████████| 10/10 [00:01<00:00,  6.17it/s]\n",
            "Local Pariticipant 1 CE = 0.033,InfoNCE = 0.085: 100%|██████████| 10/10 [00:01<00:00,  6.02it/s]\n",
            "Local Pariticipant 9 CE = 0.036,InfoNCE = 0.097: 100%|██████████| 10/10 [00:01<00:00,  6.07it/s]\n",
            "Local Pariticipant 0 CE = 0.007,InfoNCE = 0.025: 100%|██████████| 10/10 [00:19<00:00,  1.93s/it]\n"
          ]
        },
        {
          "name": "stdout",
          "output_type": "stream",
          "text": [
            "Partition 0: 1 clusters\n",
            "Partition 0: 1 clusters\n",
            "Partition 0: 2 clusters\n",
            "Partition 0: 1 clusters\n",
            "Partition 0: 2 clusters\n",
            "Partition 0: 1 clusters\n",
            "Partition 0: 1 clusters\n",
            "Partition 0: 2 clusters\n",
            "Partition 0: 1 clusters\n",
            "Partition 0: 1 clusters\n",
            "The 33 Communcation Accuracy: 57.85 Method: fpl\n",
            "[97.57, 85.9, 9.93, 38.0]\n"
          ]
        },
        {
          "name": "stderr",
          "output_type": "stream",
          "text": [
            "Local Pariticipant 8 CE = 0.401,InfoNCE = 0.652: 100%|██████████| 10/10 [00:02<00:00,  4.27it/s]\n",
            "Local Pariticipant 4 CE = 0.097,InfoNCE = 0.146: 100%|██████████| 10/10 [00:01<00:00,  6.13it/s]\n",
            "Local Pariticipant 5 CE = 0.045,InfoNCE = 0.101: 100%|██████████| 10/10 [00:01<00:00,  6.13it/s]\n",
            "Local Pariticipant 0 CE = 0.006,InfoNCE = 0.026: 100%|██████████| 10/10 [00:19<00:00,  1.90s/it]\n",
            "Local Pariticipant 1 CE = 0.039,InfoNCE = 0.119: 100%|██████████| 10/10 [00:01<00:00,  6.10it/s]\n",
            "Local Pariticipant 7 CE = 0.042,InfoNCE = 0.092: 100%|██████████| 10/10 [00:01<00:00,  6.16it/s]\n",
            "Local Pariticipant 9 CE = 0.068,InfoNCE = 0.092: 100%|██████████| 10/10 [00:01<00:00,  6.17it/s]\n",
            "Local Pariticipant 2 CE = 0.430,InfoNCE = 0.216: 100%|██████████| 10/10 [00:02<00:00,  4.22it/s]\n",
            "Local Pariticipant 6 CE = 0.244,InfoNCE = 0.303: 100%|██████████| 10/10 [00:01<00:00,  6.17it/s]\n",
            "Local Pariticipant 3 CE = 0.011,InfoNCE = 0.037: 100%|██████████| 10/10 [00:19<00:00,  1.93s/it]\n"
          ]
        },
        {
          "name": "stdout",
          "output_type": "stream",
          "text": [
            "Partition 0: 2 clusters\n",
            "Partition 0: 2 clusters\n",
            "Partition 0: 2 clusters\n",
            "Partition 0: 1 clusters\n",
            "Partition 0: 1 clusters\n",
            "Partition 0: 2 clusters\n",
            "Partition 0: 1 clusters\n",
            "Partition 0: 1 clusters\n",
            "Partition 0: 2 clusters\n",
            "Partition 0: 1 clusters\n",
            "The 34 Communcation Accuracy: 57.793 Method: fpl\n",
            "[97.56, 86.5, 9.36, 37.75]\n"
          ]
        },
        {
          "name": "stderr",
          "output_type": "stream",
          "text": [
            "Local Pariticipant 0 CE = 0.004,InfoNCE = 0.019: 100%|██████████| 10/10 [00:19<00:00,  1.92s/it]\n",
            "Local Pariticipant 6 CE = 0.108,InfoNCE = 0.194: 100%|██████████| 10/10 [00:01<00:00,  5.84it/s]\n",
            "Local Pariticipant 3 CE = 0.003,InfoNCE = 0.019: 100%|██████████| 10/10 [00:19<00:00,  1.93s/it]\n",
            "Local Pariticipant 7 CE = 0.106,InfoNCE = 0.152: 100%|██████████| 10/10 [00:01<00:00,  6.16it/s]\n",
            "Local Pariticipant 9 CE = 0.017,InfoNCE = 0.068: 100%|██████████| 10/10 [00:01<00:00,  6.14it/s]\n",
            "Local Pariticipant 2 CE = 0.049,InfoNCE = 0.103: 100%|██████████| 10/10 [00:02<00:00,  4.28it/s]\n",
            "Local Pariticipant 1 CE = 0.026,InfoNCE = 0.071: 100%|██████████| 10/10 [00:01<00:00,  6.09it/s]\n",
            "Local Pariticipant 8 CE = 0.491,InfoNCE = 0.708: 100%|██████████| 10/10 [00:02<00:00,  4.25it/s]\n",
            "Local Pariticipant 4 CE = 0.116,InfoNCE = 0.162: 100%|██████████| 10/10 [00:01<00:00,  6.17it/s]\n",
            "Local Pariticipant 5 CE = 0.089,InfoNCE = 0.132: 100%|██████████| 10/10 [00:01<00:00,  6.18it/s]\n"
          ]
        },
        {
          "name": "stdout",
          "output_type": "stream",
          "text": [
            "Partition 0: 1 clusters\n",
            "Partition 0: 2 clusters\n",
            "Partition 0: 1 clusters\n",
            "Partition 0: 1 clusters\n",
            "Partition 0: 1 clusters\n",
            "Partition 0: 1 clusters\n",
            "Partition 0: 1 clusters\n",
            "Partition 0: 1 clusters\n",
            "Partition 0: 2 clusters\n",
            "Partition 0: 1 clusters\n",
            "The 35 Communcation Accuracy: 58.622 Method: fpl\n",
            "[97.59, 86.9, 10.0, 40.0]\n"
          ]
        },
        {
          "name": "stderr",
          "output_type": "stream",
          "text": [
            "Local Pariticipant 1 CE = 0.026,InfoNCE = 0.093: 100%|██████████| 10/10 [00:01<00:00,  6.08it/s]\n",
            "Local Pariticipant 6 CE = 0.025,InfoNCE = 0.071: 100%|██████████| 10/10 [00:01<00:00,  6.02it/s]\n",
            "Local Pariticipant 7 CE = 0.053,InfoNCE = 0.096: 100%|██████████| 10/10 [00:01<00:00,  6.13it/s]\n",
            "Local Pariticipant 0 CE = 0.002,InfoNCE = 0.015: 100%|██████████| 10/10 [00:19<00:00,  1.93s/it]\n",
            "Local Pariticipant 2 CE = 0.173,InfoNCE = 0.352: 100%|██████████| 10/10 [00:02<00:00,  4.26it/s]\n",
            "Local Pariticipant 8 CE = 0.526,InfoNCE = 0.634: 100%|██████████| 10/10 [00:02<00:00,  4.28it/s]\n",
            "Local Pariticipant 9 CE = 0.094,InfoNCE = 0.131: 100%|██████████| 10/10 [00:01<00:00,  6.04it/s]\n",
            "Local Pariticipant 4 CE = 0.027,InfoNCE = 0.067: 100%|██████████| 10/10 [00:01<00:00,  6.21it/s]\n",
            "Local Pariticipant 5 CE = 0.183,InfoNCE = 0.248: 100%|██████████| 10/10 [00:01<00:00,  6.19it/s]\n",
            "Local Pariticipant 3 CE = 0.001,InfoNCE = 0.018: 100%|██████████| 10/10 [00:19<00:00,  1.92s/it]\n"
          ]
        },
        {
          "name": "stdout",
          "output_type": "stream",
          "text": [
            "Partition 0: 1 clusters\n",
            "Partition 0: 1 clusters\n",
            "Partition 0: 1 clusters\n",
            "Partition 0: 1 clusters\n",
            "Partition 0: 1 clusters\n",
            "Partition 0: 1 clusters\n",
            "Partition 0: 1 clusters\n",
            "Partition 0: 1 clusters\n",
            "Partition 0: 2 clusters\n",
            "Partition 0: 2 clusters\n",
            "The 36 Communcation Accuracy: 58.035 Method: fpl\n",
            "[97.75, 85.75, 10.06, 38.58]\n"
          ]
        },
        {
          "name": "stderr",
          "output_type": "stream",
          "text": [
            "Local Pariticipant 7 CE = 0.074,InfoNCE = 0.111: 100%|██████████| 10/10 [00:01<00:00,  6.20it/s]\n",
            "Local Pariticipant 9 CE = 0.086,InfoNCE = 0.104: 100%|██████████| 10/10 [00:01<00:00,  6.11it/s]\n",
            "Local Pariticipant 8 CE = 1.148,InfoNCE = 0.906: 100%|██████████| 10/10 [00:02<00:00,  4.19it/s]\n",
            "Local Pariticipant 2 CE = 0.845,InfoNCE = 0.673: 100%|██████████| 10/10 [00:02<00:00,  4.26it/s]\n",
            "Local Pariticipant 5 CE = 0.092,InfoNCE = 0.121: 100%|██████████| 10/10 [00:01<00:00,  6.18it/s]\n",
            "Local Pariticipant 0 CE = 0.016,InfoNCE = 0.030: 100%|██████████| 10/10 [00:19<00:00,  1.92s/it]\n",
            "Local Pariticipant 3 CE = 0.006,InfoNCE = 0.021: 100%|██████████| 10/10 [00:19<00:00,  1.92s/it]\n",
            "Local Pariticipant 1 CE = 0.060,InfoNCE = 0.131: 100%|██████████| 10/10 [00:01<00:00,  6.15it/s]\n",
            "Local Pariticipant 6 CE = 0.047,InfoNCE = 0.096: 100%|██████████| 10/10 [00:01<00:00,  5.87it/s]\n",
            "Local Pariticipant 4 CE = 0.076,InfoNCE = 0.118: 100%|██████████| 10/10 [00:01<00:00,  6.08it/s]\n"
          ]
        },
        {
          "name": "stdout",
          "output_type": "stream",
          "text": [
            "Partition 0: 1 clusters\n",
            "Partition 0: 1 clusters\n",
            "Partition 0: 1 clusters\n",
            "Partition 0: 2 clusters\n",
            "Partition 0: 1 clusters\n",
            "Partition 0: 1 clusters\n",
            "Partition 0: 1 clusters\n",
            "Partition 0: 1 clusters\n",
            "Partition 0: 1 clusters\n",
            "Partition 0: 2 clusters\n",
            "The 37 Communcation Accuracy: 56.757 Method: fpl\n",
            "[97.23, 85.1, 9.53, 35.17]\n"
          ]
        },
        {
          "name": "stderr",
          "output_type": "stream",
          "text": [
            "Local Pariticipant 7 CE = 0.055,InfoNCE = 0.126: 100%|██████████| 10/10 [00:01<00:00,  6.14it/s]\n",
            "Local Pariticipant 9 CE = 0.079,InfoNCE = 0.132: 100%|██████████| 10/10 [00:01<00:00,  6.16it/s]\n",
            "Local Pariticipant 0 CE = 0.004,InfoNCE = 0.020: 100%|██████████| 10/10 [00:19<00:00,  1.92s/it]\n",
            "Local Pariticipant 2 CE = 0.018,InfoNCE = 0.066: 100%|██████████| 10/10 [00:02<00:00,  4.32it/s]\n",
            "Local Pariticipant 8 CE = 0.031,InfoNCE = 0.062: 100%|██████████| 10/10 [00:02<00:00,  4.32it/s]\n",
            "Local Pariticipant 5 CE = 0.033,InfoNCE = 0.067: 100%|██████████| 10/10 [00:01<00:00,  6.21it/s]\n",
            "Local Pariticipant 6 CE = 0.033,InfoNCE = 0.084: 100%|██████████| 10/10 [00:01<00:00,  6.21it/s]\n",
            "Local Pariticipant 3 CE = 0.005,InfoNCE = 0.019: 100%|██████████| 10/10 [00:19<00:00,  1.91s/it]\n",
            "Local Pariticipant 4 CE = 0.023,InfoNCE = 0.083: 100%|██████████| 10/10 [00:01<00:00,  6.05it/s]\n",
            "Local Pariticipant 1 CE = 0.016,InfoNCE = 0.075: 100%|██████████| 10/10 [00:01<00:00,  6.22it/s]\n"
          ]
        },
        {
          "name": "stdout",
          "output_type": "stream",
          "text": [
            "Partition 0: 1 clusters\n",
            "Partition 0: 2 clusters\n",
            "Partition 0: 1 clusters\n",
            "Partition 0: 1 clusters\n",
            "Partition 0: 1 clusters\n",
            "Partition 0: 2 clusters\n",
            "Partition 0: 1 clusters\n",
            "Partition 0: 2 clusters\n",
            "Partition 0: 1 clusters\n",
            "Partition 0: 1 clusters\n",
            "The 38 Communcation Accuracy: 55.63 Method: fpl\n",
            "[97.54, 84.65, 8.41, 31.92]\n"
          ]
        },
        {
          "name": "stderr",
          "output_type": "stream",
          "text": [
            "Local Pariticipant 9 CE = 0.020,InfoNCE = 0.064: 100%|██████████| 10/10 [00:01<00:00,  6.20it/s]\n",
            "Local Pariticipant 7 CE = 0.036,InfoNCE = 0.105: 100%|██████████| 10/10 [00:01<00:00,  6.22it/s]\n",
            "Local Pariticipant 6 CE = 0.089,InfoNCE = 0.119: 100%|██████████| 10/10 [00:01<00:00,  6.22it/s]\n",
            "Local Pariticipant 3 CE = 0.002,InfoNCE = 0.014: 100%|██████████| 10/10 [00:19<00:00,  1.93s/it]\n",
            "Local Pariticipant 1 CE = 0.016,InfoNCE = 0.069: 100%|██████████| 10/10 [00:01<00:00,  6.15it/s]\n",
            "Local Pariticipant 4 CE = 0.070,InfoNCE = 0.111: 100%|██████████| 10/10 [00:01<00:00,  6.08it/s]\n",
            "Local Pariticipant 8 CE = 1.976,InfoNCE = 1.875: 100%|██████████| 10/10 [00:02<00:00,  4.27it/s]\n",
            "Local Pariticipant 5 CE = 0.047,InfoNCE = 0.118: 100%|██████████| 10/10 [00:01<00:00,  5.85it/s]\n",
            "Local Pariticipant 0 CE = 0.006,InfoNCE = 0.020: 100%|██████████| 10/10 [00:19<00:00,  1.91s/it]\n",
            "Local Pariticipant 2 CE = 0.044,InfoNCE = 0.073: 100%|██████████| 10/10 [00:02<00:00,  4.25it/s]\n"
          ]
        },
        {
          "name": "stdout",
          "output_type": "stream",
          "text": [
            "Partition 0: 1 clusters\n",
            "Partition 0: 1 clusters\n",
            "Partition 0: 1 clusters\n",
            "Partition 0: 1 clusters\n",
            "Partition 0: 1 clusters\n",
            "Partition 0: 1 clusters\n",
            "Partition 0: 1 clusters\n",
            "Partition 0: 1 clusters\n",
            "Partition 0: 1 clusters\n",
            "Partition 0: 1 clusters\n",
            "The 39 Communcation Accuracy: 57.07 Method: fpl\n",
            "[97.62, 85.3, 9.03, 36.33]\n"
          ]
        },
        {
          "name": "stderr",
          "output_type": "stream",
          "text": [
            "Local Pariticipant 0 CE = 0.002,InfoNCE = 0.013: 100%|██████████| 10/10 [00:19<00:00,  1.92s/it]\n",
            "Local Pariticipant 8 CE = 0.206,InfoNCE = 0.180: 100%|██████████| 10/10 [00:02<00:00,  4.30it/s]\n",
            "Local Pariticipant 2 CE = 0.109,InfoNCE = 0.170: 100%|██████████| 10/10 [00:02<00:00,  4.09it/s]\n",
            "Local Pariticipant 6 CE = 0.116,InfoNCE = 0.143: 100%|██████████| 10/10 [00:01<00:00,  6.09it/s]\n",
            "Local Pariticipant 4 CE = 0.024,InfoNCE = 0.067: 100%|██████████| 10/10 [00:01<00:00,  6.23it/s]\n",
            "Local Pariticipant 7 CE = 0.029,InfoNCE = 0.078: 100%|██████████| 10/10 [00:01<00:00,  6.21it/s]\n",
            "Local Pariticipant 5 CE = 0.073,InfoNCE = 0.110: 100%|██████████| 10/10 [00:01<00:00,  5.94it/s]\n",
            "Local Pariticipant 3 CE = 0.003,InfoNCE = 0.017: 100%|██████████| 10/10 [00:19<00:00,  1.91s/it]\n",
            "Local Pariticipant 9 CE = 0.049,InfoNCE = 0.082: 100%|██████████| 10/10 [00:01<00:00,  6.15it/s]\n",
            "Local Pariticipant 1 CE = 0.033,InfoNCE = 0.068: 100%|██████████| 10/10 [00:01<00:00,  6.22it/s]\n"
          ]
        },
        {
          "name": "stdout",
          "output_type": "stream",
          "text": [
            "Partition 0: 1 clusters\n",
            "Partition 0: 1 clusters\n",
            "Partition 0: 1 clusters\n",
            "Partition 0: 2 clusters\n",
            "Partition 0: 1 clusters\n",
            "Partition 0: 1 clusters\n",
            "Partition 0: 1 clusters\n",
            "Partition 0: 1 clusters\n",
            "Partition 0: 1 clusters\n",
            "Partition 0: 1 clusters\n",
            "The 40 Communcation Accuracy: 57.952 Method: fpl\n",
            "[97.59, 86.05, 9.42, 38.75]\n"
          ]
        },
        {
          "name": "stderr",
          "output_type": "stream",
          "text": [
            "Local Pariticipant 9 CE = 0.039,InfoNCE = 0.078: 100%|██████████| 10/10 [00:01<00:00,  6.19it/s]\n",
            "Local Pariticipant 1 CE = 0.058,InfoNCE = 0.085: 100%|██████████| 10/10 [00:01<00:00,  5.97it/s]\n",
            "Local Pariticipant 0 CE = 0.026,InfoNCE = 0.047: 100%|██████████| 10/10 [00:19<00:00,  1.92s/it]\n",
            "Local Pariticipant 5 CE = 0.050,InfoNCE = 0.118: 100%|██████████| 10/10 [00:01<00:00,  6.19it/s]\n",
            "Local Pariticipant 7 CE = 0.084,InfoNCE = 0.122: 100%|██████████| 10/10 [00:01<00:00,  6.12it/s]\n",
            "Local Pariticipant 4 CE = 0.109,InfoNCE = 0.175: 100%|██████████| 10/10 [00:01<00:00,  6.03it/s]\n",
            "Local Pariticipant 3 CE = 0.002,InfoNCE = 0.015: 100%|██████████| 10/10 [00:19<00:00,  1.91s/it]\n",
            "Local Pariticipant 6 CE = 0.034,InfoNCE = 0.084: 100%|██████████| 10/10 [00:01<00:00,  6.23it/s]\n",
            "Local Pariticipant 8 CE = 0.531,InfoNCE = 0.679: 100%|██████████| 10/10 [00:02<00:00,  4.35it/s]\n",
            "Local Pariticipant 2 CE = 1.014,InfoNCE = 1.216: 100%|██████████| 10/10 [00:02<00:00,  4.26it/s]\n"
          ]
        },
        {
          "name": "stdout",
          "output_type": "stream",
          "text": [
            "Partition 0: 1 clusters\n",
            "Partition 0: 1 clusters\n",
            "Partition 0: 1 clusters\n",
            "Partition 0: 1 clusters\n",
            "Partition 0: 1 clusters\n",
            "Partition 0: 1 clusters\n",
            "Partition 0: 1 clusters\n",
            "Partition 0: 1 clusters\n",
            "Partition 0: 1 clusters\n",
            "Partition 0: 1 clusters\n",
            "The 41 Communcation Accuracy: 58.46 Method: fpl\n",
            "[97.27, 84.95, 10.79, 40.83]\n"
          ]
        },
        {
          "name": "stderr",
          "output_type": "stream",
          "text": [
            "Local Pariticipant 7 CE = 0.073,InfoNCE = 0.127: 100%|██████████| 10/10 [00:01<00:00,  6.19it/s]\n",
            "Local Pariticipant 5 CE = 0.057,InfoNCE = 0.096: 100%|██████████| 10/10 [00:01<00:00,  6.25it/s]\n",
            "Local Pariticipant 0 CE = 0.005,InfoNCE = 0.021: 100%|██████████| 10/10 [00:19<00:00,  1.91s/it]\n",
            "Local Pariticipant 4 CE = 0.164,InfoNCE = 0.187: 100%|██████████| 10/10 [00:01<00:00,  6.26it/s]\n",
            "Local Pariticipant 2 CE = 2.110,InfoNCE = 1.563: 100%|██████████| 10/10 [00:02<00:00,  4.24it/s]\n",
            "Local Pariticipant 9 CE = 0.025,InfoNCE = 0.081: 100%|██████████| 10/10 [00:01<00:00,  6.20it/s]\n",
            "Local Pariticipant 3 CE = 0.001,InfoNCE = 0.015: 100%|██████████| 10/10 [00:19<00:00,  1.91s/it]\n",
            "Local Pariticipant 6 CE = 0.064,InfoNCE = 0.109: 100%|██████████| 10/10 [00:01<00:00,  6.11it/s]\n",
            "Local Pariticipant 8 CE = 0.413,InfoNCE = 0.528: 100%|██████████| 10/10 [00:02<00:00,  4.28it/s]\n",
            "Local Pariticipant 1 CE = 0.058,InfoNCE = 0.079: 100%|██████████| 10/10 [00:01<00:00,  6.02it/s]\n"
          ]
        },
        {
          "name": "stdout",
          "output_type": "stream",
          "text": [
            "Partition 0: 1 clusters\n",
            "Partition 0: 1 clusters\n",
            "Partition 0: 1 clusters\n",
            "Partition 0: 1 clusters\n",
            "Partition 0: 1 clusters\n",
            "Partition 0: 1 clusters\n",
            "Partition 0: 1 clusters\n",
            "Partition 0: 2 clusters\n",
            "Partition 0: 1 clusters\n",
            "Partition 0: 1 clusters\n",
            "The 42 Communcation Accuracy: 58.137 Method: fpl\n",
            "[97.52, 86.5, 10.2, 38.33]\n"
          ]
        },
        {
          "name": "stderr",
          "output_type": "stream",
          "text": [
            "Local Pariticipant 2 CE = 0.012,InfoNCE = 0.065: 100%|██████████| 10/10 [00:02<00:00,  4.28it/s]\n",
            "Local Pariticipant 1 CE = 0.063,InfoNCE = 0.161: 100%|██████████| 10/10 [00:01<00:00,  5.94it/s]\n",
            "Local Pariticipant 3 CE = 0.003,InfoNCE = 0.020: 100%|██████████| 10/10 [00:19<00:00,  1.92s/it]\n",
            "Local Pariticipant 8 CE = 0.342,InfoNCE = 0.428: 100%|██████████| 10/10 [00:02<00:00,  4.27it/s]\n",
            "Local Pariticipant 5 CE = 0.080,InfoNCE = 0.165: 100%|██████████| 10/10 [00:01<00:00,  6.11it/s]\n",
            "Local Pariticipant 7 CE = 0.063,InfoNCE = 0.110: 100%|██████████| 10/10 [00:01<00:00,  6.12it/s]\n",
            "Local Pariticipant 4 CE = 0.060,InfoNCE = 0.111: 100%|██████████| 10/10 [00:01<00:00,  6.12it/s]\n",
            "Local Pariticipant 6 CE = 0.059,InfoNCE = 0.109: 100%|██████████| 10/10 [00:01<00:00,  6.18it/s]\n",
            "Local Pariticipant 0 CE = 0.001,InfoNCE = 0.012: 100%|██████████| 10/10 [00:19<00:00,  1.91s/it]\n",
            "Local Pariticipant 9 CE = 0.020,InfoNCE = 0.054: 100%|██████████| 10/10 [00:01<00:00,  6.20it/s]\n"
          ]
        },
        {
          "name": "stdout",
          "output_type": "stream",
          "text": [
            "Partition 0: 1 clusters\n",
            "Partition 0: 1 clusters\n",
            "Partition 0: 1 clusters\n",
            "Partition 0: 1 clusters\n",
            "Partition 0: 1 clusters\n",
            "Partition 0: 1 clusters\n",
            "Partition 0: 2 clusters\n",
            "Partition 0: 1 clusters\n",
            "Partition 0: 1 clusters\n",
            "Partition 0: 1 clusters\n",
            "The 43 Communcation Accuracy: 59.128 Method: fpl\n",
            "[97.85, 87.74, 10.09, 40.83]\n"
          ]
        },
        {
          "name": "stderr",
          "output_type": "stream",
          "text": [
            "Local Pariticipant 4 CE = 0.046,InfoNCE = 0.094: 100%|██████████| 10/10 [00:01<00:00,  6.03it/s]\n",
            "Local Pariticipant 7 CE = 0.027,InfoNCE = 0.075: 100%|██████████| 10/10 [00:01<00:00,  6.12it/s]\n",
            "Local Pariticipant 8 CE = 0.639,InfoNCE = 0.542: 100%|██████████| 10/10 [00:02<00:00,  4.32it/s]\n",
            "Local Pariticipant 9 CE = 0.014,InfoNCE = 0.051: 100%|██████████| 10/10 [00:01<00:00,  6.22it/s]\n",
            "Local Pariticipant 1 CE = 0.037,InfoNCE = 0.084: 100%|██████████| 10/10 [00:01<00:00,  6.17it/s]\n",
            "Local Pariticipant 2 CE = 0.522,InfoNCE = 0.711: 100%|██████████| 10/10 [00:02<00:00,  4.33it/s]\n",
            "Local Pariticipant 6 CE = 0.028,InfoNCE = 0.098: 100%|██████████| 10/10 [00:01<00:00,  6.26it/s]\n",
            "Local Pariticipant 5 CE = 0.034,InfoNCE = 0.083: 100%|██████████| 10/10 [00:01<00:00,  6.21it/s]\n",
            "Local Pariticipant 3 CE = 0.001,InfoNCE = 0.014: 100%|██████████| 10/10 [00:19<00:00,  1.91s/it]\n",
            "Local Pariticipant 0 CE = 0.042,InfoNCE = 0.049: 100%|██████████| 10/10 [00:19<00:00,  1.92s/it]\n"
          ]
        },
        {
          "name": "stdout",
          "output_type": "stream",
          "text": [
            "Partition 0: 1 clusters\n",
            "Partition 0: 2 clusters\n",
            "Partition 0: 1 clusters\n",
            "Partition 0: 1 clusters\n",
            "Partition 0: 1 clusters\n",
            "Partition 0: 1 clusters\n",
            "Partition 0: 1 clusters\n",
            "Partition 0: 1 clusters\n",
            "Partition 0: 2 clusters\n",
            "Partition 0: 1 clusters\n",
            "The 44 Communcation Accuracy: 58.758 Method: fpl\n",
            "[97.59, 88.29, 10.65, 38.5]\n"
          ]
        },
        {
          "name": "stderr",
          "output_type": "stream",
          "text": [
            "Local Pariticipant 2 CE = 0.382,InfoNCE = 0.423: 100%|██████████| 10/10 [00:02<00:00,  4.30it/s]\n",
            "Local Pariticipant 3 CE = 0.003,InfoNCE = 0.018: 100%|██████████| 10/10 [00:19<00:00,  1.90s/it]\n",
            "Local Pariticipant 7 CE = 0.102,InfoNCE = 0.159: 100%|██████████| 10/10 [00:01<00:00,  6.21it/s]\n",
            "Local Pariticipant 1 CE = 0.019,InfoNCE = 0.066: 100%|██████████| 10/10 [00:01<00:00,  6.24it/s]\n",
            "Local Pariticipant 9 CE = 0.063,InfoNCE = 0.141: 100%|██████████| 10/10 [00:01<00:00,  6.10it/s]\n",
            "Local Pariticipant 0 CE = 0.005,InfoNCE = 0.021: 100%|██████████| 10/10 [00:19<00:00,  1.92s/it]\n",
            "Local Pariticipant 8 CE = 0.644,InfoNCE = 0.967: 100%|██████████| 10/10 [00:02<00:00,  4.35it/s]\n",
            "Local Pariticipant 4 CE = 0.093,InfoNCE = 0.176: 100%|██████████| 10/10 [00:01<00:00,  6.20it/s]\n",
            "Local Pariticipant 6 CE = 0.094,InfoNCE = 0.118: 100%|██████████| 10/10 [00:01<00:00,  6.14it/s]\n",
            "Local Pariticipant 5 CE = 0.097,InfoNCE = 0.191: 100%|██████████| 10/10 [00:01<00:00,  6.19it/s]\n"
          ]
        },
        {
          "name": "stdout",
          "output_type": "stream",
          "text": [
            "Partition 0: 1 clusters\n",
            "Partition 0: 1 clusters\n",
            "Partition 0: 2 clusters\n",
            "Partition 0: 1 clusters\n",
            "Partition 0: 1 clusters\n",
            "Partition 0: 2 clusters\n",
            "Partition 0: 1 clusters\n",
            "Partition 0: 1 clusters\n",
            "Partition 0: 1 clusters\n",
            "Partition 0: 1 clusters\n",
            "The 45 Communcation Accuracy: 58.665 Method: fpl\n",
            "[97.67, 87.19, 10.05, 39.75]\n"
          ]
        },
        {
          "name": "stderr",
          "output_type": "stream",
          "text": [
            "Local Pariticipant 0 CE = 0.001,InfoNCE = 0.016: 100%|██████████| 10/10 [00:19<00:00,  1.91s/it]\n",
            "Local Pariticipant 3 CE = 0.004,InfoNCE = 0.016: 100%|██████████| 10/10 [00:18<00:00,  1.90s/it]\n",
            "Local Pariticipant 6 CE = 0.027,InfoNCE = 0.075: 100%|██████████| 10/10 [00:01<00:00,  6.17it/s]\n",
            "Local Pariticipant 4 CE = 0.029,InfoNCE = 0.083: 100%|██████████| 10/10 [00:01<00:00,  6.16it/s]\n",
            "Local Pariticipant 2 CE = 1.411,InfoNCE = 0.914: 100%|██████████| 10/10 [00:02<00:00,  4.32it/s]\n",
            "Local Pariticipant 1 CE = 0.020,InfoNCE = 0.065: 100%|██████████| 10/10 [00:01<00:00,  6.20it/s]\n",
            "Local Pariticipant 8 CE = 0.498,InfoNCE = 0.449: 100%|██████████| 10/10 [00:02<00:00,  4.26it/s]\n",
            "Local Pariticipant 5 CE = 0.027,InfoNCE = 0.074: 100%|██████████| 10/10 [00:01<00:00,  6.19it/s]\n",
            "Local Pariticipant 7 CE = 0.051,InfoNCE = 0.079: 100%|██████████| 10/10 [00:01<00:00,  6.05it/s]\n",
            "Local Pariticipant 9 CE = 0.023,InfoNCE = 0.068: 100%|██████████| 10/10 [00:01<00:00,  6.05it/s]\n"
          ]
        },
        {
          "name": "stdout",
          "output_type": "stream",
          "text": [
            "Partition 0: 1 clusters\n",
            "Partition 0: 1 clusters\n",
            "Partition 0: 1 clusters\n",
            "Partition 0: 1 clusters\n",
            "Partition 0: 1 clusters\n",
            "Partition 0: 1 clusters\n",
            "Partition 0: 1 clusters\n",
            "Partition 0: 1 clusters\n",
            "Partition 0: 1 clusters\n",
            "Partition 0: 1 clusters\n",
            "The 46 Communcation Accuracy: 58.402 Method: fpl\n",
            "[97.58, 87.99, 11.37, 36.67]\n"
          ]
        },
        {
          "name": "stderr",
          "output_type": "stream",
          "text": [
            "Local Pariticipant 7 CE = 0.068,InfoNCE = 0.104: 100%|██████████| 10/10 [00:01<00:00,  6.23it/s]\n",
            "Local Pariticipant 4 CE = 0.103,InfoNCE = 0.169: 100%|██████████| 10/10 [00:01<00:00,  6.21it/s]\n",
            "Local Pariticipant 3 CE = 0.003,InfoNCE = 0.017: 100%|██████████| 10/10 [00:19<00:00,  1.91s/it]\n",
            "Local Pariticipant 8 CE = 0.011,InfoNCE = 0.038: 100%|██████████| 10/10 [00:02<00:00,  4.31it/s]\n",
            "Local Pariticipant 9 CE = 0.045,InfoNCE = 0.065: 100%|██████████| 10/10 [00:01<00:00,  6.11it/s]\n",
            "Local Pariticipant 0 CE = 0.004,InfoNCE = 0.015: 100%|██████████| 10/10 [00:18<00:00,  1.89s/it]\n",
            "Local Pariticipant 2 CE = 0.290,InfoNCE = 0.300: 100%|██████████| 10/10 [00:02<00:00,  4.21it/s]\n",
            "Local Pariticipant 5 CE = 0.028,InfoNCE = 0.072: 100%|██████████| 10/10 [00:01<00:00,  6.18it/s]\n",
            "Local Pariticipant 1 CE = 0.032,InfoNCE = 0.081: 100%|██████████| 10/10 [00:01<00:00,  6.26it/s]\n",
            "Local Pariticipant 6 CE = 0.038,InfoNCE = 0.091: 100%|██████████| 10/10 [00:01<00:00,  6.15it/s]\n"
          ]
        },
        {
          "name": "stdout",
          "output_type": "stream",
          "text": [
            "Partition 0: 1 clusters\n",
            "Partition 0: 1 clusters\n",
            "Partition 0: 1 clusters\n",
            "Partition 0: 1 clusters\n",
            "Partition 0: 1 clusters\n",
            "Partition 0: 1 clusters\n",
            "Partition 0: 1 clusters\n",
            "Partition 0: 1 clusters\n",
            "Partition 0: 1 clusters\n",
            "Partition 0: 1 clusters\n",
            "The 47 Communcation Accuracy: 57.298 Method: fpl\n",
            "[97.75, 85.35, 9.84, 36.25]\n"
          ]
        },
        {
          "name": "stderr",
          "output_type": "stream",
          "text": [
            "Local Pariticipant 8 CE = 0.917,InfoNCE = 0.724: 100%|██████████| 10/10 [00:02<00:00,  4.29it/s]\n",
            "Local Pariticipant 1 CE = 0.011,InfoNCE = 0.055: 100%|██████████| 10/10 [00:01<00:00,  6.10it/s]\n",
            "Local Pariticipant 3 CE = 0.001,InfoNCE = 0.011: 100%|██████████| 10/10 [00:19<00:00,  1.91s/it]\n",
            "Local Pariticipant 6 CE = 0.050,InfoNCE = 0.085: 100%|██████████| 10/10 [00:01<00:00,  6.25it/s]\n",
            "Local Pariticipant 2 CE = 0.988,InfoNCE = 0.863: 100%|██████████| 10/10 [00:02<00:00,  4.12it/s]\n",
            "Local Pariticipant 4 CE = 0.038,InfoNCE = 0.082: 100%|██████████| 10/10 [00:01<00:00,  6.12it/s]\n",
            "Local Pariticipant 0 CE = 0.002,InfoNCE = 0.019: 100%|██████████| 10/10 [00:18<00:00,  1.90s/it]\n",
            "Local Pariticipant 9 CE = 0.017,InfoNCE = 0.052: 100%|██████████| 10/10 [00:01<00:00,  6.15it/s]\n",
            "Local Pariticipant 5 CE = 0.021,InfoNCE = 0.057: 100%|██████████| 10/10 [00:01<00:00,  6.19it/s]\n",
            "Local Pariticipant 7 CE = 0.054,InfoNCE = 0.105: 100%|██████████| 10/10 [00:01<00:00,  6.13it/s]\n"
          ]
        },
        {
          "name": "stdout",
          "output_type": "stream",
          "text": [
            "Partition 0: 1 clusters\n",
            "Partition 0: 2 clusters\n",
            "Partition 0: 1 clusters\n",
            "Partition 0: 1 clusters\n",
            "Partition 0: 1 clusters\n",
            "Partition 0: 1 clusters\n",
            "Partition 0: 2 clusters\n",
            "Partition 0: 3 clusters\n",
            "Partition 0: 2 clusters\n",
            "Partition 0: 1 clusters\n",
            "The 48 Communcation Accuracy: 58.302 Method: fpl\n",
            "[97.58, 87.19, 10.77, 37.67]\n"
          ]
        },
        {
          "name": "stderr",
          "output_type": "stream",
          "text": [
            "Local Pariticipant 2 CE = 0.500,InfoNCE = 0.500: 100%|██████████| 10/10 [00:02<00:00,  4.30it/s]\n",
            "Local Pariticipant 8 CE = 0.025,InfoNCE = 0.066: 100%|██████████| 10/10 [00:02<00:00,  4.15it/s]\n",
            "Local Pariticipant 6 CE = 0.058,InfoNCE = 0.104: 100%|██████████| 10/10 [00:01<00:00,  6.10it/s]\n",
            "Local Pariticipant 3 CE = 0.002,InfoNCE = 0.015: 100%|██████████| 10/10 [00:19<00:00,  1.92s/it]\n",
            "Local Pariticipant 5 CE = 0.031,InfoNCE = 0.083: 100%|██████████| 10/10 [00:01<00:00,  6.04it/s]\n",
            "Local Pariticipant 1 CE = 0.078,InfoNCE = 0.109: 100%|██████████| 10/10 [00:01<00:00,  6.05it/s]\n",
            "Local Pariticipant 7 CE = 0.020,InfoNCE = 0.072: 100%|██████████| 10/10 [00:01<00:00,  6.13it/s]\n",
            "Local Pariticipant 9 CE = 0.040,InfoNCE = 0.087: 100%|██████████| 10/10 [00:01<00:00,  6.17it/s]\n",
            "Local Pariticipant 4 CE = 0.274,InfoNCE = 0.355: 100%|██████████| 10/10 [00:01<00:00,  6.24it/s]\n",
            "Local Pariticipant 0 CE = 0.002,InfoNCE = 0.014: 100%|██████████| 10/10 [00:19<00:00,  1.90s/it]\n"
          ]
        },
        {
          "name": "stdout",
          "output_type": "stream",
          "text": [
            "Partition 0: 1 clusters\n",
            "Partition 0: 1 clusters\n",
            "Partition 0: 1 clusters\n",
            "Partition 0: 1 clusters\n",
            "Partition 0: 1 clusters\n",
            "Partition 0: 2 clusters\n",
            "Partition 0: 1 clusters\n",
            "Partition 0: 1 clusters\n",
            "Partition 0: 1 clusters\n",
            "Partition 0: 1 clusters\n",
            "The 49 Communcation Accuracy: 57.71 Method: fpl\n",
            "[97.44, 86.7, 9.45, 37.25]\n"
          ]
        }
      ],
      "source": [
        "%run \"main.py\" --model fpl --dataset fl_digits"
      ]
    },
    {
      "cell_type": "code",
      "execution_count": null,
      "metadata": {
        "id": "M3I0u53YA0Te",
        "outputId": "b8e83268-1c86-4f11-9388-4cefe7cc3a0c"
      },
      "outputs": [
        {
          "name": "stdout",
          "output_type": "stream",
          "text": [
            "fedprox_10_fl_digits_50_10\n",
            "./data/fl_digits/fedprox\\para1\n",
            "{'mnist': 2, 'syn': 6, 'usps': 2}\n",
            "['mnist' 'syn' 'usps' 'mnist' 'syn' 'syn' 'syn' 'syn' 'usps' 'syn']\n",
            "Using downloaded and verified file: D:/doan/RethinkFL/pls/test_32x32.mat\n"
          ]
        },
        {
          "name": "stderr",
          "output_type": "stream",
          "text": [
            "Local Pariticipant 9 loss = 1.428: 100%|██████████| 10/10 [00:00<00:00, 14.10it/s]\n",
            "Local Pariticipant 0 loss = 0.339: 100%|██████████| 10/10 [00:06<00:00,  1.50it/s]\n",
            "Local Pariticipant 1 loss = 1.641: 100%|██████████| 10/10 [00:00<00:00, 14.19it/s]\n",
            "Local Pariticipant 8 loss = 1.004: 100%|██████████| 10/10 [00:01<00:00,  9.21it/s]\n",
            "Local Pariticipant 6 loss = 1.562: 100%|██████████| 10/10 [00:00<00:00, 14.39it/s]\n",
            "Local Pariticipant 3 loss = 0.273: 100%|██████████| 10/10 [00:06<00:00,  1.48it/s]\n",
            "Local Pariticipant 7 loss = 1.616: 100%|██████████| 10/10 [00:00<00:00, 14.70it/s]\n",
            "Local Pariticipant 2 loss = 0.708: 100%|██████████| 10/10 [00:01<00:00,  9.69it/s]\n",
            "Local Pariticipant 5 loss = 1.629: 100%|██████████| 10/10 [00:00<00:00, 14.39it/s]\n",
            "Local Pariticipant 4 loss = 1.561: 100%|██████████| 10/10 [00:00<00:00, 14.69it/s]\n"
          ]
        },
        {
          "name": "stdout",
          "output_type": "stream",
          "text": [
            "The 0 Communcation Accuracy: 11.855 Method: fedprox\n",
            "[11.35, 13.15, 12.84, 10.08]\n"
          ]
        },
        {
          "name": "stderr",
          "output_type": "stream",
          "text": [
            "Local Pariticipant 7 loss = 0.783: 100%|██████████| 10/10 [00:00<00:00, 14.22it/s]\n",
            "Local Pariticipant 6 loss = 1.046: 100%|██████████| 10/10 [00:00<00:00, 14.31it/s]\n",
            "Local Pariticipant 5 loss = 1.023: 100%|██████████| 10/10 [00:00<00:00, 14.21it/s]\n",
            "Local Pariticipant 9 loss = 0.922: 100%|██████████| 10/10 [00:00<00:00, 14.04it/s]\n",
            "Local Pariticipant 8 loss = 1.891: 100%|██████████| 10/10 [00:01<00:00,  9.63it/s]\n",
            "Local Pariticipant 0 loss = 0.181: 100%|██████████| 10/10 [00:06<00:00,  1.48it/s]\n",
            "Local Pariticipant 4 loss = 0.866: 100%|██████████| 10/10 [00:00<00:00, 14.41it/s]\n",
            "Local Pariticipant 2 loss = 0.592: 100%|██████████| 10/10 [00:01<00:00,  9.58it/s]\n",
            "Local Pariticipant 3 loss = 0.167: 100%|██████████| 10/10 [00:06<00:00,  1.48it/s]\n",
            "Local Pariticipant 1 loss = 1.068: 100%|██████████| 10/10 [00:00<00:00, 14.25it/s]\n"
          ]
        },
        {
          "name": "stdout",
          "output_type": "stream",
          "text": [
            "The 1 Communcation Accuracy: 26.56 Method: fedprox\n",
            "[46.52, 36.12, 8.77, 14.83]\n"
          ]
        },
        {
          "name": "stderr",
          "output_type": "stream",
          "text": [
            "Local Pariticipant 3 loss = 0.217: 100%|██████████| 10/10 [00:06<00:00,  1.46it/s]\n",
            "Local Pariticipant 8 loss = 0.520: 100%|██████████| 10/10 [00:01<00:00,  9.72it/s]\n",
            "Local Pariticipant 2 loss = 0.332: 100%|██████████| 10/10 [00:01<00:00,  9.64it/s]\n",
            "Local Pariticipant 6 loss = 0.763: 100%|██████████| 10/10 [00:00<00:00, 13.88it/s]\n",
            "Local Pariticipant 0 loss = 0.080: 100%|██████████| 10/10 [00:06<00:00,  1.46it/s]\n",
            "Local Pariticipant 9 loss = 1.092: 100%|██████████| 10/10 [00:00<00:00, 14.33it/s]\n",
            "Local Pariticipant 4 loss = 0.633: 100%|██████████| 10/10 [00:00<00:00, 14.30it/s]\n",
            "Local Pariticipant 1 loss = 0.721: 100%|██████████| 10/10 [00:00<00:00, 14.31it/s]\n",
            "Local Pariticipant 7 loss = 0.625: 100%|██████████| 10/10 [00:00<00:00, 13.91it/s]\n",
            "Local Pariticipant 5 loss = 1.050: 100%|██████████| 10/10 [00:00<00:00, 13.44it/s]\n"
          ]
        },
        {
          "name": "stdout",
          "output_type": "stream",
          "text": [
            "The 2 Communcation Accuracy: 38.955 Method: fedprox\n",
            "[83.38, 50.32, 7.7, 14.42]\n"
          ]
        },
        {
          "name": "stderr",
          "output_type": "stream",
          "text": [
            "Local Pariticipant 4 loss = 0.736: 100%|██████████| 10/10 [00:00<00:00, 13.78it/s]\n",
            "Local Pariticipant 1 loss = 0.639: 100%|██████████| 10/10 [00:00<00:00, 13.99it/s]\n",
            "Local Pariticipant 0 loss = 0.101: 100%|██████████| 10/10 [00:06<00:00,  1.47it/s]\n",
            "Local Pariticipant 6 loss = 0.687: 100%|██████████| 10/10 [00:00<00:00, 14.53it/s]\n",
            "Local Pariticipant 7 loss = 0.352: 100%|██████████| 10/10 [00:00<00:00, 14.27it/s]\n",
            "Local Pariticipant 8 loss = 1.795: 100%|██████████| 10/10 [00:01<00:00,  9.49it/s]\n",
            "Local Pariticipant 3 loss = 0.200: 100%|██████████| 10/10 [00:06<00:00,  1.46it/s]\n",
            "Local Pariticipant 5 loss = 0.670: 100%|██████████| 10/10 [00:00<00:00, 13.85it/s]\n",
            "Local Pariticipant 2 loss = 0.158: 100%|██████████| 10/10 [00:01<00:00,  9.56it/s]\n",
            "Local Pariticipant 9 loss = 0.584: 100%|██████████| 10/10 [00:00<00:00, 14.09it/s]\n"
          ]
        },
        {
          "name": "stdout",
          "output_type": "stream",
          "text": [
            "The 3 Communcation Accuracy: 47.332 Method: fedprox\n",
            "[84.23, 71.65, 9.28, 24.17]\n"
          ]
        },
        {
          "name": "stderr",
          "output_type": "stream",
          "text": [
            "Local Pariticipant 5 loss = 0.485: 100%|██████████| 10/10 [00:00<00:00, 13.40it/s]\n",
            "Local Pariticipant 4 loss = 0.548: 100%|██████████| 10/10 [00:00<00:00, 14.06it/s]\n",
            "Local Pariticipant 9 loss = 0.492: 100%|██████████| 10/10 [00:00<00:00, 14.06it/s]\n",
            "Local Pariticipant 7 loss = 0.551: 100%|██████████| 10/10 [00:00<00:00, 14.17it/s]\n",
            "Local Pariticipant 2 loss = 1.098: 100%|██████████| 10/10 [00:01<00:00,  9.35it/s]\n",
            "Local Pariticipant 0 loss = 0.030: 100%|██████████| 10/10 [00:06<00:00,  1.45it/s]\n",
            "Local Pariticipant 3 loss = 0.032: 100%|██████████| 10/10 [00:06<00:00,  1.46it/s]\n",
            "Local Pariticipant 6 loss = 0.474: 100%|██████████| 10/10 [00:00<00:00, 14.39it/s]\n",
            "Local Pariticipant 8 loss = 0.786: 100%|██████████| 10/10 [00:01<00:00,  9.36it/s]\n",
            "Local Pariticipant 1 loss = 0.540: 100%|██████████| 10/10 [00:00<00:00, 14.16it/s]\n"
          ]
        },
        {
          "name": "stdout",
          "output_type": "stream",
          "text": [
            "The 4 Communcation Accuracy: 42.85 Method: fedprox\n",
            "[92.83, 54.81, 7.26, 16.5]\n"
          ]
        },
        {
          "name": "stderr",
          "output_type": "stream",
          "text": [
            "Local Pariticipant 8 loss = 0.602: 100%|██████████| 10/10 [00:01<00:00,  9.47it/s]\n",
            "Local Pariticipant 7 loss = 0.390: 100%|██████████| 10/10 [00:00<00:00, 14.11it/s]\n",
            "Local Pariticipant 6 loss = 0.350: 100%|██████████| 10/10 [00:00<00:00, 14.13it/s]\n",
            "Local Pariticipant 2 loss = 0.343: 100%|██████████| 10/10 [00:01<00:00,  9.35it/s]\n",
            "Local Pariticipant 4 loss = 0.506: 100%|██████████| 10/10 [00:00<00:00, 14.42it/s]\n",
            "Local Pariticipant 0 loss = 0.069: 100%|██████████| 10/10 [00:06<00:00,  1.46it/s]\n",
            "Local Pariticipant 5 loss = 0.592: 100%|██████████| 10/10 [00:00<00:00, 14.20it/s]\n",
            "Local Pariticipant 1 loss = 0.583: 100%|██████████| 10/10 [00:00<00:00, 14.09it/s]\n",
            "Local Pariticipant 3 loss = 0.007: 100%|██████████| 10/10 [00:06<00:00,  1.45it/s]\n",
            "Local Pariticipant 9 loss = 0.390: 100%|██████████| 10/10 [00:00<00:00, 13.99it/s]\n"
          ]
        },
        {
          "name": "stdout",
          "output_type": "stream",
          "text": [
            "The 5 Communcation Accuracy: 46.58 Method: fedprox\n",
            "[91.62, 67.91, 7.79, 19.0]\n"
          ]
        },
        {
          "name": "stderr",
          "output_type": "stream",
          "text": [
            "Local Pariticipant 8 loss = 1.374: 100%|██████████| 10/10 [00:01<00:00,  9.31it/s]\n",
            "Local Pariticipant 4 loss = 0.323: 100%|██████████| 10/10 [00:00<00:00, 14.49it/s]\n",
            "Local Pariticipant 0 loss = 0.039: 100%|██████████| 10/10 [00:06<00:00,  1.46it/s]\n",
            "Local Pariticipant 1 loss = 0.338: 100%|██████████| 10/10 [00:00<00:00, 13.95it/s]\n",
            "Local Pariticipant 2 loss = 0.731: 100%|██████████| 10/10 [00:01<00:00,  9.44it/s]\n",
            "Local Pariticipant 9 loss = 0.404: 100%|██████████| 10/10 [00:00<00:00, 14.01it/s]\n",
            "Local Pariticipant 3 loss = 0.079: 100%|██████████| 10/10 [00:06<00:00,  1.44it/s]\n",
            "Local Pariticipant 7 loss = 0.328: 100%|██████████| 10/10 [00:00<00:00, 14.02it/s]\n",
            "Local Pariticipant 6 loss = 0.225: 100%|██████████| 10/10 [00:00<00:00, 14.01it/s]\n",
            "Local Pariticipant 5 loss = 0.370: 100%|██████████| 10/10 [00:00<00:00, 14.16it/s]\n"
          ]
        },
        {
          "name": "stdout",
          "output_type": "stream",
          "text": [
            "The 6 Communcation Accuracy: 46.42 Method: fedprox\n",
            "[93.94, 65.97, 7.35, 18.42]\n"
          ]
        },
        {
          "name": "stderr",
          "output_type": "stream",
          "text": [
            "Local Pariticipant 9 loss = 0.349: 100%|██████████| 10/10 [00:00<00:00, 13.69it/s]\n",
            "Local Pariticipant 0 loss = 0.087: 100%|██████████| 10/10 [00:07<00:00,  1.36it/s]\n",
            "Local Pariticipant 7 loss = 0.416: 100%|██████████| 10/10 [00:00<00:00, 13.50it/s]\n",
            "Local Pariticipant 6 loss = 0.425: 100%|██████████| 10/10 [00:00<00:00, 13.31it/s]\n",
            "Local Pariticipant 5 loss = 0.286: 100%|██████████| 10/10 [00:00<00:00, 12.92it/s]\n",
            "Local Pariticipant 4 loss = 0.489: 100%|██████████| 10/10 [00:00<00:00, 12.94it/s]\n",
            "Local Pariticipant 1 loss = 0.500: 100%|██████████| 10/10 [00:00<00:00, 12.98it/s]\n",
            "Local Pariticipant 2 loss = 0.899: 100%|██████████| 10/10 [00:01<00:00,  8.87it/s]\n",
            "Local Pariticipant 3 loss = 0.172: 100%|██████████| 10/10 [00:07<00:00,  1.37it/s]\n",
            "Local Pariticipant 8 loss = 3.068: 100%|██████████| 10/10 [00:01<00:00,  9.43it/s]\n"
          ]
        },
        {
          "name": "stdout",
          "output_type": "stream",
          "text": [
            "The 7 Communcation Accuracy: 45.665 Method: fedprox\n",
            "[93.86, 62.88, 7.34, 18.58]\n"
          ]
        },
        {
          "name": "stderr",
          "output_type": "stream",
          "text": [
            "Local Pariticipant 8 loss = 0.028: 100%|██████████| 10/10 [00:01<00:00,  9.30it/s]\n",
            "Local Pariticipant 0 loss = 0.012: 100%|██████████| 10/10 [00:06<00:00,  1.45it/s]\n",
            "Local Pariticipant 5 loss = 0.495: 100%|██████████| 10/10 [00:00<00:00, 14.07it/s]\n",
            "Local Pariticipant 3 loss = 0.016: 100%|██████████| 10/10 [00:06<00:00,  1.46it/s]\n",
            "Local Pariticipant 7 loss = 0.225: 100%|██████████| 10/10 [00:00<00:00, 13.79it/s]\n",
            "Local Pariticipant 4 loss = 0.355: 100%|██████████| 10/10 [00:00<00:00, 14.10it/s]\n",
            "Local Pariticipant 6 loss = 0.347: 100%|██████████| 10/10 [00:00<00:00, 13.54it/s]\n",
            "Local Pariticipant 9 loss = 0.329: 100%|██████████| 10/10 [00:00<00:00, 13.75it/s]\n",
            "Local Pariticipant 2 loss = 0.048: 100%|██████████| 10/10 [00:01<00:00,  9.26it/s]\n",
            "Local Pariticipant 1 loss = 0.176: 100%|██████████| 10/10 [00:00<00:00, 14.06it/s]\n"
          ]
        },
        {
          "name": "stdout",
          "output_type": "stream",
          "text": [
            "The 8 Communcation Accuracy: 49.9 Method: fedprox\n",
            "[94.99, 74.04, 8.15, 22.42]\n"
          ]
        },
        {
          "name": "stderr",
          "output_type": "stream",
          "text": [
            "Local Pariticipant 9 loss = 0.449: 100%|██████████| 10/10 [00:00<00:00, 13.48it/s]\n",
            "Local Pariticipant 1 loss = 0.208: 100%|██████████| 10/10 [00:00<00:00, 13.80it/s]\n",
            "Local Pariticipant 2 loss = 0.696: 100%|██████████| 10/10 [00:01<00:00,  9.15it/s]\n",
            "Local Pariticipant 3 loss = 0.040: 100%|██████████| 10/10 [00:07<00:00,  1.43it/s]\n",
            "Local Pariticipant 4 loss = 0.302: 100%|██████████| 10/10 [00:00<00:00, 14.36it/s]\n",
            "Local Pariticipant 5 loss = 0.268: 100%|██████████| 10/10 [00:00<00:00, 14.01it/s]\n",
            "Local Pariticipant 6 loss = 0.275: 100%|██████████| 10/10 [00:00<00:00, 14.00it/s]\n",
            "Local Pariticipant 7 loss = 0.444: 100%|██████████| 10/10 [00:00<00:00, 14.01it/s]\n",
            "Local Pariticipant 8 loss = 0.261: 100%|██████████| 10/10 [00:01<00:00,  9.44it/s]\n",
            "Local Pariticipant 0 loss = 0.008: 100%|██████████| 10/10 [00:06<00:00,  1.44it/s]\n"
          ]
        },
        {
          "name": "stdout",
          "output_type": "stream",
          "text": [
            "The 9 Communcation Accuracy: 49.505 Method: fedprox\n",
            "[95.26, 71.7, 8.39, 22.67]\n"
          ]
        },
        {
          "name": "stderr",
          "output_type": "stream",
          "text": [
            "Local Pariticipant 5 loss = 0.233: 100%|██████████| 10/10 [00:00<00:00, 14.00it/s]\n",
            "Local Pariticipant 2 loss = 1.209: 100%|██████████| 10/10 [00:01<00:00,  9.17it/s]\n",
            "Local Pariticipant 7 loss = 0.223: 100%|██████████| 10/10 [00:00<00:00, 13.73it/s]\n",
            "Local Pariticipant 4 loss = 0.347: 100%|██████████| 10/10 [00:00<00:00, 14.17it/s]\n",
            "Local Pariticipant 3 loss = 0.023: 100%|██████████| 10/10 [00:06<00:00,  1.45it/s]\n",
            "Local Pariticipant 1 loss = 0.236: 100%|██████████| 10/10 [00:00<00:00, 14.15it/s]\n",
            "Local Pariticipant 9 loss = 0.262: 100%|██████████| 10/10 [00:00<00:00, 13.95it/s]\n",
            "Local Pariticipant 8 loss = 0.103: 100%|██████████| 10/10 [00:01<00:00,  9.26it/s]\n",
            "Local Pariticipant 6 loss = 0.338: 100%|██████████| 10/10 [00:00<00:00, 14.10it/s]\n",
            "Local Pariticipant 0 loss = 0.016: 100%|██████████| 10/10 [00:06<00:00,  1.44it/s]\n"
          ]
        },
        {
          "name": "stdout",
          "output_type": "stream",
          "text": [
            "The 10 Communcation Accuracy: 48.19 Method: fedprox\n",
            "[94.62, 68.76, 7.71, 21.67]\n"
          ]
        },
        {
          "name": "stderr",
          "output_type": "stream",
          "text": [
            "Local Pariticipant 8 loss = 0.770: 100%|██████████| 10/10 [00:01<00:00,  9.33it/s]\n",
            "Local Pariticipant 4 loss = 0.156: 100%|██████████| 10/10 [00:00<00:00, 13.99it/s]\n",
            "Local Pariticipant 3 loss = 0.017: 100%|██████████| 10/10 [00:06<00:00,  1.45it/s]\n",
            "Local Pariticipant 0 loss = 0.024: 100%|██████████| 10/10 [00:06<00:00,  1.45it/s]\n",
            "Local Pariticipant 2 loss = 0.331: 100%|██████████| 10/10 [00:01<00:00,  9.24it/s]\n",
            "Local Pariticipant 1 loss = 0.246: 100%|██████████| 10/10 [00:00<00:00, 14.02it/s]\n",
            "Local Pariticipant 9 loss = 0.268: 100%|██████████| 10/10 [00:00<00:00, 14.14it/s]\n",
            "Local Pariticipant 7 loss = 0.247: 100%|██████████| 10/10 [00:00<00:00, 13.56it/s]\n",
            "Local Pariticipant 5 loss = 0.434: 100%|██████████| 10/10 [00:00<00:00, 13.69it/s]\n",
            "Local Pariticipant 6 loss = 0.357: 100%|██████████| 10/10 [00:00<00:00, 13.06it/s]\n"
          ]
        },
        {
          "name": "stdout",
          "output_type": "stream",
          "text": [
            "The 11 Communcation Accuracy: 50.353 Method: fedprox\n",
            "[94.51, 75.64, 8.09, 23.17]\n"
          ]
        },
        {
          "name": "stderr",
          "output_type": "stream",
          "text": [
            "Local Pariticipant 0 loss = 0.001: 100%|██████████| 10/10 [00:06<00:00,  1.45it/s]\n",
            "Local Pariticipant 4 loss = 0.355: 100%|██████████| 10/10 [00:00<00:00, 14.11it/s]\n",
            "Local Pariticipant 3 loss = 0.018: 100%|██████████| 10/10 [00:06<00:00,  1.46it/s]\n",
            "Local Pariticipant 5 loss = 0.406: 100%|██████████| 10/10 [00:00<00:00, 14.17it/s]\n",
            "Local Pariticipant 2 loss = 0.948: 100%|██████████| 10/10 [00:01<00:00,  9.41it/s]\n",
            "Local Pariticipant 8 loss = 1.176: 100%|██████████| 10/10 [00:01<00:00,  9.33it/s]\n",
            "Local Pariticipant 9 loss = 0.148: 100%|██████████| 10/10 [00:00<00:00, 14.16it/s]\n",
            "Local Pariticipant 7 loss = 0.317: 100%|██████████| 10/10 [00:00<00:00, 13.78it/s]\n",
            "Local Pariticipant 6 loss = 0.277: 100%|██████████| 10/10 [00:00<00:00, 13.45it/s]\n",
            "Local Pariticipant 1 loss = 0.073: 100%|██████████| 10/10 [00:00<00:00, 12.92it/s]\n"
          ]
        },
        {
          "name": "stdout",
          "output_type": "stream",
          "text": [
            "The 12 Communcation Accuracy: 49.512 Method: fedprox\n",
            "[95.91, 71.15, 8.16, 22.83]\n"
          ]
        },
        {
          "name": "stderr",
          "output_type": "stream",
          "text": [
            "Local Pariticipant 8 loss = 0.496: 100%|██████████| 10/10 [00:01<00:00,  9.39it/s]\n",
            "Local Pariticipant 1 loss = 0.156: 100%|██████████| 10/10 [00:00<00:00, 13.99it/s]\n",
            "Local Pariticipant 0 loss = 0.005: 100%|██████████| 10/10 [00:06<00:00,  1.43it/s]\n",
            "Local Pariticipant 6 loss = 0.277: 100%|██████████| 10/10 [00:00<00:00, 14.00it/s]\n",
            "Local Pariticipant 3 loss = 0.082: 100%|██████████| 10/10 [00:06<00:00,  1.44it/s]\n",
            "Local Pariticipant 5 loss = 0.232: 100%|██████████| 10/10 [00:00<00:00, 13.96it/s]\n",
            "Local Pariticipant 2 loss = 0.119: 100%|██████████| 10/10 [00:01<00:00,  9.36it/s]\n",
            "Local Pariticipant 9 loss = 0.175: 100%|██████████| 10/10 [00:00<00:00, 13.48it/s]\n",
            "Local Pariticipant 4 loss = 0.278: 100%|██████████| 10/10 [00:00<00:00, 13.90it/s]\n",
            "Local Pariticipant 7 loss = 0.376: 100%|██████████| 10/10 [00:00<00:00, 13.90it/s]\n"
          ]
        },
        {
          "name": "stdout",
          "output_type": "stream",
          "text": [
            "The 13 Communcation Accuracy: 51.88 Method: fedprox\n",
            "[96.38, 75.54, 10.43, 25.17]\n"
          ]
        },
        {
          "name": "stderr",
          "output_type": "stream",
          "text": [
            "Local Pariticipant 3 loss = 0.003: 100%|██████████| 10/10 [00:06<00:00,  1.45it/s]\n",
            "Local Pariticipant 7 loss = 0.169: 100%|██████████| 10/10 [00:00<00:00, 14.05it/s]\n",
            "Local Pariticipant 1 loss = 0.189: 100%|██████████| 10/10 [00:00<00:00, 13.92it/s]\n",
            "Local Pariticipant 6 loss = 0.092: 100%|██████████| 10/10 [00:00<00:00, 13.97it/s]\n",
            "Local Pariticipant 5 loss = 0.190: 100%|██████████| 10/10 [00:00<00:00, 13.93it/s]\n",
            "Local Pariticipant 8 loss = 0.656: 100%|██████████| 10/10 [00:01<00:00,  9.29it/s]\n",
            "Local Pariticipant 0 loss = 0.003: 100%|██████████| 10/10 [00:06<00:00,  1.43it/s]\n",
            "Local Pariticipant 4 loss = 0.223: 100%|██████████| 10/10 [00:00<00:00, 14.09it/s]\n",
            "Local Pariticipant 9 loss = 0.244: 100%|██████████| 10/10 [00:00<00:00, 13.62it/s]\n",
            "Local Pariticipant 2 loss = 2.260: 100%|██████████| 10/10 [00:01<00:00,  9.08it/s]\n"
          ]
        },
        {
          "name": "stdout",
          "output_type": "stream",
          "text": [
            "The 14 Communcation Accuracy: 52.245 Method: fedprox\n",
            "[95.56, 76.98, 10.36, 26.08]\n"
          ]
        },
        {
          "name": "stderr",
          "output_type": "stream",
          "text": [
            "Local Pariticipant 7 loss = 0.142: 100%|██████████| 10/10 [00:00<00:00, 13.56it/s]\n",
            "Local Pariticipant 2 loss = 0.646: 100%|██████████| 10/10 [00:01<00:00,  9.03it/s]\n",
            "Local Pariticipant 5 loss = 0.102: 100%|██████████| 10/10 [00:00<00:00, 14.16it/s]\n",
            "Local Pariticipant 1 loss = 0.208: 100%|██████████| 10/10 [00:00<00:00, 14.04it/s]\n",
            "Local Pariticipant 0 loss = 0.008: 100%|██████████| 10/10 [00:06<00:00,  1.43it/s]\n",
            "Local Pariticipant 3 loss = 0.099: 100%|██████████| 10/10 [00:07<00:00,  1.43it/s]\n",
            "Local Pariticipant 6 loss = 0.471: 100%|██████████| 10/10 [00:00<00:00, 13.83it/s]\n",
            "Local Pariticipant 4 loss = 0.121: 100%|██████████| 10/10 [00:00<00:00, 13.62it/s]\n",
            "Local Pariticipant 9 loss = 0.132: 100%|██████████| 10/10 [00:00<00:00, 14.06it/s]\n",
            "Local Pariticipant 8 loss = 0.371: 100%|██████████| 10/10 [00:01<00:00,  9.21it/s]\n"
          ]
        },
        {
          "name": "stdout",
          "output_type": "stream",
          "text": [
            "The 15 Communcation Accuracy: 52.802 Method: fedprox\n",
            "[96.31, 80.57, 8.58, 25.75]\n"
          ]
        },
        {
          "name": "stderr",
          "output_type": "stream",
          "text": [
            "Local Pariticipant 4 loss = 0.126: 100%|██████████| 10/10 [00:00<00:00, 13.25it/s]\n",
            "Local Pariticipant 0 loss = 0.018: 100%|██████████| 10/10 [00:06<00:00,  1.44it/s]\n",
            "Local Pariticipant 7 loss = 0.232: 100%|██████████| 10/10 [00:00<00:00, 14.08it/s]\n",
            "Local Pariticipant 1 loss = 0.137: 100%|██████████| 10/10 [00:00<00:00, 13.80it/s]\n",
            "Local Pariticipant 5 loss = 0.259: 100%|██████████| 10/10 [00:00<00:00, 13.76it/s]\n",
            "Local Pariticipant 3 loss = 0.010: 100%|██████████| 10/10 [00:06<00:00,  1.44it/s]\n",
            "Local Pariticipant 2 loss = 0.428: 100%|██████████| 10/10 [00:01<00:00,  9.33it/s]\n",
            "Local Pariticipant 8 loss = 0.125: 100%|██████████| 10/10 [00:01<00:00,  9.40it/s]\n",
            "Local Pariticipant 6 loss = 0.285: 100%|██████████| 10/10 [00:00<00:00, 13.97it/s]\n",
            "Local Pariticipant 9 loss = 0.226: 100%|██████████| 10/10 [00:00<00:00, 13.89it/s]\n"
          ]
        },
        {
          "name": "stdout",
          "output_type": "stream",
          "text": [
            "The 16 Communcation Accuracy: 52.092 Method: fedprox\n",
            "[94.59, 79.67, 9.11, 25.0]\n"
          ]
        },
        {
          "name": "stderr",
          "output_type": "stream",
          "text": [
            "Local Pariticipant 6 loss = 0.153: 100%|██████████| 10/10 [00:00<00:00, 13.76it/s]\n",
            "Local Pariticipant 8 loss = 0.835: 100%|██████████| 10/10 [00:01<00:00,  9.23it/s]\n",
            "Local Pariticipant 4 loss = 0.151: 100%|██████████| 10/10 [00:00<00:00, 13.73it/s]\n",
            "Local Pariticipant 9 loss = 0.094: 100%|██████████| 10/10 [00:00<00:00, 14.04it/s]\n",
            "Local Pariticipant 0 loss = 0.017: 100%|██████████| 10/10 [00:06<00:00,  1.44it/s]\n",
            "Local Pariticipant 3 loss = 0.016: 100%|██████████| 10/10 [00:06<00:00,  1.45it/s]\n",
            "Local Pariticipant 2 loss = 1.254: 100%|██████████| 10/10 [00:01<00:00,  9.39it/s]\n",
            "Local Pariticipant 7 loss = 0.134: 100%|██████████| 10/10 [00:00<00:00, 14.09it/s]\n",
            "Local Pariticipant 1 loss = 0.097: 100%|██████████| 10/10 [00:00<00:00, 14.11it/s]\n",
            "Local Pariticipant 5 loss = 0.285: 100%|██████████| 10/10 [00:00<00:00, 13.91it/s]\n"
          ]
        },
        {
          "name": "stdout",
          "output_type": "stream",
          "text": [
            "The 17 Communcation Accuracy: 53.352 Method: fedprox\n",
            "[95.94, 80.97, 9.67, 26.83]\n"
          ]
        },
        {
          "name": "stderr",
          "output_type": "stream",
          "text": [
            "Local Pariticipant 0 loss = 0.011: 100%|██████████| 10/10 [00:06<00:00,  1.44it/s]\n",
            "Local Pariticipant 6 loss = 0.207: 100%|██████████| 10/10 [00:00<00:00, 13.86it/s]\n",
            "Local Pariticipant 5 loss = 0.152: 100%|██████████| 10/10 [00:00<00:00, 13.44it/s]\n",
            "Local Pariticipant 8 loss = 0.705: 100%|██████████| 10/10 [00:01<00:00,  9.34it/s]\n",
            "Local Pariticipant 2 loss = 0.540: 100%|██████████| 10/10 [00:01<00:00,  9.17it/s]\n",
            "Local Pariticipant 7 loss = 0.133: 100%|██████████| 10/10 [00:00<00:00, 14.09it/s]\n",
            "Local Pariticipant 3 loss = 0.001: 100%|██████████| 10/10 [00:06<00:00,  1.43it/s]\n",
            "Local Pariticipant 4 loss = 0.139: 100%|██████████| 10/10 [00:00<00:00, 13.83it/s]\n",
            "Local Pariticipant 1 loss = 0.115: 100%|██████████| 10/10 [00:00<00:00, 14.21it/s]\n",
            "Local Pariticipant 9 loss = 0.145: 100%|██████████| 10/10 [00:00<00:00, 13.54it/s]\n"
          ]
        },
        {
          "name": "stdout",
          "output_type": "stream",
          "text": [
            "The 18 Communcation Accuracy: 52.993 Method: fedprox\n",
            "[95.42, 83.11, 8.27, 25.17]\n"
          ]
        },
        {
          "name": "stderr",
          "output_type": "stream",
          "text": [
            "Local Pariticipant 0 loss = 0.018: 100%|██████████| 10/10 [00:07<00:00,  1.41it/s]\n",
            "Local Pariticipant 7 loss = 0.052: 100%|██████████| 10/10 [00:00<00:00, 14.03it/s]\n",
            "Local Pariticipant 4 loss = 0.093: 100%|██████████| 10/10 [00:00<00:00, 13.92it/s]\n",
            "Local Pariticipant 8 loss = 0.787: 100%|██████████| 10/10 [00:01<00:00,  9.34it/s]\n",
            "Local Pariticipant 6 loss = 0.105: 100%|██████████| 10/10 [00:00<00:00, 13.55it/s]\n",
            "Local Pariticipant 9 loss = 0.154: 100%|██████████| 10/10 [00:00<00:00, 13.56it/s]\n",
            "Local Pariticipant 3 loss = 0.040: 100%|██████████| 10/10 [00:06<00:00,  1.44it/s]\n",
            "Local Pariticipant 1 loss = 0.221: 100%|██████████| 10/10 [00:00<00:00, 14.26it/s]\n",
            "Local Pariticipant 2 loss = 0.099: 100%|██████████| 10/10 [00:01<00:00,  9.37it/s]\n",
            "Local Pariticipant 5 loss = 0.406: 100%|██████████| 10/10 [00:00<00:00, 13.51it/s]\n"
          ]
        },
        {
          "name": "stdout",
          "output_type": "stream",
          "text": [
            "The 19 Communcation Accuracy: 47.98 Method: fedprox\n",
            "[95.72, 67.46, 7.74, 21.0]\n"
          ]
        },
        {
          "name": "stderr",
          "output_type": "stream",
          "text": [
            "Local Pariticipant 6 loss = 0.244: 100%|██████████| 10/10 [00:00<00:00, 13.53it/s]\n",
            "Local Pariticipant 4 loss = 0.077: 100%|██████████| 10/10 [00:00<00:00, 13.59it/s]\n",
            "Local Pariticipant 3 loss = 0.001: 100%|██████████| 10/10 [00:06<00:00,  1.44it/s]\n",
            "Local Pariticipant 7 loss = 0.086: 100%|██████████| 10/10 [00:00<00:00, 13.90it/s]\n",
            "Local Pariticipant 8 loss = 0.288: 100%|██████████| 10/10 [00:01<00:00,  9.40it/s]\n",
            "Local Pariticipant 0 loss = 0.010: 100%|██████████| 10/10 [00:06<00:00,  1.44it/s]\n",
            "Local Pariticipant 9 loss = 0.081: 100%|██████████| 10/10 [00:00<00:00, 13.73it/s]\n",
            "Local Pariticipant 1 loss = 0.115: 100%|██████████| 10/10 [00:00<00:00, 13.81it/s]\n",
            "Local Pariticipant 2 loss = 0.771: 100%|██████████| 10/10 [00:01<00:00,  9.22it/s]\n",
            "Local Pariticipant 5 loss = 0.142: 100%|██████████| 10/10 [00:00<00:00, 13.86it/s]\n"
          ]
        },
        {
          "name": "stdout",
          "output_type": "stream",
          "text": [
            "The 20 Communcation Accuracy: 51.46 Method: fedprox\n",
            "[95.76, 79.47, 7.78, 22.83]\n"
          ]
        },
        {
          "name": "stderr",
          "output_type": "stream",
          "text": [
            "Local Pariticipant 4 loss = 0.253: 100%|██████████| 10/10 [00:00<00:00, 13.60it/s]\n",
            "Local Pariticipant 9 loss = 0.118: 100%|██████████| 10/10 [00:00<00:00, 13.61it/s]\n",
            "Local Pariticipant 6 loss = 0.189: 100%|██████████| 10/10 [00:00<00:00, 13.80it/s]\n",
            "Local Pariticipant 5 loss = 0.073: 100%|██████████| 10/10 [00:00<00:00, 13.81it/s]\n",
            "Local Pariticipant 7 loss = 0.174: 100%|██████████| 10/10 [00:00<00:00, 13.66it/s]\n",
            "Local Pariticipant 1 loss = 0.043: 100%|██████████| 10/10 [00:00<00:00, 13.80it/s]\n",
            "Local Pariticipant 8 loss = 0.085: 100%|██████████| 10/10 [00:01<00:00,  9.07it/s]\n",
            "Local Pariticipant 0 loss = 0.027: 100%|██████████| 10/10 [00:06<00:00,  1.43it/s]\n",
            "Local Pariticipant 2 loss = 0.369: 100%|██████████| 10/10 [00:01<00:00,  9.23it/s]\n",
            "Local Pariticipant 3 loss = 0.003: 100%|██████████| 10/10 [00:06<00:00,  1.44it/s]\n"
          ]
        },
        {
          "name": "stdout",
          "output_type": "stream",
          "text": [
            "The 21 Communcation Accuracy: 51.422 Method: fedprox\n",
            "[96.85, 76.28, 8.31, 24.25]\n"
          ]
        },
        {
          "name": "stderr",
          "output_type": "stream",
          "text": [
            "Local Pariticipant 8 loss = 0.835: 100%|██████████| 10/10 [00:01<00:00,  8.65it/s]\n",
            "Local Pariticipant 4 loss = 0.185: 100%|██████████| 10/10 [00:00<00:00, 14.26it/s]\n",
            "Local Pariticipant 3 loss = 0.009: 100%|██████████| 10/10 [00:06<00:00,  1.46it/s]\n",
            "Local Pariticipant 6 loss = 0.178: 100%|██████████| 10/10 [00:00<00:00, 13.96it/s]\n",
            "Local Pariticipant 1 loss = 0.051: 100%|██████████| 10/10 [00:00<00:00, 14.22it/s]\n",
            "Local Pariticipant 0 loss = 0.003: 100%|██████████| 10/10 [00:06<00:00,  1.45it/s]\n",
            "Local Pariticipant 5 loss = 0.165: 100%|██████████| 10/10 [00:00<00:00, 14.11it/s]\n",
            "Local Pariticipant 7 loss = 0.075: 100%|██████████| 10/10 [00:00<00:00, 13.67it/s]\n",
            "Local Pariticipant 2 loss = 0.458: 100%|██████████| 10/10 [00:01<00:00,  9.26it/s]\n",
            "Local Pariticipant 9 loss = 0.223: 100%|██████████| 10/10 [00:00<00:00, 14.06it/s]\n"
          ]
        },
        {
          "name": "stdout",
          "output_type": "stream",
          "text": [
            "The 22 Communcation Accuracy: 53.088 Method: fedprox\n",
            "[96.68, 79.37, 9.8, 26.5]\n"
          ]
        },
        {
          "name": "stderr",
          "output_type": "stream",
          "text": [
            "Local Pariticipant 2 loss = 0.534: 100%|██████████| 10/10 [00:01<00:00,  9.17it/s]\n",
            "Local Pariticipant 6 loss = 0.082: 100%|██████████| 10/10 [00:00<00:00, 14.42it/s]\n",
            "Local Pariticipant 7 loss = 0.086: 100%|██████████| 10/10 [00:00<00:00, 13.96it/s]\n",
            "Local Pariticipant 0 loss = 0.000: 100%|██████████| 10/10 [00:06<00:00,  1.44it/s]\n",
            "Local Pariticipant 1 loss = 0.148: 100%|██████████| 10/10 [00:00<00:00, 14.06it/s]\n",
            "Local Pariticipant 3 loss = 0.002: 100%|██████████| 10/10 [00:06<00:00,  1.44it/s]\n",
            "Local Pariticipant 9 loss = 0.079: 100%|██████████| 10/10 [00:00<00:00, 13.94it/s]\n",
            "Local Pariticipant 5 loss = 0.167: 100%|██████████| 10/10 [00:00<00:00, 14.06it/s]\n",
            "Local Pariticipant 8 loss = 0.004: 100%|██████████| 10/10 [00:01<00:00,  9.12it/s]\n",
            "Local Pariticipant 4 loss = 0.189: 100%|██████████| 10/10 [00:00<00:00, 13.72it/s]\n"
          ]
        },
        {
          "name": "stdout",
          "output_type": "stream",
          "text": [
            "The 23 Communcation Accuracy: 54.475 Method: fedprox\n",
            "[96.41, 84.16, 9.25, 28.08]\n"
          ]
        },
        {
          "name": "stderr",
          "output_type": "stream",
          "text": [
            "Local Pariticipant 1 loss = 0.149: 100%|██████████| 10/10 [00:00<00:00, 13.77it/s]\n",
            "Local Pariticipant 8 loss = 0.313: 100%|██████████| 10/10 [00:01<00:00,  9.25it/s]\n",
            "Local Pariticipant 7 loss = 0.220: 100%|██████████| 10/10 [00:00<00:00, 14.01it/s]\n",
            "Local Pariticipant 2 loss = 0.254: 100%|██████████| 10/10 [00:01<00:00,  9.28it/s]\n",
            "Local Pariticipant 5 loss = 0.052: 100%|██████████| 10/10 [00:00<00:00, 14.15it/s]\n",
            "Local Pariticipant 4 loss = 0.033: 100%|██████████| 10/10 [00:00<00:00, 13.97it/s]\n",
            "Local Pariticipant 0 loss = 0.004: 100%|██████████| 10/10 [00:06<00:00,  1.44it/s]\n",
            "Local Pariticipant 9 loss = 0.098: 100%|██████████| 10/10 [00:00<00:00, 14.04it/s]\n",
            "Local Pariticipant 6 loss = 0.156: 100%|██████████| 10/10 [00:00<00:00, 14.10it/s]\n",
            "Local Pariticipant 3 loss = 0.005: 100%|██████████| 10/10 [00:07<00:00,  1.43it/s]\n"
          ]
        },
        {
          "name": "stdout",
          "output_type": "stream",
          "text": [
            "The 24 Communcation Accuracy: 53.188 Method: fedprox\n",
            "[96.12, 81.56, 8.99, 26.08]\n"
          ]
        },
        {
          "name": "stderr",
          "output_type": "stream",
          "text": [
            "Local Pariticipant 1 loss = 0.028: 100%|██████████| 10/10 [00:00<00:00, 13.88it/s]\n",
            "Local Pariticipant 5 loss = 0.132: 100%|██████████| 10/10 [00:00<00:00, 13.79it/s]\n",
            "Local Pariticipant 6 loss = 0.206: 100%|██████████| 10/10 [00:00<00:00, 13.87it/s]\n",
            "Local Pariticipant 4 loss = 0.102: 100%|██████████| 10/10 [00:00<00:00, 13.90it/s]\n",
            "Local Pariticipant 0 loss = 0.020: 100%|██████████| 10/10 [00:06<00:00,  1.45it/s]\n",
            "Local Pariticipant 7 loss = 0.117: 100%|██████████| 10/10 [00:00<00:00, 14.34it/s]\n",
            "Local Pariticipant 8 loss = 0.456: 100%|██████████| 10/10 [00:01<00:00,  9.27it/s]\n",
            "Local Pariticipant 3 loss = 0.023: 100%|██████████| 10/10 [00:06<00:00,  1.45it/s]\n",
            "Local Pariticipant 2 loss = 0.055: 100%|██████████| 10/10 [00:01<00:00,  9.25it/s]\n",
            "Local Pariticipant 9 loss = 0.156: 100%|██████████| 10/10 [00:00<00:00, 14.16it/s]\n"
          ]
        },
        {
          "name": "stdout",
          "output_type": "stream",
          "text": [
            "The 25 Communcation Accuracy: 52.647 Method: fedprox\n",
            "[96.72, 80.67, 8.12, 25.08]\n"
          ]
        },
        {
          "name": "stderr",
          "output_type": "stream",
          "text": [
            "Local Pariticipant 4 loss = 0.071: 100%|██████████| 10/10 [00:00<00:00, 13.65it/s]\n",
            "Local Pariticipant 1 loss = 0.118: 100%|██████████| 10/10 [00:00<00:00, 13.62it/s]\n",
            "Local Pariticipant 7 loss = 0.103: 100%|██████████| 10/10 [00:00<00:00, 14.02it/s]\n",
            "Local Pariticipant 2 loss = 0.031: 100%|██████████| 10/10 [00:01<00:00,  9.27it/s]\n",
            "Local Pariticipant 5 loss = 0.176: 100%|██████████| 10/10 [00:00<00:00, 14.08it/s]\n",
            "Local Pariticipant 9 loss = 0.108: 100%|██████████| 10/10 [00:00<00:00, 14.25it/s]\n",
            "Local Pariticipant 0 loss = 0.132: 100%|██████████| 10/10 [00:06<00:00,  1.43it/s]\n",
            "Local Pariticipant 8 loss = 0.726: 100%|██████████| 10/10 [00:01<00:00,  9.29it/s]\n",
            "Local Pariticipant 6 loss = 0.109: 100%|██████████| 10/10 [00:00<00:00, 14.10it/s]\n",
            "Local Pariticipant 3 loss = 0.021: 100%|██████████| 10/10 [00:06<00:00,  1.44it/s]\n"
          ]
        },
        {
          "name": "stdout",
          "output_type": "stream",
          "text": [
            "The 26 Communcation Accuracy: 53.89 Method: fedprox\n",
            "[96.45, 85.05, 7.89, 26.17]\n"
          ]
        },
        {
          "name": "stderr",
          "output_type": "stream",
          "text": [
            "Local Pariticipant 0 loss = 0.005: 100%|██████████| 10/10 [00:07<00:00,  1.42it/s]\n",
            "Local Pariticipant 7 loss = 0.099: 100%|██████████| 10/10 [00:00<00:00, 14.05it/s]\n",
            "Local Pariticipant 4 loss = 0.090: 100%|██████████| 10/10 [00:00<00:00, 13.73it/s]\n",
            "Local Pariticipant 9 loss = 0.086: 100%|██████████| 10/10 [00:00<00:00, 13.99it/s]\n",
            "Local Pariticipant 1 loss = 0.047: 100%|██████████| 10/10 [00:00<00:00, 13.58it/s]\n",
            "Local Pariticipant 2 loss = 0.446: 100%|██████████| 10/10 [00:01<00:00,  9.37it/s]\n",
            "Local Pariticipant 6 loss = 0.093: 100%|██████████| 10/10 [00:00<00:00, 13.79it/s]\n",
            "Local Pariticipant 8 loss = 0.201: 100%|██████████| 10/10 [00:01<00:00,  9.21it/s]\n",
            "Local Pariticipant 5 loss = 0.060: 100%|██████████| 10/10 [00:00<00:00, 13.85it/s]\n",
            "Local Pariticipant 3 loss = 0.055: 100%|██████████| 10/10 [00:06<00:00,  1.43it/s]\n"
          ]
        },
        {
          "name": "stdout",
          "output_type": "stream",
          "text": [
            "The 27 Communcation Accuracy: 52.19 Method: fedprox\n",
            "[96.41, 79.82, 8.36, 24.17]\n"
          ]
        },
        {
          "name": "stderr",
          "output_type": "stream",
          "text": [
            "Local Pariticipant 0 loss = 0.002: 100%|██████████| 10/10 [00:06<00:00,  1.45it/s]\n",
            "Local Pariticipant 7 loss = 0.129: 100%|██████████| 10/10 [00:00<00:00, 13.90it/s]\n",
            "Local Pariticipant 9 loss = 0.079: 100%|██████████| 10/10 [00:00<00:00, 13.99it/s]\n",
            "Local Pariticipant 4 loss = 0.087: 100%|██████████| 10/10 [00:00<00:00, 14.00it/s]\n",
            "Local Pariticipant 3 loss = 0.037: 100%|██████████| 10/10 [00:06<00:00,  1.43it/s]\n",
            "Local Pariticipant 6 loss = 0.043: 100%|██████████| 10/10 [00:00<00:00, 13.87it/s]\n",
            "Local Pariticipant 1 loss = 0.087: 100%|██████████| 10/10 [00:00<00:00, 13.57it/s]\n",
            "Local Pariticipant 8 loss = 0.823: 100%|██████████| 10/10 [00:01<00:00,  9.33it/s]\n",
            "Local Pariticipant 5 loss = 0.239: 100%|██████████| 10/10 [00:00<00:00, 14.25it/s]\n",
            "Local Pariticipant 2 loss = 0.176: 100%|██████████| 10/10 [00:01<00:00,  9.35it/s]\n"
          ]
        },
        {
          "name": "stdout",
          "output_type": "stream",
          "text": [
            "The 28 Communcation Accuracy: 52.082 Method: fedprox\n",
            "[96.35, 79.12, 8.36, 24.5]\n"
          ]
        },
        {
          "name": "stderr",
          "output_type": "stream",
          "text": [
            "Local Pariticipant 6 loss = 0.068: 100%|██████████| 10/10 [00:00<00:00, 13.69it/s]\n",
            "Local Pariticipant 5 loss = 0.064: 100%|██████████| 10/10 [00:00<00:00, 13.58it/s]\n",
            "Local Pariticipant 0 loss = 0.001: 100%|██████████| 10/10 [00:07<00:00,  1.42it/s]\n",
            "Local Pariticipant 7 loss = 0.032: 100%|██████████| 10/10 [00:00<00:00, 13.55it/s]\n",
            "Local Pariticipant 1 loss = 0.023: 100%|██████████| 10/10 [00:00<00:00, 14.09it/s]\n",
            "Local Pariticipant 9 loss = 0.085: 100%|██████████| 10/10 [00:00<00:00, 13.69it/s]\n",
            "Local Pariticipant 4 loss = 0.138: 100%|██████████| 10/10 [00:00<00:00, 13.69it/s]\n",
            "Local Pariticipant 2 loss = 2.403: 100%|██████████| 10/10 [00:01<00:00,  9.40it/s]\n",
            "Local Pariticipant 8 loss = 0.256: 100%|██████████| 10/10 [00:01<00:00,  9.16it/s]\n",
            "Local Pariticipant 3 loss = 0.002: 100%|██████████| 10/10 [00:06<00:00,  1.43it/s]\n"
          ]
        },
        {
          "name": "stdout",
          "output_type": "stream",
          "text": [
            "The 29 Communcation Accuracy: 52.94 Method: fedprox\n",
            "[96.6, 82.51, 7.82, 24.83]\n"
          ]
        },
        {
          "name": "stderr",
          "output_type": "stream",
          "text": [
            "Local Pariticipant 5 loss = 0.095: 100%|██████████| 10/10 [00:00<00:00, 13.37it/s]\n",
            "Local Pariticipant 4 loss = 0.080: 100%|██████████| 10/10 [00:00<00:00, 13.84it/s]\n",
            "Local Pariticipant 3 loss = 0.001: 100%|██████████| 10/10 [00:06<00:00,  1.44it/s]\n",
            "Local Pariticipant 6 loss = 0.192: 100%|██████████| 10/10 [00:00<00:00, 13.98it/s]\n",
            "Local Pariticipant 2 loss = 1.051: 100%|██████████| 10/10 [00:01<00:00,  9.51it/s]\n",
            "Local Pariticipant 1 loss = 0.047: 100%|██████████| 10/10 [00:00<00:00, 13.09it/s]\n",
            "Local Pariticipant 0 loss = 0.000: 100%|██████████| 10/10 [00:06<00:00,  1.44it/s]\n",
            "Local Pariticipant 8 loss = 1.026: 100%|██████████| 10/10 [00:01<00:00,  9.05it/s]\n",
            "Local Pariticipant 7 loss = 0.109: 100%|██████████| 10/10 [00:00<00:00, 12.64it/s]\n",
            "Local Pariticipant 9 loss = 0.071: 100%|██████████| 10/10 [00:00<00:00, 14.10it/s]\n"
          ]
        },
        {
          "name": "stdout",
          "output_type": "stream",
          "text": [
            "The 30 Communcation Accuracy: 54.142 Method: fedprox\n",
            "[96.3, 85.0, 8.94, 26.33]\n"
          ]
        },
        {
          "name": "stderr",
          "output_type": "stream",
          "text": [
            "Local Pariticipant 5 loss = 0.037: 100%|██████████| 10/10 [00:00<00:00, 13.43it/s]\n",
            "Local Pariticipant 0 loss = 0.014: 100%|██████████| 10/10 [00:06<00:00,  1.45it/s]\n",
            "Local Pariticipant 7 loss = 0.099: 100%|██████████| 10/10 [00:00<00:00, 13.74it/s]\n",
            "Local Pariticipant 3 loss = 0.001: 100%|██████████| 10/10 [00:06<00:00,  1.43it/s]\n",
            "Local Pariticipant 1 loss = 0.061: 100%|██████████| 10/10 [00:00<00:00, 14.03it/s]\n",
            "Local Pariticipant 8 loss = 0.183: 100%|██████████| 10/10 [00:01<00:00,  9.33it/s]\n",
            "Local Pariticipant 6 loss = 0.109: 100%|██████████| 10/10 [00:00<00:00, 13.85it/s]\n",
            "Local Pariticipant 9 loss = 0.110: 100%|██████████| 10/10 [00:00<00:00, 13.81it/s]\n",
            "Local Pariticipant 2 loss = 1.473: 100%|██████████| 10/10 [00:01<00:00,  9.22it/s]\n",
            "Local Pariticipant 4 loss = 0.069: 100%|██████████| 10/10 [00:00<00:00, 13.88it/s]\n"
          ]
        },
        {
          "name": "stdout",
          "output_type": "stream",
          "text": [
            "The 31 Communcation Accuracy: 54.17 Method: fedprox\n",
            "[97.06, 83.11, 9.26, 27.25]\n"
          ]
        },
        {
          "name": "stderr",
          "output_type": "stream",
          "text": [
            "Local Pariticipant 1 loss = 0.045: 100%|██████████| 10/10 [00:00<00:00, 13.61it/s]\n",
            "Local Pariticipant 3 loss = 0.003: 100%|██████████| 10/10 [00:06<00:00,  1.44it/s]\n",
            "Local Pariticipant 6 loss = 0.094: 100%|██████████| 10/10 [00:00<00:00, 14.04it/s]\n",
            "Local Pariticipant 4 loss = 0.135: 100%|██████████| 10/10 [00:00<00:00, 13.63it/s]\n",
            "Local Pariticipant 8 loss = 1.299: 100%|██████████| 10/10 [00:01<00:00,  9.29it/s]\n",
            "Local Pariticipant 7 loss = 0.054: 100%|██████████| 10/10 [00:00<00:00, 13.86it/s]\n",
            "Local Pariticipant 5 loss = 0.093: 100%|██████████| 10/10 [00:00<00:00, 14.16it/s]\n",
            "Local Pariticipant 0 loss = 0.001: 100%|██████████| 10/10 [00:06<00:00,  1.44it/s]\n",
            "Local Pariticipant 2 loss = 0.430: 100%|██████████| 10/10 [00:01<00:00,  9.32it/s]\n",
            "Local Pariticipant 9 loss = 0.210: 100%|██████████| 10/10 [00:00<00:00, 13.90it/s]\n"
          ]
        },
        {
          "name": "stdout",
          "output_type": "stream",
          "text": [
            "The 32 Communcation Accuracy: 54.537 Method: fedprox\n",
            "[96.72, 86.6, 8.41, 26.42]\n"
          ]
        },
        {
          "name": "stderr",
          "output_type": "stream",
          "text": [
            "Local Pariticipant 3 loss = 0.002: 100%|██████████| 10/10 [00:06<00:00,  1.44it/s]\n",
            "Local Pariticipant 1 loss = 0.223: 100%|██████████| 10/10 [00:00<00:00, 14.33it/s]\n",
            "Local Pariticipant 4 loss = 0.087: 100%|██████████| 10/10 [00:00<00:00, 14.01it/s]\n",
            "Local Pariticipant 6 loss = 0.144: 100%|██████████| 10/10 [00:00<00:00, 13.66it/s]\n",
            "Local Pariticipant 5 loss = 0.036: 100%|██████████| 10/10 [00:00<00:00, 13.97it/s]\n",
            "Local Pariticipant 8 loss = 0.688: 100%|██████████| 10/10 [00:01<00:00,  9.30it/s]\n",
            "Local Pariticipant 0 loss = 0.001: 100%|██████████| 10/10 [00:06<00:00,  1.44it/s]\n",
            "Local Pariticipant 7 loss = 0.078: 100%|██████████| 10/10 [00:00<00:00, 14.08it/s]\n",
            "Local Pariticipant 9 loss = 0.037: 100%|██████████| 10/10 [00:00<00:00, 13.74it/s]\n",
            "Local Pariticipant 2 loss = 0.363: 100%|██████████| 10/10 [00:01<00:00,  9.20it/s]\n"
          ]
        },
        {
          "name": "stdout",
          "output_type": "stream",
          "text": [
            "The 33 Communcation Accuracy: 53.728 Method: fedprox\n",
            "[96.83, 84.26, 8.4, 25.42]\n"
          ]
        },
        {
          "name": "stderr",
          "output_type": "stream",
          "text": [
            "Local Pariticipant 5 loss = 0.152: 100%|██████████| 10/10 [00:00<00:00, 12.89it/s]\n",
            "Local Pariticipant 6 loss = 0.087: 100%|██████████| 10/10 [00:00<00:00, 13.12it/s]\n",
            "Local Pariticipant 1 loss = 0.102: 100%|██████████| 10/10 [00:00<00:00, 13.82it/s]\n",
            "Local Pariticipant 2 loss = 0.373: 100%|██████████| 10/10 [00:01<00:00,  9.21it/s]\n",
            "Local Pariticipant 4 loss = 0.070: 100%|██████████| 10/10 [00:00<00:00, 13.23it/s]\n",
            "Local Pariticipant 8 loss = 0.295: 100%|██████████| 10/10 [00:01<00:00,  9.31it/s]\n",
            "Local Pariticipant 9 loss = 0.044: 100%|██████████| 10/10 [00:00<00:00, 13.79it/s]\n",
            "Local Pariticipant 0 loss = 0.001: 100%|██████████| 10/10 [00:06<00:00,  1.44it/s]\n",
            "Local Pariticipant 3 loss = 0.002: 100%|██████████| 10/10 [00:07<00:00,  1.42it/s]\n",
            "Local Pariticipant 7 loss = 0.061: 100%|██████████| 10/10 [00:00<00:00, 13.59it/s]\n"
          ]
        },
        {
          "name": "stdout",
          "output_type": "stream",
          "text": [
            "The 34 Communcation Accuracy: 52.815 Method: fedprox\n",
            "[96.21, 81.61, 8.36, 25.08]\n"
          ]
        },
        {
          "name": "stderr",
          "output_type": "stream",
          "text": [
            "Local Pariticipant 2 loss = 0.214: 100%|██████████| 10/10 [00:01<00:00,  9.33it/s]\n",
            "Local Pariticipant 6 loss = 0.142: 100%|██████████| 10/10 [00:00<00:00, 14.25it/s]\n",
            "Local Pariticipant 8 loss = 0.161: 100%|██████████| 10/10 [00:01<00:00,  9.09it/s]\n",
            "Local Pariticipant 3 loss = 0.001: 100%|██████████| 10/10 [00:06<00:00,  1.44it/s]\n",
            "Local Pariticipant 1 loss = 0.069: 100%|██████████| 10/10 [00:00<00:00, 14.22it/s]\n",
            "Local Pariticipant 9 loss = 0.060: 100%|██████████| 10/10 [00:00<00:00, 13.93it/s]\n",
            "Local Pariticipant 0 loss = 0.003: 100%|██████████| 10/10 [00:06<00:00,  1.45it/s]\n",
            "Local Pariticipant 4 loss = 0.100: 100%|██████████| 10/10 [00:00<00:00, 13.81it/s]\n",
            "Local Pariticipant 5 loss = 0.205: 100%|██████████| 10/10 [00:00<00:00, 13.73it/s]\n",
            "Local Pariticipant 7 loss = 0.034: 100%|██████████| 10/10 [00:00<00:00, 13.78it/s]\n"
          ]
        },
        {
          "name": "stdout",
          "output_type": "stream",
          "text": [
            "The 35 Communcation Accuracy: 53.74 Method: fedprox\n",
            "[97.03, 85.05, 7.96, 24.92]\n"
          ]
        },
        {
          "name": "stderr",
          "output_type": "stream",
          "text": [
            "Local Pariticipant 9 loss = 0.063: 100%|██████████| 10/10 [00:00<00:00, 13.69it/s]\n",
            "Local Pariticipant 0 loss = 0.048: 100%|██████████| 10/10 [00:06<00:00,  1.44it/s]\n",
            "Local Pariticipant 3 loss = 0.001: 100%|██████████| 10/10 [00:06<00:00,  1.45it/s]\n",
            "Local Pariticipant 6 loss = 0.274: 100%|██████████| 10/10 [00:00<00:00, 13.55it/s]\n",
            "Local Pariticipant 1 loss = 0.030: 100%|██████████| 10/10 [00:00<00:00, 13.93it/s]\n",
            "Local Pariticipant 8 loss = 0.132: 100%|██████████| 10/10 [00:01<00:00,  9.13it/s]\n",
            "Local Pariticipant 5 loss = 0.064: 100%|██████████| 10/10 [00:00<00:00, 13.77it/s]\n",
            "Local Pariticipant 4 loss = 0.079: 100%|██████████| 10/10 [00:00<00:00, 14.09it/s]\n",
            "Local Pariticipant 2 loss = 0.274: 100%|██████████| 10/10 [00:01<00:00,  9.26it/s]\n",
            "Local Pariticipant 7 loss = 0.033: 100%|██████████| 10/10 [00:00<00:00, 14.00it/s]\n"
          ]
        },
        {
          "name": "stdout",
          "output_type": "stream",
          "text": [
            "The 36 Communcation Accuracy: 53.963 Method: fedprox\n",
            "[97.11, 84.45, 8.46, 25.83]\n"
          ]
        },
        {
          "name": "stderr",
          "output_type": "stream",
          "text": [
            "Local Pariticipant 7 loss = 0.145: 100%|██████████| 10/10 [00:00<00:00, 13.90it/s]\n",
            "Local Pariticipant 4 loss = 0.116: 100%|██████████| 10/10 [00:00<00:00, 13.82it/s]\n",
            "Local Pariticipant 1 loss = 0.034: 100%|██████████| 10/10 [00:00<00:00, 13.90it/s]\n",
            "Local Pariticipant 2 loss = 0.026: 100%|██████████| 10/10 [00:01<00:00,  9.31it/s]\n",
            "Local Pariticipant 3 loss = 0.001: 100%|██████████| 10/10 [00:06<00:00,  1.44it/s]\n",
            "Local Pariticipant 6 loss = 0.054: 100%|██████████| 10/10 [00:00<00:00, 14.18it/s]\n",
            "Local Pariticipant 9 loss = 0.064: 100%|██████████| 10/10 [00:00<00:00, 13.96it/s]\n",
            "Local Pariticipant 0 loss = 0.001: 100%|██████████| 10/10 [00:06<00:00,  1.44it/s]\n",
            "Local Pariticipant 8 loss = 1.679: 100%|██████████| 10/10 [00:01<00:00,  9.32it/s]\n",
            "Local Pariticipant 5 loss = 0.058: 100%|██████████| 10/10 [00:00<00:00, 13.97it/s]\n"
          ]
        },
        {
          "name": "stdout",
          "output_type": "stream",
          "text": [
            "The 37 Communcation Accuracy: 55.055 Method: fedprox\n",
            "[96.61, 86.45, 9.08, 28.08]\n"
          ]
        },
        {
          "name": "stderr",
          "output_type": "stream",
          "text": [
            "Local Pariticipant 0 loss = 0.000: 100%|██████████| 10/10 [00:06<00:00,  1.43it/s]\n",
            "Local Pariticipant 8 loss = 0.209: 100%|██████████| 10/10 [00:01<00:00,  9.50it/s]\n",
            "Local Pariticipant 4 loss = 0.071: 100%|██████████| 10/10 [00:00<00:00, 14.06it/s]\n",
            "Local Pariticipant 1 loss = 0.046: 100%|██████████| 10/10 [00:00<00:00, 13.96it/s]\n",
            "Local Pariticipant 2 loss = 0.189: 100%|██████████| 10/10 [00:01<00:00,  9.42it/s]\n",
            "Local Pariticipant 9 loss = 0.108: 100%|██████████| 10/10 [00:00<00:00, 13.91it/s]\n",
            "Local Pariticipant 7 loss = 0.050: 100%|██████████| 10/10 [00:00<00:00, 13.73it/s]\n",
            "Local Pariticipant 3 loss = 0.001: 100%|██████████| 10/10 [00:06<00:00,  1.44it/s]\n",
            "Local Pariticipant 5 loss = 0.044: 100%|██████████| 10/10 [00:00<00:00, 14.01it/s]\n",
            "Local Pariticipant 6 loss = 0.077: 100%|██████████| 10/10 [00:00<00:00, 13.73it/s]\n"
          ]
        },
        {
          "name": "stdout",
          "output_type": "stream",
          "text": [
            "The 38 Communcation Accuracy: 54.405 Method: fedprox\n",
            "[96.91, 84.95, 8.84, 26.92]\n"
          ]
        },
        {
          "name": "stderr",
          "output_type": "stream",
          "text": [
            "Local Pariticipant 6 loss = 0.136: 100%|██████████| 10/10 [00:00<00:00, 13.82it/s]\n",
            "Local Pariticipant 1 loss = 0.051: 100%|██████████| 10/10 [00:00<00:00, 13.58it/s]\n",
            "Local Pariticipant 8 loss = 0.006: 100%|██████████| 10/10 [00:01<00:00,  9.33it/s]\n",
            "Local Pariticipant 4 loss = 0.224: 100%|██████████| 10/10 [00:00<00:00, 14.03it/s]\n",
            "Local Pariticipant 3 loss = 0.008: 100%|██████████| 10/10 [00:06<00:00,  1.45it/s]\n",
            "Local Pariticipant 0 loss = 0.002: 100%|██████████| 10/10 [00:06<00:00,  1.43it/s]\n",
            "Local Pariticipant 2 loss = 1.182: 100%|██████████| 10/10 [00:01<00:00,  9.46it/s]\n",
            "Local Pariticipant 7 loss = 0.029: 100%|██████████| 10/10 [00:00<00:00, 13.74it/s]\n",
            "Local Pariticipant 9 loss = 0.046: 100%|██████████| 10/10 [00:00<00:00, 14.03it/s]\n",
            "Local Pariticipant 5 loss = 0.064: 100%|██████████| 10/10 [00:00<00:00, 13.89it/s]\n"
          ]
        },
        {
          "name": "stdout",
          "output_type": "stream",
          "text": [
            "The 39 Communcation Accuracy: 54.707 Method: fedprox\n",
            "[96.69, 86.45, 8.27, 27.42]\n"
          ]
        },
        {
          "name": "stderr",
          "output_type": "stream",
          "text": [
            "Local Pariticipant 8 loss = 0.755: 100%|██████████| 10/10 [00:01<00:00,  9.08it/s]\n",
            "Local Pariticipant 0 loss = 0.001: 100%|██████████| 10/10 [00:06<00:00,  1.45it/s]\n",
            "Local Pariticipant 5 loss = 0.194: 100%|██████████| 10/10 [00:00<00:00, 14.07it/s]\n",
            "Local Pariticipant 1 loss = 0.028: 100%|██████████| 10/10 [00:00<00:00, 13.98it/s]\n",
            "Local Pariticipant 3 loss = 0.030: 100%|██████████| 10/10 [00:06<00:00,  1.45it/s]\n",
            "Local Pariticipant 6 loss = 0.145: 100%|██████████| 10/10 [00:00<00:00, 13.86it/s]\n",
            "Local Pariticipant 7 loss = 0.054: 100%|██████████| 10/10 [00:00<00:00, 13.22it/s]\n",
            "Local Pariticipant 4 loss = 0.072: 100%|██████████| 10/10 [00:00<00:00, 13.78it/s]\n",
            "Local Pariticipant 9 loss = 0.082: 100%|██████████| 10/10 [00:00<00:00, 13.29it/s]\n",
            "Local Pariticipant 2 loss = 0.785: 100%|██████████| 10/10 [00:01<00:00,  9.34it/s]\n"
          ]
        },
        {
          "name": "stdout",
          "output_type": "stream",
          "text": [
            "The 40 Communcation Accuracy: 55.692 Method: fedprox\n",
            "[96.54, 87.79, 9.11, 29.33]\n"
          ]
        },
        {
          "name": "stderr",
          "output_type": "stream",
          "text": [
            "Local Pariticipant 1 loss = 0.022: 100%|██████████| 10/10 [00:00<00:00, 13.58it/s]\n",
            "Local Pariticipant 0 loss = 0.002: 100%|██████████| 10/10 [00:06<00:00,  1.44it/s]\n",
            "Local Pariticipant 4 loss = 0.069: 100%|██████████| 10/10 [00:00<00:00, 14.27it/s]\n",
            "Local Pariticipant 9 loss = 0.070: 100%|██████████| 10/10 [00:00<00:00, 14.22it/s]\n",
            "Local Pariticipant 8 loss = 1.423: 100%|██████████| 10/10 [00:01<00:00,  9.40it/s]\n",
            "Local Pariticipant 2 loss = 1.686: 100%|██████████| 10/10 [00:01<00:00,  9.37it/s]\n",
            "Local Pariticipant 3 loss = 0.001: 100%|██████████| 10/10 [00:06<00:00,  1.43it/s]\n",
            "Local Pariticipant 7 loss = 0.152: 100%|██████████| 10/10 [00:00<00:00, 14.24it/s]\n",
            "Local Pariticipant 6 loss = 0.052: 100%|██████████| 10/10 [00:00<00:00, 13.52it/s]\n",
            "Local Pariticipant 5 loss = 0.062: 100%|██████████| 10/10 [00:00<00:00, 13.73it/s]\n"
          ]
        },
        {
          "name": "stdout",
          "output_type": "stream",
          "text": [
            "The 41 Communcation Accuracy: 55.205 Method: fedprox\n",
            "[96.86, 88.04, 8.34, 27.58]\n"
          ]
        },
        {
          "name": "stderr",
          "output_type": "stream",
          "text": [
            "Local Pariticipant 6 loss = 0.048: 100%|██████████| 10/10 [00:00<00:00, 13.84it/s]\n",
            "Local Pariticipant 2 loss = 0.059: 100%|██████████| 10/10 [00:01<00:00,  9.03it/s]\n",
            "Local Pariticipant 8 loss = 0.014: 100%|██████████| 10/10 [00:01<00:00,  9.33it/s]\n",
            "Local Pariticipant 7 loss = 0.029: 100%|██████████| 10/10 [00:00<00:00, 13.95it/s]\n",
            "Local Pariticipant 5 loss = 0.085: 100%|██████████| 10/10 [00:00<00:00, 13.79it/s]\n",
            "Local Pariticipant 1 loss = 0.040: 100%|██████████| 10/10 [00:00<00:00, 13.83it/s]\n",
            "Local Pariticipant 0 loss = 0.001: 100%|██████████| 10/10 [00:06<00:00,  1.45it/s]\n",
            "Local Pariticipant 9 loss = 0.060: 100%|██████████| 10/10 [00:00<00:00, 13.31it/s]\n",
            "Local Pariticipant 3 loss = 0.002: 100%|██████████| 10/10 [00:06<00:00,  1.45it/s]\n",
            "Local Pariticipant 4 loss = 0.063: 100%|██████████| 10/10 [00:00<00:00, 14.14it/s]\n"
          ]
        },
        {
          "name": "stdout",
          "output_type": "stream",
          "text": [
            "The 42 Communcation Accuracy: 55.24 Method: fedprox\n",
            "[96.86, 86.95, 8.65, 28.5]\n"
          ]
        },
        {
          "name": "stderr",
          "output_type": "stream",
          "text": [
            "Local Pariticipant 6 loss = 0.052: 100%|██████████| 10/10 [00:00<00:00, 13.48it/s]\n",
            "Local Pariticipant 4 loss = 0.093: 100%|██████████| 10/10 [00:00<00:00, 13.98it/s]\n",
            "Local Pariticipant 2 loss = 0.044: 100%|██████████| 10/10 [00:01<00:00,  9.30it/s]\n",
            "Local Pariticipant 7 loss = 0.040: 100%|██████████| 10/10 [00:00<00:00, 13.89it/s]\n",
            "Local Pariticipant 3 loss = 0.003: 100%|██████████| 10/10 [00:06<00:00,  1.46it/s]\n",
            "Local Pariticipant 9 loss = 0.013: 100%|██████████| 10/10 [00:00<00:00, 13.95it/s]\n",
            "Local Pariticipant 0 loss = 0.001: 100%|██████████| 10/10 [00:06<00:00,  1.44it/s]\n",
            "Local Pariticipant 5 loss = 0.053: 100%|██████████| 10/10 [00:00<00:00, 13.97it/s]\n",
            "Local Pariticipant 1 loss = 0.045: 100%|██████████| 10/10 [00:00<00:00, 13.73it/s]\n",
            "Local Pariticipant 8 loss = 0.111: 100%|██████████| 10/10 [00:01<00:00,  9.41it/s]\n"
          ]
        },
        {
          "name": "stdout",
          "output_type": "stream",
          "text": [
            "The 43 Communcation Accuracy: 54.872 Method: fedprox\n",
            "[97.11, 87.29, 8.26, 26.83]\n"
          ]
        },
        {
          "name": "stderr",
          "output_type": "stream",
          "text": [
            "Local Pariticipant 4 loss = 0.055: 100%|██████████| 10/10 [00:00<00:00, 12.99it/s]\n",
            "Local Pariticipant 7 loss = 0.051: 100%|██████████| 10/10 [00:00<00:00, 13.54it/s]\n",
            "Local Pariticipant 6 loss = 0.032: 100%|██████████| 10/10 [00:00<00:00, 13.81it/s]\n",
            "Local Pariticipant 9 loss = 0.039: 100%|██████████| 10/10 [00:00<00:00, 13.80it/s]\n",
            "Local Pariticipant 0 loss = 0.002: 100%|██████████| 10/10 [00:06<00:00,  1.45it/s]\n",
            "Local Pariticipant 5 loss = 0.047: 100%|██████████| 10/10 [00:00<00:00, 13.94it/s]\n",
            "Local Pariticipant 1 loss = 0.042: 100%|██████████| 10/10 [00:00<00:00, 13.68it/s]\n",
            "Local Pariticipant 3 loss = 0.002: 100%|██████████| 10/10 [00:06<00:00,  1.45it/s]\n",
            "Local Pariticipant 8 loss = 0.190: 100%|██████████| 10/10 [00:01<00:00,  9.20it/s]\n",
            "Local Pariticipant 2 loss = 0.431: 100%|██████████| 10/10 [00:01<00:00,  9.01it/s]\n"
          ]
        },
        {
          "name": "stdout",
          "output_type": "stream",
          "text": [
            "The 44 Communcation Accuracy: 55.112 Method: fedprox\n",
            "[96.96, 88.24, 8.08, 27.17]\n"
          ]
        },
        {
          "name": "stderr",
          "output_type": "stream",
          "text": [
            "Local Pariticipant 5 loss = 0.030: 100%|██████████| 10/10 [00:00<00:00, 13.80it/s]\n",
            "Local Pariticipant 7 loss = 0.083: 100%|██████████| 10/10 [00:00<00:00, 13.40it/s]\n",
            "Local Pariticipant 6 loss = 0.106: 100%|██████████| 10/10 [00:00<00:00, 13.90it/s]\n",
            "Local Pariticipant 1 loss = 0.057: 100%|██████████| 10/10 [00:00<00:00, 13.95it/s]\n",
            "Local Pariticipant 9 loss = 0.033: 100%|██████████| 10/10 [00:00<00:00, 13.28it/s]\n",
            "Local Pariticipant 2 loss = 0.840: 100%|██████████| 10/10 [00:01<00:00,  9.22it/s]\n",
            "Local Pariticipant 8 loss = 0.196: 100%|██████████| 10/10 [00:01<00:00,  9.24it/s]\n",
            "Local Pariticipant 4 loss = 0.046: 100%|██████████| 10/10 [00:00<00:00, 13.94it/s]\n",
            "Local Pariticipant 3 loss = 0.020: 100%|██████████| 10/10 [00:06<00:00,  1.45it/s]\n",
            "Local Pariticipant 0 loss = 0.001: 100%|██████████| 10/10 [00:06<00:00,  1.44it/s]\n"
          ]
        },
        {
          "name": "stdout",
          "output_type": "stream",
          "text": [
            "The 45 Communcation Accuracy: 55.282 Method: fedprox\n",
            "[96.88, 87.94, 8.39, 27.92]\n"
          ]
        },
        {
          "name": "stderr",
          "output_type": "stream",
          "text": [
            "Local Pariticipant 1 loss = 0.011: 100%|██████████| 10/10 [00:00<00:00, 13.41it/s]\n",
            "Local Pariticipant 5 loss = 0.031: 100%|██████████| 10/10 [00:00<00:00, 13.32it/s]\n",
            "Local Pariticipant 6 loss = 0.093: 100%|██████████| 10/10 [00:00<00:00, 13.56it/s]\n",
            "Local Pariticipant 7 loss = 0.085: 100%|██████████| 10/10 [00:00<00:00, 14.07it/s]\n",
            "Local Pariticipant 8 loss = 0.186: 100%|██████████| 10/10 [00:01<00:00,  9.38it/s]\n",
            "Local Pariticipant 9 loss = 0.071: 100%|██████████| 10/10 [00:00<00:00, 13.71it/s]\n",
            "Local Pariticipant 4 loss = 0.156: 100%|██████████| 10/10 [00:00<00:00, 14.24it/s]\n",
            "Local Pariticipant 2 loss = 0.269: 100%|██████████| 10/10 [00:01<00:00,  9.34it/s]\n",
            "Local Pariticipant 0 loss = 0.001: 100%|██████████| 10/10 [00:06<00:00,  1.45it/s]\n",
            "Local Pariticipant 3 loss = 0.001: 100%|██████████| 10/10 [00:06<00:00,  1.45it/s]\n"
          ]
        },
        {
          "name": "stdout",
          "output_type": "stream",
          "text": [
            "The 46 Communcation Accuracy: 55.502 Method: fedprox\n",
            "[97.19, 88.24, 8.16, 28.42]\n"
          ]
        },
        {
          "name": "stderr",
          "output_type": "stream",
          "text": [
            "Local Pariticipant 7 loss = 0.051: 100%|██████████| 10/10 [00:00<00:00, 13.78it/s]\n",
            "Local Pariticipant 6 loss = 0.015: 100%|██████████| 10/10 [00:00<00:00, 13.90it/s]\n",
            "Local Pariticipant 2 loss = 1.897: 100%|██████████| 10/10 [00:01<00:00,  9.09it/s]\n",
            "Local Pariticipant 3 loss = 0.003: 100%|██████████| 10/10 [00:06<00:00,  1.45it/s]\n",
            "Local Pariticipant 5 loss = 0.093: 100%|██████████| 10/10 [00:00<00:00, 13.93it/s]\n",
            "Local Pariticipant 9 loss = 0.025: 100%|██████████| 10/10 [00:00<00:00, 14.15it/s]\n",
            "Local Pariticipant 8 loss = 2.276: 100%|██████████| 10/10 [00:01<00:00,  9.30it/s]\n",
            "Local Pariticipant 4 loss = 0.106: 100%|██████████| 10/10 [00:00<00:00, 13.99it/s]\n",
            "Local Pariticipant 1 loss = 0.146: 100%|██████████| 10/10 [00:00<00:00, 13.47it/s]\n",
            "Local Pariticipant 0 loss = 0.000: 100%|██████████| 10/10 [00:06<00:00,  1.45it/s]\n"
          ]
        },
        {
          "name": "stdout",
          "output_type": "stream",
          "text": [
            "The 47 Communcation Accuracy: 56.287 Method: fedprox\n",
            "[96.47, 88.74, 9.44, 30.5]\n"
          ]
        },
        {
          "name": "stderr",
          "output_type": "stream",
          "text": [
            "Local Pariticipant 5 loss = 0.172: 100%|██████████| 10/10 [00:00<00:00, 13.82it/s]\n",
            "Local Pariticipant 3 loss = 0.002: 100%|██████████| 10/10 [00:06<00:00,  1.43it/s]\n",
            "Local Pariticipant 1 loss = 0.044: 100%|██████████| 10/10 [00:00<00:00, 13.80it/s]\n",
            "Local Pariticipant 9 loss = 0.036: 100%|██████████| 10/10 [00:00<00:00, 14.29it/s]\n",
            "Local Pariticipant 2 loss = 1.565: 100%|██████████| 10/10 [00:01<00:00,  8.94it/s]\n",
            "Local Pariticipant 4 loss = 0.025: 100%|██████████| 10/10 [00:00<00:00, 13.39it/s]\n",
            "Local Pariticipant 0 loss = 0.000: 100%|██████████| 10/10 [00:06<00:00,  1.43it/s]\n",
            "Local Pariticipant 8 loss = 0.153: 100%|██████████| 10/10 [00:01<00:00,  9.26it/s]\n",
            "Local Pariticipant 6 loss = 0.042: 100%|██████████| 10/10 [00:00<00:00, 13.87it/s]\n",
            "Local Pariticipant 7 loss = 0.015: 100%|██████████| 10/10 [00:00<00:00, 13.94it/s]\n"
          ]
        },
        {
          "name": "stdout",
          "output_type": "stream",
          "text": [
            "The 48 Communcation Accuracy: 54.112 Method: fedprox\n",
            "[96.71, 83.86, 9.38, 26.5]\n"
          ]
        },
        {
          "name": "stderr",
          "output_type": "stream",
          "text": [
            "Local Pariticipant 3 loss = 0.004: 100%|██████████| 10/10 [00:06<00:00,  1.45it/s]\n",
            "Local Pariticipant 2 loss = 0.351: 100%|██████████| 10/10 [00:01<00:00,  7.34it/s]\n",
            "Local Pariticipant 8 loss = 0.436: 100%|██████████| 10/10 [00:01<00:00,  6.30it/s]\n",
            "Local Pariticipant 6 loss = 0.018: 100%|██████████| 10/10 [00:00<00:00, 12.60it/s]\n",
            "Local Pariticipant 1 loss = 0.044: 100%|██████████| 10/10 [00:00<00:00, 11.45it/s]\n",
            "Local Pariticipant 7 loss = 0.045: 100%|██████████| 10/10 [00:00<00:00, 11.19it/s]\n",
            "Local Pariticipant 4 loss = 0.019: 100%|██████████| 10/10 [00:00<00:00, 13.15it/s]\n",
            "Local Pariticipant 9 loss = 0.034: 100%|██████████| 10/10 [00:00<00:00, 13.66it/s]\n",
            "Local Pariticipant 5 loss = 0.056: 100%|██████████| 10/10 [00:00<00:00, 13.41it/s]\n",
            "Local Pariticipant 0 loss = 0.000: 100%|██████████| 10/10 [00:07<00:00,  1.33it/s]\n"
          ]
        },
        {
          "name": "stdout",
          "output_type": "stream",
          "text": [
            "The 49 Communcation Accuracy: 55.158 Method: fedprox\n",
            "[97.03, 86.95, 9.15, 27.5]\n"
          ]
        }
      ],
      "source": [
        "%run \"main.py\" --model fedprox --dataset fl_digits"
      ]
    },
    {
      "cell_type": "code",
      "execution_count": null,
      "metadata": {
        "id": "KbitSvIisIvy",
        "outputId": "2cb39f18-d8f3-4bd5-ff76-5ec2ac9d56a4"
      },
      "outputs": [
        {
          "name": "stdout",
          "output_type": "stream",
          "text": [
            "moon_10_fl_digits_50_10\n",
            "./data/fl_digits/moon\\para1\n",
            "{'mnist': 2, 'syn': 6, 'usps': 2}\n",
            "['mnist' 'syn' 'usps' 'mnist' 'syn' 'syn' 'syn' 'syn' 'usps' 'syn']\n",
            "Using downloaded and verified file: D:/doan/RethinkFL/pls/test_32x32.mat\n"
          ]
        },
        {
          "name": "stderr",
          "output_type": "stream",
          "text": [
            "Local Pariticipant 9 CE = 1.468,CON = 2.502: 100%|██████████| 10/10 [00:01<00:00,  8.01it/s]\n",
            "Local Pariticipant 2 CE = 1.678,CON = 2.828: 100%|██████████| 10/10 [00:01<00:00,  5.37it/s]\n",
            "Local Pariticipant 1 CE = 1.689,CON = 2.644: 100%|██████████| 10/10 [00:01<00:00,  8.18it/s]\n",
            "Local Pariticipant 0 CE = 0.545,CON = 3.466: 100%|██████████| 10/10 [00:13<00:00,  1.37s/it]\n",
            "Local Pariticipant 3 CE = 0.437,CON = 2.896: 100%|██████████| 10/10 [00:14<00:00,  1.43s/it]\n",
            "Local Pariticipant 7 CE = 1.658,CON = 2.475: 100%|██████████| 10/10 [00:01<00:00,  7.76it/s]\n",
            "Local Pariticipant 5 CE = 1.624,CON = 2.540: 100%|██████████| 10/10 [00:01<00:00,  7.60it/s]\n",
            "Local Pariticipant 4 CE = 1.566,CON = 2.516: 100%|██████████| 10/10 [00:01<00:00,  7.76it/s]\n",
            "Local Pariticipant 6 CE = 1.581,CON = 2.559: 100%|██████████| 10/10 [00:01<00:00,  7.94it/s]\n",
            "Local Pariticipant 8 CE = 1.677,CON = 3.028: 100%|██████████| 10/10 [00:01<00:00,  5.06it/s]\n"
          ]
        },
        {
          "name": "stdout",
          "output_type": "stream",
          "text": [
            "The 0 Communcation Accuracy: 14.042 Method: moon\n",
            "[16.09, 13.15, 17.43, 9.5]\n"
          ]
        },
        {
          "name": "stderr",
          "output_type": "stream",
          "text": [
            "Local Pariticipant 3 CE = 0.260,CON = 2.631: 100%|██████████| 10/10 [00:14<00:00,  1.41s/it]\n",
            "Local Pariticipant 6 CE = 1.045,CON = 2.804: 100%|██████████| 10/10 [00:01<00:00,  7.87it/s]\n",
            "Local Pariticipant 1 CE = 0.945,CON = 3.016: 100%|██████████| 10/10 [00:01<00:00,  7.94it/s]\n",
            "Local Pariticipant 8 CE = 0.624,CON = 2.656: 100%|██████████| 10/10 [00:01<00:00,  5.20it/s]\n",
            "Local Pariticipant 9 CE = 0.752,CON = 2.782: 100%|██████████| 10/10 [00:01<00:00,  7.86it/s]\n",
            "Local Pariticipant 7 CE = 0.836,CON = 2.703: 100%|██████████| 10/10 [00:01<00:00,  7.93it/s]\n",
            "Local Pariticipant 5 CE = 1.156,CON = 2.863: 100%|██████████| 10/10 [00:01<00:00,  7.84it/s]\n",
            "Local Pariticipant 2 CE = 0.599,CON = 2.809: 100%|██████████| 10/10 [00:01<00:00,  5.27it/s]\n",
            "Local Pariticipant 4 CE = 0.783,CON = 2.639: 100%|██████████| 10/10 [00:01<00:00,  8.05it/s]\n",
            "Local Pariticipant 0 CE = 0.456,CON = 2.757: 100%|██████████| 10/10 [00:14<00:00,  1.45s/it]\n"
          ]
        },
        {
          "name": "stdout",
          "output_type": "stream",
          "text": [
            "The 1 Communcation Accuracy: 43.025 Method: moon\n",
            "[84.83, 61.78, 8.07, 17.42]\n"
          ]
        },
        {
          "name": "stderr",
          "output_type": "stream",
          "text": [
            "Local Pariticipant 5 CE = 0.806,CON = 3.236: 100%|██████████| 10/10 [00:01<00:00,  7.97it/s]\n",
            "Local Pariticipant 6 CE = 0.882,CON = 3.138: 100%|██████████| 10/10 [00:01<00:00,  8.17it/s]\n",
            "Local Pariticipant 3 CE = 0.128,CON = 2.089: 100%|██████████| 10/10 [00:14<00:00,  1.42s/it]\n",
            "Local Pariticipant 8 CE = 0.477,CON = 3.132: 100%|██████████| 10/10 [00:01<00:00,  5.11it/s]\n",
            "Local Pariticipant 7 CE = 0.739,CON = 3.073: 100%|██████████| 10/10 [00:01<00:00,  7.89it/s]\n",
            "Local Pariticipant 9 CE = 0.894,CON = 3.148: 100%|██████████| 10/10 [00:01<00:00,  7.94it/s]\n",
            "Local Pariticipant 2 CE = 0.363,CON = 2.769: 100%|██████████| 10/10 [00:01<00:00,  5.10it/s]\n",
            "Local Pariticipant 1 CE = 1.009,CON = 3.412: 100%|██████████| 10/10 [00:01<00:00,  7.88it/s]\n",
            "Local Pariticipant 4 CE = 0.931,CON = 3.011: 100%|██████████| 10/10 [00:01<00:00,  7.84it/s]\n",
            "Local Pariticipant 0 CE = 0.303,CON = 2.029: 100%|██████████| 10/10 [00:14<00:00,  1.45s/it]\n"
          ]
        },
        {
          "name": "stdout",
          "output_type": "stream",
          "text": [
            "The 2 Communcation Accuracy: 47.053 Method: moon\n",
            "[88.36, 71.25, 8.27, 20.33]\n"
          ]
        },
        {
          "name": "stderr",
          "output_type": "stream",
          "text": [
            "Local Pariticipant 2 CE = 0.649,CON = 2.814: 100%|██████████| 10/10 [00:01<00:00,  5.35it/s]\n",
            "Local Pariticipant 8 CE = 0.169,CON = 2.591: 100%|██████████| 10/10 [00:01<00:00,  5.15it/s]\n",
            "Local Pariticipant 0 CE = 0.113,CON = 1.877: 100%|██████████| 10/10 [00:14<00:00,  1.41s/it]\n",
            "Local Pariticipant 3 CE = 0.040,CON = 1.828: 100%|██████████| 10/10 [00:14<00:00,  1.43s/it]\n",
            "Local Pariticipant 9 CE = 0.589,CON = 2.897: 100%|██████████| 10/10 [00:01<00:00,  7.87it/s]\n",
            "Local Pariticipant 1 CE = 0.856,CON = 3.272: 100%|██████████| 10/10 [00:01<00:00,  7.84it/s]\n",
            "Local Pariticipant 5 CE = 0.826,CON = 3.106: 100%|██████████| 10/10 [00:01<00:00,  7.80it/s]\n",
            "Local Pariticipant 4 CE = 0.787,CON = 3.004: 100%|██████████| 10/10 [00:01<00:00,  7.86it/s]\n",
            "Local Pariticipant 6 CE = 0.669,CON = 3.045: 100%|██████████| 10/10 [00:01<00:00,  7.42it/s]\n",
            "Local Pariticipant 7 CE = 0.549,CON = 2.998: 100%|██████████| 10/10 [00:01<00:00,  7.74it/s]\n"
          ]
        },
        {
          "name": "stdout",
          "output_type": "stream",
          "text": [
            "The 3 Communcation Accuracy: 48.09 Method: moon\n",
            "[92.84, 70.65, 8.54, 20.33]\n"
          ]
        },
        {
          "name": "stderr",
          "output_type": "stream",
          "text": [
            "Local Pariticipant 7 CE = 0.531,CON = 2.838: 100%|██████████| 10/10 [00:01<00:00,  8.03it/s]\n",
            "Local Pariticipant 8 CE = 0.262,CON = 2.487: 100%|██████████| 10/10 [00:01<00:00,  5.31it/s]\n",
            "Local Pariticipant 3 CE = 0.068,CON = 1.671: 100%|██████████| 10/10 [00:14<00:00,  1.43s/it]\n",
            "Local Pariticipant 4 CE = 0.410,CON = 2.812: 100%|██████████| 10/10 [00:01<00:00,  8.00it/s]\n",
            "Local Pariticipant 0 CE = 0.028,CON = 1.836: 100%|██████████| 10/10 [00:14<00:00,  1.46s/it]\n",
            "Local Pariticipant 1 CE = 0.397,CON = 3.054: 100%|██████████| 10/10 [00:01<00:00,  7.87it/s]\n",
            "Local Pariticipant 9 CE = 0.535,CON = 2.820: 100%|██████████| 10/10 [00:01<00:00,  7.97it/s]\n",
            "Local Pariticipant 2 CE = 0.818,CON = 2.539: 100%|██████████| 10/10 [00:01<00:00,  5.06it/s]\n",
            "Local Pariticipant 5 CE = 0.509,CON = 2.902: 100%|██████████| 10/10 [00:01<00:00,  7.69it/s]\n",
            "Local Pariticipant 6 CE = 0.507,CON = 2.880: 100%|██████████| 10/10 [00:01<00:00,  7.79it/s]\n"
          ]
        },
        {
          "name": "stdout",
          "output_type": "stream",
          "text": [
            "The 4 Communcation Accuracy: 48.522 Method: moon\n",
            "[91.96, 72.2, 8.68, 21.25]\n"
          ]
        },
        {
          "name": "stderr",
          "output_type": "stream",
          "text": [
            "Local Pariticipant 1 CE = 0.521,CON = 2.891: 100%|██████████| 10/10 [00:01<00:00,  7.77it/s]\n",
            "Local Pariticipant 0 CE = 0.043,CON = 1.839: 100%|██████████| 10/10 [00:14<00:00,  1.41s/it]\n",
            "Local Pariticipant 4 CE = 0.452,CON = 2.777: 100%|██████████| 10/10 [00:01<00:00,  7.79it/s]\n",
            "Local Pariticipant 5 CE = 0.542,CON = 2.784: 100%|██████████| 10/10 [00:01<00:00,  7.90it/s]\n",
            "Local Pariticipant 3 CE = 0.040,CON = 1.626: 100%|██████████| 10/10 [00:14<00:00,  1.45s/it]\n",
            "Local Pariticipant 6 CE = 0.549,CON = 2.836: 100%|██████████| 10/10 [00:01<00:00,  7.78it/s]\n",
            "Local Pariticipant 8 CE = 0.411,CON = 2.415: 100%|██████████| 10/10 [00:01<00:00,  5.05it/s]\n",
            "Local Pariticipant 9 CE = 0.535,CON = 2.621: 100%|██████████| 10/10 [00:01<00:00,  7.79it/s]\n",
            "Local Pariticipant 2 CE = 0.641,CON = 2.732: 100%|██████████| 10/10 [00:01<00:00,  5.05it/s]\n",
            "Local Pariticipant 7 CE = 0.510,CON = 2.558: 100%|██████████| 10/10 [00:01<00:00,  7.86it/s]\n"
          ]
        },
        {
          "name": "stdout",
          "output_type": "stream",
          "text": [
            "The 5 Communcation Accuracy: 47.585 Method: moon\n",
            "[92.4, 69.26, 8.01, 20.67]\n"
          ]
        },
        {
          "name": "stderr",
          "output_type": "stream",
          "text": [
            "Local Pariticipant 8 CE = 0.547,CON = 2.544: 100%|██████████| 10/10 [00:01<00:00,  5.31it/s]\n",
            "Local Pariticipant 6 CE = 0.464,CON = 2.688: 100%|██████████| 10/10 [00:01<00:00,  8.11it/s]\n",
            "Local Pariticipant 3 CE = 0.088,CON = 1.757: 100%|██████████| 10/10 [00:14<00:00,  1.44s/it]\n",
            "Local Pariticipant 1 CE = 0.554,CON = 2.598: 100%|██████████| 10/10 [00:01<00:00,  7.82it/s]\n",
            "Local Pariticipant 5 CE = 0.589,CON = 2.595: 100%|██████████| 10/10 [00:01<00:00,  7.68it/s]\n",
            "Local Pariticipant 4 CE = 0.474,CON = 2.575: 100%|██████████| 10/10 [00:01<00:00,  7.68it/s]\n",
            "Local Pariticipant 0 CE = 0.056,CON = 1.695: 100%|██████████| 10/10 [00:14<00:00,  1.45s/it]\n",
            "Local Pariticipant 2 CE = 0.379,CON = 2.592: 100%|██████████| 10/10 [00:01<00:00,  5.07it/s]\n",
            "Local Pariticipant 9 CE = 0.404,CON = 2.509: 100%|██████████| 10/10 [00:01<00:00,  7.82it/s]\n",
            "Local Pariticipant 7 CE = 0.478,CON = 2.486: 100%|██████████| 10/10 [00:01<00:00,  7.71it/s]\n"
          ]
        },
        {
          "name": "stdout",
          "output_type": "stream",
          "text": [
            "The 6 Communcation Accuracy: 48.852 Method: moon\n",
            "[92.19, 72.05, 8.92, 22.25]\n"
          ]
        },
        {
          "name": "stderr",
          "output_type": "stream",
          "text": [
            "Local Pariticipant 3 CE = 0.310,CON = 1.703: 100%|██████████| 10/10 [00:14<00:00,  1.43s/it]\n",
            "Local Pariticipant 4 CE = 0.304,CON = 2.419: 100%|██████████| 10/10 [00:01<00:00,  7.79it/s]\n",
            "Local Pariticipant 0 CE = 0.019,CON = 1.620: 100%|██████████| 10/10 [00:14<00:00,  1.44s/it]\n",
            "Local Pariticipant 5 CE = 0.354,CON = 2.544: 100%|██████████| 10/10 [00:01<00:00,  7.61it/s]\n",
            "Local Pariticipant 1 CE = 0.249,CON = 2.654: 100%|██████████| 10/10 [00:01<00:00,  7.90it/s]\n",
            "Local Pariticipant 7 CE = 0.431,CON = 2.428: 100%|██████████| 10/10 [00:01<00:00,  7.83it/s]\n",
            "Local Pariticipant 2 CE = 0.229,CON = 2.672: 100%|██████████| 10/10 [00:02<00:00,  5.00it/s]\n",
            "Local Pariticipant 8 CE = 0.099,CON = 2.521: 100%|██████████| 10/10 [00:02<00:00,  4.98it/s]\n",
            "Local Pariticipant 6 CE = 0.568,CON = 2.584: 100%|██████████| 10/10 [00:01<00:00,  7.51it/s]\n",
            "Local Pariticipant 9 CE = 0.324,CON = 2.592: 100%|██████████| 10/10 [00:01<00:00,  7.72it/s]\n"
          ]
        },
        {
          "name": "stdout",
          "output_type": "stream",
          "text": [
            "The 7 Communcation Accuracy: 49.395 Method: moon\n",
            "[93.63, 73.14, 9.31, 21.5]\n"
          ]
        },
        {
          "name": "stderr",
          "output_type": "stream",
          "text": [
            "Local Pariticipant 6 CE = 0.394,CON = 2.371: 100%|██████████| 10/10 [00:01<00:00,  7.97it/s]\n",
            "Local Pariticipant 9 CE = 0.360,CON = 2.470: 100%|██████████| 10/10 [00:01<00:00,  8.08it/s]\n",
            "Local Pariticipant 3 CE = 0.019,CON = 1.686: 100%|██████████| 10/10 [00:14<00:00,  1.42s/it]\n",
            "Local Pariticipant 5 CE = 0.560,CON = 2.584: 100%|██████████| 10/10 [00:01<00:00,  7.74it/s]\n",
            "Local Pariticipant 4 CE = 0.379,CON = 2.407: 100%|██████████| 10/10 [00:01<00:00,  7.93it/s]\n",
            "Local Pariticipant 8 CE = 0.103,CON = 2.553: 100%|██████████| 10/10 [00:01<00:00,  5.12it/s]\n",
            "Local Pariticipant 7 CE = 0.254,CON = 2.416: 100%|██████████| 10/10 [00:01<00:00,  7.88it/s]\n",
            "Local Pariticipant 2 CE = 1.235,CON = 2.687: 100%|██████████| 10/10 [00:01<00:00,  5.07it/s]\n",
            "Local Pariticipant 0 CE = 0.035,CON = 1.689: 100%|██████████| 10/10 [00:14<00:00,  1.46s/it]\n",
            "Local Pariticipant 1 CE = 0.328,CON = 2.376: 100%|██████████| 10/10 [00:01<00:00,  7.79it/s]\n"
          ]
        },
        {
          "name": "stdout",
          "output_type": "stream",
          "text": [
            "The 8 Communcation Accuracy: 50.793 Method: moon\n",
            "[93.36, 79.77, 8.62, 21.42]\n"
          ]
        },
        {
          "name": "stderr",
          "output_type": "stream",
          "text": [
            "Local Pariticipant 9 CE = 0.310,CON = 2.488: 100%|██████████| 10/10 [00:01<00:00,  7.98it/s]\n",
            "Local Pariticipant 0 CE = 0.019,CON = 1.661: 100%|██████████| 10/10 [00:14<00:00,  1.42s/it]\n",
            "Local Pariticipant 1 CE = 0.277,CON = 2.526: 100%|██████████| 10/10 [00:01<00:00,  7.95it/s]\n",
            "Local Pariticipant 2 CE = 0.402,CON = 2.527: 100%|██████████| 10/10 [00:01<00:00,  5.08it/s]\n",
            "Local Pariticipant 4 CE = 0.275,CON = 2.336: 100%|██████████| 10/10 [00:01<00:00,  7.58it/s]\n",
            "Local Pariticipant 7 CE = 0.268,CON = 2.346: 100%|██████████| 10/10 [00:01<00:00,  7.71it/s]\n",
            "Local Pariticipant 8 CE = 0.681,CON = 2.598: 100%|██████████| 10/10 [00:01<00:00,  5.08it/s]\n",
            "Local Pariticipant 3 CE = 0.091,CON = 1.576: 100%|██████████| 10/10 [00:14<00:00,  1.45s/it]\n",
            "Local Pariticipant 5 CE = 0.423,CON = 2.482: 100%|██████████| 10/10 [00:01<00:00,  7.67it/s]\n",
            "Local Pariticipant 6 CE = 0.365,CON = 2.421: 100%|██████████| 10/10 [00:01<00:00,  7.74it/s]\n"
          ]
        },
        {
          "name": "stdout",
          "output_type": "stream",
          "text": [
            "The 9 Communcation Accuracy: 50.098 Method: moon\n",
            "[93.48, 77.58, 8.41, 20.92]\n"
          ]
        },
        {
          "name": "stderr",
          "output_type": "stream",
          "text": [
            "Local Pariticipant 8 CE = 0.262,CON = 2.295: 100%|██████████| 10/10 [00:01<00:00,  5.20it/s]\n",
            "Local Pariticipant 3 CE = 0.076,CON = 1.740: 100%|██████████| 10/10 [00:14<00:00,  1.44s/it]\n",
            "Local Pariticipant 2 CE = 0.987,CON = 2.479: 100%|██████████| 10/10 [00:01<00:00,  5.16it/s]\n",
            "Local Pariticipant 5 CE = 0.341,CON = 2.443: 100%|██████████| 10/10 [00:01<00:00,  7.78it/s]\n",
            "Local Pariticipant 4 CE = 0.186,CON = 2.243: 100%|██████████| 10/10 [00:01<00:00,  7.79it/s]\n",
            "Local Pariticipant 6 CE = 0.287,CON = 2.288: 100%|██████████| 10/10 [00:01<00:00,  7.94it/s]\n",
            "Local Pariticipant 9 CE = 0.393,CON = 2.436: 100%|██████████| 10/10 [00:01<00:00,  7.77it/s]\n",
            "Local Pariticipant 7 CE = 0.282,CON = 2.365: 100%|██████████| 10/10 [00:01<00:00,  7.85it/s]\n",
            "Local Pariticipant 0 CE = 0.090,CON = 1.617: 100%|██████████| 10/10 [00:14<00:00,  1.46s/it]\n",
            "Local Pariticipant 1 CE = 0.324,CON = 2.427: 100%|██████████| 10/10 [00:01<00:00,  7.68it/s]\n"
          ]
        },
        {
          "name": "stdout",
          "output_type": "stream",
          "text": [
            "The 10 Communcation Accuracy: 49.57 Method: moon\n",
            "[93.65, 75.64, 8.41, 20.58]\n"
          ]
        },
        {
          "name": "stderr",
          "output_type": "stream",
          "text": [
            "Local Pariticipant 9 CE = 0.298,CON = 2.422: 100%|██████████| 10/10 [00:01<00:00,  7.92it/s]\n",
            "Local Pariticipant 0 CE = 0.020,CON = 1.627: 100%|██████████| 10/10 [00:14<00:00,  1.41s/it]\n",
            "Local Pariticipant 5 CE = 0.366,CON = 2.497: 100%|██████████| 10/10 [00:01<00:00,  7.81it/s]\n",
            "Local Pariticipant 1 CE = 0.233,CON = 2.394: 100%|██████████| 10/10 [00:01<00:00,  7.94it/s]\n",
            "Local Pariticipant 4 CE = 0.215,CON = 2.230: 100%|██████████| 10/10 [00:01<00:00,  7.94it/s]\n",
            "Local Pariticipant 6 CE = 0.409,CON = 2.360: 100%|██████████| 10/10 [00:01<00:00,  7.64it/s]\n",
            "Local Pariticipant 8 CE = 0.954,CON = 2.520: 100%|██████████| 10/10 [00:01<00:00,  5.02it/s]\n",
            "Local Pariticipant 7 CE = 0.282,CON = 2.209: 100%|██████████| 10/10 [00:01<00:00,  7.81it/s]\n",
            "Local Pariticipant 3 CE = 0.028,CON = 1.636: 100%|██████████| 10/10 [00:14<00:00,  1.46s/it]\n",
            "Local Pariticipant 2 CE = 0.285,CON = 2.269: 100%|██████████| 10/10 [00:01<00:00,  5.17it/s]\n"
          ]
        },
        {
          "name": "stdout",
          "output_type": "stream",
          "text": [
            "The 11 Communcation Accuracy: 52.815 Method: moon\n",
            "[94.47, 83.31, 8.9, 24.58]\n"
          ]
        },
        {
          "name": "stderr",
          "output_type": "stream",
          "text": [
            "Local Pariticipant 7 CE = 0.192,CON = 2.214: 100%|██████████| 10/10 [00:01<00:00,  7.92it/s]\n",
            "Local Pariticipant 0 CE = 0.050,CON = 1.620: 100%|██████████| 10/10 [00:14<00:00,  1.43s/it]\n",
            "Local Pariticipant 3 CE = 0.130,CON = 1.686: 100%|██████████| 10/10 [00:14<00:00,  1.46s/it]\n",
            "Local Pariticipant 4 CE = 0.223,CON = 2.288: 100%|██████████| 10/10 [00:01<00:00,  7.56it/s]\n",
            "Local Pariticipant 8 CE = 0.767,CON = 2.410: 100%|██████████| 10/10 [00:01<00:00,  5.01it/s]\n",
            "Local Pariticipant 1 CE = 0.323,CON = 2.338: 100%|██████████| 10/10 [00:01<00:00,  7.85it/s]\n",
            "Local Pariticipant 9 CE = 0.322,CON = 2.301: 100%|██████████| 10/10 [00:01<00:00,  7.73it/s]\n",
            "Local Pariticipant 6 CE = 0.201,CON = 2.269: 100%|██████████| 10/10 [00:01<00:00,  7.89it/s]\n",
            "Local Pariticipant 2 CE = 0.939,CON = 2.660: 100%|██████████| 10/10 [00:01<00:00,  5.11it/s]\n",
            "Local Pariticipant 5 CE = 0.291,CON = 2.382: 100%|██████████| 10/10 [00:01<00:00,  7.70it/s]\n"
          ]
        },
        {
          "name": "stdout",
          "output_type": "stream",
          "text": [
            "The 12 Communcation Accuracy: 50.353 Method: moon\n",
            "[94.94, 76.53, 8.77, 21.17]\n"
          ]
        },
        {
          "name": "stderr",
          "output_type": "stream",
          "text": [
            "Local Pariticipant 5 CE = 0.297,CON = 2.395: 100%|██████████| 10/10 [00:01<00:00,  8.04it/s]\n",
            "Local Pariticipant 1 CE = 0.234,CON = 2.352: 100%|██████████| 10/10 [00:01<00:00,  8.02it/s]\n",
            "Local Pariticipant 8 CE = 1.135,CON = 2.474: 100%|██████████| 10/10 [00:01<00:00,  5.18it/s]\n",
            "Local Pariticipant 4 CE = 0.264,CON = 2.171: 100%|██████████| 10/10 [00:01<00:00,  7.80it/s]\n",
            "Local Pariticipant 2 CE = 1.543,CON = 2.289: 100%|██████████| 10/10 [00:01<00:00,  5.25it/s]\n",
            "Local Pariticipant 9 CE = 0.323,CON = 2.471: 100%|██████████| 10/10 [00:01<00:00,  7.97it/s]\n",
            "Local Pariticipant 0 CE = 0.011,CON = 1.633: 100%|██████████| 10/10 [00:14<00:00,  1.45s/it]\n",
            "Local Pariticipant 6 CE = 0.252,CON = 2.254: 100%|██████████| 10/10 [00:01<00:00,  7.68it/s]\n",
            "Local Pariticipant 3 CE = 0.027,CON = 1.644: 100%|██████████| 10/10 [00:14<00:00,  1.46s/it]\n",
            "Local Pariticipant 7 CE = 0.236,CON = 2.197: 100%|██████████| 10/10 [00:01<00:00,  7.71it/s]\n"
          ]
        },
        {
          "name": "stdout",
          "output_type": "stream",
          "text": [
            "The 13 Communcation Accuracy: 51.258 Method: moon\n",
            "[94.6, 79.02, 9.08, 22.33]\n"
          ]
        },
        {
          "name": "stderr",
          "output_type": "stream",
          "text": [
            "Local Pariticipant 4 CE = 0.213,CON = 2.303: 100%|██████████| 10/10 [00:01<00:00,  7.84it/s]\n",
            "Local Pariticipant 2 CE = 1.314,CON = 2.336: 100%|██████████| 10/10 [00:01<00:00,  5.24it/s]\n",
            "Local Pariticipant 9 CE = 0.296,CON = 2.289: 100%|██████████| 10/10 [00:01<00:00,  7.95it/s]\n",
            "Local Pariticipant 0 CE = 0.017,CON = 1.715: 100%|██████████| 10/10 [00:14<00:00,  1.43s/it]\n",
            "Local Pariticipant 5 CE = 0.325,CON = 2.297: 100%|██████████| 10/10 [00:01<00:00,  7.88it/s]\n",
            "Local Pariticipant 8 CE = 0.654,CON = 2.167: 100%|██████████| 10/10 [00:02<00:00,  5.00it/s]\n",
            "Local Pariticipant 1 CE = 0.195,CON = 2.323: 100%|██████████| 10/10 [00:01<00:00,  7.65it/s]\n",
            "Local Pariticipant 6 CE = 0.218,CON = 2.193: 100%|██████████| 10/10 [00:01<00:00,  7.95it/s]\n",
            "Local Pariticipant 7 CE = 0.213,CON = 2.227: 100%|██████████| 10/10 [00:01<00:00,  7.99it/s]\n",
            "Local Pariticipant 3 CE = 0.029,CON = 1.663: 100%|██████████| 10/10 [00:14<00:00,  1.45s/it]\n"
          ]
        },
        {
          "name": "stdout",
          "output_type": "stream",
          "text": [
            "The 14 Communcation Accuracy: 50.21 Method: moon\n",
            "[94.69, 76.18, 8.39, 21.58]\n"
          ]
        },
        {
          "name": "stderr",
          "output_type": "stream",
          "text": [
            "Local Pariticipant 5 CE = 0.229,CON = 2.389: 100%|██████████| 10/10 [00:01<00:00,  8.07it/s]\n",
            "Local Pariticipant 3 CE = 0.224,CON = 1.631: 100%|██████████| 10/10 [00:14<00:00,  1.42s/it]\n",
            "Local Pariticipant 6 CE = 0.203,CON = 2.269: 100%|██████████| 10/10 [00:01<00:00,  7.94it/s]\n",
            "Local Pariticipant 1 CE = 0.258,CON = 2.339: 100%|██████████| 10/10 [00:01<00:00,  7.93it/s]\n",
            "Local Pariticipant 0 CE = 0.042,CON = 1.638: 100%|██████████| 10/10 [00:14<00:00,  1.45s/it]\n",
            "Local Pariticipant 4 CE = 0.306,CON = 2.190: 100%|██████████| 10/10 [00:01<00:00,  7.88it/s]\n",
            "Local Pariticipant 8 CE = 0.542,CON = 2.390: 100%|██████████| 10/10 [00:01<00:00,  5.01it/s]\n",
            "Local Pariticipant 2 CE = 0.606,CON = 2.605: 100%|██████████| 10/10 [00:01<00:00,  5.02it/s]\n",
            "Local Pariticipant 9 CE = 0.249,CON = 2.317: 100%|██████████| 10/10 [00:01<00:00,  8.01it/s]\n",
            "Local Pariticipant 7 CE = 0.171,CON = 2.251: 100%|██████████| 10/10 [00:01<00:00,  7.60it/s]\n"
          ]
        },
        {
          "name": "stdout",
          "output_type": "stream",
          "text": [
            "The 15 Communcation Accuracy: 51.515 Method: moon\n",
            "[95.5, 79.67, 8.56, 22.33]\n"
          ]
        },
        {
          "name": "stderr",
          "output_type": "stream",
          "text": [
            "Local Pariticipant 1 CE = 0.202,CON = 2.241: 100%|██████████| 10/10 [00:01<00:00,  7.90it/s]\n",
            "Local Pariticipant 5 CE = 0.228,CON = 2.299: 100%|██████████| 10/10 [00:01<00:00,  7.89it/s]\n",
            "Local Pariticipant 4 CE = 0.303,CON = 2.255: 100%|██████████| 10/10 [00:01<00:00,  8.00it/s]\n",
            "Local Pariticipant 6 CE = 0.196,CON = 2.266: 100%|██████████| 10/10 [00:01<00:00,  7.94it/s]\n",
            "Local Pariticipant 8 CE = 0.653,CON = 2.553: 100%|██████████| 10/10 [00:01<00:00,  5.22it/s]\n",
            "Local Pariticipant 3 CE = 0.020,CON = 1.669: 100%|██████████| 10/10 [00:14<00:00,  1.44s/it]\n",
            "Local Pariticipant 9 CE = 0.303,CON = 2.260: 100%|██████████| 10/10 [00:01<00:00,  7.79it/s]\n",
            "Local Pariticipant 7 CE = 0.121,CON = 2.289: 100%|██████████| 10/10 [00:01<00:00,  7.92it/s]\n",
            "Local Pariticipant 2 CE = 0.610,CON = 2.495: 100%|██████████| 10/10 [00:01<00:00,  5.09it/s]\n",
            "Local Pariticipant 0 CE = 0.030,CON = 1.561: 100%|██████████| 10/10 [00:14<00:00,  1.45s/it]\n"
          ]
        },
        {
          "name": "stdout",
          "output_type": "stream",
          "text": [
            "The 16 Communcation Accuracy: 51.41 Method: moon\n",
            "[95.15, 80.72, 8.02, 21.75]\n"
          ]
        },
        {
          "name": "stderr",
          "output_type": "stream",
          "text": [
            "Local Pariticipant 0 CE = 0.075,CON = 1.594: 100%|██████████| 10/10 [00:14<00:00,  1.42s/it]\n",
            "Local Pariticipant 3 CE = 0.019,CON = 1.518: 100%|██████████| 10/10 [00:14<00:00,  1.45s/it]\n",
            "Local Pariticipant 4 CE = 0.215,CON = 2.238: 100%|██████████| 10/10 [00:01<00:00,  7.97it/s]\n",
            "Local Pariticipant 6 CE = 0.183,CON = 2.224: 100%|██████████| 10/10 [00:01<00:00,  7.78it/s]\n",
            "Local Pariticipant 5 CE = 0.243,CON = 2.528: 100%|██████████| 10/10 [00:01<00:00,  7.83it/s]\n",
            "Local Pariticipant 8 CE = 0.078,CON = 2.093: 100%|██████████| 10/10 [00:01<00:00,  5.05it/s]\n",
            "Local Pariticipant 2 CE = 0.456,CON = 2.435: 100%|██████████| 10/10 [00:01<00:00,  5.01it/s]\n",
            "Local Pariticipant 9 CE = 0.212,CON = 2.298: 100%|██████████| 10/10 [00:01<00:00,  7.71it/s]\n",
            "Local Pariticipant 7 CE = 0.163,CON = 2.310: 100%|██████████| 10/10 [00:01<00:00,  7.90it/s]\n",
            "Local Pariticipant 1 CE = 0.178,CON = 2.391: 100%|██████████| 10/10 [00:01<00:00,  7.99it/s]\n"
          ]
        },
        {
          "name": "stdout",
          "output_type": "stream",
          "text": [
            "The 17 Communcation Accuracy: 52.418 Method: moon\n",
            "[95.53, 80.87, 8.94, 24.33]\n"
          ]
        },
        {
          "name": "stderr",
          "output_type": "stream",
          "text": [
            "Local Pariticipant 0 CE = 0.047,CON = 1.653: 100%|██████████| 10/10 [00:14<00:00,  1.41s/it]\n",
            "Local Pariticipant 3 CE = 0.074,CON = 1.637: 100%|██████████| 10/10 [00:14<00:00,  1.46s/it]\n",
            "Local Pariticipant 4 CE = 0.158,CON = 2.285: 100%|██████████| 10/10 [00:01<00:00,  7.98it/s]\n",
            "Local Pariticipant 1 CE = 0.164,CON = 2.245: 100%|██████████| 10/10 [00:01<00:00,  7.95it/s]\n",
            "Local Pariticipant 5 CE = 0.164,CON = 2.243: 100%|██████████| 10/10 [00:01<00:00,  7.91it/s]\n",
            "Local Pariticipant 2 CE = 0.062,CON = 2.147: 100%|██████████| 10/10 [00:01<00:00,  5.09it/s]\n",
            "Local Pariticipant 6 CE = 0.222,CON = 2.203: 100%|██████████| 10/10 [00:01<00:00,  7.98it/s]\n",
            "Local Pariticipant 7 CE = 0.224,CON = 2.135: 100%|██████████| 10/10 [00:01<00:00,  7.87it/s]\n",
            "Local Pariticipant 8 CE = 0.470,CON = 2.599: 100%|██████████| 10/10 [00:01<00:00,  5.08it/s]\n",
            "Local Pariticipant 9 CE = 0.208,CON = 2.274: 100%|██████████| 10/10 [00:01<00:00,  7.87it/s]\n"
          ]
        },
        {
          "name": "stdout",
          "output_type": "stream",
          "text": [
            "The 18 Communcation Accuracy: 51.315 Method: moon\n",
            "[96.19, 78.43, 8.47, 22.17]\n"
          ]
        },
        {
          "name": "stderr",
          "output_type": "stream",
          "text": [
            "Local Pariticipant 1 CE = 0.169,CON = 2.255: 100%|██████████| 10/10 [00:01<00:00,  8.00it/s]\n",
            "Local Pariticipant 0 CE = 0.031,CON = 1.608: 100%|██████████| 10/10 [00:14<00:00,  1.42s/it]\n",
            "Local Pariticipant 3 CE = 0.093,CON = 1.655: 100%|██████████| 10/10 [00:14<00:00,  1.46s/it]\n",
            "Local Pariticipant 9 CE = 0.296,CON = 2.307: 100%|██████████| 10/10 [00:01<00:00,  7.91it/s]\n",
            "Local Pariticipant 7 CE = 0.191,CON = 2.317: 100%|██████████| 10/10 [00:01<00:00,  7.93it/s]\n",
            "Local Pariticipant 5 CE = 0.314,CON = 2.418: 100%|██████████| 10/10 [00:01<00:00,  7.76it/s]\n",
            "Local Pariticipant 4 CE = 0.195,CON = 2.073: 100%|██████████| 10/10 [00:01<00:00,  7.81it/s]\n",
            "Local Pariticipant 2 CE = 0.109,CON = 2.306: 100%|██████████| 10/10 [00:01<00:00,  5.07it/s]\n",
            "Local Pariticipant 8 CE = 0.502,CON = 2.218: 100%|██████████| 10/10 [00:01<00:00,  5.06it/s]\n",
            "Local Pariticipant 6 CE = 0.256,CON = 2.182: 100%|██████████| 10/10 [00:01<00:00,  7.74it/s]\n"
          ]
        },
        {
          "name": "stdout",
          "output_type": "stream",
          "text": [
            "The 19 Communcation Accuracy: 52.31 Method: moon\n",
            "[96.25, 79.92, 8.82, 24.25]\n"
          ]
        },
        {
          "name": "stderr",
          "output_type": "stream",
          "text": [
            "Local Pariticipant 9 CE = 0.221,CON = 2.195: 100%|██████████| 10/10 [00:01<00:00,  7.95it/s]\n",
            "Local Pariticipant 2 CE = 0.453,CON = 2.542: 100%|██████████| 10/10 [00:01<00:00,  5.27it/s]\n",
            "Local Pariticipant 7 CE = 0.175,CON = 2.085: 100%|██████████| 10/10 [00:01<00:00,  8.07it/s]\n",
            "Local Pariticipant 4 CE = 0.138,CON = 2.251: 100%|██████████| 10/10 [00:01<00:00,  7.97it/s]\n",
            "Local Pariticipant 3 CE = 0.064,CON = 1.541: 100%|██████████| 10/10 [00:14<00:00,  1.42s/it]\n",
            "Local Pariticipant 6 CE = 0.137,CON = 2.252: 100%|██████████| 10/10 [00:01<00:00,  8.05it/s]\n",
            "Local Pariticipant 0 CE = 0.030,CON = 1.417: 100%|██████████| 10/10 [00:14<00:00,  1.45s/it]\n",
            "Local Pariticipant 1 CE = 0.200,CON = 2.248: 100%|██████████| 10/10 [00:01<00:00,  7.97it/s]\n",
            "Local Pariticipant 8 CE = 0.368,CON = 2.290: 100%|██████████| 10/10 [00:01<00:00,  5.12it/s]\n",
            "Local Pariticipant 5 CE = 0.272,CON = 2.298: 100%|██████████| 10/10 [00:01<00:00,  7.87it/s]\n"
          ]
        },
        {
          "name": "stdout",
          "output_type": "stream",
          "text": [
            "The 20 Communcation Accuracy: 52.028 Method: moon\n",
            "[96.46, 79.12, 8.61, 23.92]\n"
          ]
        },
        {
          "name": "stderr",
          "output_type": "stream",
          "text": [
            "Local Pariticipant 4 CE = 0.147,CON = 2.017: 100%|██████████| 10/10 [00:01<00:00,  8.06it/s]\n",
            "Local Pariticipant 9 CE = 0.159,CON = 2.134: 100%|██████████| 10/10 [00:01<00:00,  7.98it/s]\n",
            "Local Pariticipant 0 CE = 0.012,CON = 1.517: 100%|██████████| 10/10 [00:14<00:00,  1.43s/it]\n",
            "Local Pariticipant 5 CE = 0.206,CON = 2.239: 100%|██████████| 10/10 [00:01<00:00,  7.93it/s]\n",
            "Local Pariticipant 1 CE = 0.121,CON = 2.195: 100%|██████████| 10/10 [00:01<00:00,  7.95it/s]\n",
            "Local Pariticipant 6 CE = 0.155,CON = 2.117: 100%|██████████| 10/10 [00:01<00:00,  7.81it/s]\n",
            "Local Pariticipant 8 CE = 0.347,CON = 2.466: 100%|██████████| 10/10 [00:01<00:00,  5.14it/s]\n",
            "Local Pariticipant 2 CE = 0.281,CON = 2.558: 100%|██████████| 10/10 [00:01<00:00,  5.18it/s]\n",
            "Local Pariticipant 3 CE = 0.020,CON = 1.576: 100%|██████████| 10/10 [00:14<00:00,  1.45s/it]\n",
            "Local Pariticipant 7 CE = 0.140,CON = 2.221: 100%|██████████| 10/10 [00:01<00:00,  7.77it/s]\n"
          ]
        },
        {
          "name": "stdout",
          "output_type": "stream",
          "text": [
            "The 21 Communcation Accuracy: 54.13 Method: moon\n",
            "[96.17, 83.71, 10.14, 26.5]\n"
          ]
        },
        {
          "name": "stderr",
          "output_type": "stream",
          "text": [
            "Local Pariticipant 8 CE = 0.882,CON = 2.299: 100%|██████████| 10/10 [00:01<00:00,  5.32it/s]\n",
            "Local Pariticipant 4 CE = 0.153,CON = 2.236: 100%|██████████| 10/10 [00:01<00:00,  8.08it/s]\n",
            "Local Pariticipant 2 CE = 0.598,CON = 2.306: 100%|██████████| 10/10 [00:01<00:00,  5.12it/s]\n",
            "Local Pariticipant 1 CE = 0.235,CON = 2.190: 100%|██████████| 10/10 [00:01<00:00,  7.89it/s]\n",
            "Local Pariticipant 9 CE = 0.280,CON = 2.174: 100%|██████████| 10/10 [00:01<00:00,  8.04it/s]\n",
            "Local Pariticipant 0 CE = 0.013,CON = 1.572: 100%|██████████| 10/10 [00:14<00:00,  1.44s/it]\n",
            "Local Pariticipant 6 CE = 0.230,CON = 2.223: 100%|██████████| 10/10 [00:01<00:00,  7.69it/s]\n",
            "Local Pariticipant 7 CE = 0.208,CON = 2.060: 100%|██████████| 10/10 [00:01<00:00,  7.77it/s]\n",
            "Local Pariticipant 5 CE = 0.171,CON = 2.200: 100%|██████████| 10/10 [00:01<00:00,  7.85it/s]\n",
            "Local Pariticipant 3 CE = 0.024,CON = 1.469: 100%|██████████| 10/10 [00:14<00:00,  1.46s/it]\n"
          ]
        },
        {
          "name": "stdout",
          "output_type": "stream",
          "text": [
            "The 22 Communcation Accuracy: 52.81 Method: moon\n",
            "[96.28, 81.22, 9.07, 24.67]\n"
          ]
        },
        {
          "name": "stderr",
          "output_type": "stream",
          "text": [
            "Local Pariticipant 0 CE = 0.023,CON = 1.556: 100%|██████████| 10/10 [00:14<00:00,  1.41s/it]\n",
            "Local Pariticipant 7 CE = 0.131,CON = 2.249: 100%|██████████| 10/10 [00:01<00:00,  8.04it/s]\n",
            "Local Pariticipant 6 CE = 0.205,CON = 2.052: 100%|██████████| 10/10 [00:01<00:00,  8.01it/s]\n",
            "Local Pariticipant 4 CE = 0.182,CON = 2.063: 100%|██████████| 10/10 [00:01<00:00,  8.06it/s]\n",
            "Local Pariticipant 3 CE = 0.033,CON = 1.635: 100%|██████████| 10/10 [00:14<00:00,  1.44s/it]\n",
            "Local Pariticipant 8 CE = 0.010,CON = 1.877: 100%|██████████| 10/10 [00:01<00:00,  5.11it/s]\n",
            "Local Pariticipant 5 CE = 0.195,CON = 2.204: 100%|██████████| 10/10 [00:01<00:00,  7.89it/s]\n",
            "Local Pariticipant 1 CE = 0.270,CON = 2.288: 100%|██████████| 10/10 [00:01<00:00,  7.67it/s]\n",
            "Local Pariticipant 2 CE = 0.029,CON = 2.586: 100%|██████████| 10/10 [00:01<00:00,  5.19it/s]\n",
            "Local Pariticipant 9 CE = 0.174,CON = 2.331: 100%|██████████| 10/10 [00:01<00:00,  7.75it/s]\n"
          ]
        },
        {
          "name": "stdout",
          "output_type": "stream",
          "text": [
            "The 23 Communcation Accuracy: 53.14 Method: moon\n",
            "[96.6, 81.46, 8.75, 25.75]\n"
          ]
        },
        {
          "name": "stderr",
          "output_type": "stream",
          "text": [
            "Local Pariticipant 3 CE = 0.031,CON = 1.529: 100%|██████████| 10/10 [00:14<00:00,  1.42s/it]\n",
            "Local Pariticipant 6 CE = 0.221,CON = 2.216: 100%|██████████| 10/10 [00:01<00:00,  7.94it/s]\n",
            "Local Pariticipant 7 CE = 0.145,CON = 2.062: 100%|██████████| 10/10 [00:01<00:00,  7.80it/s]\n",
            "Local Pariticipant 5 CE = 0.154,CON = 2.186: 100%|██████████| 10/10 [00:01<00:00,  7.96it/s]\n",
            "Local Pariticipant 4 CE = 0.202,CON = 2.174: 100%|██████████| 10/10 [00:01<00:00,  7.97it/s]\n",
            "Local Pariticipant 0 CE = 0.031,CON = 1.517: 100%|██████████| 10/10 [00:14<00:00,  1.45s/it]\n",
            "Local Pariticipant 8 CE = 0.361,CON = 1.970: 100%|██████████| 10/10 [00:01<00:00,  5.08it/s]\n",
            "Local Pariticipant 2 CE = 0.071,CON = 1.965: 100%|██████████| 10/10 [00:01<00:00,  5.06it/s]\n",
            "Local Pariticipant 9 CE = 0.195,CON = 2.150: 100%|██████████| 10/10 [00:01<00:00,  7.71it/s]\n",
            "Local Pariticipant 1 CE = 0.128,CON = 2.140: 100%|██████████| 10/10 [00:01<00:00,  7.63it/s]\n"
          ]
        },
        {
          "name": "stdout",
          "output_type": "stream",
          "text": [
            "The 24 Communcation Accuracy: 53.0 Method: moon\n",
            "[96.41, 80.77, 9.07, 25.75]\n"
          ]
        },
        {
          "name": "stderr",
          "output_type": "stream",
          "text": [
            "Local Pariticipant 1 CE = 0.115,CON = 2.225: 100%|██████████| 10/10 [00:01<00:00,  8.07it/s]\n",
            "Local Pariticipant 4 CE = 0.224,CON = 2.085: 100%|██████████| 10/10 [00:01<00:00,  8.10it/s]\n",
            "Local Pariticipant 8 CE = 1.004,CON = 2.335: 100%|██████████| 10/10 [00:01<00:00,  5.14it/s]\n",
            "Local Pariticipant 0 CE = 0.061,CON = 1.562: 100%|██████████| 10/10 [00:14<00:00,  1.44s/it]\n",
            "Local Pariticipant 3 CE = 0.020,CON = 1.550: 100%|██████████| 10/10 [00:14<00:00,  1.45s/it]\n",
            "Local Pariticipant 5 CE = 0.149,CON = 2.220: 100%|██████████| 10/10 [00:01<00:00,  7.63it/s]\n",
            "Local Pariticipant 7 CE = 0.161,CON = 2.231: 100%|██████████| 10/10 [00:01<00:00,  7.70it/s]\n",
            "Local Pariticipant 6 CE = 0.153,CON = 2.051: 100%|██████████| 10/10 [00:01<00:00,  7.79it/s]\n",
            "Local Pariticipant 2 CE = 0.149,CON = 2.066: 100%|██████████| 10/10 [00:01<00:00,  5.06it/s]\n",
            "Local Pariticipant 9 CE = 0.207,CON = 2.305: 100%|██████████| 10/10 [00:01<00:00,  7.62it/s]\n"
          ]
        },
        {
          "name": "stdout",
          "output_type": "stream",
          "text": [
            "The 25 Communcation Accuracy: 52.727 Method: moon\n",
            "[96.53, 80.67, 8.79, 24.92]\n"
          ]
        },
        {
          "name": "stderr",
          "output_type": "stream",
          "text": [
            "Local Pariticipant 5 CE = 0.125,CON = 2.173: 100%|██████████| 10/10 [00:01<00:00,  7.99it/s]\n",
            "Local Pariticipant 2 CE = 0.041,CON = 2.042: 100%|██████████| 10/10 [00:01<00:00,  5.28it/s]\n",
            "Local Pariticipant 1 CE = 0.139,CON = 2.065: 100%|██████████| 10/10 [00:01<00:00,  8.10it/s]\n",
            "Local Pariticipant 7 CE = 0.172,CON = 2.106: 100%|██████████| 10/10 [00:01<00:00,  8.00it/s]\n",
            "Local Pariticipant 6 CE = 0.166,CON = 2.219: 100%|██████████| 10/10 [00:01<00:00,  7.85it/s]\n",
            "Local Pariticipant 8 CE = 0.388,CON = 2.267: 100%|██████████| 10/10 [00:01<00:00,  5.10it/s]\n",
            "Local Pariticipant 9 CE = 0.149,CON = 2.053: 100%|██████████| 10/10 [00:01<00:00,  7.89it/s]\n",
            "Local Pariticipant 0 CE = 0.012,CON = 1.398: 100%|██████████| 10/10 [00:14<00:00,  1.43s/it]\n",
            "Local Pariticipant 4 CE = 0.090,CON = 2.170: 100%|██████████| 10/10 [00:01<00:00,  7.75it/s]\n",
            "Local Pariticipant 3 CE = 0.069,CON = 1.522: 100%|██████████| 10/10 [00:14<00:00,  1.45s/it]\n"
          ]
        },
        {
          "name": "stdout",
          "output_type": "stream",
          "text": [
            "The 26 Communcation Accuracy: 53.89 Method: moon\n",
            "[96.77, 82.91, 9.38, 26.5]\n"
          ]
        },
        {
          "name": "stderr",
          "output_type": "stream",
          "text": [
            "Local Pariticipant 8 CE = 0.075,CON = 2.163: 100%|██████████| 10/10 [00:01<00:00,  5.25it/s]\n",
            "Local Pariticipant 0 CE = 0.059,CON = 1.520: 100%|██████████| 10/10 [00:14<00:00,  1.42s/it]\n",
            "Local Pariticipant 2 CE = 1.555,CON = 2.217: 100%|██████████| 10/10 [00:01<00:00,  5.18it/s]\n",
            "Local Pariticipant 4 CE = 0.169,CON = 2.044: 100%|██████████| 10/10 [00:01<00:00,  7.91it/s]\n",
            "Local Pariticipant 3 CE = 0.021,CON = 1.494: 100%|██████████| 10/10 [00:14<00:00,  1.45s/it]\n",
            "Local Pariticipant 6 CE = 0.128,CON = 1.997: 100%|██████████| 10/10 [00:01<00:00,  7.95it/s]\n",
            "Local Pariticipant 9 CE = 0.191,CON = 2.230: 100%|██████████| 10/10 [00:01<00:00,  7.83it/s]\n",
            "Local Pariticipant 5 CE = 0.194,CON = 2.244: 100%|██████████| 10/10 [00:01<00:00,  7.83it/s]\n",
            "Local Pariticipant 7 CE = 0.110,CON = 2.220: 100%|██████████| 10/10 [00:01<00:00,  7.67it/s]\n",
            "Local Pariticipant 1 CE = 0.191,CON = 2.222: 100%|██████████| 10/10 [00:01<00:00,  7.76it/s]\n"
          ]
        },
        {
          "name": "stdout",
          "output_type": "stream",
          "text": [
            "The 27 Communcation Accuracy: 54.578 Method: moon\n",
            "[96.82, 83.56, 9.93, 28.0]\n"
          ]
        },
        {
          "name": "stderr",
          "output_type": "stream",
          "text": [
            "Local Pariticipant 4 CE = 0.189,CON = 2.152: 100%|██████████| 10/10 [00:01<00:00,  8.08it/s]\n",
            "Local Pariticipant 6 CE = 0.221,CON = 2.192: 100%|██████████| 10/10 [00:01<00:00,  8.07it/s]\n",
            "Local Pariticipant 1 CE = 0.166,CON = 2.104: 100%|██████████| 10/10 [00:01<00:00,  8.11it/s]\n",
            "Local Pariticipant 3 CE = 0.064,CON = 1.501: 100%|██████████| 10/10 [00:14<00:00,  1.44s/it]\n",
            "Local Pariticipant 7 CE = 0.144,CON = 2.024: 100%|██████████| 10/10 [00:01<00:00,  7.81it/s]\n",
            "Local Pariticipant 8 CE = 0.974,CON = 2.133: 100%|██████████| 10/10 [00:01<00:00,  5.11it/s]\n",
            "Local Pariticipant 9 CE = 0.182,CON = 2.026: 100%|██████████| 10/10 [00:01<00:00,  7.93it/s]\n",
            "Local Pariticipant 5 CE = 0.165,CON = 2.135: 100%|██████████| 10/10 [00:01<00:00,  7.94it/s]\n",
            "Local Pariticipant 2 CE = 0.993,CON = 2.242: 100%|██████████| 10/10 [00:01<00:00,  5.09it/s]\n",
            "Local Pariticipant 0 CE = 0.068,CON = 1.488: 100%|██████████| 10/10 [00:14<00:00,  1.46s/it]\n"
          ]
        },
        {
          "name": "stdout",
          "output_type": "stream",
          "text": [
            "The 28 Communcation Accuracy: 54.037 Method: moon\n",
            "[96.7, 83.86, 9.17, 26.42]\n"
          ]
        },
        {
          "name": "stderr",
          "output_type": "stream",
          "text": [
            "Local Pariticipant 2 CE = 0.100,CON = 2.276: 100%|██████████| 10/10 [00:01<00:00,  5.34it/s]\n",
            "Local Pariticipant 1 CE = 0.182,CON = 2.196: 100%|██████████| 10/10 [00:01<00:00,  8.07it/s]\n",
            "Local Pariticipant 8 CE = 0.495,CON = 2.220: 100%|██████████| 10/10 [00:01<00:00,  5.14it/s]\n",
            "Local Pariticipant 9 CE = 0.226,CON = 2.163: 100%|██████████| 10/10 [00:01<00:00,  7.95it/s]\n",
            "Local Pariticipant 4 CE = 0.198,CON = 2.064: 100%|██████████| 10/10 [00:01<00:00,  7.92it/s]\n",
            "Local Pariticipant 6 CE = 0.144,CON = 2.007: 100%|██████████| 10/10 [00:01<00:00,  7.71it/s]\n",
            "Local Pariticipant 0 CE = 0.053,CON = 1.740: 100%|██████████| 10/10 [00:14<00:00,  1.44s/it]\n",
            "Local Pariticipant 3 CE = 0.019,CON = 1.447: 100%|██████████| 10/10 [00:14<00:00,  1.46s/it]\n",
            "Local Pariticipant 7 CE = 0.096,CON = 2.094: 100%|██████████| 10/10 [00:01<00:00,  7.90it/s]\n",
            "Local Pariticipant 5 CE = 0.178,CON = 2.118: 100%|██████████| 10/10 [00:01<00:00,  7.79it/s]\n"
          ]
        },
        {
          "name": "stdout",
          "output_type": "stream",
          "text": [
            "The 29 Communcation Accuracy: 53.25 Method: moon\n",
            "[96.82, 81.91, 8.77, 25.5]\n"
          ]
        },
        {
          "name": "stderr",
          "output_type": "stream",
          "text": [
            "Local Pariticipant 6 CE = 0.098,CON = 2.202: 100%|██████████| 10/10 [00:01<00:00,  8.05it/s]\n",
            "Local Pariticipant 0 CE = 0.034,CON = 1.438: 100%|██████████| 10/10 [00:14<00:00,  1.42s/it]\n",
            "Local Pariticipant 5 CE = 0.153,CON = 2.229: 100%|██████████| 10/10 [00:01<00:00,  7.93it/s]\n",
            "Local Pariticipant 8 CE = 0.310,CON = 1.997: 100%|██████████| 10/10 [00:01<00:00,  5.02it/s]\n",
            "Local Pariticipant 2 CE = 0.235,CON = 2.110: 100%|██████████| 10/10 [00:01<00:00,  5.14it/s]\n",
            "Local Pariticipant 9 CE = 0.101,CON = 2.089: 100%|██████████| 10/10 [00:01<00:00,  8.00it/s]\n",
            "Local Pariticipant 4 CE = 0.168,CON = 2.101: 100%|██████████| 10/10 [00:01<00:00,  7.77it/s]\n",
            "Local Pariticipant 1 CE = 0.130,CON = 2.053: 100%|██████████| 10/10 [00:01<00:00,  7.68it/s]\n",
            "Local Pariticipant 7 CE = 0.138,CON = 2.006: 100%|██████████| 10/10 [00:01<00:00,  7.77it/s]\n",
            "Local Pariticipant 3 CE = 0.061,CON = 1.586: 100%|██████████| 10/10 [00:14<00:00,  1.45s/it]\n"
          ]
        },
        {
          "name": "stdout",
          "output_type": "stream",
          "text": [
            "The 30 Communcation Accuracy: 53.842 Method: moon\n",
            "[96.85, 82.56, 9.04, 26.92]\n"
          ]
        },
        {
          "name": "stderr",
          "output_type": "stream",
          "text": [
            "Local Pariticipant 0 CE = 0.044,CON = 1.599: 100%|██████████| 10/10 [00:14<00:00,  1.42s/it]\n",
            "Local Pariticipant 2 CE = 0.435,CON = 1.967: 100%|██████████| 10/10 [00:01<00:00,  5.14it/s]\n",
            "Local Pariticipant 9 CE = 0.197,CON = 2.121: 100%|██████████| 10/10 [00:01<00:00,  7.76it/s]\n",
            "Local Pariticipant 4 CE = 0.128,CON = 2.014: 100%|██████████| 10/10 [00:01<00:00,  7.97it/s]\n",
            "Local Pariticipant 7 CE = 0.112,CON = 2.092: 100%|██████████| 10/10 [00:01<00:00,  7.81it/s]\n",
            "Local Pariticipant 6 CE = 0.130,CON = 1.983: 100%|██████████| 10/10 [00:01<00:00,  7.81it/s]\n",
            "Local Pariticipant 5 CE = 0.179,CON = 2.038: 100%|██████████| 10/10 [00:01<00:00,  7.79it/s]\n",
            "Local Pariticipant 3 CE = 0.011,CON = 1.478: 100%|██████████| 10/10 [00:14<00:00,  1.44s/it]\n",
            "Local Pariticipant 1 CE = 0.094,CON = 2.163: 100%|██████████| 10/10 [00:01<00:00,  7.89it/s]\n",
            "Local Pariticipant 8 CE = 0.556,CON = 2.220: 100%|██████████| 10/10 [00:01<00:00,  5.11it/s]\n"
          ]
        },
        {
          "name": "stdout",
          "output_type": "stream",
          "text": [
            "The 31 Communcation Accuracy: 54.968 Method: moon\n",
            "[97.06, 85.6, 9.38, 27.83]\n"
          ]
        },
        {
          "name": "stderr",
          "output_type": "stream",
          "text": [
            "Local Pariticipant 6 CE = 0.150,CON = 2.219: 100%|██████████| 10/10 [00:01<00:00,  8.03it/s]\n",
            "Local Pariticipant 9 CE = 0.186,CON = 2.042: 100%|██████████| 10/10 [00:01<00:00,  8.10it/s]\n",
            "Local Pariticipant 7 CE = 0.150,CON = 2.079: 100%|██████████| 10/10 [00:01<00:00,  7.89it/s]\n",
            "Local Pariticipant 0 CE = 0.044,CON = 1.441: 100%|██████████| 10/10 [00:14<00:00,  1.43s/it]\n",
            "Local Pariticipant 3 CE = 0.029,CON = 1.605: 100%|██████████| 10/10 [00:14<00:00,  1.44s/it]\n",
            "Local Pariticipant 2 CE = 0.110,CON = 1.792: 100%|██████████| 10/10 [00:01<00:00,  5.10it/s]\n",
            "Local Pariticipant 4 CE = 0.080,CON = 2.132: 100%|██████████| 10/10 [00:01<00:00,  7.69it/s]\n",
            "Local Pariticipant 1 CE = 0.111,CON = 1.991: 100%|██████████| 10/10 [00:01<00:00,  7.67it/s]\n",
            "Local Pariticipant 5 CE = 0.166,CON = 2.180: 100%|██████████| 10/10 [00:01<00:00,  7.82it/s]\n",
            "Local Pariticipant 8 CE = 0.235,CON = 2.045: 100%|██████████| 10/10 [00:01<00:00,  5.03it/s]\n"
          ]
        },
        {
          "name": "stdout",
          "output_type": "stream",
          "text": [
            "The 32 Communcation Accuracy: 54.398 Method: moon\n",
            "[97.22, 83.51, 9.53, 27.33]\n"
          ]
        },
        {
          "name": "stderr",
          "output_type": "stream",
          "text": [
            "Local Pariticipant 9 CE = 0.229,CON = 2.154: 100%|██████████| 10/10 [00:01<00:00,  7.87it/s]\n",
            "Local Pariticipant 3 CE = 0.011,CON = 1.486: 100%|██████████| 10/10 [00:14<00:00,  1.43s/it]\n",
            "Local Pariticipant 2 CE = 0.141,CON = 2.025: 100%|██████████| 10/10 [00:01<00:00,  5.09it/s]\n",
            "Local Pariticipant 8 CE = 0.552,CON = 2.108: 100%|██████████| 10/10 [00:01<00:00,  5.21it/s]\n",
            "Local Pariticipant 4 CE = 0.102,CON = 1.946: 100%|██████████| 10/10 [00:01<00:00,  7.80it/s]\n",
            "Local Pariticipant 7 CE = 0.132,CON = 2.143: 100%|██████████| 10/10 [00:01<00:00,  7.74it/s]\n",
            "Local Pariticipant 5 CE = 0.156,CON = 2.070: 100%|██████████| 10/10 [00:01<00:00,  7.67it/s]\n",
            "Local Pariticipant 1 CE = 0.168,CON = 2.062: 100%|██████████| 10/10 [00:01<00:00,  7.66it/s]\n",
            "Local Pariticipant 0 CE = 0.036,CON = 1.432: 100%|██████████| 10/10 [00:14<00:00,  1.45s/it]\n",
            "Local Pariticipant 6 CE = 0.143,CON = 1.927: 100%|██████████| 10/10 [00:01<00:00,  7.36it/s]\n"
          ]
        },
        {
          "name": "stdout",
          "output_type": "stream",
          "text": [
            "The 33 Communcation Accuracy: 54.532 Method: moon\n",
            "[97.34, 85.5, 8.62, 26.67]\n"
          ]
        },
        {
          "name": "stderr",
          "output_type": "stream",
          "text": [
            "Local Pariticipant 3 CE = 0.061,CON = 1.595: 100%|██████████| 10/10 [00:14<00:00,  1.41s/it]\n",
            "Local Pariticipant 7 CE = 0.136,CON = 2.035: 100%|██████████| 10/10 [00:01<00:00,  7.94it/s]\n",
            "Local Pariticipant 4 CE = 0.170,CON = 2.054: 100%|██████████| 10/10 [00:01<00:00,  7.82it/s]\n",
            "Local Pariticipant 8 CE = 1.704,CON = 2.389: 100%|██████████| 10/10 [00:01<00:00,  5.02it/s]\n",
            "Local Pariticipant 2 CE = 0.130,CON = 2.105: 100%|██████████| 10/10 [00:01<00:00,  5.01it/s]\n",
            "Local Pariticipant 6 CE = 0.103,CON = 2.147: 100%|██████████| 10/10 [00:01<00:00,  7.85it/s]\n",
            "Local Pariticipant 5 CE = 0.126,CON = 2.195: 100%|██████████| 10/10 [00:01<00:00,  7.82it/s]\n",
            "Local Pariticipant 9 CE = 0.152,CON = 2.142: 100%|██████████| 10/10 [00:01<00:00,  7.88it/s]\n",
            "Local Pariticipant 1 CE = 0.119,CON = 2.033: 100%|██████████| 10/10 [00:01<00:00,  7.87it/s]\n",
            "Local Pariticipant 0 CE = 0.049,CON = 1.490: 100%|██████████| 10/10 [00:14<00:00,  1.45s/it]\n"
          ]
        },
        {
          "name": "stdout",
          "output_type": "stream",
          "text": [
            "The 34 Communcation Accuracy: 54.07 Method: moon\n",
            "[97.3, 84.11, 8.7, 26.17]\n"
          ]
        },
        {
          "name": "stderr",
          "output_type": "stream",
          "text": [
            "Local Pariticipant 6 CE = 0.181,CON = 1.949: 100%|██████████| 10/10 [00:01<00:00,  8.02it/s]\n",
            "Local Pariticipant 4 CE = 0.167,CON = 1.902: 100%|██████████| 10/10 [00:01<00:00,  8.10it/s]\n",
            "Local Pariticipant 9 CE = 0.176,CON = 2.085: 100%|██████████| 10/10 [00:01<00:00,  8.10it/s]\n",
            "Local Pariticipant 8 CE = 0.058,CON = 2.061: 100%|██████████| 10/10 [00:01<00:00,  5.22it/s]\n",
            "Local Pariticipant 3 CE = 0.032,CON = 1.440: 100%|██████████| 10/10 [00:14<00:00,  1.43s/it]\n",
            "Local Pariticipant 2 CE = 1.109,CON = 2.262: 100%|██████████| 10/10 [00:01<00:00,  5.10it/s]\n",
            "Local Pariticipant 7 CE = 0.118,CON = 2.146: 100%|██████████| 10/10 [00:01<00:00,  7.66it/s]\n",
            "Local Pariticipant 5 CE = 0.200,CON = 1.982: 100%|██████████| 10/10 [00:01<00:00,  7.73it/s]\n",
            "Local Pariticipant 1 CE = 0.128,CON = 2.044: 100%|██████████| 10/10 [00:01<00:00,  7.80it/s]\n",
            "Local Pariticipant 0 CE = 0.032,CON = 1.660: 100%|██████████| 10/10 [00:14<00:00,  1.45s/it]\n"
          ]
        },
        {
          "name": "stdout",
          "output_type": "stream",
          "text": [
            "The 35 Communcation Accuracy: 54.885 Method: moon\n",
            "[97.27, 85.95, 8.9, 27.42]\n"
          ]
        },
        {
          "name": "stderr",
          "output_type": "stream",
          "text": [
            "Local Pariticipant 5 CE = 0.109,CON = 2.161: 100%|██████████| 10/10 [00:01<00:00,  8.00it/s]\n",
            "Local Pariticipant 0 CE = 0.037,CON = 1.596: 100%|██████████| 10/10 [00:14<00:00,  1.42s/it]\n",
            "Local Pariticipant 3 CE = 0.031,CON = 1.478: 100%|██████████| 10/10 [00:14<00:00,  1.43s/it]\n",
            "Local Pariticipant 8 CE = 0.506,CON = 2.256: 100%|██████████| 10/10 [00:01<00:00,  5.06it/s]\n",
            "Local Pariticipant 9 CE = 0.117,CON = 2.052: 100%|██████████| 10/10 [00:01<00:00,  7.30it/s]\n",
            "Local Pariticipant 1 CE = 0.104,CON = 2.045: 100%|██████████| 10/10 [00:01<00:00,  7.56it/s]\n",
            "Local Pariticipant 6 CE = 0.155,CON = 2.088: 100%|██████████| 10/10 [00:01<00:00,  7.48it/s]\n",
            "Local Pariticipant 2 CE = 0.511,CON = 2.031: 100%|██████████| 10/10 [00:02<00:00,  4.87it/s]\n",
            "Local Pariticipant 7 CE = 0.107,CON = 1.990: 100%|██████████| 10/10 [00:01<00:00,  7.57it/s]\n",
            "Local Pariticipant 4 CE = 0.165,CON = 2.026: 100%|██████████| 10/10 [00:01<00:00,  7.55it/s]\n"
          ]
        },
        {
          "name": "stdout",
          "output_type": "stream",
          "text": [
            "The 36 Communcation Accuracy: 53.698 Method: moon\n",
            "[97.23, 81.91, 9.15, 26.5]\n"
          ]
        },
        {
          "name": "stderr",
          "output_type": "stream",
          "text": [
            "Local Pariticipant 2 CE = 0.049,CON = 2.125: 100%|██████████| 10/10 [00:01<00:00,  5.28it/s]\n",
            "Local Pariticipant 1 CE = 0.158,CON = 2.034: 100%|██████████| 10/10 [00:01<00:00,  8.13it/s]\n",
            "Local Pariticipant 0 CE = 0.042,CON = 1.537: 100%|██████████| 10/10 [00:14<00:00,  1.43s/it]\n",
            "Local Pariticipant 9 CE = 0.190,CON = 2.094: 100%|██████████| 10/10 [00:01<00:00,  8.04it/s]\n",
            "Local Pariticipant 8 CE = 0.025,CON = 1.944: 100%|██████████| 10/10 [00:01<00:00,  5.09it/s]\n",
            "Local Pariticipant 6 CE = 0.130,CON = 1.931: 100%|██████████| 10/10 [00:01<00:00,  7.90it/s]\n",
            "Local Pariticipant 7 CE = 0.088,CON = 2.034: 100%|██████████| 10/10 [00:01<00:00,  7.84it/s]\n",
            "Local Pariticipant 5 CE = 0.135,CON = 1.974: 100%|██████████| 10/10 [00:01<00:00,  7.60it/s]\n",
            "Local Pariticipant 4 CE = 0.115,CON = 1.967: 100%|██████████| 10/10 [00:01<00:00,  7.71it/s]\n",
            "Local Pariticipant 3 CE = 0.025,CON = 1.502: 100%|██████████| 10/10 [00:14<00:00,  1.46s/it]\n"
          ]
        },
        {
          "name": "stdout",
          "output_type": "stream",
          "text": [
            "The 37 Communcation Accuracy: 54.223 Method: moon\n",
            "[96.93, 83.11, 9.27, 27.58]\n"
          ]
        },
        {
          "name": "stderr",
          "output_type": "stream",
          "text": [
            "Local Pariticipant 3 CE = 0.021,CON = 1.561: 100%|██████████| 10/10 [00:14<00:00,  1.41s/it]\n",
            "Local Pariticipant 7 CE = 0.137,CON = 1.995: 100%|██████████| 10/10 [00:01<00:00,  7.84it/s]\n",
            "Local Pariticipant 4 CE = 0.173,CON = 1.983: 100%|██████████| 10/10 [00:01<00:00,  7.80it/s]\n",
            "Local Pariticipant 1 CE = 0.091,CON = 2.049: 100%|██████████| 10/10 [00:01<00:00,  8.09it/s]\n",
            "Local Pariticipant 8 CE = 0.505,CON = 1.852: 100%|██████████| 10/10 [00:01<00:00,  5.14it/s]\n",
            "Local Pariticipant 5 CE = 0.234,CON = 2.138: 100%|██████████| 10/10 [00:01<00:00,  7.82it/s]\n",
            "Local Pariticipant 9 CE = 0.161,CON = 2.020: 100%|██████████| 10/10 [00:01<00:00,  7.87it/s]\n",
            "Local Pariticipant 0 CE = 0.008,CON = 1.366: 100%|██████████| 10/10 [00:14<00:00,  1.45s/it]\n",
            "Local Pariticipant 6 CE = 0.121,CON = 1.963: 100%|██████████| 10/10 [00:01<00:00,  7.71it/s]\n",
            "Local Pariticipant 2 CE = 0.257,CON = 2.220: 100%|██████████| 10/10 [00:01<00:00,  5.01it/s]\n"
          ]
        },
        {
          "name": "stdout",
          "output_type": "stream",
          "text": [
            "The 38 Communcation Accuracy: 54.945 Method: moon\n",
            "[97.04, 84.16, 9.83, 28.75]\n"
          ]
        },
        {
          "name": "stderr",
          "output_type": "stream",
          "text": [
            "Local Pariticipant 8 CE = 0.100,CON = 1.943: 100%|██████████| 10/10 [00:01<00:00,  5.24it/s]\n",
            "Local Pariticipant 9 CE = 0.119,CON = 2.011: 100%|██████████| 10/10 [00:01<00:00,  7.90it/s]\n",
            "Local Pariticipant 7 CE = 0.067,CON = 2.064: 100%|██████████| 10/10 [00:01<00:00,  7.99it/s]\n",
            "Local Pariticipant 5 CE = 0.168,CON = 2.011: 100%|██████████| 10/10 [00:01<00:00,  7.73it/s]\n",
            "Local Pariticipant 1 CE = 0.062,CON = 2.069: 100%|██████████| 10/10 [00:01<00:00,  7.96it/s]\n",
            "Local Pariticipant 4 CE = 0.156,CON = 1.952: 100%|██████████| 10/10 [00:01<00:00,  8.08it/s]\n",
            "Local Pariticipant 2 CE = 0.905,CON = 2.084: 100%|██████████| 10/10 [00:01<00:00,  5.13it/s]\n",
            "Local Pariticipant 0 CE = 0.018,CON = 1.441: 100%|██████████| 10/10 [00:14<00:00,  1.45s/it]\n",
            "Local Pariticipant 3 CE = 0.026,CON = 1.446: 100%|██████████| 10/10 [00:14<00:00,  1.45s/it]\n",
            "Local Pariticipant 6 CE = 0.119,CON = 1.997: 100%|██████████| 10/10 [00:01<00:00,  7.79it/s]\n"
          ]
        },
        {
          "name": "stdout",
          "output_type": "stream",
          "text": [
            "The 39 Communcation Accuracy: 54.032 Method: moon\n",
            "[97.12, 82.36, 9.07, 27.58]\n"
          ]
        },
        {
          "name": "stderr",
          "output_type": "stream",
          "text": [
            "Local Pariticipant 0 CE = 0.021,CON = 1.510: 100%|██████████| 10/10 [00:14<00:00,  1.43s/it]\n",
            "Local Pariticipant 4 CE = 0.082,CON = 1.935: 100%|██████████| 10/10 [00:01<00:00,  7.82it/s]\n",
            "Local Pariticipant 7 CE = 0.129,CON = 1.989: 100%|██████████| 10/10 [00:01<00:00,  8.09it/s]\n",
            "Local Pariticipant 6 CE = 0.111,CON = 1.980: 100%|██████████| 10/10 [00:01<00:00,  7.66it/s]\n",
            "Local Pariticipant 3 CE = 0.202,CON = 1.553: 100%|██████████| 10/10 [00:14<00:00,  1.45s/it]\n",
            "Local Pariticipant 2 CE = 0.519,CON = 2.183: 100%|██████████| 10/10 [00:01<00:00,  5.01it/s]\n",
            "Local Pariticipant 5 CE = 0.150,CON = 2.035: 100%|██████████| 10/10 [00:01<00:00,  7.62it/s]\n",
            "Local Pariticipant 9 CE = 0.105,CON = 1.966: 100%|██████████| 10/10 [00:01<00:00,  7.68it/s]\n",
            "Local Pariticipant 8 CE = 0.323,CON = 1.803: 100%|██████████| 10/10 [00:01<00:00,  5.05it/s]\n",
            "Local Pariticipant 1 CE = 0.108,CON = 2.052: 100%|██████████| 10/10 [00:01<00:00,  7.83it/s]\n"
          ]
        },
        {
          "name": "stdout",
          "output_type": "stream",
          "text": [
            "The 40 Communcation Accuracy: 53.595 Method: moon\n",
            "[97.2, 82.46, 8.55, 26.17]\n"
          ]
        },
        {
          "name": "stderr",
          "output_type": "stream",
          "text": [
            "Local Pariticipant 2 CE = 0.101,CON = 1.968: 100%|██████████| 10/10 [00:01<00:00,  5.30it/s]\n",
            "Local Pariticipant 5 CE = 0.148,CON = 2.015: 100%|██████████| 10/10 [00:01<00:00,  8.04it/s]\n",
            "Local Pariticipant 1 CE = 0.100,CON = 2.000: 100%|██████████| 10/10 [00:01<00:00,  8.16it/s]\n",
            "Local Pariticipant 8 CE = 0.160,CON = 2.243: 100%|██████████| 10/10 [00:01<00:00,  5.23it/s]\n",
            "Local Pariticipant 6 CE = 0.073,CON = 2.013: 100%|██████████| 10/10 [00:01<00:00,  8.19it/s]\n",
            "Local Pariticipant 3 CE = 0.038,CON = 1.461: 100%|██████████| 10/10 [00:14<00:00,  1.43s/it]\n",
            "Local Pariticipant 9 CE = 0.135,CON = 1.983: 100%|██████████| 10/10 [00:01<00:00,  7.79it/s]\n",
            "Local Pariticipant 7 CE = 0.076,CON = 2.113: 100%|██████████| 10/10 [00:01<00:00,  7.92it/s]\n",
            "Local Pariticipant 4 CE = 0.105,CON = 1.983: 100%|██████████| 10/10 [00:01<00:00,  8.07it/s]\n",
            "Local Pariticipant 0 CE = 0.030,CON = 1.559: 100%|██████████| 10/10 [00:14<00:00,  1.46s/it]\n"
          ]
        },
        {
          "name": "stdout",
          "output_type": "stream",
          "text": [
            "The 41 Communcation Accuracy: 54.647 Method: moon\n",
            "[96.94, 84.5, 9.07, 28.08]\n"
          ]
        },
        {
          "name": "stderr",
          "output_type": "stream",
          "text": [
            "Local Pariticipant 4 CE = 0.057,CON = 1.901: 100%|██████████| 10/10 [00:01<00:00,  8.04it/s]\n",
            "Local Pariticipant 1 CE = 0.095,CON = 2.040: 100%|██████████| 10/10 [00:01<00:00,  8.10it/s]\n",
            "Local Pariticipant 0 CE = 0.070,CON = 1.456: 100%|██████████| 10/10 [00:14<00:00,  1.42s/it]\n",
            "Local Pariticipant 3 CE = 0.046,CON = 1.489: 100%|██████████| 10/10 [00:14<00:00,  1.45s/it]\n",
            "Local Pariticipant 8 CE = 0.739,CON = 2.133: 100%|██████████| 10/10 [00:01<00:00,  5.06it/s]\n",
            "Local Pariticipant 7 CE = 0.137,CON = 1.952: 100%|██████████| 10/10 [00:01<00:00,  7.64it/s]\n",
            "Local Pariticipant 9 CE = 0.123,CON = 1.926: 100%|██████████| 10/10 [00:01<00:00,  7.64it/s]\n",
            "Local Pariticipant 2 CE = 1.616,CON = 2.331: 100%|██████████| 10/10 [00:01<00:00,  5.03it/s]\n",
            "Local Pariticipant 6 CE = 0.102,CON = 2.040: 100%|██████████| 10/10 [00:01<00:00,  7.67it/s]\n",
            "Local Pariticipant 5 CE = 0.207,CON = 2.019: 100%|██████████| 10/10 [00:01<00:00,  7.72it/s]\n"
          ]
        },
        {
          "name": "stdout",
          "output_type": "stream",
          "text": [
            "The 42 Communcation Accuracy: 54.015 Method: moon\n",
            "[97.09, 81.76, 9.13, 28.08]\n"
          ]
        },
        {
          "name": "stderr",
          "output_type": "stream",
          "text": [
            "Local Pariticipant 0 CE = 0.019,CON = 1.507: 100%|██████████| 10/10 [00:14<00:00,  1.42s/it]\n",
            "Local Pariticipant 9 CE = 0.121,CON = 1.977: 100%|██████████| 10/10 [00:01<00:00,  7.91it/s]\n",
            "Local Pariticipant 2 CE = 1.486,CON = 2.268: 100%|██████████| 10/10 [00:01<00:00,  5.15it/s]\n",
            "Local Pariticipant 1 CE = 0.108,CON = 1.953: 100%|██████████| 10/10 [00:01<00:00,  7.78it/s]\n",
            "Local Pariticipant 3 CE = 0.026,CON = 1.467: 100%|██████████| 10/10 [00:14<00:00,  1.46s/it]\n",
            "Local Pariticipant 7 CE = 0.080,CON = 2.011: 100%|██████████| 10/10 [00:01<00:00,  7.77it/s]\n",
            "Local Pariticipant 8 CE = 0.105,CON = 2.339: 100%|██████████| 10/10 [00:01<00:00,  5.05it/s]\n",
            "Local Pariticipant 5 CE = 0.123,CON = 2.025: 100%|██████████| 10/10 [00:01<00:00,  7.75it/s]\n",
            "Local Pariticipant 4 CE = 0.069,CON = 2.006: 100%|██████████| 10/10 [00:01<00:00,  7.91it/s]\n",
            "Local Pariticipant 6 CE = 0.074,CON = 1.927: 100%|██████████| 10/10 [00:01<00:00,  7.96it/s]\n"
          ]
        },
        {
          "name": "stdout",
          "output_type": "stream",
          "text": [
            "The 43 Communcation Accuracy: 54.43 Method: moon\n",
            "[97.3, 84.3, 9.04, 27.08]\n"
          ]
        },
        {
          "name": "stderr",
          "output_type": "stream",
          "text": [
            "Local Pariticipant 1 CE = 0.118,CON = 1.990: 100%|██████████| 10/10 [00:01<00:00,  7.95it/s]\n",
            "Local Pariticipant 5 CE = 0.134,CON = 2.058: 100%|██████████| 10/10 [00:01<00:00,  8.09it/s]\n",
            "Local Pariticipant 8 CE = 0.082,CON = 2.066: 100%|██████████| 10/10 [00:01<00:00,  5.22it/s]\n",
            "Local Pariticipant 6 CE = 0.144,CON = 1.896: 100%|██████████| 10/10 [00:01<00:00,  8.03it/s]\n",
            "Local Pariticipant 9 CE = 0.091,CON = 1.975: 100%|██████████| 10/10 [00:01<00:00,  8.03it/s]\n",
            "Local Pariticipant 7 CE = 0.081,CON = 2.018: 100%|██████████| 10/10 [00:01<00:00,  7.92it/s]\n",
            "Local Pariticipant 2 CE = 1.224,CON = 2.520: 100%|██████████| 10/10 [00:01<00:00,  5.03it/s]\n",
            "Local Pariticipant 0 CE = 0.020,CON = 1.417: 100%|██████████| 10/10 [00:14<00:00,  1.43s/it]\n",
            "Local Pariticipant 3 CE = 0.028,CON = 1.583: 100%|██████████| 10/10 [00:14<00:00,  1.46s/it]\n",
            "Local Pariticipant 4 CE = 0.121,CON = 1.937: 100%|██████████| 10/10 [00:01<00:00,  7.69it/s]\n"
          ]
        },
        {
          "name": "stdout",
          "output_type": "stream",
          "text": [
            "The 44 Communcation Accuracy: 54.06 Method: moon\n",
            "[96.98, 83.56, 8.7, 27.0]\n"
          ]
        },
        {
          "name": "stderr",
          "output_type": "stream",
          "text": [
            "Local Pariticipant 9 CE = 0.126,CON = 1.918: 100%|██████████| 10/10 [00:01<00:00,  8.05it/s]\n",
            "Local Pariticipant 2 CE = 0.078,CON = 2.005: 100%|██████████| 10/10 [00:01<00:00,  5.29it/s]\n",
            "Local Pariticipant 7 CE = 0.093,CON = 1.982: 100%|██████████| 10/10 [00:01<00:00,  8.01it/s]\n",
            "Local Pariticipant 8 CE = 0.169,CON = 2.341: 100%|██████████| 10/10 [00:01<00:00,  5.18it/s]\n",
            "Local Pariticipant 5 CE = 0.161,CON = 2.010: 100%|██████████| 10/10 [00:01<00:00,  7.98it/s]\n",
            "Local Pariticipant 1 CE = 0.124,CON = 2.015: 100%|██████████| 10/10 [00:01<00:00,  7.99it/s]\n",
            "Local Pariticipant 4 CE = 0.131,CON = 1.882: 100%|██████████| 10/10 [00:01<00:00,  7.86it/s]\n",
            "Local Pariticipant 6 CE = 0.112,CON = 1.918: 100%|██████████| 10/10 [00:01<00:00,  7.82it/s]\n",
            "Local Pariticipant 3 CE = 0.034,CON = 1.328: 100%|██████████| 10/10 [00:14<00:00,  1.45s/it]\n",
            "Local Pariticipant 0 CE = 0.023,CON = 1.613: 100%|██████████| 10/10 [00:14<00:00,  1.45s/it]\n"
          ]
        },
        {
          "name": "stdout",
          "output_type": "stream",
          "text": [
            "The 45 Communcation Accuracy: 54.835 Method: moon\n",
            "[97.02, 85.1, 9.47, 27.75]\n"
          ]
        },
        {
          "name": "stderr",
          "output_type": "stream",
          "text": [
            "Local Pariticipant 4 CE = 0.146,CON = 1.984: 100%|██████████| 10/10 [00:01<00:00,  7.92it/s]\n",
            "Local Pariticipant 9 CE = 0.102,CON = 1.959: 100%|██████████| 10/10 [00:01<00:00,  8.06it/s]\n",
            "Local Pariticipant 0 CE = 0.018,CON = 1.508: 100%|██████████| 10/10 [00:14<00:00,  1.43s/it]\n",
            "Local Pariticipant 5 CE = 0.117,CON = 2.014: 100%|██████████| 10/10 [00:01<00:00,  7.76it/s]\n",
            "Local Pariticipant 1 CE = 0.129,CON = 2.040: 100%|██████████| 10/10 [00:01<00:00,  7.73it/s]\n",
            "Local Pariticipant 7 CE = 0.125,CON = 1.990: 100%|██████████| 10/10 [00:01<00:00,  7.85it/s]\n",
            "Local Pariticipant 3 CE = 0.029,CON = 1.603: 100%|██████████| 10/10 [00:14<00:00,  1.46s/it]\n",
            "Local Pariticipant 8 CE = 0.498,CON = 2.296: 100%|██████████| 10/10 [00:01<00:00,  5.10it/s]\n",
            "Local Pariticipant 6 CE = 0.118,CON = 2.045: 100%|██████████| 10/10 [00:01<00:00,  7.71it/s]\n",
            "Local Pariticipant 2 CE = 0.106,CON = 2.024: 100%|██████████| 10/10 [00:01<00:00,  5.05it/s]\n"
          ]
        },
        {
          "name": "stdout",
          "output_type": "stream",
          "text": [
            "The 46 Communcation Accuracy: 54.61 Method: moon\n",
            "[97.08, 83.91, 9.37, 28.08]\n"
          ]
        },
        {
          "name": "stderr",
          "output_type": "stream",
          "text": [
            "Local Pariticipant 7 CE = 0.108,CON = 2.023: 100%|██████████| 10/10 [00:01<00:00,  7.99it/s]\n",
            "Local Pariticipant 5 CE = 0.184,CON = 1.977: 100%|██████████| 10/10 [00:01<00:00,  7.89it/s]\n",
            "Local Pariticipant 1 CE = 0.052,CON = 1.979: 100%|██████████| 10/10 [00:01<00:00,  7.83it/s]\n",
            "Local Pariticipant 8 CE = 0.112,CON = 2.121: 100%|██████████| 10/10 [00:01<00:00,  5.22it/s]\n",
            "Local Pariticipant 2 CE = 0.680,CON = 2.060: 100%|██████████| 10/10 [00:01<00:00,  5.08it/s]\n",
            "Local Pariticipant 3 CE = 0.019,CON = 1.441: 100%|██████████| 10/10 [00:14<00:00,  1.45s/it]\n",
            "Local Pariticipant 4 CE = 0.156,CON = 1.888: 100%|██████████| 10/10 [00:01<00:00,  7.95it/s]\n",
            "Local Pariticipant 6 CE = 0.111,CON = 1.961: 100%|██████████| 10/10 [00:01<00:00,  7.60it/s]\n",
            "Local Pariticipant 9 CE = 0.134,CON = 1.893: 100%|██████████| 10/10 [00:01<00:00,  7.72it/s]\n",
            "Local Pariticipant 0 CE = 0.013,CON = 1.452: 100%|██████████| 10/10 [00:14<00:00,  1.45s/it]\n"
          ]
        },
        {
          "name": "stdout",
          "output_type": "stream",
          "text": [
            "The 47 Communcation Accuracy: 54.375 Method: moon\n",
            "[97.0, 82.91, 9.67, 27.92]\n"
          ]
        },
        {
          "name": "stderr",
          "output_type": "stream",
          "text": [
            "Local Pariticipant 9 CE = 0.115,CON = 1.919: 100%|██████████| 10/10 [00:01<00:00,  8.03it/s]\n",
            "Local Pariticipant 8 CE = 1.437,CON = 2.230: 100%|██████████| 10/10 [00:01<00:00,  5.24it/s]\n",
            "Local Pariticipant 2 CE = 0.029,CON = 2.270: 100%|██████████| 10/10 [00:01<00:00,  5.20it/s]\n",
            "Local Pariticipant 1 CE = 0.109,CON = 1.998: 100%|██████████| 10/10 [00:01<00:00,  8.07it/s]\n",
            "Local Pariticipant 6 CE = 0.092,CON = 1.935: 100%|██████████| 10/10 [00:01<00:00,  7.74it/s]\n",
            "Local Pariticipant 3 CE = 0.012,CON = 1.514: 100%|██████████| 10/10 [00:14<00:00,  1.43s/it]\n",
            "Local Pariticipant 4 CE = 0.154,CON = 1.936: 100%|██████████| 10/10 [00:01<00:00,  7.77it/s]\n",
            "Local Pariticipant 5 CE = 0.135,CON = 2.034: 100%|██████████| 10/10 [00:01<00:00,  7.68it/s]\n",
            "Local Pariticipant 7 CE = 0.125,CON = 1.933: 100%|██████████| 10/10 [00:01<00:00,  7.79it/s]\n",
            "Local Pariticipant 0 CE = 0.024,CON = 1.412: 100%|██████████| 10/10 [00:14<00:00,  1.45s/it]\n"
          ]
        },
        {
          "name": "stdout",
          "output_type": "stream",
          "text": [
            "The 48 Communcation Accuracy: 55.232 Method: moon\n",
            "[96.89, 85.7, 9.17, 29.17]\n"
          ]
        },
        {
          "name": "stderr",
          "output_type": "stream",
          "text": [
            "Local Pariticipant 1 CE = 0.060,CON = 1.917: 100%|██████████| 10/10 [00:01<00:00,  8.05it/s]\n",
            "Local Pariticipant 2 CE = 0.220,CON = 2.095: 100%|██████████| 10/10 [00:01<00:00,  5.27it/s]\n",
            "Local Pariticipant 4 CE = 0.089,CON = 1.979: 100%|██████████| 10/10 [00:01<00:00,  8.09it/s]\n",
            "Local Pariticipant 0 CE = 0.017,CON = 1.694: 100%|██████████| 10/10 [00:14<00:00,  1.43s/it]\n",
            "Local Pariticipant 8 CE = 0.208,CON = 1.962: 100%|██████████| 10/10 [00:01<00:00,  5.04it/s]\n",
            "Local Pariticipant 6 CE = 0.147,CON = 1.861: 100%|██████████| 10/10 [00:01<00:00,  7.68it/s]\n",
            "Local Pariticipant 7 CE = 0.076,CON = 2.063: 100%|██████████| 10/10 [00:01<00:00,  7.88it/s]\n",
            "Local Pariticipant 3 CE = 0.018,CON = 1.345: 100%|██████████| 10/10 [00:14<00:00,  1.45s/it]\n",
            "Local Pariticipant 5 CE = 0.143,CON = 1.952: 100%|██████████| 10/10 [00:01<00:00,  7.93it/s]\n",
            "Local Pariticipant 9 CE = 0.083,CON = 1.922: 100%|██████████| 10/10 [00:01<00:00,  7.81it/s]\n"
          ]
        },
        {
          "name": "stdout",
          "output_type": "stream",
          "text": [
            "The 49 Communcation Accuracy: 54.375 Method: moon\n",
            "[96.89, 83.36, 8.83, 28.42]\n"
          ]
        }
      ],
      "source": [
        "%run \"main.py\" --model moon --dataset fl_digits"
      ]
    },
    {
      "cell_type": "code",
      "execution_count": null,
      "metadata": {
        "id": "wfUFREk6sIvy",
        "outputId": "b89a80ce-b768-4d87-ac46-5715d4c21d13"
      },
      "outputs": [
        {
          "name": "stdout",
          "output_type": "stream",
          "text": [
            "**************************************************************\n",
            "Scenario: fl_digits Domain: inter Augmentation: weak\n",
            "    method paragroup    MEAN\n",
            "0   fedavg     para1  51.242\n",
            "1  fedprox     para1  50.763\n",
            "2      fpl     para1  53.551\n",
            "3     moon     para1  51.640\n",
            "**************************************************************\n",
            "Scenario: fl_officecaltech Domain: inter Augmentation: weak\n",
            "    method paragroup    MEAN\n",
            "0   fedavg     para1  47.444\n",
            "1  fedprox     para1  45.515\n",
            "2      fpl     para1  50.810\n",
            "3     moon     para1  45.699\n"
          ]
        }
      ],
      "source": [
        "%run \"analysis.py\""
      ]
    }
  ],
  "metadata": {
    "accelerator": "GPU",
    "colab": {
      "gpuType": "T4",
      "provenance": []
    },
    "kernelspec": {
      "display_name": "Python 3",
      "name": "python3"
    },
    "language_info": {
      "codemirror_mode": {
        "name": "ipython",
        "version": 3
      },
      "file_extension": ".py",
      "mimetype": "text/x-python",
      "name": "python",
      "nbconvert_exporter": "python",
      "pygments_lexer": "ipython3",
      "version": "3.11.7"
    }
  },
  "nbformat": 4,
  "nbformat_minor": 0
}